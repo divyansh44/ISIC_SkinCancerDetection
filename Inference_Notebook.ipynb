{
 "cells": [
  {
   "cell_type": "code",
   "execution_count": 1,
   "id": "188930ef",
   "metadata": {
    "_cell_guid": "b1076dfc-b9ad-4769-8c92-a6c4dae69d19",
    "_uuid": "8f2839f25d086af736a60e9eeb907d3b93b6e0e5",
    "execution": {
     "iopub.execute_input": "2024-09-06T22:09:13.942267Z",
     "iopub.status.busy": "2024-09-06T22:09:13.941398Z",
     "iopub.status.idle": "2024-09-06T22:09:20.713954Z",
     "shell.execute_reply": "2024-09-06T22:09:20.713154Z"
    },
    "papermill": {
     "duration": 6.799464,
     "end_time": "2024-09-06T22:09:20.716334",
     "exception": false,
     "start_time": "2024-09-06T22:09:13.916870",
     "status": "completed"
    },
    "tags": []
   },
   "outputs": [],
   "source": [
    "import pandas as pd\n",
    "import numpy as np\n",
    "from io import BytesIO\n",
    "from torch.utils.data import Dataset,DataLoader\n",
    "import torchvision.transforms as transforms\n",
    "from PIL import Image\n",
    "import torch\n",
    "from sklearn.preprocessing import StandardScaler"
   ]
  },
  {
   "cell_type": "code",
   "execution_count": 2,
   "id": "da66ca8d",
   "metadata": {
    "execution": {
     "iopub.execute_input": "2024-09-06T22:09:20.765100Z",
     "iopub.status.busy": "2024-09-06T22:09:20.764210Z",
     "iopub.status.idle": "2024-09-06T22:09:22.456988Z",
     "shell.execute_reply": "2024-09-06T22:09:22.456199Z"
    },
    "papermill": {
     "duration": 1.718593,
     "end_time": "2024-09-06T22:09:22.459391",
     "exception": false,
     "start_time": "2024-09-06T22:09:20.740798",
     "status": "completed"
    },
    "tags": []
   },
   "outputs": [],
   "source": [
    "import os\n",
    "import gc\n",
    "import cv2\n",
    "import math\n",
    "import copy\n",
    "import time\n",
    "import random\n",
    "import glob\n",
    "from matplotlib import pyplot as plt\n",
    "\n",
    "# For data manipulation\n",
    "import numpy as np\n",
    "import pandas as pd\n",
    "\n",
    "# Pytorch Imports\n",
    "import torch\n",
    "import torch.nn as nn\n",
    "import torch.optim as optim\n",
    "import torch.nn.functional as F\n",
    "from torch.optim import lr_scheduler\n",
    "from torch.utils.data import Dataset, DataLoader\n",
    "from torch.cuda import amp\n",
    "import torchvision\n",
    "\n",
    "# Utils\n",
    "import joblib\n",
    "from tqdm import tqdm\n",
    "from collections import defaultdict\n",
    "\n",
    "# Sklearn Imports\n",
    "from sklearn.preprocessing import LabelEncoder, OneHotEncoder\n",
    "from sklearn.model_selection import StratifiedKFold, StratifiedGroupKFold \n",
    "\n",
    "# For Image Models\n",
    "import timm\n",
    "\n",
    "# Albumentations for augmentations\n",
    "import albumentations as A\n",
    "from albumentations.pytorch import ToTensorV2\n",
    "\n",
    "# For colored terminal text\n",
    "from colorama import Fore, Back, Style\n",
    "b_ = Fore.BLUE\n",
    "sr_ = Style.RESET_ALL\n",
    "\n",
    "import warnings\n",
    "warnings.filterwarnings(\"ignore\")\n",
    "\n",
    "# For descriptive error messages\n",
    "os.environ['CUDA_LAUNCH_BLOCKING'] = \"1\""
   ]
  },
  {
   "cell_type": "code",
   "execution_count": 3,
   "id": "63149614",
   "metadata": {
    "execution": {
     "iopub.execute_input": "2024-09-06T22:09:22.506434Z",
     "iopub.status.busy": "2024-09-06T22:09:22.505950Z",
     "iopub.status.idle": "2024-09-06T22:09:22.572099Z",
     "shell.execute_reply": "2024-09-06T22:09:22.571222Z"
    },
    "papermill": {
     "duration": 0.091729,
     "end_time": "2024-09-06T22:09:22.574054",
     "exception": false,
     "start_time": "2024-09-06T22:09:22.482325",
     "status": "completed"
    },
    "tags": []
   },
   "outputs": [],
   "source": [
    "CONFIG = {\n",
    "    \"seed\": 42,\n",
    "    \"neg_sample_ratio\" : 0.02,\n",
    "    \"epochs\": 50,\n",
    "    \"img_size\": 384,\n",
    "    \"model_name\": \"densenet121\",\n",
    "    #\"checkpoint_path\" : \"/kaggle/input/tf-efficientnet/pytorch/tf-efficientnet-b0/1/tf_efficientnet_b0_aa-827b6e33.pth\",\n",
    "    \"train_batch_size\": 32,\n",
    "    \"valid_batch_size\": 64,\n",
    "    \"learning_rate\": 1e-4,\n",
    "    \"scheduler\": 'CosineAnnealingLR',\n",
    "    \"min_lr\": 1e-6,\n",
    "    \"T_max\": 500,\n",
    "    \"weight_decay\": 1e-6,\n",
    "    \"fold\" : 0,\n",
    "    \"n_fold\": 5,\n",
    "    \"n_accumulate\": 1,\n",
    "    \"device\": torch.device(\"cuda:0\" if torch.cuda.is_available() else \"cpu\"),\n",
    "}\n",
    "device = 'cuda:0' if torch.cuda.is_available() else 'cpu'"
   ]
  },
  {
   "cell_type": "code",
   "execution_count": 4,
   "id": "c98f397d",
   "metadata": {
    "execution": {
     "iopub.execute_input": "2024-09-06T22:09:22.621052Z",
     "iopub.status.busy": "2024-09-06T22:09:22.620735Z",
     "iopub.status.idle": "2024-09-06T22:09:22.757545Z",
     "shell.execute_reply": "2024-09-06T22:09:22.756591Z"
    },
    "papermill": {
     "duration": 0.162975,
     "end_time": "2024-09-06T22:09:22.759886",
     "exception": false,
     "start_time": "2024-09-06T22:09:22.596911",
     "status": "completed"
    },
    "tags": []
   },
   "outputs": [],
   "source": [
    "import h5py"
   ]
  },
  {
   "cell_type": "code",
   "execution_count": 5,
   "id": "8eab934b",
   "metadata": {
    "execution": {
     "iopub.execute_input": "2024-09-06T22:09:22.806966Z",
     "iopub.status.busy": "2024-09-06T22:09:22.806162Z",
     "iopub.status.idle": "2024-09-06T22:09:22.810368Z",
     "shell.execute_reply": "2024-09-06T22:09:22.809500Z"
    },
    "papermill": {
     "duration": 0.029481,
     "end_time": "2024-09-06T22:09:22.812310",
     "exception": false,
     "start_time": "2024-09-06T22:09:22.782829",
     "status": "completed"
    },
    "tags": []
   },
   "outputs": [],
   "source": [
    "import pickle"
   ]
  },
  {
   "cell_type": "code",
   "execution_count": 6,
   "id": "77af983e",
   "metadata": {
    "execution": {
     "iopub.execute_input": "2024-09-06T22:09:22.858398Z",
     "iopub.status.busy": "2024-09-06T22:09:22.857891Z",
     "iopub.status.idle": "2024-09-06T22:09:22.865294Z",
     "shell.execute_reply": "2024-09-06T22:09:22.864455Z"
    },
    "papermill": {
     "duration": 0.032671,
     "end_time": "2024-09-06T22:09:22.867263",
     "exception": false,
     "start_time": "2024-09-06T22:09:22.834592",
     "status": "completed"
    },
    "tags": []
   },
   "outputs": [],
   "source": [
    "class ISICModel(nn.Module):\n",
    "    def __init__(self, model_name, num_classes=1, pretrained=True, checkpoint_path=None):\n",
    "        super(ISICModel, self).__init__()\n",
    "        self.model = timm.create_model(model_name, pretrained=pretrained, checkpoint_path=checkpoint_path)\n",
    "\n",
    "        in_features = self.model.classifier.in_features\n",
    "        self.model.classifier = nn.Identity()\n",
    "        self.model.global_pool = nn.Identity()\n",
    "        self.pooling = GeM()\n",
    "        self.linear = nn.Linear(in_features, num_classes)\n",
    "        self.sigmoid = nn.Sigmoid()\n",
    "\n",
    "    def forward(self, images):\n",
    "        features = self.model(images)\n",
    "        pooled_features = self.pooling(features).flatten(1)\n",
    "        output = self.sigmoid(self.linear(pooled_features))\n",
    "        return output\n"
   ]
  },
  {
   "cell_type": "code",
   "execution_count": 7,
   "id": "b5013db0",
   "metadata": {
    "execution": {
     "iopub.execute_input": "2024-09-06T22:09:22.913610Z",
     "iopub.status.busy": "2024-09-06T22:09:22.913089Z",
     "iopub.status.idle": "2024-09-06T22:09:22.923442Z",
     "shell.execute_reply": "2024-09-06T22:09:22.922567Z"
    },
    "papermill": {
     "duration": 0.035513,
     "end_time": "2024-09-06T22:09:22.925380",
     "exception": false,
     "start_time": "2024-09-06T22:09:22.889867",
     "status": "completed"
    },
    "tags": []
   },
   "outputs": [],
   "source": [
    "import matplotlib.colors as mcolors\n",
    "\n",
    "class GradCAM:\n",
    "    def __init__(self, model, target_layer):\n",
    "        self.model = model\n",
    "        self.target_layer = target_layer\n",
    "        self.gradients = None\n",
    "        self.activations = None\n",
    "        \n",
    "        self.target_layer.register_forward_hook(self.save_activation)\n",
    "        self.target_layer.register_backward_hook(self.save_gradient)\n",
    "    \n",
    "    def save_activation(self, module, input, output):\n",
    "        self.activations = output.detach()\n",
    "    \n",
    "    def save_gradient(self, module, grad_input, grad_output):\n",
    "        self.gradients = grad_output[0].detach()\n",
    "    \n",
    "    def __call__(self, x):\n",
    "        self.model.eval()\n",
    "        logit = self.model(x)\n",
    "        \n",
    "        score = logit.squeeze()\n",
    "        \n",
    "        self.model.zero_grad()\n",
    "        score.backward(retain_graph=True)\n",
    "        \n",
    "        gradients = self.gradients\n",
    "        activations = self.activations\n",
    "        b, k, u, v = gradients.size()\n",
    "        \n",
    "        alpha = gradients.view(b, k, -1).mean(2)\n",
    "        weights = alpha.view(b, k, 1, 1)\n",
    "        \n",
    "        saliency_map = (weights*activations).sum(1, keepdim=True)\n",
    "        saliency_map = F.relu(saliency_map)\n",
    "        saliency_map = F.interpolate(saliency_map, size=(x.size(2), x.size(3)), mode='bilinear', align_corners=False)\n",
    "        saliency_map_min, saliency_map_max = saliency_map.min(), saliency_map.max()\n",
    "        saliency_map = (saliency_map - saliency_map_min).div(saliency_map_max - saliency_map_min).data\n",
    "        \n",
    "        return saliency_map"
   ]
  },
  {
   "cell_type": "code",
   "execution_count": 8,
   "id": "a8da63ac",
   "metadata": {
    "execution": {
     "iopub.execute_input": "2024-09-06T22:09:22.971879Z",
     "iopub.status.busy": "2024-09-06T22:09:22.971241Z",
     "iopub.status.idle": "2024-09-06T22:09:22.978976Z",
     "shell.execute_reply": "2024-09-06T22:09:22.978103Z"
    },
    "papermill": {
     "duration": 0.033162,
     "end_time": "2024-09-06T22:09:22.980976",
     "exception": false,
     "start_time": "2024-09-06T22:09:22.947814",
     "status": "completed"
    },
    "tags": []
   },
   "outputs": [],
   "source": [
    "class GeM(nn.Module):\n",
    "    def __init__(self, p=3, eps=1e-6):\n",
    "        super(GeM, self).__init__()\n",
    "        self.p = nn.Parameter(torch.ones(1)*p)\n",
    "        self.eps = eps\n",
    "\n",
    "    def forward(self, x):\n",
    "        return self.gem(x, p=self.p, eps=self.eps)\n",
    "        \n",
    "    def gem(self, x, p=3, eps=1e-6):\n",
    "        return F.avg_pool2d(x.clamp(min=eps).pow(p), (x.size(-2), x.size(-1))).pow(1./p)\n",
    "        \n",
    "    def __repr__(self):\n",
    "        return self.__class__.__name__ + \\\n",
    "                '(' + 'p=' + '{:.4f}'.format(self.p.data.tolist()[0]) + \\\n",
    "                ', ' + 'eps=' + str(self.eps) + ')'"
   ]
  },
  {
   "cell_type": "code",
   "execution_count": 9,
   "id": "9c76ccfa",
   "metadata": {
    "execution": {
     "iopub.execute_input": "2024-09-06T22:09:23.027160Z",
     "iopub.status.busy": "2024-09-06T22:09:23.026852Z",
     "iopub.status.idle": "2024-09-06T22:09:23.031573Z",
     "shell.execute_reply": "2024-09-06T22:09:23.030684Z"
    },
    "papermill": {
     "duration": 0.030278,
     "end_time": "2024-09-06T22:09:23.033640",
     "exception": false,
     "start_time": "2024-09-06T22:09:23.003362",
     "status": "completed"
    },
    "tags": []
   },
   "outputs": [],
   "source": [
    "# class MetaModel(nn.Module):\n",
    "#     def __init__(self,in_features):\n",
    "#         super().__init__()\n",
    "#         self.model=nn.Sequential(\n",
    "#                     nn.BatchNorm1d(in_features),\n",
    "#                     nn.Linear(in_features,512),\n",
    "#                     nn.BatchNorm1d(512),\n",
    "#                     nn.ReLU(),\n",
    "#                     nn.Dropout(p=0.5),\n",
    "#                     nn.Linear(512,256),\n",
    "#                     nn.BatchNorm1d(256),\n",
    "#                     nn.ReLU(),\n",
    "#                     nn.Dropout(p=0.5),\n",
    "#                     nn.Linear(256,128),\n",
    "#                     nn.BatchNorm1d(128),\n",
    "#                     nn.ReLU(),\n",
    "#                     nn.Dropout(p=0.4),\n",
    "#                     nn.Linear(128,1))\n",
    "#     def forward(self,x):\n",
    "#         return self.model(x)"
   ]
  },
  {
   "cell_type": "code",
   "execution_count": 10,
   "id": "fae01b2e",
   "metadata": {
    "execution": {
     "iopub.execute_input": "2024-09-06T22:09:23.079165Z",
     "iopub.status.busy": "2024-09-06T22:09:23.078625Z",
     "iopub.status.idle": "2024-09-06T22:09:23.082526Z",
     "shell.execute_reply": "2024-09-06T22:09:23.081694Z"
    },
    "papermill": {
     "duration": 0.028762,
     "end_time": "2024-09-06T22:09:23.084527",
     "exception": false,
     "start_time": "2024-09-06T22:09:23.055765",
     "status": "completed"
    },
    "tags": []
   },
   "outputs": [],
   "source": [
    "test_path='/kaggle/input/isic-2024-challenge/test-image.hdf5'"
   ]
  },
  {
   "cell_type": "code",
   "execution_count": 11,
   "id": "d2b21a38",
   "metadata": {
    "execution": {
     "iopub.execute_input": "2024-09-06T22:09:23.176902Z",
     "iopub.status.busy": "2024-09-06T22:09:23.176071Z",
     "iopub.status.idle": "2024-09-06T22:09:23.194007Z",
     "shell.execute_reply": "2024-09-06T22:09:23.193256Z"
    },
    "papermill": {
     "duration": 0.044347,
     "end_time": "2024-09-06T22:09:23.196014",
     "exception": false,
     "start_time": "2024-09-06T22:09:23.151667",
     "status": "completed"
    },
    "tags": []
   },
   "outputs": [],
   "source": [
    "test_meta_data=pd.read_csv('/kaggle/input/isic-2024-challenge/test-metadata.csv')"
   ]
  },
  {
   "cell_type": "code",
   "execution_count": 12,
   "id": "75d05112",
   "metadata": {
    "execution": {
     "iopub.execute_input": "2024-09-06T22:09:23.242180Z",
     "iopub.status.busy": "2024-09-06T22:09:23.241883Z",
     "iopub.status.idle": "2024-09-06T22:09:23.249510Z",
     "shell.execute_reply": "2024-09-06T22:09:23.248630Z"
    },
    "papermill": {
     "duration": 0.032776,
     "end_time": "2024-09-06T22:09:23.251434",
     "exception": false,
     "start_time": "2024-09-06T22:09:23.218658",
     "status": "completed"
    },
    "tags": []
   },
   "outputs": [],
   "source": [
    "keys = test_meta_data['isic_id']"
   ]
  },
  {
   "cell_type": "code",
   "execution_count": 13,
   "id": "7cd150df",
   "metadata": {
    "execution": {
     "iopub.execute_input": "2024-09-06T22:09:23.297655Z",
     "iopub.status.busy": "2024-09-06T22:09:23.296944Z",
     "iopub.status.idle": "2024-09-06T22:09:23.308553Z",
     "shell.execute_reply": "2024-09-06T22:09:23.307758Z"
    },
    "papermill": {
     "duration": 0.037053,
     "end_time": "2024-09-06T22:09:23.310692",
     "exception": false,
     "start_time": "2024-09-06T22:09:23.273639",
     "status": "completed"
    },
    "tags": []
   },
   "outputs": [],
   "source": [
    "def preprocess(df,df_test,cat_labels):\n",
    "    scaler = StandardScaler()\n",
    "    for col in df.columns:\n",
    "        if((df[col].dtype=='float64' or df[col].dtype=='int64') and df[col].isna().sum()!=0):\n",
    "            df[col].fillna(value=df[col].mean(),inplace=True);\n",
    "        if(df[col].dtype=='object' and df[col].isna().sum()!=0):\n",
    "            df[col].fillna(value=df[col].mode()[0],inplace=True);\n",
    "    for col in df_test.columns:\n",
    "        if((df_test[col].dtype=='float64' or df_test[col].dtype=='int64') and df_test[col].isna().sum()!=0):\n",
    "            df_test[col].fillna(value=df_test[col].mean(),inplace=True);\n",
    "        if(df_test[col].dtype=='object' and df_test[col].isna().sum()!=0):\n",
    "            df_test[col].fillna(value=df_test[col].mode()[0],inplace=True);\n",
    "    encoder = OneHotEncoder(sparse_output=False, drop='first')\n",
    "    encoder.fit(df[cat_labels])\n",
    "    new_cat_cols=encoder.get_feature_names_out(cat_labels)\n",
    "    one_hot_encoded=encoder.transform(df_test[cat_labels])\n",
    "    one_hot_df = pd.DataFrame(one_hot_encoded, columns=encoder.get_feature_names_out(cat_labels))\n",
    "    df_encoded = pd.concat([df_test.drop(columns=cat_labels), one_hot_df], axis=1)\n",
    "    df_f=df_encoded.drop(obj_but_not_cat,axis=1)\n",
    "    num_cols = [col for col in df_f.columns if col not in new_cat_cols]\n",
    "    scaler.fit(df[num_cols])\n",
    "    df_f[num_cols]=scaler.transform(df_f[num_cols])\n",
    "    return df_f, new_cat_cols"
   ]
  },
  {
   "cell_type": "code",
   "execution_count": 14,
   "id": "36d01e40",
   "metadata": {
    "execution": {
     "iopub.execute_input": "2024-09-06T22:09:23.359915Z",
     "iopub.status.busy": "2024-09-06T22:09:23.359559Z",
     "iopub.status.idle": "2024-09-06T22:09:30.113538Z",
     "shell.execute_reply": "2024-09-06T22:09:30.112641Z"
    },
    "papermill": {
     "duration": 6.780778,
     "end_time": "2024-09-06T22:09:30.116443",
     "exception": false,
     "start_time": "2024-09-06T22:09:23.335665",
     "status": "completed"
    },
    "tags": []
   },
   "outputs": [],
   "source": [
    "train=pd.read_csv('/kaggle/input/isic-2024-challenge/train-metadata.csv')"
   ]
  },
  {
   "cell_type": "code",
   "execution_count": 15,
   "id": "ccb6a707",
   "metadata": {
    "execution": {
     "iopub.execute_input": "2024-09-06T22:09:30.165344Z",
     "iopub.status.busy": "2024-09-06T22:09:30.165009Z",
     "iopub.status.idle": "2024-09-06T22:09:30.273346Z",
     "shell.execute_reply": "2024-09-06T22:09:30.272532Z"
    },
    "papermill": {
     "duration": 0.134161,
     "end_time": "2024-09-06T22:09:30.275671",
     "exception": false,
     "start_time": "2024-09-06T22:09:30.141510",
     "status": "completed"
    },
    "tags": []
   },
   "outputs": [],
   "source": [
    "cols_unique_train=['lesion_id', 'iddx_full', 'iddx_1', 'iddx_2', 'iddx_3', 'iddx_4', 'iddx_5', 'mel_mitotic_index', 'mel_thick_mm', 'tbp_lv_dnn_lesion_confidence']\n",
    "train=train.drop(cols_unique_train,axis=1)\n",
    "cat_cols=['sex','anatom_site_general','tbp_tile_type','tbp_lv_location','tbp_lv_location_simple']\n",
    "obj_but_not_cat=['image_type','copyright_license','attribution','patient_id','isic_id']"
   ]
  },
  {
   "cell_type": "code",
   "execution_count": 16,
   "id": "df7e363a",
   "metadata": {
    "execution": {
     "iopub.execute_input": "2024-09-06T22:09:30.322598Z",
     "iopub.status.busy": "2024-09-06T22:09:30.322260Z",
     "iopub.status.idle": "2024-09-06T22:09:31.192954Z",
     "shell.execute_reply": "2024-09-06T22:09:31.191979Z"
    },
    "papermill": {
     "duration": 0.897103,
     "end_time": "2024-09-06T22:09:31.195449",
     "exception": false,
     "start_time": "2024-09-06T22:09:30.298346",
     "status": "completed"
    },
    "tags": []
   },
   "outputs": [],
   "source": [
    "df_test,new_cat_cols=preprocess(train,test_meta_data,cat_cols)"
   ]
  },
  {
   "cell_type": "code",
   "execution_count": 17,
   "id": "ac3253fa",
   "metadata": {
    "execution": {
     "iopub.execute_input": "2024-09-06T22:09:31.241847Z",
     "iopub.status.busy": "2024-09-06T22:09:31.241485Z",
     "iopub.status.idle": "2024-09-06T22:09:31.247925Z",
     "shell.execute_reply": "2024-09-06T22:09:31.247078Z"
    },
    "papermill": {
     "duration": 0.031825,
     "end_time": "2024-09-06T22:09:31.250088",
     "exception": false,
     "start_time": "2024-09-06T22:09:31.218263",
     "status": "completed"
    },
    "tags": []
   },
   "outputs": [
    {
     "data": {
      "text/plain": [
       "(3, 67)"
      ]
     },
     "execution_count": 17,
     "metadata": {},
     "output_type": "execute_result"
    }
   ],
   "source": [
    "df_test.shape"
   ]
  },
  {
   "cell_type": "code",
   "execution_count": 18,
   "id": "be234d65",
   "metadata": {
    "execution": {
     "iopub.execute_input": "2024-09-06T22:09:31.296871Z",
     "iopub.status.busy": "2024-09-06T22:09:31.296066Z",
     "iopub.status.idle": "2024-09-06T22:09:31.302193Z",
     "shell.execute_reply": "2024-09-06T22:09:31.301393Z"
    },
    "papermill": {
     "duration": 0.031663,
     "end_time": "2024-09-06T22:09:31.304278",
     "exception": false,
     "start_time": "2024-09-06T22:09:31.272615",
     "status": "completed"
    },
    "tags": []
   },
   "outputs": [
    {
     "data": {
      "text/plain": [
       "Index(['age_approx', 'clin_size_long_diam_mm', 'tbp_lv_A', 'tbp_lv_Aext',\n",
       "       'tbp_lv_B', 'tbp_lv_Bext', 'tbp_lv_C', 'tbp_lv_Cext', 'tbp_lv_H',\n",
       "       'tbp_lv_Hext', 'tbp_lv_L', 'tbp_lv_Lext', 'tbp_lv_areaMM2',\n",
       "       'tbp_lv_area_perim_ratio', 'tbp_lv_color_std_mean', 'tbp_lv_deltaA',\n",
       "       'tbp_lv_deltaB', 'tbp_lv_deltaL', 'tbp_lv_deltaLB',\n",
       "       'tbp_lv_deltaLBnorm', 'tbp_lv_eccentricity', 'tbp_lv_minorAxisMM',\n",
       "       'tbp_lv_nevi_confidence', 'tbp_lv_norm_border', 'tbp_lv_norm_color',\n",
       "       'tbp_lv_perimeterMM', 'tbp_lv_radial_color_std_max', 'tbp_lv_stdL',\n",
       "       'tbp_lv_stdLExt', 'tbp_lv_symm_2axis', 'tbp_lv_symm_2axis_angle',\n",
       "       'tbp_lv_x', 'tbp_lv_y', 'tbp_lv_z', 'sex_male',\n",
       "       'anatom_site_general_head/neck', 'anatom_site_general_lower extremity',\n",
       "       'anatom_site_general_posterior torso',\n",
       "       'anatom_site_general_upper extremity', 'tbp_tile_type_3D: white',\n",
       "       'tbp_lv_location_Left Arm', 'tbp_lv_location_Left Arm - Lower',\n",
       "       'tbp_lv_location_Left Arm - Upper', 'tbp_lv_location_Left Leg',\n",
       "       'tbp_lv_location_Left Leg - Lower', 'tbp_lv_location_Left Leg - Upper',\n",
       "       'tbp_lv_location_Right Arm', 'tbp_lv_location_Right Arm - Lower',\n",
       "       'tbp_lv_location_Right Arm - Upper', 'tbp_lv_location_Right Leg',\n",
       "       'tbp_lv_location_Right Leg - Lower',\n",
       "       'tbp_lv_location_Right Leg - Upper', 'tbp_lv_location_Torso Back',\n",
       "       'tbp_lv_location_Torso Back Bottom Third',\n",
       "       'tbp_lv_location_Torso Back Middle Third',\n",
       "       'tbp_lv_location_Torso Back Top Third', 'tbp_lv_location_Torso Front',\n",
       "       'tbp_lv_location_Torso Front Bottom Half',\n",
       "       'tbp_lv_location_Torso Front Top Half', 'tbp_lv_location_Unknown',\n",
       "       'tbp_lv_location_simple_Left Arm', 'tbp_lv_location_simple_Left Leg',\n",
       "       'tbp_lv_location_simple_Right Arm', 'tbp_lv_location_simple_Right Leg',\n",
       "       'tbp_lv_location_simple_Torso Back',\n",
       "       'tbp_lv_location_simple_Torso Front', 'tbp_lv_location_simple_Unknown'],\n",
       "      dtype='object')"
      ]
     },
     "execution_count": 18,
     "metadata": {},
     "output_type": "execute_result"
    }
   ],
   "source": [
    "df_test.columns"
   ]
  },
  {
   "cell_type": "code",
   "execution_count": 19,
   "id": "62f97e90",
   "metadata": {
    "execution": {
     "iopub.execute_input": "2024-09-06T22:09:31.350613Z",
     "iopub.status.busy": "2024-09-06T22:09:31.350356Z",
     "iopub.status.idle": "2024-09-06T22:09:31.355680Z",
     "shell.execute_reply": "2024-09-06T22:09:31.354745Z"
    },
    "papermill": {
     "duration": 0.030537,
     "end_time": "2024-09-06T22:09:31.357539",
     "exception": false,
     "start_time": "2024-09-06T22:09:31.327002",
     "status": "completed"
    },
    "tags": []
   },
   "outputs": [],
   "source": [
    "# class ISICModel(nn.Module):\n",
    "#     def __init__(self, model_name, num_classes=1, pretrained=True, checkpoint_path=None):\n",
    "#         super(ISICModel, self).__init__()\n",
    "#         self.model = timm.create_model(model_name, pretrained=pretrained, checkpoint_path=checkpoint_path)\n",
    "\n",
    "#         in_features = self.model.classifier.in_features\n",
    "#         self.model.classifier = nn.Identity()\n",
    "#         self.model.global_pool = nn.Identity()\n",
    "#         self.pooling = nn.AvgPool2d()\n",
    "#         self.linear = nn.Linear(in_features, num_classes)\n",
    "\n",
    "#     def forward(self, images):\n",
    "#         features = self.model(images)\n",
    "#         pooled_features = self.pooling(features).flatten(1)\n",
    "#         output = self.linear(pooled_features)\n",
    "#         return output"
   ]
  },
  {
   "cell_type": "code",
   "execution_count": 20,
   "id": "a2f2105d",
   "metadata": {
    "execution": {
     "iopub.execute_input": "2024-09-06T22:09:31.404320Z",
     "iopub.status.busy": "2024-09-06T22:09:31.404039Z",
     "iopub.status.idle": "2024-09-06T22:09:31.410129Z",
     "shell.execute_reply": "2024-09-06T22:09:31.409299Z"
    },
    "papermill": {
     "duration": 0.031489,
     "end_time": "2024-09-06T22:09:31.411964",
     "exception": false,
     "start_time": "2024-09-06T22:09:31.380475",
     "status": "completed"
    },
    "tags": []
   },
   "outputs": [],
   "source": [
    "class MetaModel(nn.Module):\n",
    "    def __init__(self,in_features):\n",
    "        super().__init__()\n",
    "        self.model=nn.Sequential(\n",
    "                    nn.Linear(in_features,512),\n",
    "                    nn.BatchNorm1d(512),\n",
    "                    nn.ReLU(),\n",
    "                    nn.Dropout(p=0.7),\n",
    "#                     nn.Linear(128,128),\n",
    "#                     nn.BatchNorm1d(128),\n",
    "#                     nn.ReLU(),\n",
    "#                     nn.Dropout(p=0.7),\n",
    "                    nn.Linear(512,128),\n",
    "                    nn.BatchNorm1d(128),\n",
    "                    nn.ReLU(),\n",
    "                    nn.Dropout(p=0.7),\n",
    "                    nn.Linear(128,1))\n",
    "    def forward(self,x):\n",
    "        return self.model(x)"
   ]
  },
  {
   "cell_type": "code",
   "execution_count": 21,
   "id": "293dbce5",
   "metadata": {
    "execution": {
     "iopub.execute_input": "2024-09-06T22:09:31.458274Z",
     "iopub.status.busy": "2024-09-06T22:09:31.457971Z",
     "iopub.status.idle": "2024-09-06T22:09:31.649674Z",
     "shell.execute_reply": "2024-09-06T22:09:31.648923Z"
    },
    "papermill": {
     "duration": 0.217702,
     "end_time": "2024-09-06T22:09:31.652077",
     "exception": false,
     "start_time": "2024-09-06T22:09:31.434375",
     "status": "completed"
    },
    "tags": []
   },
   "outputs": [],
   "source": [
    "meta_model = pickle.load(open(\"/kaggle/input/0.1637nn_cv/pytorch/default/1/AUROC0.1637_Loss0.0196_epoch11.pkl\",'rb'))\n",
    "# sd1 = torch.load('/kaggle/input/metamodel13/pytorch/default/1/AUROC0.5400_Loss35.1872_epoch1.bin')"
   ]
  },
  {
   "cell_type": "code",
   "execution_count": 22,
   "id": "cac7e9ee",
   "metadata": {
    "execution": {
     "iopub.execute_input": "2024-09-06T22:09:31.699753Z",
     "iopub.status.busy": "2024-09-06T22:09:31.699414Z",
     "iopub.status.idle": "2024-09-06T22:09:32.732009Z",
     "shell.execute_reply": "2024-09-06T22:09:32.731237Z"
    },
    "papermill": {
     "duration": 1.058894,
     "end_time": "2024-09-06T22:09:32.734228",
     "exception": false,
     "start_time": "2024-09-06T22:09:31.675334",
     "status": "completed"
    },
    "tags": []
   },
   "outputs": [],
   "source": [
    "class ISICModel(nn.Module):\n",
    "    def __init__(self, model_name, num_classes=1, pretrained=True, checkpoint_path=None):\n",
    "        super(ISICModel, self).__init__()\n",
    "        self.model = timm.create_model(model_name, pretrained=pretrained, checkpoint_path=checkpoint_path)\n",
    "#         self.model = model_name\n",
    "#         self.model.classifier = nn.Conv2d(832, 1, kernel_size = (1,1), stride = (1,1))\n",
    "        in_features = self.model.classifier.in_features\n",
    "        self.model.classifier = nn.Identity()\n",
    "        self.model.global_pool = nn.Identity()\n",
    "#         self.model.global_pool = GeM()\n",
    "        self.pooling = GeM()\n",
    "        self.linear = nn.Linear(in_features, 1)\n",
    "        self.sigmoid = nn.Sigmoid()\n",
    "\n",
    "    def forward(self, images):\n",
    "        features = self.model(images)\n",
    "        pooled_features = self.pooling(features).flatten(1)\n",
    "#         pooled_features = self.pooling(features)\n",
    "        output = self.linear(pooled_features)\n",
    "#         output = self.sigmoid(self.model(images))\n",
    "        return output\n",
    "\n",
    "    \n",
    "# model = ISICModel(CONFIG['hf_hub:timm/densenet121.tv_in1k'])\n",
    "# model1 = timm.create_model('dpn68.mx_in1k', pretrained=True)\n",
    "# model1.classifier = nn.Conv2d(832, 1, kernel_size = (1,1), stride = (1,1))\n",
    "model = ISICModel('efficientnet_b3', pretrained = False)\n",
    "model.load_state_dict(torch.load('/kaggle/input/effnet_0.15lb/pytorch/default/1/AUROC0.1576_Loss0.3074_epoch23.bin'))\n",
    "# model = ISICModel(model1)\n",
    "# , checkpoint_path=CONFIG['checkpoint_path']\n",
    "model.to(device);"
   ]
  },
  {
   "cell_type": "code",
   "execution_count": 23,
   "id": "1ad06601",
   "metadata": {
    "execution": {
     "iopub.execute_input": "2024-09-06T22:09:32.781995Z",
     "iopub.status.busy": "2024-09-06T22:09:32.781667Z",
     "iopub.status.idle": "2024-09-06T22:09:32.785483Z",
     "shell.execute_reply": "2024-09-06T22:09:32.784655Z"
    },
    "papermill": {
     "duration": 0.029597,
     "end_time": "2024-09-06T22:09:32.787465",
     "exception": false,
     "start_time": "2024-09-06T22:09:32.757868",
     "status": "completed"
    },
    "tags": []
   },
   "outputs": [],
   "source": [
    "# model_1=pickle.load(open('/kaggle/input/eff_net15/pytorch/default/1/eff_net_2_model (2).pkl','rb'))\n",
    "# sd2 = torch.load('/kaggle/input/effnet0-2/pytorch/default/1/AUROC0.5434_Loss35.1402_epoch6.bin')"
   ]
  },
  {
   "cell_type": "code",
   "execution_count": 24,
   "id": "30c25fca",
   "metadata": {
    "execution": {
     "iopub.execute_input": "2024-09-06T22:09:32.834250Z",
     "iopub.status.busy": "2024-09-06T22:09:32.833480Z",
     "iopub.status.idle": "2024-09-06T22:09:32.837519Z",
     "shell.execute_reply": "2024-09-06T22:09:32.836595Z"
    },
    "papermill": {
     "duration": 0.02937,
     "end_time": "2024-09-06T22:09:32.839530",
     "exception": false,
     "start_time": "2024-09-06T22:09:32.810160",
     "status": "completed"
    },
    "tags": []
   },
   "outputs": [],
   "source": [
    "# model_2=pickle.load(open('/kaggle/input/densenet11/pytorch/default/1/densenet121_8_model (3).pkl','rb'))"
   ]
  },
  {
   "cell_type": "code",
   "execution_count": 25,
   "id": "ad7895d3",
   "metadata": {
    "execution": {
     "iopub.execute_input": "2024-09-06T22:09:32.886179Z",
     "iopub.status.busy": "2024-09-06T22:09:32.885848Z",
     "iopub.status.idle": "2024-09-06T22:09:32.889951Z",
     "shell.execute_reply": "2024-09-06T22:09:32.889125Z"
    },
    "papermill": {
     "duration": 0.029638,
     "end_time": "2024-09-06T22:09:32.891822",
     "exception": false,
     "start_time": "2024-09-06T22:09:32.862184",
     "status": "completed"
    },
    "tags": []
   },
   "outputs": [],
   "source": [
    "# model = model.classifier.load_state_dict(sd2)\n",
    "# meta_model = meta_model.load_state_dict(sd1)"
   ]
  },
  {
   "cell_type": "code",
   "execution_count": 26,
   "id": "803483e0",
   "metadata": {
    "execution": {
     "iopub.execute_input": "2024-09-06T22:09:32.937977Z",
     "iopub.status.busy": "2024-09-06T22:09:32.937624Z",
     "iopub.status.idle": "2024-09-06T22:09:32.941336Z",
     "shell.execute_reply": "2024-09-06T22:09:32.940550Z"
    },
    "papermill": {
     "duration": 0.028796,
     "end_time": "2024-09-06T22:09:32.943182",
     "exception": false,
     "start_time": "2024-09-06T22:09:32.914386",
     "status": "completed"
    },
    "tags": []
   },
   "outputs": [],
   "source": [
    "# df_test.shape"
   ]
  },
  {
   "cell_type": "code",
   "execution_count": 27,
   "id": "b53ac328",
   "metadata": {
    "execution": {
     "iopub.execute_input": "2024-09-06T22:09:32.988995Z",
     "iopub.status.busy": "2024-09-06T22:09:32.988689Z",
     "iopub.status.idle": "2024-09-06T22:09:32.992573Z",
     "shell.execute_reply": "2024-09-06T22:09:32.991877Z"
    },
    "papermill": {
     "duration": 0.028945,
     "end_time": "2024-09-06T22:09:32.994438",
     "exception": false,
     "start_time": "2024-09-06T22:09:32.965493",
     "status": "completed"
    },
    "tags": []
   },
   "outputs": [],
   "source": [
    "# lgb_models=pickle.load(open('/kaggle/input/lgbm15/pytorch/default/1/lgbm_11 (3).pkl','rb'))"
   ]
  },
  {
   "cell_type": "code",
   "execution_count": 28,
   "id": "53412473",
   "metadata": {
    "execution": {
     "iopub.execute_input": "2024-09-06T22:09:33.040704Z",
     "iopub.status.busy": "2024-09-06T22:09:33.040400Z",
     "iopub.status.idle": "2024-09-06T22:09:33.044289Z",
     "shell.execute_reply": "2024-09-06T22:09:33.043439Z"
    },
    "papermill": {
     "duration": 0.029378,
     "end_time": "2024-09-06T22:09:33.046296",
     "exception": false,
     "start_time": "2024-09-06T22:09:33.016918",
     "status": "completed"
    },
    "tags": []
   },
   "outputs": [],
   "source": [
    "#f1 = h5py.File('/kaggle/input/isic-2024-challenge/train-image.hdf5', 'r')"
   ]
  },
  {
   "cell_type": "code",
   "execution_count": 29,
   "id": "a904cfa5",
   "metadata": {
    "execution": {
     "iopub.execute_input": "2024-09-06T22:09:33.097464Z",
     "iopub.status.busy": "2024-09-06T22:09:33.097090Z",
     "iopub.status.idle": "2024-09-06T22:09:33.101396Z",
     "shell.execute_reply": "2024-09-06T22:09:33.100390Z"
    },
    "papermill": {
     "duration": 0.03413,
     "end_time": "2024-09-06T22:09:33.103683",
     "exception": false,
     "start_time": "2024-09-06T22:09:33.069553",
     "status": "completed"
    },
    "tags": []
   },
   "outputs": [],
   "source": [
    "#train_keys = list(f1.keys())"
   ]
  },
  {
   "cell_type": "code",
   "execution_count": 30,
   "id": "4c67e937",
   "metadata": {
    "execution": {
     "iopub.execute_input": "2024-09-06T22:09:33.158395Z",
     "iopub.status.busy": "2024-09-06T22:09:33.157741Z",
     "iopub.status.idle": "2024-09-06T22:09:33.167950Z",
     "shell.execute_reply": "2024-09-06T22:09:33.166968Z"
    },
    "papermill": {
     "duration": 0.040037,
     "end_time": "2024-09-06T22:09:33.170244",
     "exception": false,
     "start_time": "2024-09-06T22:09:33.130207",
     "status": "completed"
    },
    "tags": []
   },
   "outputs": [],
   "source": [
    "f2=h5py.File(test_path,'r')"
   ]
  },
  {
   "cell_type": "code",
   "execution_count": 31,
   "id": "3a5f52c8",
   "metadata": {
    "execution": {
     "iopub.execute_input": "2024-09-06T22:09:33.224752Z",
     "iopub.status.busy": "2024-09-06T22:09:33.224384Z",
     "iopub.status.idle": "2024-09-06T22:09:33.228752Z",
     "shell.execute_reply": "2024-09-06T22:09:33.227774Z"
    },
    "papermill": {
     "duration": 0.034218,
     "end_time": "2024-09-06T22:09:33.231019",
     "exception": false,
     "start_time": "2024-09-06T22:09:33.196801",
     "status": "completed"
    },
    "tags": []
   },
   "outputs": [],
   "source": [
    "# img=BytesIO(f2[keys[0]][()])"
   ]
  },
  {
   "cell_type": "code",
   "execution_count": 32,
   "id": "4b4a17e9",
   "metadata": {
    "execution": {
     "iopub.execute_input": "2024-09-06T22:09:33.285912Z",
     "iopub.status.busy": "2024-09-06T22:09:33.285309Z",
     "iopub.status.idle": "2024-09-06T22:09:33.289796Z",
     "shell.execute_reply": "2024-09-06T22:09:33.288775Z"
    },
    "papermill": {
     "duration": 0.034384,
     "end_time": "2024-09-06T22:09:33.292082",
     "exception": false,
     "start_time": "2024-09-06T22:09:33.257698",
     "status": "completed"
    },
    "tags": []
   },
   "outputs": [],
   "source": [
    "# test_transform(Image.open(img))"
   ]
  },
  {
   "cell_type": "code",
   "execution_count": 33,
   "id": "1838bd8a",
   "metadata": {
    "execution": {
     "iopub.execute_input": "2024-09-06T22:09:33.345628Z",
     "iopub.status.busy": "2024-09-06T22:09:33.345347Z",
     "iopub.status.idle": "2024-09-06T22:09:33.349261Z",
     "shell.execute_reply": "2024-09-06T22:09:33.348458Z"
    },
    "papermill": {
     "duration": 0.032321,
     "end_time": "2024-09-06T22:09:33.351226",
     "exception": false,
     "start_time": "2024-09-06T22:09:33.318905",
     "status": "completed"
    },
    "tags": []
   },
   "outputs": [],
   "source": [
    "# img=np.array(Image.open(img))"
   ]
  },
  {
   "cell_type": "code",
   "execution_count": 34,
   "id": "083fe5f3",
   "metadata": {
    "execution": {
     "iopub.execute_input": "2024-09-06T22:09:33.400587Z",
     "iopub.status.busy": "2024-09-06T22:09:33.399551Z",
     "iopub.status.idle": "2024-09-06T22:09:33.403744Z",
     "shell.execute_reply": "2024-09-06T22:09:33.403007Z"
    },
    "papermill": {
     "duration": 0.029723,
     "end_time": "2024-09-06T22:09:33.405648",
     "exception": false,
     "start_time": "2024-09-06T22:09:33.375925",
     "status": "completed"
    },
    "tags": []
   },
   "outputs": [],
   "source": [
    "# img=torch.tensor(img)"
   ]
  },
  {
   "cell_type": "code",
   "execution_count": 35,
   "id": "1906e66b",
   "metadata": {
    "execution": {
     "iopub.execute_input": "2024-09-06T22:09:33.452148Z",
     "iopub.status.busy": "2024-09-06T22:09:33.451823Z",
     "iopub.status.idle": "2024-09-06T22:09:33.455741Z",
     "shell.execute_reply": "2024-09-06T22:09:33.454906Z"
    },
    "papermill": {
     "duration": 0.029292,
     "end_time": "2024-09-06T22:09:33.457632",
     "exception": false,
     "start_time": "2024-09-06T22:09:33.428340",
     "status": "completed"
    },
    "tags": []
   },
   "outputs": [],
   "source": [
    "# img_2=img.to(torch.float32)"
   ]
  },
  {
   "cell_type": "code",
   "execution_count": 36,
   "id": "c105735a",
   "metadata": {
    "execution": {
     "iopub.execute_input": "2024-09-06T22:09:33.503736Z",
     "iopub.status.busy": "2024-09-06T22:09:33.503241Z",
     "iopub.status.idle": "2024-09-06T22:09:33.507047Z",
     "shell.execute_reply": "2024-09-06T22:09:33.506195Z"
    },
    "papermill": {
     "duration": 0.028862,
     "end_time": "2024-09-06T22:09:33.508936",
     "exception": false,
     "start_time": "2024-09-06T22:09:33.480074",
     "status": "completed"
    },
    "tags": []
   },
   "outputs": [],
   "source": [
    "# img_2"
   ]
  },
  {
   "cell_type": "code",
   "execution_count": 37,
   "id": "b8867bbd",
   "metadata": {
    "execution": {
     "iopub.execute_input": "2024-09-06T22:09:33.554860Z",
     "iopub.status.busy": "2024-09-06T22:09:33.554562Z",
     "iopub.status.idle": "2024-09-06T22:09:33.558324Z",
     "shell.execute_reply": "2024-09-06T22:09:33.557503Z"
    },
    "papermill": {
     "duration": 0.028945,
     "end_time": "2024-09-06T22:09:33.560240",
     "exception": false,
     "start_time": "2024-09-06T22:09:33.531295",
     "status": "completed"
    },
    "tags": []
   },
   "outputs": [],
   "source": [
    "# type(img)"
   ]
  },
  {
   "cell_type": "code",
   "execution_count": 38,
   "id": "c91fd581",
   "metadata": {
    "execution": {
     "iopub.execute_input": "2024-09-06T22:09:33.615578Z",
     "iopub.status.busy": "2024-09-06T22:09:33.615181Z",
     "iopub.status.idle": "2024-09-06T22:09:33.621906Z",
     "shell.execute_reply": "2024-09-06T22:09:33.620887Z"
    },
    "papermill": {
     "duration": 0.036928,
     "end_time": "2024-09-06T22:09:33.624032",
     "exception": false,
     "start_time": "2024-09-06T22:09:33.587104",
     "status": "completed"
    },
    "tags": []
   },
   "outputs": [],
   "source": [
    "class ISICDataset(Dataset):\n",
    "    def __init__(self,transform=None):\n",
    "        self.transform=transform\n",
    "    def __len__(self):\n",
    "        return len(keys)\n",
    "    def __getitem__(self,idx):\n",
    "        img=np.array(Image.open(BytesIO(f2[keys[idx]][()])))\n",
    "        img=self.transform(image=img)['image']\n",
    "        return img"
   ]
  },
  {
   "cell_type": "code",
   "execution_count": 39,
   "id": "5bab8d85",
   "metadata": {
    "execution": {
     "iopub.execute_input": "2024-09-06T22:09:33.679079Z",
     "iopub.status.busy": "2024-09-06T22:09:33.678382Z",
     "iopub.status.idle": "2024-09-06T22:09:33.682843Z",
     "shell.execute_reply": "2024-09-06T22:09:33.681786Z"
    },
    "papermill": {
     "duration": 0.03424,
     "end_time": "2024-09-06T22:09:33.685055",
     "exception": false,
     "start_time": "2024-09-06T22:09:33.650815",
     "status": "completed"
    },
    "tags": []
   },
   "outputs": [],
   "source": [
    "# class dISICDataset(Dataset):\n",
    "#     def __init__(self,transform=None):\n",
    "#         self.transform=transform\n",
    "#     def __len__(self):\n",
    "#         return len(train_keys)\n",
    "#     def __getitem__(self,idx):\n",
    "#         img=np.array(Image.open(BytesIO(f1[train_keys[idx]][()])))\n",
    "#         img=self.transform(image=img)['image']\n",
    "#         return img"
   ]
  },
  {
   "cell_type": "code",
   "execution_count": 40,
   "id": "b67f0f5d",
   "metadata": {
    "execution": {
     "iopub.execute_input": "2024-09-06T22:09:33.739164Z",
     "iopub.status.busy": "2024-09-06T22:09:33.738859Z",
     "iopub.status.idle": "2024-09-06T22:09:33.745041Z",
     "shell.execute_reply": "2024-09-06T22:09:33.744047Z"
    },
    "papermill": {
     "duration": 0.035604,
     "end_time": "2024-09-06T22:09:33.747129",
     "exception": false,
     "start_time": "2024-09-06T22:09:33.711525",
     "status": "completed"
    },
    "tags": []
   },
   "outputs": [],
   "source": [
    "data_transforms =A.Compose([\n",
    "        A.Resize(CONFIG['img_size'], CONFIG['img_size']),\n",
    "        A.Normalize(\n",
    "                mean=[0.485, 0.456, 0.406], \n",
    "                std=[0.229, 0.224, 0.225], \n",
    "                max_pixel_value=255.0, \n",
    "                p=1.0\n",
    "            ),\n",
    "        ToTensorV2()], p=1.)"
   ]
  },
  {
   "cell_type": "code",
   "execution_count": 41,
   "id": "7a3f1e2a",
   "metadata": {
    "execution": {
     "iopub.execute_input": "2024-09-06T22:09:33.802117Z",
     "iopub.status.busy": "2024-09-06T22:09:33.801441Z",
     "iopub.status.idle": "2024-09-06T22:09:33.806338Z",
     "shell.execute_reply": "2024-09-06T22:09:33.805283Z"
    },
    "papermill": {
     "duration": 0.034957,
     "end_time": "2024-09-06T22:09:33.808755",
     "exception": false,
     "start_time": "2024-09-06T22:09:33.773798",
     "status": "completed"
    },
    "tags": []
   },
   "outputs": [],
   "source": [
    "test_dataset = ISICDataset(data_transforms)"
   ]
  },
  {
   "cell_type": "code",
   "execution_count": 42,
   "id": "d2ef3c1d",
   "metadata": {
    "execution": {
     "iopub.execute_input": "2024-09-06T22:09:33.861819Z",
     "iopub.status.busy": "2024-09-06T22:09:33.861465Z",
     "iopub.status.idle": "2024-09-06T22:09:33.867549Z",
     "shell.execute_reply": "2024-09-06T22:09:33.866701Z"
    },
    "papermill": {
     "duration": 0.033779,
     "end_time": "2024-09-06T22:09:33.869607",
     "exception": false,
     "start_time": "2024-09-06T22:09:33.835828",
     "status": "completed"
    },
    "tags": []
   },
   "outputs": [],
   "source": [
    "class TabularDataset_test(Dataset):\n",
    "    def __init__(self,data,transform=None):\n",
    "        self.data = data\n",
    "        self.transform = transform\n",
    "\n",
    "    def __len__(self):\n",
    "        return len(self.data)\n",
    "\n",
    "    def __getitem__(self, idx):\n",
    "        X = self.data.iloc[idx].values.astype(float)\n",
    "        \n",
    "        if self.transform:\n",
    "            X = self.transform(X)\n",
    "        \n",
    "        return torch.tensor(X, dtype=torch.float32)"
   ]
  },
  {
   "cell_type": "code",
   "execution_count": 43,
   "id": "9fb91bfe",
   "metadata": {
    "execution": {
     "iopub.execute_input": "2024-09-06T22:09:33.916655Z",
     "iopub.status.busy": "2024-09-06T22:09:33.916391Z",
     "iopub.status.idle": "2024-09-06T22:09:33.920597Z",
     "shell.execute_reply": "2024-09-06T22:09:33.919799Z"
    },
    "papermill": {
     "duration": 0.030017,
     "end_time": "2024-09-06T22:09:33.922518",
     "exception": false,
     "start_time": "2024-09-06T22:09:33.892501",
     "status": "completed"
    },
    "tags": []
   },
   "outputs": [],
   "source": [
    "test_dataloader=DataLoader(test_dataset,batch_size=32)"
   ]
  },
  {
   "cell_type": "code",
   "execution_count": 44,
   "id": "5ddbeee2",
   "metadata": {
    "execution": {
     "iopub.execute_input": "2024-09-06T22:09:33.969435Z",
     "iopub.status.busy": "2024-09-06T22:09:33.969128Z",
     "iopub.status.idle": "2024-09-06T22:09:33.973345Z",
     "shell.execute_reply": "2024-09-06T22:09:33.972480Z"
    },
    "papermill": {
     "duration": 0.030419,
     "end_time": "2024-09-06T22:09:33.975229",
     "exception": false,
     "start_time": "2024-09-06T22:09:33.944810",
     "status": "completed"
    },
    "tags": []
   },
   "outputs": [],
   "source": [
    "device='cuda' if torch.cuda.is_available else 'cpu'"
   ]
  },
  {
   "cell_type": "code",
   "execution_count": 45,
   "id": "c1e24493",
   "metadata": {
    "execution": {
     "iopub.execute_input": "2024-09-06T22:09:34.022182Z",
     "iopub.status.busy": "2024-09-06T22:09:34.021850Z",
     "iopub.status.idle": "2024-09-06T22:09:34.026234Z",
     "shell.execute_reply": "2024-09-06T22:09:34.025336Z"
    },
    "papermill": {
     "duration": 0.030111,
     "end_time": "2024-09-06T22:09:34.028177",
     "exception": false,
     "start_time": "2024-09-06T22:09:33.998066",
     "status": "completed"
    },
    "tags": []
   },
   "outputs": [],
   "source": [
    "from tqdm.auto import tqdm"
   ]
  },
  {
   "cell_type": "code",
   "execution_count": 46,
   "id": "8e64d02b",
   "metadata": {
    "execution": {
     "iopub.execute_input": "2024-09-06T22:09:34.080810Z",
     "iopub.status.busy": "2024-09-06T22:09:34.080462Z",
     "iopub.status.idle": "2024-09-06T22:09:34.084611Z",
     "shell.execute_reply": "2024-09-06T22:09:34.083704Z"
    },
    "papermill": {
     "duration": 0.033854,
     "end_time": "2024-09-06T22:09:34.086767",
     "exception": false,
     "start_time": "2024-09-06T22:09:34.052913",
     "status": "completed"
    },
    "tags": []
   },
   "outputs": [],
   "source": [
    "# import gc\n",
    "# gc.collect()"
   ]
  },
  {
   "cell_type": "code",
   "execution_count": 47,
   "id": "e7ae6c50",
   "metadata": {
    "execution": {
     "iopub.execute_input": "2024-09-06T22:09:34.141045Z",
     "iopub.status.busy": "2024-09-06T22:09:34.140699Z",
     "iopub.status.idle": "2024-09-06T22:09:34.145001Z",
     "shell.execute_reply": "2024-09-06T22:09:34.144048Z"
    },
    "papermill": {
     "duration": 0.033689,
     "end_time": "2024-09-06T22:09:34.147292",
     "exception": false,
     "start_time": "2024-09-06T22:09:34.113603",
     "status": "completed"
    },
    "tags": []
   },
   "outputs": [],
   "source": [
    "# i = next(iter(test_dataloader))"
   ]
  },
  {
   "cell_type": "code",
   "execution_count": 48,
   "id": "97d2e94a",
   "metadata": {
    "execution": {
     "iopub.execute_input": "2024-09-06T22:09:34.196182Z",
     "iopub.status.busy": "2024-09-06T22:09:34.195870Z",
     "iopub.status.idle": "2024-09-06T22:09:34.199614Z",
     "shell.execute_reply": "2024-09-06T22:09:34.198767Z"
    },
    "papermill": {
     "duration": 0.029384,
     "end_time": "2024-09-06T22:09:34.201540",
     "exception": false,
     "start_time": "2024-09-06T22:09:34.172156",
     "status": "completed"
    },
    "tags": []
   },
   "outputs": [],
   "source": [
    "# model_1"
   ]
  },
  {
   "cell_type": "code",
   "execution_count": 49,
   "id": "0577f809",
   "metadata": {
    "execution": {
     "iopub.execute_input": "2024-09-06T22:09:34.248370Z",
     "iopub.status.busy": "2024-09-06T22:09:34.247559Z",
     "iopub.status.idle": "2024-09-06T22:09:34.251544Z",
     "shell.execute_reply": "2024-09-06T22:09:34.250730Z"
    },
    "papermill": {
     "duration": 0.029625,
     "end_time": "2024-09-06T22:09:34.253692",
     "exception": false,
     "start_time": "2024-09-06T22:09:34.224067",
     "status": "completed"
    },
    "tags": []
   },
   "outputs": [],
   "source": [
    "# model_1(i.to(device)).shape"
   ]
  },
  {
   "cell_type": "code",
   "execution_count": 50,
   "id": "0ce5433d",
   "metadata": {
    "execution": {
     "iopub.execute_input": "2024-09-06T22:09:34.299467Z",
     "iopub.status.busy": "2024-09-06T22:09:34.299216Z",
     "iopub.status.idle": "2024-09-06T22:09:35.232600Z",
     "shell.execute_reply": "2024-09-06T22:09:35.231748Z"
    },
    "papermill": {
     "duration": 0.959439,
     "end_time": "2024-09-06T22:09:35.235478",
     "exception": false,
     "start_time": "2024-09-06T22:09:34.276039",
     "status": "completed"
    },
    "tags": []
   },
   "outputs": [
    {
     "data": {
      "application/vnd.jupyter.widget-view+json": {
       "model_id": "61dc14e67f6a447a8fe169f2f75ad0b9",
       "version_major": 2,
       "version_minor": 0
      },
      "text/plain": [
       "  0%|          | 0/1 [00:00<?, ?it/s]"
      ]
     },
     "metadata": {},
     "output_type": "display_data"
    }
   ],
   "source": [
    "model.eval()\n",
    "y=np.array([])\n",
    "model.to(device)\n",
    "for i,X in enumerate(tqdm(test_dataloader)):\n",
    "    X=X.to(device)\n",
    "    with torch.inference_mode():\n",
    "        y=np.concatenate((y,np.array(torch.nn.functional.sigmoid(model(X)).detach().cpu()).ravel()))\n",
    "    del X\n",
    "    gc.collect()"
   ]
  },
  {
   "cell_type": "code",
   "execution_count": 51,
   "id": "1077081f",
   "metadata": {
    "execution": {
     "iopub.execute_input": "2024-09-06T22:09:35.283830Z",
     "iopub.status.busy": "2024-09-06T22:09:35.283263Z",
     "iopub.status.idle": "2024-09-06T22:09:35.287179Z",
     "shell.execute_reply": "2024-09-06T22:09:35.286347Z"
    },
    "papermill": {
     "duration": 0.030352,
     "end_time": "2024-09-06T22:09:35.289035",
     "exception": false,
     "start_time": "2024-09-06T22:09:35.258683",
     "status": "completed"
    },
    "tags": []
   },
   "outputs": [],
   "source": [
    "# model_2.eval()\n",
    "# yyyy=np.array([])\n",
    "# model_2.to(device)\n",
    "# for i,X in enumerate(tqdm(test_dataloader)):\n",
    "#     X=X.to(device)\n",
    "#     with torch.inference_mode():\n",
    "#         yyyy=np.concatenate((yyyy,np.array(torch.nn.functional.sigmoid(model_2(X)).detach().cpu()).ravel()))\n",
    "#     del X\n",
    "#     gc.collect()"
   ]
  },
  {
   "cell_type": "code",
   "execution_count": 52,
   "id": "b7512fb0",
   "metadata": {
    "execution": {
     "iopub.execute_input": "2024-09-06T22:09:35.335825Z",
     "iopub.status.busy": "2024-09-06T22:09:35.335117Z",
     "iopub.status.idle": "2024-09-06T22:09:35.339932Z",
     "shell.execute_reply": "2024-09-06T22:09:35.339095Z"
    },
    "papermill": {
     "duration": 0.03016,
     "end_time": "2024-09-06T22:09:35.341823",
     "exception": false,
     "start_time": "2024-09-06T22:09:35.311663",
     "status": "completed"
    },
    "tags": []
   },
   "outputs": [],
   "source": [
    "df_test['connect_y']=y"
   ]
  },
  {
   "cell_type": "code",
   "execution_count": 53,
   "id": "e955d400",
   "metadata": {
    "execution": {
     "iopub.execute_input": "2024-09-06T22:09:35.390600Z",
     "iopub.status.busy": "2024-09-06T22:09:35.390033Z",
     "iopub.status.idle": "2024-09-06T22:09:35.394080Z",
     "shell.execute_reply": "2024-09-06T22:09:35.393217Z"
    },
    "papermill": {
     "duration": 0.030682,
     "end_time": "2024-09-06T22:09:35.396016",
     "exception": false,
     "start_time": "2024-09-06T22:09:35.365334",
     "status": "completed"
    },
    "tags": []
   },
   "outputs": [],
   "source": [
    "test_metaset=TabularDataset_test(df_test)"
   ]
  },
  {
   "cell_type": "code",
   "execution_count": 54,
   "id": "4a4734dc",
   "metadata": {
    "execution": {
     "iopub.execute_input": "2024-09-06T22:09:35.441830Z",
     "iopub.status.busy": "2024-09-06T22:09:35.441551Z",
     "iopub.status.idle": "2024-09-06T22:09:35.445717Z",
     "shell.execute_reply": "2024-09-06T22:09:35.444888Z"
    },
    "papermill": {
     "duration": 0.029256,
     "end_time": "2024-09-06T22:09:35.447615",
     "exception": false,
     "start_time": "2024-09-06T22:09:35.418359",
     "status": "completed"
    },
    "tags": []
   },
   "outputs": [],
   "source": [
    "test_metaloader=DataLoader(test_metaset,batch_size=32)"
   ]
  },
  {
   "cell_type": "code",
   "execution_count": 55,
   "id": "c41ab856",
   "metadata": {
    "execution": {
     "iopub.execute_input": "2024-09-06T22:09:35.493654Z",
     "iopub.status.busy": "2024-09-06T22:09:35.493088Z",
     "iopub.status.idle": "2024-09-06T22:09:35.499454Z",
     "shell.execute_reply": "2024-09-06T22:09:35.498775Z"
    },
    "papermill": {
     "duration": 0.031334,
     "end_time": "2024-09-06T22:09:35.501340",
     "exception": false,
     "start_time": "2024-09-06T22:09:35.470006",
     "status": "completed"
    },
    "tags": []
   },
   "outputs": [],
   "source": [
    "X=next(iter(test_metaloader))"
   ]
  },
  {
   "cell_type": "code",
   "execution_count": 56,
   "id": "31c40d78",
   "metadata": {
    "execution": {
     "iopub.execute_input": "2024-09-06T22:09:35.547701Z",
     "iopub.status.busy": "2024-09-06T22:09:35.547414Z",
     "iopub.status.idle": "2024-09-06T22:09:35.552872Z",
     "shell.execute_reply": "2024-09-06T22:09:35.552088Z"
    },
    "papermill": {
     "duration": 0.030883,
     "end_time": "2024-09-06T22:09:35.554855",
     "exception": false,
     "start_time": "2024-09-06T22:09:35.523972",
     "status": "completed"
    },
    "tags": []
   },
   "outputs": [
    {
     "data": {
      "text/plain": [
       "torch.Size([3, 68])"
      ]
     },
     "execution_count": 56,
     "metadata": {},
     "output_type": "execute_result"
    }
   ],
   "source": [
    "X.shape"
   ]
  },
  {
   "cell_type": "code",
   "execution_count": 57,
   "id": "50272dd2",
   "metadata": {
    "execution": {
     "iopub.execute_input": "2024-09-06T22:09:35.601973Z",
     "iopub.status.busy": "2024-09-06T22:09:35.601641Z",
     "iopub.status.idle": "2024-09-06T22:09:35.605289Z",
     "shell.execute_reply": "2024-09-06T22:09:35.604502Z"
    },
    "papermill": {
     "duration": 0.029316,
     "end_time": "2024-09-06T22:09:35.607123",
     "exception": false,
     "start_time": "2024-09-06T22:09:35.577807",
     "status": "completed"
    },
    "tags": []
   },
   "outputs": [],
   "source": [
    "# meta_model"
   ]
  },
  {
   "cell_type": "code",
   "execution_count": 58,
   "id": "9c98da85",
   "metadata": {
    "execution": {
     "iopub.execute_input": "2024-09-06T22:09:35.653756Z",
     "iopub.status.busy": "2024-09-06T22:09:35.652977Z",
     "iopub.status.idle": "2024-09-06T22:09:35.862534Z",
     "shell.execute_reply": "2024-09-06T22:09:35.861650Z"
    },
    "papermill": {
     "duration": 0.235114,
     "end_time": "2024-09-06T22:09:35.864768",
     "exception": false,
     "start_time": "2024-09-06T22:09:35.629654",
     "status": "completed"
    },
    "tags": []
   },
   "outputs": [
    {
     "data": {
      "application/vnd.jupyter.widget-view+json": {
       "model_id": "54341caaf26448f7a778156203626c89",
       "version_major": 2,
       "version_minor": 0
      },
      "text/plain": [
       "  0%|          | 0/1 [00:00<?, ?it/s]"
      ]
     },
     "metadata": {},
     "output_type": "display_data"
    }
   ],
   "source": [
    "meta_model.eval()\n",
    "y_meta=np.array([])\n",
    "meta_model.to(device)\n",
    "for i,X in enumerate(tqdm(test_metaloader)):\n",
    "    X=X.to(device)\n",
    "    with torch.inference_mode():\n",
    "        y_meta=np.concatenate((y_meta,np.array(torch.nn.functional.sigmoid(meta_model(X)).detach().cpu()).ravel()))\n",
    "    del X\n",
    "    gc.collect()"
   ]
  },
  {
   "cell_type": "code",
   "execution_count": 59,
   "id": "137229ee",
   "metadata": {
    "execution": {
     "iopub.execute_input": "2024-09-06T22:09:35.912781Z",
     "iopub.status.busy": "2024-09-06T22:09:35.912458Z",
     "iopub.status.idle": "2024-09-06T22:09:35.916374Z",
     "shell.execute_reply": "2024-09-06T22:09:35.915612Z"
    },
    "papermill": {
     "duration": 0.029863,
     "end_time": "2024-09-06T22:09:35.918270",
     "exception": false,
     "start_time": "2024-09-06T22:09:35.888407",
     "status": "completed"
    },
    "tags": []
   },
   "outputs": [],
   "source": [
    "# y_lgb = np.mean([model.predict_proba(df_test)[:, 1] for model in lgb_models], 0)"
   ]
  },
  {
   "cell_type": "code",
   "execution_count": 60,
   "id": "8342d866",
   "metadata": {
    "execution": {
     "iopub.execute_input": "2024-09-06T22:09:35.966190Z",
     "iopub.status.busy": "2024-09-06T22:09:35.965426Z",
     "iopub.status.idle": "2024-09-06T22:09:35.970019Z",
     "shell.execute_reply": "2024-09-06T22:09:35.969120Z"
    },
    "papermill": {
     "duration": 0.030575,
     "end_time": "2024-09-06T22:09:35.971843",
     "exception": false,
     "start_time": "2024-09-06T22:09:35.941268",
     "status": "completed"
    },
    "tags": []
   },
   "outputs": [],
   "source": [
    "y_cnn=(y-np.mean(y))/np.std(y)"
   ]
  },
  {
   "cell_type": "code",
   "execution_count": 61,
   "id": "76213838",
   "metadata": {
    "execution": {
     "iopub.execute_input": "2024-09-06T22:09:36.018588Z",
     "iopub.status.busy": "2024-09-06T22:09:36.018322Z",
     "iopub.status.idle": "2024-09-06T22:09:36.022688Z",
     "shell.execute_reply": "2024-09-06T22:09:36.021843Z"
    },
    "papermill": {
     "duration": 0.029973,
     "end_time": "2024-09-06T22:09:36.024655",
     "exception": false,
     "start_time": "2024-09-06T22:09:35.994682",
     "status": "completed"
    },
    "tags": []
   },
   "outputs": [],
   "source": [
    "y_meta=(y_meta-np.mean(y_meta))/np.std(y_meta)"
   ]
  },
  {
   "cell_type": "code",
   "execution_count": 62,
   "id": "f39d2555",
   "metadata": {
    "execution": {
     "iopub.execute_input": "2024-09-06T22:09:36.071358Z",
     "iopub.status.busy": "2024-09-06T22:09:36.071103Z",
     "iopub.status.idle": "2024-09-06T22:09:36.074744Z",
     "shell.execute_reply": "2024-09-06T22:09:36.073908Z"
    },
    "papermill": {
     "duration": 0.029262,
     "end_time": "2024-09-06T22:09:36.076640",
     "exception": false,
     "start_time": "2024-09-06T22:09:36.047378",
     "status": "completed"
    },
    "tags": []
   },
   "outputs": [],
   "source": [
    "# y_lgb=(y_lgb-np.mean(y_lgb))/np.std(y_lgb)"
   ]
  },
  {
   "cell_type": "code",
   "execution_count": 63,
   "id": "dbd6d092",
   "metadata": {
    "execution": {
     "iopub.execute_input": "2024-09-06T22:09:36.124577Z",
     "iopub.status.busy": "2024-09-06T22:09:36.123989Z",
     "iopub.status.idle": "2024-09-06T22:09:36.127933Z",
     "shell.execute_reply": "2024-09-06T22:09:36.127093Z"
    },
    "papermill": {
     "duration": 0.030423,
     "end_time": "2024-09-06T22:09:36.129899",
     "exception": false,
     "start_time": "2024-09-06T22:09:36.099476",
     "status": "completed"
    },
    "tags": []
   },
   "outputs": [],
   "source": [
    "a = 0.5\n",
    "b = 0.5\n",
    "# c = 0.333"
   ]
  },
  {
   "cell_type": "code",
   "execution_count": 64,
   "id": "aeb3c8b4",
   "metadata": {
    "execution": {
     "iopub.execute_input": "2024-09-06T22:09:36.177812Z",
     "iopub.status.busy": "2024-09-06T22:09:36.177092Z",
     "iopub.status.idle": "2024-09-06T22:09:36.181004Z",
     "shell.execute_reply": "2024-09-06T22:09:36.180097Z"
    },
    "papermill": {
     "duration": 0.029858,
     "end_time": "2024-09-06T22:09:36.182916",
     "exception": false,
     "start_time": "2024-09-06T22:09:36.153058",
     "status": "completed"
    },
    "tags": []
   },
   "outputs": [],
   "source": [
    "# yy=a*y+b*y_meta+c*y_lgb"
   ]
  },
  {
   "cell_type": "code",
   "execution_count": 65,
   "id": "846f3439",
   "metadata": {
    "execution": {
     "iopub.execute_input": "2024-09-06T22:09:36.229588Z",
     "iopub.status.busy": "2024-09-06T22:09:36.229310Z",
     "iopub.status.idle": "2024-09-06T22:09:36.233312Z",
     "shell.execute_reply": "2024-09-06T22:09:36.232574Z"
    },
    "papermill": {
     "duration": 0.029433,
     "end_time": "2024-09-06T22:09:36.235159",
     "exception": false,
     "start_time": "2024-09-06T22:09:36.205726",
     "status": "completed"
    },
    "tags": []
   },
   "outputs": [],
   "source": [
    "yy=a*y_meta + b*y_cnn"
   ]
  },
  {
   "cell_type": "code",
   "execution_count": 66,
   "id": "ec6f2201",
   "metadata": {
    "execution": {
     "iopub.execute_input": "2024-09-06T22:09:36.282843Z",
     "iopub.status.busy": "2024-09-06T22:09:36.282479Z",
     "iopub.status.idle": "2024-09-06T22:09:36.286907Z",
     "shell.execute_reply": "2024-09-06T22:09:36.285942Z"
    },
    "papermill": {
     "duration": 0.031049,
     "end_time": "2024-09-06T22:09:36.289255",
     "exception": false,
     "start_time": "2024-09-06T22:09:36.258206",
     "status": "completed"
    },
    "tags": []
   },
   "outputs": [],
   "source": [
    "# y = torch.cat(y, dim = 0).reshape(-1)"
   ]
  },
  {
   "cell_type": "code",
   "execution_count": 67,
   "id": "65091fbf",
   "metadata": {
    "execution": {
     "iopub.execute_input": "2024-09-06T22:09:36.340055Z",
     "iopub.status.busy": "2024-09-06T22:09:36.339343Z",
     "iopub.status.idle": "2024-09-06T22:09:36.343272Z",
     "shell.execute_reply": "2024-09-06T22:09:36.342426Z"
    },
    "papermill": {
     "duration": 0.029964,
     "end_time": "2024-09-06T22:09:36.345275",
     "exception": false,
     "start_time": "2024-09-06T22:09:36.315311",
     "status": "completed"
    },
    "tags": []
   },
   "outputs": [],
   "source": [
    "# y=y.squeeze().detach().cpu()"
   ]
  },
  {
   "cell_type": "code",
   "execution_count": 68,
   "id": "7471e48f",
   "metadata": {
    "execution": {
     "iopub.execute_input": "2024-09-06T22:09:36.395020Z",
     "iopub.status.busy": "2024-09-06T22:09:36.394678Z",
     "iopub.status.idle": "2024-09-06T22:09:36.398543Z",
     "shell.execute_reply": "2024-09-06T22:09:36.397739Z"
    },
    "papermill": {
     "duration": 0.031357,
     "end_time": "2024-09-06T22:09:36.400472",
     "exception": false,
     "start_time": "2024-09-06T22:09:36.369115",
     "status": "completed"
    },
    "tags": []
   },
   "outputs": [],
   "source": [
    "# y = y.detach().cpu().numpy()"
   ]
  },
  {
   "cell_type": "code",
   "execution_count": 69,
   "id": "6dd5f148",
   "metadata": {
    "execution": {
     "iopub.execute_input": "2024-09-06T22:09:36.446940Z",
     "iopub.status.busy": "2024-09-06T22:09:36.446643Z",
     "iopub.status.idle": "2024-09-06T22:09:36.450421Z",
     "shell.execute_reply": "2024-09-06T22:09:36.449658Z"
    },
    "papermill": {
     "duration": 0.029215,
     "end_time": "2024-09-06T22:09:36.452413",
     "exception": false,
     "start_time": "2024-09-06T22:09:36.423198",
     "status": "completed"
    },
    "tags": []
   },
   "outputs": [],
   "source": [
    "data = {'isic_id': keys,\n",
    "        'target': yy}"
   ]
  },
  {
   "cell_type": "code",
   "execution_count": 70,
   "id": "3518100a",
   "metadata": {
    "execution": {
     "iopub.execute_input": "2024-09-06T22:09:36.499483Z",
     "iopub.status.busy": "2024-09-06T22:09:36.498919Z",
     "iopub.status.idle": "2024-09-06T22:09:36.503344Z",
     "shell.execute_reply": "2024-09-06T22:09:36.502475Z"
    },
    "papermill": {
     "duration": 0.030188,
     "end_time": "2024-09-06T22:09:36.505240",
     "exception": false,
     "start_time": "2024-09-06T22:09:36.475052",
     "status": "completed"
    },
    "tags": []
   },
   "outputs": [],
   "source": [
    "df = pd.DataFrame(data)"
   ]
  },
  {
   "cell_type": "code",
   "execution_count": 71,
   "id": "c2499592",
   "metadata": {
    "execution": {
     "iopub.execute_input": "2024-09-06T22:09:36.552343Z",
     "iopub.status.busy": "2024-09-06T22:09:36.552045Z",
     "iopub.status.idle": "2024-09-06T22:09:36.564050Z",
     "shell.execute_reply": "2024-09-06T22:09:36.563244Z"
    },
    "papermill": {
     "duration": 0.037747,
     "end_time": "2024-09-06T22:09:36.565999",
     "exception": false,
     "start_time": "2024-09-06T22:09:36.528252",
     "status": "completed"
    },
    "tags": []
   },
   "outputs": [
    {
     "data": {
      "text/html": [
       "<div>\n",
       "<style scoped>\n",
       "    .dataframe tbody tr th:only-of-type {\n",
       "        vertical-align: middle;\n",
       "    }\n",
       "\n",
       "    .dataframe tbody tr th {\n",
       "        vertical-align: top;\n",
       "    }\n",
       "\n",
       "    .dataframe thead th {\n",
       "        text-align: right;\n",
       "    }\n",
       "</style>\n",
       "<table border=\"1\" class=\"dataframe\">\n",
       "  <thead>\n",
       "    <tr style=\"text-align: right;\">\n",
       "      <th></th>\n",
       "      <th>isic_id</th>\n",
       "      <th>target</th>\n",
       "    </tr>\n",
       "  </thead>\n",
       "  <tbody>\n",
       "    <tr>\n",
       "      <th>0</th>\n",
       "      <td>ISIC_0015657</td>\n",
       "      <td>0.374505</td>\n",
       "    </tr>\n",
       "    <tr>\n",
       "      <th>1</th>\n",
       "      <td>ISIC_0015729</td>\n",
       "      <td>-0.738441</td>\n",
       "    </tr>\n",
       "    <tr>\n",
       "      <th>2</th>\n",
       "      <td>ISIC_0015740</td>\n",
       "      <td>0.363936</td>\n",
       "    </tr>\n",
       "  </tbody>\n",
       "</table>\n",
       "</div>"
      ],
      "text/plain": [
       "        isic_id    target\n",
       "0  ISIC_0015657  0.374505\n",
       "1  ISIC_0015729 -0.738441\n",
       "2  ISIC_0015740  0.363936"
      ]
     },
     "execution_count": 71,
     "metadata": {},
     "output_type": "execute_result"
    }
   ],
   "source": [
    "df.head()"
   ]
  },
  {
   "cell_type": "code",
   "execution_count": 72,
   "id": "0be3b3f1",
   "metadata": {
    "execution": {
     "iopub.execute_input": "2024-09-06T22:09:36.612863Z",
     "iopub.status.busy": "2024-09-06T22:09:36.612548Z",
     "iopub.status.idle": "2024-09-06T22:09:36.618614Z",
     "shell.execute_reply": "2024-09-06T22:09:36.617937Z"
    },
    "papermill": {
     "duration": 0.031525,
     "end_time": "2024-09-06T22:09:36.620444",
     "exception": false,
     "start_time": "2024-09-06T22:09:36.588919",
     "status": "completed"
    },
    "tags": []
   },
   "outputs": [],
   "source": [
    "df.to_csv(\"submission.csv\", index=False)"
   ]
  },
  {
   "cell_type": "code",
   "execution_count": 73,
   "id": "05d4aa2b",
   "metadata": {
    "execution": {
     "iopub.execute_input": "2024-09-06T22:09:36.668209Z",
     "iopub.status.busy": "2024-09-06T22:09:36.667612Z",
     "iopub.status.idle": "2024-09-06T22:09:36.675955Z",
     "shell.execute_reply": "2024-09-06T22:09:36.675136Z"
    },
    "papermill": {
     "duration": 0.034635,
     "end_time": "2024-09-06T22:09:36.677974",
     "exception": false,
     "start_time": "2024-09-06T22:09:36.643339",
     "status": "completed"
    },
    "tags": []
   },
   "outputs": [
    {
     "data": {
      "text/html": [
       "<div>\n",
       "<style scoped>\n",
       "    .dataframe tbody tr th:only-of-type {\n",
       "        vertical-align: middle;\n",
       "    }\n",
       "\n",
       "    .dataframe tbody tr th {\n",
       "        vertical-align: top;\n",
       "    }\n",
       "\n",
       "    .dataframe thead th {\n",
       "        text-align: right;\n",
       "    }\n",
       "</style>\n",
       "<table border=\"1\" class=\"dataframe\">\n",
       "  <thead>\n",
       "    <tr style=\"text-align: right;\">\n",
       "      <th></th>\n",
       "      <th>isic_id</th>\n",
       "      <th>target</th>\n",
       "    </tr>\n",
       "  </thead>\n",
       "  <tbody>\n",
       "    <tr>\n",
       "      <th>0</th>\n",
       "      <td>ISIC_0015657</td>\n",
       "      <td>0.374505</td>\n",
       "    </tr>\n",
       "    <tr>\n",
       "      <th>1</th>\n",
       "      <td>ISIC_0015729</td>\n",
       "      <td>-0.738441</td>\n",
       "    </tr>\n",
       "    <tr>\n",
       "      <th>2</th>\n",
       "      <td>ISIC_0015740</td>\n",
       "      <td>0.363936</td>\n",
       "    </tr>\n",
       "  </tbody>\n",
       "</table>\n",
       "</div>"
      ],
      "text/plain": [
       "        isic_id    target\n",
       "0  ISIC_0015657  0.374505\n",
       "1  ISIC_0015729 -0.738441\n",
       "2  ISIC_0015740  0.363936"
      ]
     },
     "execution_count": 73,
     "metadata": {},
     "output_type": "execute_result"
    }
   ],
   "source": [
    "df"
   ]
  },
  {
   "cell_type": "code",
   "execution_count": 74,
   "id": "4df3544c",
   "metadata": {
    "execution": {
     "iopub.execute_input": "2024-09-06T22:09:36.726757Z",
     "iopub.status.busy": "2024-09-06T22:09:36.726387Z",
     "iopub.status.idle": "2024-09-06T22:09:36.730556Z",
     "shell.execute_reply": "2024-09-06T22:09:36.729747Z"
    },
    "papermill": {
     "duration": 0.031088,
     "end_time": "2024-09-06T22:09:36.732435",
     "exception": false,
     "start_time": "2024-09-06T22:09:36.701347",
     "status": "completed"
    },
    "tags": []
   },
   "outputs": [],
   "source": [
    "#train_d=pd.read_csv('/kaggle/input/isic-2024-challenge/train-metadata.csv')\n",
    "#cols_unique_train=['lesion_id', 'iddx_full', 'iddx_1', 'iddx_2', 'iddx_3', 'iddx_4', 'iddx_5', 'mel_mitotic_index', 'mel_thick_mm', 'tbp_lv_dnn_lesion_confidence']\n",
    "#train_d=train_d.drop(cols_unique_train,axis=1)\n",
    "#cat_cols=['sex','anatom_site_general','tbp_tile_type','tbp_lv_location','tbp_lv_location_simple']\n",
    "#obj_but_not_cat=['image_type','copyright_license','attribution','patient_id','isic_id']"
   ]
  },
  {
   "cell_type": "code",
   "execution_count": 75,
   "id": "30ca3a37",
   "metadata": {
    "execution": {
     "iopub.execute_input": "2024-09-06T22:09:36.780012Z",
     "iopub.status.busy": "2024-09-06T22:09:36.779740Z",
     "iopub.status.idle": "2024-09-06T22:09:36.783411Z",
     "shell.execute_reply": "2024-09-06T22:09:36.782606Z"
    },
    "papermill": {
     "duration": 0.029464,
     "end_time": "2024-09-06T22:09:36.785221",
     "exception": false,
     "start_time": "2024-09-06T22:09:36.755757",
     "status": "completed"
    },
    "tags": []
   },
   "outputs": [],
   "source": [
    "#train_d=train_d.drop('target',axis=1)"
   ]
  },
  {
   "cell_type": "code",
   "execution_count": 76,
   "id": "29224c54",
   "metadata": {
    "execution": {
     "iopub.execute_input": "2024-09-06T22:09:36.833746Z",
     "iopub.status.busy": "2024-09-06T22:09:36.833418Z",
     "iopub.status.idle": "2024-09-06T22:09:36.837367Z",
     "shell.execute_reply": "2024-09-06T22:09:36.836465Z"
    },
    "papermill": {
     "duration": 0.031132,
     "end_time": "2024-09-06T22:09:36.839362",
     "exception": false,
     "start_time": "2024-09-06T22:09:36.808230",
     "status": "completed"
    },
    "tags": []
   },
   "outputs": [],
   "source": [
    "#train_d, new_cat=preprocess(train,train_d,cat_cols)"
   ]
  },
  {
   "cell_type": "code",
   "execution_count": 77,
   "id": "a859df49",
   "metadata": {
    "execution": {
     "iopub.execute_input": "2024-09-06T22:09:36.888841Z",
     "iopub.status.busy": "2024-09-06T22:09:36.888499Z",
     "iopub.status.idle": "2024-09-06T22:09:36.892263Z",
     "shell.execute_reply": "2024-09-06T22:09:36.891444Z"
    },
    "papermill": {
     "duration": 0.03113,
     "end_time": "2024-09-06T22:09:36.894214",
     "exception": false,
     "start_time": "2024-09-06T22:09:36.863084",
     "status": "completed"
    },
    "tags": []
   },
   "outputs": [],
   "source": [
    "#train_d.shape"
   ]
  },
  {
   "cell_type": "code",
   "execution_count": 78,
   "id": "12622e79",
   "metadata": {
    "execution": {
     "iopub.execute_input": "2024-09-06T22:09:36.946859Z",
     "iopub.status.busy": "2024-09-06T22:09:36.946513Z",
     "iopub.status.idle": "2024-09-06T22:09:36.950604Z",
     "shell.execute_reply": "2024-09-06T22:09:36.949696Z"
    },
    "papermill": {
     "duration": 0.032154,
     "end_time": "2024-09-06T22:09:36.952566",
     "exception": false,
     "start_time": "2024-09-06T22:09:36.920412",
     "status": "completed"
    },
    "tags": []
   },
   "outputs": [],
   "source": [
    "#dtest_metaset=TabularDataset_test(train_d)"
   ]
  },
  {
   "cell_type": "code",
   "execution_count": 79,
   "id": "238cd357",
   "metadata": {
    "execution": {
     "iopub.execute_input": "2024-09-06T22:09:37.000838Z",
     "iopub.status.busy": "2024-09-06T22:09:37.000521Z",
     "iopub.status.idle": "2024-09-06T22:09:37.004412Z",
     "shell.execute_reply": "2024-09-06T22:09:37.003568Z"
    },
    "papermill": {
     "duration": 0.030408,
     "end_time": "2024-09-06T22:09:37.006309",
     "exception": false,
     "start_time": "2024-09-06T22:09:36.975901",
     "status": "completed"
    },
    "tags": []
   },
   "outputs": [],
   "source": [
    "#dtest_dataset = dISICDataset(data_transforms)"
   ]
  },
  {
   "cell_type": "code",
   "execution_count": 80,
   "id": "8ab753f9",
   "metadata": {
    "execution": {
     "iopub.execute_input": "2024-09-06T22:09:37.054002Z",
     "iopub.status.busy": "2024-09-06T22:09:37.053691Z",
     "iopub.status.idle": "2024-09-06T22:09:37.057362Z",
     "shell.execute_reply": "2024-09-06T22:09:37.056539Z"
    },
    "papermill": {
     "duration": 0.029738,
     "end_time": "2024-09-06T22:09:37.059321",
     "exception": false,
     "start_time": "2024-09-06T22:09:37.029583",
     "status": "completed"
    },
    "tags": []
   },
   "outputs": [],
   "source": [
    "#dtest_dataloader=DataLoader(dtest_dataset,batch_size=32)"
   ]
  },
  {
   "cell_type": "code",
   "execution_count": 81,
   "id": "b1bd7659",
   "metadata": {
    "execution": {
     "iopub.execute_input": "2024-09-06T22:09:37.107483Z",
     "iopub.status.busy": "2024-09-06T22:09:37.107164Z",
     "iopub.status.idle": "2024-09-06T22:09:37.111108Z",
     "shell.execute_reply": "2024-09-06T22:09:37.110247Z"
    },
    "papermill": {
     "duration": 0.030311,
     "end_time": "2024-09-06T22:09:37.113093",
     "exception": false,
     "start_time": "2024-09-06T22:09:37.082782",
     "status": "completed"
    },
    "tags": []
   },
   "outputs": [],
   "source": [
    "#dtest_metaloader=DataLoader(dtest_metaset,batch_size=32)"
   ]
  },
  {
   "cell_type": "code",
   "execution_count": null,
   "id": "27ae5d57",
   "metadata": {
    "papermill": {
     "duration": 0.023166,
     "end_time": "2024-09-06T22:09:37.159267",
     "exception": false,
     "start_time": "2024-09-06T22:09:37.136101",
     "status": "completed"
    },
    "tags": []
   },
   "outputs": [],
   "source": []
  },
  {
   "cell_type": "code",
   "execution_count": null,
   "id": "df23ec2b",
   "metadata": {
    "papermill": {
     "duration": 0.023709,
     "end_time": "2024-09-06T22:09:37.206064",
     "exception": false,
     "start_time": "2024-09-06T22:09:37.182355",
     "status": "completed"
    },
    "tags": []
   },
   "outputs": [],
   "source": []
  },
  {
   "cell_type": "code",
   "execution_count": null,
   "id": "9882a6e1",
   "metadata": {
    "papermill": {
     "duration": 0.022864,
     "end_time": "2024-09-06T22:09:37.252031",
     "exception": false,
     "start_time": "2024-09-06T22:09:37.229167",
     "status": "completed"
    },
    "tags": []
   },
   "outputs": [],
   "source": []
  },
  {
   "cell_type": "code",
   "execution_count": null,
   "id": "35c4effe",
   "metadata": {
    "papermill": {
     "duration": 0.022949,
     "end_time": "2024-09-06T22:09:37.298316",
     "exception": false,
     "start_time": "2024-09-06T22:09:37.275367",
     "status": "completed"
    },
    "tags": []
   },
   "outputs": [],
   "source": []
  }
 ],
 "metadata": {
  "kaggle": {
   "accelerator": "gpu",
   "dataSources": [
    {
     "databundleVersionId": 9094797,
     "sourceId": 63056,
     "sourceType": "competition"
    },
    {
     "datasetId": 5508204,
     "sourceId": 9124157,
     "sourceType": "datasetVersion"
    },
    {
     "sourceId": 188311887,
     "sourceType": "kernelVersion"
    },
    {
     "modelId": 99103,
     "modelInstanceId": 74334,
     "sourceId": 88563,
     "sourceType": "modelInstanceVersion"
    },
    {
     "modelId": 100727,
     "modelInstanceId": 76023,
     "sourceId": 90684,
     "sourceType": "modelInstanceVersion"
    },
    {
     "modelId": 103843,
     "modelInstanceId": 79364,
     "sourceId": 94655,
     "sourceType": "modelInstanceVersion"
    },
    {
     "modelId": 103920,
     "modelInstanceId": 79445,
     "sourceId": 94744,
     "sourceType": "modelInstanceVersion"
    },
    {
     "modelId": 104346,
     "modelInstanceId": 79869,
     "sourceId": 95243,
     "sourceType": "modelInstanceVersion"
    },
    {
     "modelId": 104964,
     "modelInstanceId": 80542,
     "sourceId": 96017,
     "sourceType": "modelInstanceVersion"
    },
    {
     "modelId": 105252,
     "modelInstanceId": 80856,
     "sourceId": 96395,
     "sourceType": "modelInstanceVersion"
    },
    {
     "modelId": 105255,
     "modelInstanceId": 80859,
     "sourceId": 96398,
     "sourceType": "modelInstanceVersion"
    },
    {
     "modelId": 105561,
     "modelInstanceId": 81209,
     "sourceId": 96822,
     "sourceType": "modelInstanceVersion"
    },
    {
     "modelId": 105564,
     "modelInstanceId": 81212,
     "sourceId": 96825,
     "sourceType": "modelInstanceVersion"
    },
    {
     "modelId": 106198,
     "modelInstanceId": 81876,
     "sourceId": 97601,
     "sourceType": "modelInstanceVersion"
    },
    {
     "modelId": 106199,
     "modelInstanceId": 81877,
     "sourceId": 97602,
     "sourceType": "modelInstanceVersion"
    },
    {
     "modelId": 107181,
     "modelInstanceId": 82882,
     "sourceId": 98787,
     "sourceType": "modelInstanceVersion"
    },
    {
     "modelId": 107182,
     "modelInstanceId": 82883,
     "sourceId": 98788,
     "sourceType": "modelInstanceVersion"
    },
    {
     "modelId": 107183,
     "modelInstanceId": 82884,
     "sourceId": 98789,
     "sourceType": "modelInstanceVersion"
    },
    {
     "modelId": 107497,
     "modelInstanceId": 83211,
     "sourceId": 99177,
     "sourceType": "modelInstanceVersion"
    },
    {
     "modelId": 107499,
     "modelInstanceId": 83213,
     "sourceId": 99179,
     "sourceType": "modelInstanceVersion"
    },
    {
     "modelId": 107500,
     "modelInstanceId": 83214,
     "sourceId": 99180,
     "sourceType": "modelInstanceVersion"
    },
    {
     "modelId": 108195,
     "modelInstanceId": 83952,
     "sourceId": 100063,
     "sourceType": "modelInstanceVersion"
    },
    {
     "modelId": 108196,
     "modelInstanceId": 83953,
     "sourceId": 100064,
     "sourceType": "modelInstanceVersion"
    },
    {
     "modelId": 108197,
     "modelInstanceId": 83954,
     "sourceId": 100066,
     "sourceType": "modelInstanceVersion"
    },
    {
     "modelId": 108223,
     "modelInstanceId": 83977,
     "sourceId": 100093,
     "sourceType": "modelInstanceVersion"
    },
    {
     "modelId": 108225,
     "modelInstanceId": 83979,
     "sourceId": 100096,
     "sourceType": "modelInstanceVersion"
    },
    {
     "modelId": 108451,
     "modelInstanceId": 84202,
     "sourceId": 100387,
     "sourceType": "modelInstanceVersion"
    },
    {
     "modelId": 108452,
     "modelInstanceId": 84203,
     "sourceId": 100388,
     "sourceType": "modelInstanceVersion"
    },
    {
     "modelId": 108453,
     "modelInstanceId": 84204,
     "sourceId": 100389,
     "sourceType": "modelInstanceVersion"
    },
    {
     "modelId": 110230,
     "modelInstanceId": 85991,
     "sourceId": 102562,
     "sourceType": "modelInstanceVersion"
    },
    {
     "modelId": 110232,
     "modelInstanceId": 85993,
     "sourceId": 102564,
     "sourceType": "modelInstanceVersion"
    },
    {
     "modelId": 110235,
     "modelInstanceId": 85998,
     "sourceId": 102569,
     "sourceType": "modelInstanceVersion"
    },
    {
     "modelId": 110236,
     "modelInstanceId": 85999,
     "sourceId": 102570,
     "sourceType": "modelInstanceVersion"
    },
    {
     "modelId": 110267,
     "modelInstanceId": 86029,
     "sourceId": 102611,
     "sourceType": "modelInstanceVersion"
    },
    {
     "modelId": 110716,
     "modelInstanceId": 86488,
     "sourceId": 103171,
     "sourceType": "modelInstanceVersion"
    },
    {
     "modelId": 110717,
     "modelInstanceId": 86489,
     "sourceId": 103172,
     "sourceType": "modelInstanceVersion"
    },
    {
     "modelId": 110719,
     "modelInstanceId": 86491,
     "sourceId": 103174,
     "sourceType": "modelInstanceVersion"
    },
    {
     "modelId": 110867,
     "modelInstanceId": 86624,
     "sourceId": 103345,
     "sourceType": "modelInstanceVersion"
    },
    {
     "modelId": 110869,
     "modelInstanceId": 86626,
     "sourceId": 103347,
     "sourceType": "modelInstanceVersion"
    },
    {
     "modelId": 111448,
     "modelInstanceId": 87207,
     "sourceId": 104032,
     "sourceType": "modelInstanceVersion"
    },
    {
     "modelId": 111449,
     "modelInstanceId": 87208,
     "sourceId": 104033,
     "sourceType": "modelInstanceVersion"
    },
    {
     "modelId": 111450,
     "modelInstanceId": 87209,
     "sourceId": 104034,
     "sourceType": "modelInstanceVersion"
    },
    {
     "modelId": 111898,
     "modelInstanceId": 87666,
     "sourceId": 104619,
     "sourceType": "modelInstanceVersion"
    },
    {
     "modelId": 111899,
     "modelInstanceId": 87667,
     "sourceId": 104620,
     "sourceType": "modelInstanceVersion"
    },
    {
     "modelId": 111900,
     "modelInstanceId": 87668,
     "sourceId": 104621,
     "sourceType": "modelInstanceVersion"
    },
    {
     "modelId": 115506,
     "modelInstanceId": 91278,
     "sourceId": 108975,
     "sourceType": "modelInstanceVersion"
    },
    {
     "isSourceIdPinned": true,
     "modelId": 115519,
     "modelInstanceId": 91294,
     "sourceId": 108993,
     "sourceType": "modelInstanceVersion"
    }
   ],
   "dockerImageVersionId": 30747,
   "isGpuEnabled": true,
   "isInternetEnabled": false,
   "language": "python",
   "sourceType": "notebook"
  },
  "kernelspec": {
   "display_name": "Python 3",
   "language": "python",
   "name": "python3"
  },
  "language_info": {
   "codemirror_mode": {
    "name": "ipython",
    "version": 3
   },
   "file_extension": ".py",
   "mimetype": "text/x-python",
   "name": "python",
   "nbconvert_exporter": "python",
   "pygments_lexer": "ipython3",
   "version": "3.10.13"
  },
  "papermill": {
   "default_parameters": {},
   "duration": 28.147819,
   "end_time": "2024-09-06T22:09:39.045790",
   "environment_variables": {},
   "exception": null,
   "input_path": "__notebook__.ipynb",
   "output_path": "__notebook__.ipynb",
   "parameters": {},
   "start_time": "2024-09-06T22:09:10.897971",
   "version": "2.5.0"
  },
  "widgets": {
   "application/vnd.jupyter.widget-state+json": {
    "state": {
     "2c7071ca60c542668f6f124a0a5fc40f": {
      "model_module": "@jupyter-widgets/base",
      "model_module_version": "1.2.0",
      "model_name": "LayoutModel",
      "state": {
       "_model_module": "@jupyter-widgets/base",
       "_model_module_version": "1.2.0",
       "_model_name": "LayoutModel",
       "_view_count": null,
       "_view_module": "@jupyter-widgets/base",
       "_view_module_version": "1.2.0",
       "_view_name": "LayoutView",
       "align_content": null,
       "align_items": null,
       "align_self": null,
       "border": null,
       "bottom": null,
       "display": null,
       "flex": null,
       "flex_flow": null,
       "grid_area": null,
       "grid_auto_columns": null,
       "grid_auto_flow": null,
       "grid_auto_rows": null,
       "grid_column": null,
       "grid_gap": null,
       "grid_row": null,
       "grid_template_areas": null,
       "grid_template_columns": null,
       "grid_template_rows": null,
       "height": null,
       "justify_content": null,
       "justify_items": null,
       "left": null,
       "margin": null,
       "max_height": null,
       "max_width": null,
       "min_height": null,
       "min_width": null,
       "object_fit": null,
       "object_position": null,
       "order": null,
       "overflow": null,
       "overflow_x": null,
       "overflow_y": null,
       "padding": null,
       "right": null,
       "top": null,
       "visibility": null,
       "width": null
      }
     },
     "38d3b7efbd924648978154b4dde12c18": {
      "model_module": "@jupyter-widgets/controls",
      "model_module_version": "1.5.0",
      "model_name": "ProgressStyleModel",
      "state": {
       "_model_module": "@jupyter-widgets/controls",
       "_model_module_version": "1.5.0",
       "_model_name": "ProgressStyleModel",
       "_view_count": null,
       "_view_module": "@jupyter-widgets/base",
       "_view_module_version": "1.2.0",
       "_view_name": "StyleView",
       "bar_color": null,
       "description_width": ""
      }
     },
     "4dc231dc3c8d4b8b8a13e5c56d0ac27e": {
      "model_module": "@jupyter-widgets/base",
      "model_module_version": "1.2.0",
      "model_name": "LayoutModel",
      "state": {
       "_model_module": "@jupyter-widgets/base",
       "_model_module_version": "1.2.0",
       "_model_name": "LayoutModel",
       "_view_count": null,
       "_view_module": "@jupyter-widgets/base",
       "_view_module_version": "1.2.0",
       "_view_name": "LayoutView",
       "align_content": null,
       "align_items": null,
       "align_self": null,
       "border": null,
       "bottom": null,
       "display": null,
       "flex": null,
       "flex_flow": null,
       "grid_area": null,
       "grid_auto_columns": null,
       "grid_auto_flow": null,
       "grid_auto_rows": null,
       "grid_column": null,
       "grid_gap": null,
       "grid_row": null,
       "grid_template_areas": null,
       "grid_template_columns": null,
       "grid_template_rows": null,
       "height": null,
       "justify_content": null,
       "justify_items": null,
       "left": null,
       "margin": null,
       "max_height": null,
       "max_width": null,
       "min_height": null,
       "min_width": null,
       "object_fit": null,
       "object_position": null,
       "order": null,
       "overflow": null,
       "overflow_x": null,
       "overflow_y": null,
       "padding": null,
       "right": null,
       "top": null,
       "visibility": null,
       "width": null
      }
     },
     "52c225cbedd94a36beea341cd6aa0704": {
      "model_module": "@jupyter-widgets/controls",
      "model_module_version": "1.5.0",
      "model_name": "DescriptionStyleModel",
      "state": {
       "_model_module": "@jupyter-widgets/controls",
       "_model_module_version": "1.5.0",
       "_model_name": "DescriptionStyleModel",
       "_view_count": null,
       "_view_module": "@jupyter-widgets/base",
       "_view_module_version": "1.2.0",
       "_view_name": "StyleView",
       "description_width": ""
      }
     },
     "54341caaf26448f7a778156203626c89": {
      "model_module": "@jupyter-widgets/controls",
      "model_module_version": "1.5.0",
      "model_name": "HBoxModel",
      "state": {
       "_dom_classes": [],
       "_model_module": "@jupyter-widgets/controls",
       "_model_module_version": "1.5.0",
       "_model_name": "HBoxModel",
       "_view_count": null,
       "_view_module": "@jupyter-widgets/controls",
       "_view_module_version": "1.5.0",
       "_view_name": "HBoxView",
       "box_style": "",
       "children": [
        "IPY_MODEL_ff7304aa4cc44ea9bf6baf80b38dd755",
        "IPY_MODEL_80a22ba22afe463c91d6a4886ef9a50d",
        "IPY_MODEL_ce582d68fd5349d8bf8d420c4e5354f1"
       ],
       "layout": "IPY_MODEL_5b8c566dc51e4a7d9c389d72d4e6b38f"
      }
     },
     "5b8c566dc51e4a7d9c389d72d4e6b38f": {
      "model_module": "@jupyter-widgets/base",
      "model_module_version": "1.2.0",
      "model_name": "LayoutModel",
      "state": {
       "_model_module": "@jupyter-widgets/base",
       "_model_module_version": "1.2.0",
       "_model_name": "LayoutModel",
       "_view_count": null,
       "_view_module": "@jupyter-widgets/base",
       "_view_module_version": "1.2.0",
       "_view_name": "LayoutView",
       "align_content": null,
       "align_items": null,
       "align_self": null,
       "border": null,
       "bottom": null,
       "display": null,
       "flex": null,
       "flex_flow": null,
       "grid_area": null,
       "grid_auto_columns": null,
       "grid_auto_flow": null,
       "grid_auto_rows": null,
       "grid_column": null,
       "grid_gap": null,
       "grid_row": null,
       "grid_template_areas": null,
       "grid_template_columns": null,
       "grid_template_rows": null,
       "height": null,
       "justify_content": null,
       "justify_items": null,
       "left": null,
       "margin": null,
       "max_height": null,
       "max_width": null,
       "min_height": null,
       "min_width": null,
       "object_fit": null,
       "object_position": null,
       "order": null,
       "overflow": null,
       "overflow_x": null,
       "overflow_y": null,
       "padding": null,
       "right": null,
       "top": null,
       "visibility": null,
       "width": null
      }
     },
     "61dc14e67f6a447a8fe169f2f75ad0b9": {
      "model_module": "@jupyter-widgets/controls",
      "model_module_version": "1.5.0",
      "model_name": "HBoxModel",
      "state": {
       "_dom_classes": [],
       "_model_module": "@jupyter-widgets/controls",
       "_model_module_version": "1.5.0",
       "_model_name": "HBoxModel",
       "_view_count": null,
       "_view_module": "@jupyter-widgets/controls",
       "_view_module_version": "1.5.0",
       "_view_name": "HBoxView",
       "box_style": "",
       "children": [
        "IPY_MODEL_fa7bdf9f77c740a3a39dfab398e63b33",
        "IPY_MODEL_987b767b06bc4365a1987551998a15b8",
        "IPY_MODEL_c86e253f020e42c6ab86c798986dcf45"
       ],
       "layout": "IPY_MODEL_fecfb7f36b224872abd7499c01ba73c6"
      }
     },
     "80a22ba22afe463c91d6a4886ef9a50d": {
      "model_module": "@jupyter-widgets/controls",
      "model_module_version": "1.5.0",
      "model_name": "FloatProgressModel",
      "state": {
       "_dom_classes": [],
       "_model_module": "@jupyter-widgets/controls",
       "_model_module_version": "1.5.0",
       "_model_name": "FloatProgressModel",
       "_view_count": null,
       "_view_module": "@jupyter-widgets/controls",
       "_view_module_version": "1.5.0",
       "_view_name": "ProgressView",
       "bar_style": "success",
       "description": "",
       "description_tooltip": null,
       "layout": "IPY_MODEL_f5d6004fcc094ba4b01354c488f4468a",
       "max": 1.0,
       "min": 0.0,
       "orientation": "horizontal",
       "style": "IPY_MODEL_38d3b7efbd924648978154b4dde12c18",
       "value": 1.0
      }
     },
     "80f96a4e64454bdb80d28f55b484ace2": {
      "model_module": "@jupyter-widgets/controls",
      "model_module_version": "1.5.0",
      "model_name": "DescriptionStyleModel",
      "state": {
       "_model_module": "@jupyter-widgets/controls",
       "_model_module_version": "1.5.0",
       "_model_name": "DescriptionStyleModel",
       "_view_count": null,
       "_view_module": "@jupyter-widgets/base",
       "_view_module_version": "1.2.0",
       "_view_name": "StyleView",
       "description_width": ""
      }
     },
     "93d4cfff0c444868b1e35d74ab115ad7": {
      "model_module": "@jupyter-widgets/base",
      "model_module_version": "1.2.0",
      "model_name": "LayoutModel",
      "state": {
       "_model_module": "@jupyter-widgets/base",
       "_model_module_version": "1.2.0",
       "_model_name": "LayoutModel",
       "_view_count": null,
       "_view_module": "@jupyter-widgets/base",
       "_view_module_version": "1.2.0",
       "_view_name": "LayoutView",
       "align_content": null,
       "align_items": null,
       "align_self": null,
       "border": null,
       "bottom": null,
       "display": null,
       "flex": null,
       "flex_flow": null,
       "grid_area": null,
       "grid_auto_columns": null,
       "grid_auto_flow": null,
       "grid_auto_rows": null,
       "grid_column": null,
       "grid_gap": null,
       "grid_row": null,
       "grid_template_areas": null,
       "grid_template_columns": null,
       "grid_template_rows": null,
       "height": null,
       "justify_content": null,
       "justify_items": null,
       "left": null,
       "margin": null,
       "max_height": null,
       "max_width": null,
       "min_height": null,
       "min_width": null,
       "object_fit": null,
       "object_position": null,
       "order": null,
       "overflow": null,
       "overflow_x": null,
       "overflow_y": null,
       "padding": null,
       "right": null,
       "top": null,
       "visibility": null,
       "width": null
      }
     },
     "987b767b06bc4365a1987551998a15b8": {
      "model_module": "@jupyter-widgets/controls",
      "model_module_version": "1.5.0",
      "model_name": "FloatProgressModel",
      "state": {
       "_dom_classes": [],
       "_model_module": "@jupyter-widgets/controls",
       "_model_module_version": "1.5.0",
       "_model_name": "FloatProgressModel",
       "_view_count": null,
       "_view_module": "@jupyter-widgets/controls",
       "_view_module_version": "1.5.0",
       "_view_name": "ProgressView",
       "bar_style": "success",
       "description": "",
       "description_tooltip": null,
       "layout": "IPY_MODEL_fda84f8c2f384573a073fc12b531af65",
       "max": 1.0,
       "min": 0.0,
       "orientation": "horizontal",
       "style": "IPY_MODEL_d8c6467087594e6ba9e0a8ff6ae1996e",
       "value": 1.0
      }
     },
     "c3052847482e472c97d4e93af7d15504": {
      "model_module": "@jupyter-widgets/controls",
      "model_module_version": "1.5.0",
      "model_name": "DescriptionStyleModel",
      "state": {
       "_model_module": "@jupyter-widgets/controls",
       "_model_module_version": "1.5.0",
       "_model_name": "DescriptionStyleModel",
       "_view_count": null,
       "_view_module": "@jupyter-widgets/base",
       "_view_module_version": "1.2.0",
       "_view_name": "StyleView",
       "description_width": ""
      }
     },
     "c86e253f020e42c6ab86c798986dcf45": {
      "model_module": "@jupyter-widgets/controls",
      "model_module_version": "1.5.0",
      "model_name": "HTMLModel",
      "state": {
       "_dom_classes": [],
       "_model_module": "@jupyter-widgets/controls",
       "_model_module_version": "1.5.0",
       "_model_name": "HTMLModel",
       "_view_count": null,
       "_view_module": "@jupyter-widgets/controls",
       "_view_module_version": "1.5.0",
       "_view_name": "HTMLView",
       "description": "",
       "description_tooltip": null,
       "layout": "IPY_MODEL_93d4cfff0c444868b1e35d74ab115ad7",
       "placeholder": "​",
       "style": "IPY_MODEL_52c225cbedd94a36beea341cd6aa0704",
       "value": " 1/1 [00:00&lt;00:00,  1.09it/s]"
      }
     },
     "ce582d68fd5349d8bf8d420c4e5354f1": {
      "model_module": "@jupyter-widgets/controls",
      "model_module_version": "1.5.0",
      "model_name": "HTMLModel",
      "state": {
       "_dom_classes": [],
       "_model_module": "@jupyter-widgets/controls",
       "_model_module_version": "1.5.0",
       "_model_name": "HTMLModel",
       "_view_count": null,
       "_view_module": "@jupyter-widgets/controls",
       "_view_module_version": "1.5.0",
       "_view_name": "HTMLView",
       "description": "",
       "description_tooltip": null,
       "layout": "IPY_MODEL_e433b9f0351845dabd13b7fd3778c1c6",
       "placeholder": "​",
       "style": "IPY_MODEL_80f96a4e64454bdb80d28f55b484ace2",
       "value": " 1/1 [00:00&lt;00:00,  4.98it/s]"
      }
     },
     "d8c6467087594e6ba9e0a8ff6ae1996e": {
      "model_module": "@jupyter-widgets/controls",
      "model_module_version": "1.5.0",
      "model_name": "ProgressStyleModel",
      "state": {
       "_model_module": "@jupyter-widgets/controls",
       "_model_module_version": "1.5.0",
       "_model_name": "ProgressStyleModel",
       "_view_count": null,
       "_view_module": "@jupyter-widgets/base",
       "_view_module_version": "1.2.0",
       "_view_name": "StyleView",
       "bar_color": null,
       "description_width": ""
      }
     },
     "e433b9f0351845dabd13b7fd3778c1c6": {
      "model_module": "@jupyter-widgets/base",
      "model_module_version": "1.2.0",
      "model_name": "LayoutModel",
      "state": {
       "_model_module": "@jupyter-widgets/base",
       "_model_module_version": "1.2.0",
       "_model_name": "LayoutModel",
       "_view_count": null,
       "_view_module": "@jupyter-widgets/base",
       "_view_module_version": "1.2.0",
       "_view_name": "LayoutView",
       "align_content": null,
       "align_items": null,
       "align_self": null,
       "border": null,
       "bottom": null,
       "display": null,
       "flex": null,
       "flex_flow": null,
       "grid_area": null,
       "grid_auto_columns": null,
       "grid_auto_flow": null,
       "grid_auto_rows": null,
       "grid_column": null,
       "grid_gap": null,
       "grid_row": null,
       "grid_template_areas": null,
       "grid_template_columns": null,
       "grid_template_rows": null,
       "height": null,
       "justify_content": null,
       "justify_items": null,
       "left": null,
       "margin": null,
       "max_height": null,
       "max_width": null,
       "min_height": null,
       "min_width": null,
       "object_fit": null,
       "object_position": null,
       "order": null,
       "overflow": null,
       "overflow_x": null,
       "overflow_y": null,
       "padding": null,
       "right": null,
       "top": null,
       "visibility": null,
       "width": null
      }
     },
     "f58c27852d344a2a8071da8ebad4c69e": {
      "model_module": "@jupyter-widgets/controls",
      "model_module_version": "1.5.0",
      "model_name": "DescriptionStyleModel",
      "state": {
       "_model_module": "@jupyter-widgets/controls",
       "_model_module_version": "1.5.0",
       "_model_name": "DescriptionStyleModel",
       "_view_count": null,
       "_view_module": "@jupyter-widgets/base",
       "_view_module_version": "1.2.0",
       "_view_name": "StyleView",
       "description_width": ""
      }
     },
     "f5d6004fcc094ba4b01354c488f4468a": {
      "model_module": "@jupyter-widgets/base",
      "model_module_version": "1.2.0",
      "model_name": "LayoutModel",
      "state": {
       "_model_module": "@jupyter-widgets/base",
       "_model_module_version": "1.2.0",
       "_model_name": "LayoutModel",
       "_view_count": null,
       "_view_module": "@jupyter-widgets/base",
       "_view_module_version": "1.2.0",
       "_view_name": "LayoutView",
       "align_content": null,
       "align_items": null,
       "align_self": null,
       "border": null,
       "bottom": null,
       "display": null,
       "flex": null,
       "flex_flow": null,
       "grid_area": null,
       "grid_auto_columns": null,
       "grid_auto_flow": null,
       "grid_auto_rows": null,
       "grid_column": null,
       "grid_gap": null,
       "grid_row": null,
       "grid_template_areas": null,
       "grid_template_columns": null,
       "grid_template_rows": null,
       "height": null,
       "justify_content": null,
       "justify_items": null,
       "left": null,
       "margin": null,
       "max_height": null,
       "max_width": null,
       "min_height": null,
       "min_width": null,
       "object_fit": null,
       "object_position": null,
       "order": null,
       "overflow": null,
       "overflow_x": null,
       "overflow_y": null,
       "padding": null,
       "right": null,
       "top": null,
       "visibility": null,
       "width": null
      }
     },
     "fa7bdf9f77c740a3a39dfab398e63b33": {
      "model_module": "@jupyter-widgets/controls",
      "model_module_version": "1.5.0",
      "model_name": "HTMLModel",
      "state": {
       "_dom_classes": [],
       "_model_module": "@jupyter-widgets/controls",
       "_model_module_version": "1.5.0",
       "_model_name": "HTMLModel",
       "_view_count": null,
       "_view_module": "@jupyter-widgets/controls",
       "_view_module_version": "1.5.0",
       "_view_name": "HTMLView",
       "description": "",
       "description_tooltip": null,
       "layout": "IPY_MODEL_2c7071ca60c542668f6f124a0a5fc40f",
       "placeholder": "​",
       "style": "IPY_MODEL_f58c27852d344a2a8071da8ebad4c69e",
       "value": "100%"
      }
     },
     "fda84f8c2f384573a073fc12b531af65": {
      "model_module": "@jupyter-widgets/base",
      "model_module_version": "1.2.0",
      "model_name": "LayoutModel",
      "state": {
       "_model_module": "@jupyter-widgets/base",
       "_model_module_version": "1.2.0",
       "_model_name": "LayoutModel",
       "_view_count": null,
       "_view_module": "@jupyter-widgets/base",
       "_view_module_version": "1.2.0",
       "_view_name": "LayoutView",
       "align_content": null,
       "align_items": null,
       "align_self": null,
       "border": null,
       "bottom": null,
       "display": null,
       "flex": null,
       "flex_flow": null,
       "grid_area": null,
       "grid_auto_columns": null,
       "grid_auto_flow": null,
       "grid_auto_rows": null,
       "grid_column": null,
       "grid_gap": null,
       "grid_row": null,
       "grid_template_areas": null,
       "grid_template_columns": null,
       "grid_template_rows": null,
       "height": null,
       "justify_content": null,
       "justify_items": null,
       "left": null,
       "margin": null,
       "max_height": null,
       "max_width": null,
       "min_height": null,
       "min_width": null,
       "object_fit": null,
       "object_position": null,
       "order": null,
       "overflow": null,
       "overflow_x": null,
       "overflow_y": null,
       "padding": null,
       "right": null,
       "top": null,
       "visibility": null,
       "width": null
      }
     },
     "fecfb7f36b224872abd7499c01ba73c6": {
      "model_module": "@jupyter-widgets/base",
      "model_module_version": "1.2.0",
      "model_name": "LayoutModel",
      "state": {
       "_model_module": "@jupyter-widgets/base",
       "_model_module_version": "1.2.0",
       "_model_name": "LayoutModel",
       "_view_count": null,
       "_view_module": "@jupyter-widgets/base",
       "_view_module_version": "1.2.0",
       "_view_name": "LayoutView",
       "align_content": null,
       "align_items": null,
       "align_self": null,
       "border": null,
       "bottom": null,
       "display": null,
       "flex": null,
       "flex_flow": null,
       "grid_area": null,
       "grid_auto_columns": null,
       "grid_auto_flow": null,
       "grid_auto_rows": null,
       "grid_column": null,
       "grid_gap": null,
       "grid_row": null,
       "grid_template_areas": null,
       "grid_template_columns": null,
       "grid_template_rows": null,
       "height": null,
       "justify_content": null,
       "justify_items": null,
       "left": null,
       "margin": null,
       "max_height": null,
       "max_width": null,
       "min_height": null,
       "min_width": null,
       "object_fit": null,
       "object_position": null,
       "order": null,
       "overflow": null,
       "overflow_x": null,
       "overflow_y": null,
       "padding": null,
       "right": null,
       "top": null,
       "visibility": null,
       "width": null
      }
     },
     "ff7304aa4cc44ea9bf6baf80b38dd755": {
      "model_module": "@jupyter-widgets/controls",
      "model_module_version": "1.5.0",
      "model_name": "HTMLModel",
      "state": {
       "_dom_classes": [],
       "_model_module": "@jupyter-widgets/controls",
       "_model_module_version": "1.5.0",
       "_model_name": "HTMLModel",
       "_view_count": null,
       "_view_module": "@jupyter-widgets/controls",
       "_view_module_version": "1.5.0",
       "_view_name": "HTMLView",
       "description": "",
       "description_tooltip": null,
       "layout": "IPY_MODEL_4dc231dc3c8d4b8b8a13e5c56d0ac27e",
       "placeholder": "​",
       "style": "IPY_MODEL_c3052847482e472c97d4e93af7d15504",
       "value": "100%"
      }
     }
    },
    "version_major": 2,
    "version_minor": 0
   }
  }
 },
 "nbformat": 4,
 "nbformat_minor": 5
}
