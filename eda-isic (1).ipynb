{
 "cells": [
  {
   "cell_type": "code",
   "execution_count": 1,
   "id": "78b2347f",
   "metadata": {
    "execution": {
     "iopub.execute_input": "2024-08-28T17:28:26.319321Z",
     "iopub.status.busy": "2024-08-28T17:28:26.318324Z",
     "iopub.status.idle": "2024-08-28T17:28:30.490914Z",
     "shell.execute_reply": "2024-08-28T17:28:30.489557Z"
    },
    "papermill": {
     "duration": 4.188969,
     "end_time": "2024-08-28T17:28:30.493689",
     "exception": false,
     "start_time": "2024-08-28T17:28:26.304720",
     "status": "completed"
    },
    "tags": []
   },
   "outputs": [],
   "source": [
    "import numpy as np\n",
    "import pandas as pd\n",
    "import matplotlib.pyplot as plt\n",
    "import seaborn as sns\n",
    "\n",
    "from sklearn.preprocessing import LabelEncoder, OneHotEncoder\n",
    "from sklearn.model_selection import train_test_split, StratifiedKFold, StratifiedGroupKFold\n",
    "from sklearn.metrics import roc_auc_score, confusion_matrix\n",
    "\n",
    "import tqdm\n",
    "\n",
    "from catboost import CatBoostClassifier, Pool\n",
    "import lightgbm as lgb"
   ]
  },
  {
   "cell_type": "code",
   "execution_count": 2,
   "id": "494791e2",
   "metadata": {
    "execution": {
     "iopub.execute_input": "2024-08-28T17:28:30.520408Z",
     "iopub.status.busy": "2024-08-28T17:28:30.519259Z",
     "iopub.status.idle": "2024-08-28T17:28:40.052150Z",
     "shell.execute_reply": "2024-08-28T17:28:40.051084Z"
    },
    "papermill": {
     "duration": 9.548808,
     "end_time": "2024-08-28T17:28:40.054810",
     "exception": false,
     "start_time": "2024-08-28T17:28:30.506002",
     "status": "completed"
    },
    "tags": []
   },
   "outputs": [],
   "source": [
    "train=pd.read_csv('/kaggle/input/isic-2024-challenge/train-metadata.csv',low_memory=False)"
   ]
  },
  {
   "cell_type": "code",
   "execution_count": 3,
   "id": "981fa6b3",
   "metadata": {
    "execution": {
     "iopub.execute_input": "2024-08-28T17:28:40.081258Z",
     "iopub.status.busy": "2024-08-28T17:28:40.080277Z",
     "iopub.status.idle": "2024-08-28T17:28:40.121308Z",
     "shell.execute_reply": "2024-08-28T17:28:40.120179Z"
    },
    "papermill": {
     "duration": 0.0568,
     "end_time": "2024-08-28T17:28:40.123796",
     "exception": false,
     "start_time": "2024-08-28T17:28:40.066996",
     "status": "completed"
    },
    "tags": []
   },
   "outputs": [
    {
     "data": {
      "text/html": [
       "<div>\n",
       "<style scoped>\n",
       "    .dataframe tbody tr th:only-of-type {\n",
       "        vertical-align: middle;\n",
       "    }\n",
       "\n",
       "    .dataframe tbody tr th {\n",
       "        vertical-align: top;\n",
       "    }\n",
       "\n",
       "    .dataframe thead th {\n",
       "        text-align: right;\n",
       "    }\n",
       "</style>\n",
       "<table border=\"1\" class=\"dataframe\">\n",
       "  <thead>\n",
       "    <tr style=\"text-align: right;\">\n",
       "      <th></th>\n",
       "      <th>isic_id</th>\n",
       "      <th>target</th>\n",
       "      <th>patient_id</th>\n",
       "      <th>age_approx</th>\n",
       "      <th>sex</th>\n",
       "      <th>anatom_site_general</th>\n",
       "      <th>clin_size_long_diam_mm</th>\n",
       "      <th>image_type</th>\n",
       "      <th>tbp_tile_type</th>\n",
       "      <th>tbp_lv_A</th>\n",
       "      <th>...</th>\n",
       "      <th>lesion_id</th>\n",
       "      <th>iddx_full</th>\n",
       "      <th>iddx_1</th>\n",
       "      <th>iddx_2</th>\n",
       "      <th>iddx_3</th>\n",
       "      <th>iddx_4</th>\n",
       "      <th>iddx_5</th>\n",
       "      <th>mel_mitotic_index</th>\n",
       "      <th>mel_thick_mm</th>\n",
       "      <th>tbp_lv_dnn_lesion_confidence</th>\n",
       "    </tr>\n",
       "  </thead>\n",
       "  <tbody>\n",
       "    <tr>\n",
       "      <th>0</th>\n",
       "      <td>ISIC_0015670</td>\n",
       "      <td>0</td>\n",
       "      <td>IP_1235828</td>\n",
       "      <td>60.0</td>\n",
       "      <td>male</td>\n",
       "      <td>lower extremity</td>\n",
       "      <td>3.04</td>\n",
       "      <td>TBP tile: close-up</td>\n",
       "      <td>3D: white</td>\n",
       "      <td>20.244422</td>\n",
       "      <td>...</td>\n",
       "      <td>NaN</td>\n",
       "      <td>Benign</td>\n",
       "      <td>Benign</td>\n",
       "      <td>NaN</td>\n",
       "      <td>NaN</td>\n",
       "      <td>NaN</td>\n",
       "      <td>NaN</td>\n",
       "      <td>NaN</td>\n",
       "      <td>NaN</td>\n",
       "      <td>97.517282</td>\n",
       "    </tr>\n",
       "    <tr>\n",
       "      <th>1</th>\n",
       "      <td>ISIC_0015845</td>\n",
       "      <td>0</td>\n",
       "      <td>IP_8170065</td>\n",
       "      <td>60.0</td>\n",
       "      <td>male</td>\n",
       "      <td>head/neck</td>\n",
       "      <td>1.10</td>\n",
       "      <td>TBP tile: close-up</td>\n",
       "      <td>3D: white</td>\n",
       "      <td>31.712570</td>\n",
       "      <td>...</td>\n",
       "      <td>IL_6727506</td>\n",
       "      <td>Benign</td>\n",
       "      <td>Benign</td>\n",
       "      <td>NaN</td>\n",
       "      <td>NaN</td>\n",
       "      <td>NaN</td>\n",
       "      <td>NaN</td>\n",
       "      <td>NaN</td>\n",
       "      <td>NaN</td>\n",
       "      <td>3.141455</td>\n",
       "    </tr>\n",
       "    <tr>\n",
       "      <th>2</th>\n",
       "      <td>ISIC_0015864</td>\n",
       "      <td>0</td>\n",
       "      <td>IP_6724798</td>\n",
       "      <td>60.0</td>\n",
       "      <td>male</td>\n",
       "      <td>posterior torso</td>\n",
       "      <td>3.40</td>\n",
       "      <td>TBP tile: close-up</td>\n",
       "      <td>3D: XP</td>\n",
       "      <td>22.575830</td>\n",
       "      <td>...</td>\n",
       "      <td>NaN</td>\n",
       "      <td>Benign</td>\n",
       "      <td>Benign</td>\n",
       "      <td>NaN</td>\n",
       "      <td>NaN</td>\n",
       "      <td>NaN</td>\n",
       "      <td>NaN</td>\n",
       "      <td>NaN</td>\n",
       "      <td>NaN</td>\n",
       "      <td>99.804040</td>\n",
       "    </tr>\n",
       "    <tr>\n",
       "      <th>3</th>\n",
       "      <td>ISIC_0015902</td>\n",
       "      <td>0</td>\n",
       "      <td>IP_4111386</td>\n",
       "      <td>65.0</td>\n",
       "      <td>male</td>\n",
       "      <td>anterior torso</td>\n",
       "      <td>3.22</td>\n",
       "      <td>TBP tile: close-up</td>\n",
       "      <td>3D: XP</td>\n",
       "      <td>14.242329</td>\n",
       "      <td>...</td>\n",
       "      <td>NaN</td>\n",
       "      <td>Benign</td>\n",
       "      <td>Benign</td>\n",
       "      <td>NaN</td>\n",
       "      <td>NaN</td>\n",
       "      <td>NaN</td>\n",
       "      <td>NaN</td>\n",
       "      <td>NaN</td>\n",
       "      <td>NaN</td>\n",
       "      <td>99.989998</td>\n",
       "    </tr>\n",
       "    <tr>\n",
       "      <th>4</th>\n",
       "      <td>ISIC_0024200</td>\n",
       "      <td>0</td>\n",
       "      <td>IP_8313778</td>\n",
       "      <td>55.0</td>\n",
       "      <td>male</td>\n",
       "      <td>anterior torso</td>\n",
       "      <td>2.73</td>\n",
       "      <td>TBP tile: close-up</td>\n",
       "      <td>3D: white</td>\n",
       "      <td>24.725520</td>\n",
       "      <td>...</td>\n",
       "      <td>NaN</td>\n",
       "      <td>Benign</td>\n",
       "      <td>Benign</td>\n",
       "      <td>NaN</td>\n",
       "      <td>NaN</td>\n",
       "      <td>NaN</td>\n",
       "      <td>NaN</td>\n",
       "      <td>NaN</td>\n",
       "      <td>NaN</td>\n",
       "      <td>70.442510</td>\n",
       "    </tr>\n",
       "  </tbody>\n",
       "</table>\n",
       "<p>5 rows × 55 columns</p>\n",
       "</div>"
      ],
      "text/plain": [
       "        isic_id  target  patient_id  age_approx   sex anatom_site_general  \\\n",
       "0  ISIC_0015670       0  IP_1235828        60.0  male     lower extremity   \n",
       "1  ISIC_0015845       0  IP_8170065        60.0  male           head/neck   \n",
       "2  ISIC_0015864       0  IP_6724798        60.0  male     posterior torso   \n",
       "3  ISIC_0015902       0  IP_4111386        65.0  male      anterior torso   \n",
       "4  ISIC_0024200       0  IP_8313778        55.0  male      anterior torso   \n",
       "\n",
       "   clin_size_long_diam_mm          image_type tbp_tile_type   tbp_lv_A  ...  \\\n",
       "0                    3.04  TBP tile: close-up     3D: white  20.244422  ...   \n",
       "1                    1.10  TBP tile: close-up     3D: white  31.712570  ...   \n",
       "2                    3.40  TBP tile: close-up        3D: XP  22.575830  ...   \n",
       "3                    3.22  TBP tile: close-up        3D: XP  14.242329  ...   \n",
       "4                    2.73  TBP tile: close-up     3D: white  24.725520  ...   \n",
       "\n",
       "    lesion_id  iddx_full  iddx_1  iddx_2  iddx_3  iddx_4  iddx_5  \\\n",
       "0         NaN     Benign  Benign     NaN     NaN     NaN     NaN   \n",
       "1  IL_6727506     Benign  Benign     NaN     NaN     NaN     NaN   \n",
       "2         NaN     Benign  Benign     NaN     NaN     NaN     NaN   \n",
       "3         NaN     Benign  Benign     NaN     NaN     NaN     NaN   \n",
       "4         NaN     Benign  Benign     NaN     NaN     NaN     NaN   \n",
       "\n",
       "   mel_mitotic_index  mel_thick_mm  tbp_lv_dnn_lesion_confidence  \n",
       "0                NaN           NaN                     97.517282  \n",
       "1                NaN           NaN                      3.141455  \n",
       "2                NaN           NaN                     99.804040  \n",
       "3                NaN           NaN                     99.989998  \n",
       "4                NaN           NaN                     70.442510  \n",
       "\n",
       "[5 rows x 55 columns]"
      ]
     },
     "execution_count": 3,
     "metadata": {},
     "output_type": "execute_result"
    }
   ],
   "source": [
    "train.head()"
   ]
  },
  {
   "cell_type": "code",
   "execution_count": 4,
   "id": "8fe4a6e1",
   "metadata": {
    "execution": {
     "iopub.execute_input": "2024-08-28T17:28:40.151315Z",
     "iopub.status.busy": "2024-08-28T17:28:40.150943Z",
     "iopub.status.idle": "2024-08-28T17:28:40.864767Z",
     "shell.execute_reply": "2024-08-28T17:28:40.863691Z"
    },
    "papermill": {
     "duration": 0.73104,
     "end_time": "2024-08-28T17:28:40.867214",
     "exception": false,
     "start_time": "2024-08-28T17:28:40.136174",
     "status": "completed"
    },
    "tags": []
   },
   "outputs": [
    {
     "data": {
      "text/html": [
       "<div>\n",
       "<style scoped>\n",
       "    .dataframe tbody tr th:only-of-type {\n",
       "        vertical-align: middle;\n",
       "    }\n",
       "\n",
       "    .dataframe tbody tr th {\n",
       "        vertical-align: top;\n",
       "    }\n",
       "\n",
       "    .dataframe thead th {\n",
       "        text-align: right;\n",
       "    }\n",
       "</style>\n",
       "<table border=\"1\" class=\"dataframe\">\n",
       "  <thead>\n",
       "    <tr style=\"text-align: right;\">\n",
       "      <th></th>\n",
       "      <th>target</th>\n",
       "      <th>age_approx</th>\n",
       "      <th>clin_size_long_diam_mm</th>\n",
       "      <th>tbp_lv_A</th>\n",
       "      <th>tbp_lv_Aext</th>\n",
       "      <th>tbp_lv_B</th>\n",
       "      <th>tbp_lv_Bext</th>\n",
       "      <th>tbp_lv_C</th>\n",
       "      <th>tbp_lv_Cext</th>\n",
       "      <th>tbp_lv_H</th>\n",
       "      <th>...</th>\n",
       "      <th>tbp_lv_radial_color_std_max</th>\n",
       "      <th>tbp_lv_stdL</th>\n",
       "      <th>tbp_lv_stdLExt</th>\n",
       "      <th>tbp_lv_symm_2axis</th>\n",
       "      <th>tbp_lv_symm_2axis_angle</th>\n",
       "      <th>tbp_lv_x</th>\n",
       "      <th>tbp_lv_y</th>\n",
       "      <th>tbp_lv_z</th>\n",
       "      <th>mel_thick_mm</th>\n",
       "      <th>tbp_lv_dnn_lesion_confidence</th>\n",
       "    </tr>\n",
       "  </thead>\n",
       "  <tbody>\n",
       "    <tr>\n",
       "      <th>count</th>\n",
       "      <td>401059.000000</td>\n",
       "      <td>398261.000000</td>\n",
       "      <td>401059.000000</td>\n",
       "      <td>401059.000000</td>\n",
       "      <td>401059.000000</td>\n",
       "      <td>401059.000000</td>\n",
       "      <td>401059.000000</td>\n",
       "      <td>401059.000000</td>\n",
       "      <td>401059.000000</td>\n",
       "      <td>401059.000000</td>\n",
       "      <td>...</td>\n",
       "      <td>401059.000000</td>\n",
       "      <td>401059.000000</td>\n",
       "      <td>401059.000000</td>\n",
       "      <td>401059.000000</td>\n",
       "      <td>401059.000000</td>\n",
       "      <td>401059.000000</td>\n",
       "      <td>401059.000000</td>\n",
       "      <td>401059.000000</td>\n",
       "      <td>63.000000</td>\n",
       "      <td>4.010590e+05</td>\n",
       "    </tr>\n",
       "    <tr>\n",
       "      <th>mean</th>\n",
       "      <td>0.000980</td>\n",
       "      <td>58.012986</td>\n",
       "      <td>3.930827</td>\n",
       "      <td>19.974007</td>\n",
       "      <td>14.919247</td>\n",
       "      <td>28.281706</td>\n",
       "      <td>26.913015</td>\n",
       "      <td>34.786341</td>\n",
       "      <td>30.921279</td>\n",
       "      <td>54.653689</td>\n",
       "      <td>...</td>\n",
       "      <td>1.016459</td>\n",
       "      <td>2.715190</td>\n",
       "      <td>2.238605</td>\n",
       "      <td>0.306823</td>\n",
       "      <td>86.332073</td>\n",
       "      <td>-3.091862</td>\n",
       "      <td>1039.598221</td>\n",
       "      <td>55.823389</td>\n",
       "      <td>0.670952</td>\n",
       "      <td>9.716220e+01</td>\n",
       "    </tr>\n",
       "    <tr>\n",
       "      <th>std</th>\n",
       "      <td>0.031288</td>\n",
       "      <td>13.596165</td>\n",
       "      <td>1.743068</td>\n",
       "      <td>3.999489</td>\n",
       "      <td>3.529384</td>\n",
       "      <td>5.278676</td>\n",
       "      <td>4.482994</td>\n",
       "      <td>5.708469</td>\n",
       "      <td>4.829345</td>\n",
       "      <td>5.520849</td>\n",
       "      <td>...</td>\n",
       "      <td>0.734631</td>\n",
       "      <td>1.738165</td>\n",
       "      <td>0.623884</td>\n",
       "      <td>0.125038</td>\n",
       "      <td>52.559511</td>\n",
       "      <td>197.257995</td>\n",
       "      <td>409.819653</td>\n",
       "      <td>87.968245</td>\n",
       "      <td>0.792798</td>\n",
       "      <td>8.995782e+00</td>\n",
       "    </tr>\n",
       "    <tr>\n",
       "      <th>min</th>\n",
       "      <td>0.000000</td>\n",
       "      <td>5.000000</td>\n",
       "      <td>1.000000</td>\n",
       "      <td>-2.487115</td>\n",
       "      <td>-9.080269</td>\n",
       "      <td>-0.730989</td>\n",
       "      <td>9.237066</td>\n",
       "      <td>3.054228</td>\n",
       "      <td>11.846520</td>\n",
       "      <td>-1.574164</td>\n",
       "      <td>...</td>\n",
       "      <td>0.000000</td>\n",
       "      <td>0.268160</td>\n",
       "      <td>0.636247</td>\n",
       "      <td>0.052034</td>\n",
       "      <td>0.000000</td>\n",
       "      <td>-624.870728</td>\n",
       "      <td>-1052.134000</td>\n",
       "      <td>-291.890442</td>\n",
       "      <td>0.200000</td>\n",
       "      <td>1.261082e-16</td>\n",
       "    </tr>\n",
       "    <tr>\n",
       "      <th>25%</th>\n",
       "      <td>0.000000</td>\n",
       "      <td>50.000000</td>\n",
       "      <td>2.840000</td>\n",
       "      <td>17.330821</td>\n",
       "      <td>12.469740</td>\n",
       "      <td>24.704372</td>\n",
       "      <td>23.848125</td>\n",
       "      <td>31.003148</td>\n",
       "      <td>27.658285</td>\n",
       "      <td>51.566273</td>\n",
       "      <td>...</td>\n",
       "      <td>0.563891</td>\n",
       "      <td>1.456570</td>\n",
       "      <td>1.834745</td>\n",
       "      <td>0.211429</td>\n",
       "      <td>40.000000</td>\n",
       "      <td>-147.022125</td>\n",
       "      <td>746.519673</td>\n",
       "      <td>-8.962647</td>\n",
       "      <td>0.300000</td>\n",
       "      <td>9.966882e+01</td>\n",
       "    </tr>\n",
       "    <tr>\n",
       "      <th>50%</th>\n",
       "      <td>0.000000</td>\n",
       "      <td>60.000000</td>\n",
       "      <td>3.370000</td>\n",
       "      <td>19.801910</td>\n",
       "      <td>14.713930</td>\n",
       "      <td>28.171570</td>\n",
       "      <td>26.701704</td>\n",
       "      <td>34.822580</td>\n",
       "      <td>30.804893</td>\n",
       "      <td>55.035632</td>\n",
       "      <td>...</td>\n",
       "      <td>0.902281</td>\n",
       "      <td>2.186693</td>\n",
       "      <td>2.149758</td>\n",
       "      <td>0.282297</td>\n",
       "      <td>90.000000</td>\n",
       "      <td>-5.747253</td>\n",
       "      <td>1172.803000</td>\n",
       "      <td>67.957947</td>\n",
       "      <td>0.400000</td>\n",
       "      <td>9.999459e+01</td>\n",
       "    </tr>\n",
       "    <tr>\n",
       "      <th>75%</th>\n",
       "      <td>0.000000</td>\n",
       "      <td>70.000000</td>\n",
       "      <td>4.380000</td>\n",
       "      <td>22.304628</td>\n",
       "      <td>17.137175</td>\n",
       "      <td>31.637429</td>\n",
       "      <td>29.679913</td>\n",
       "      <td>38.430298</td>\n",
       "      <td>33.963868</td>\n",
       "      <td>58.298184</td>\n",
       "      <td>...</td>\n",
       "      <td>1.334523</td>\n",
       "      <td>3.474565</td>\n",
       "      <td>2.531443</td>\n",
       "      <td>0.382022</td>\n",
       "      <td>130.000000</td>\n",
       "      <td>140.474835</td>\n",
       "      <td>1342.131540</td>\n",
       "      <td>126.611567</td>\n",
       "      <td>0.600000</td>\n",
       "      <td>9.999996e+01</td>\n",
       "    </tr>\n",
       "    <tr>\n",
       "      <th>max</th>\n",
       "      <td>1.000000</td>\n",
       "      <td>85.000000</td>\n",
       "      <td>28.400000</td>\n",
       "      <td>48.189610</td>\n",
       "      <td>37.021680</td>\n",
       "      <td>54.306900</td>\n",
       "      <td>48.372700</td>\n",
       "      <td>58.765170</td>\n",
       "      <td>54.305290</td>\n",
       "      <td>105.875784</td>\n",
       "      <td>...</td>\n",
       "      <td>11.491140</td>\n",
       "      <td>17.563650</td>\n",
       "      <td>25.534791</td>\n",
       "      <td>0.977055</td>\n",
       "      <td>175.000000</td>\n",
       "      <td>614.471700</td>\n",
       "      <td>1887.766846</td>\n",
       "      <td>319.407000</td>\n",
       "      <td>5.000000</td>\n",
       "      <td>1.000000e+02</td>\n",
       "    </tr>\n",
       "  </tbody>\n",
       "</table>\n",
       "<p>8 rows × 37 columns</p>\n",
       "</div>"
      ],
      "text/plain": [
       "              target     age_approx  clin_size_long_diam_mm       tbp_lv_A  \\\n",
       "count  401059.000000  398261.000000           401059.000000  401059.000000   \n",
       "mean        0.000980      58.012986                3.930827      19.974007   \n",
       "std         0.031288      13.596165                1.743068       3.999489   \n",
       "min         0.000000       5.000000                1.000000      -2.487115   \n",
       "25%         0.000000      50.000000                2.840000      17.330821   \n",
       "50%         0.000000      60.000000                3.370000      19.801910   \n",
       "75%         0.000000      70.000000                4.380000      22.304628   \n",
       "max         1.000000      85.000000               28.400000      48.189610   \n",
       "\n",
       "         tbp_lv_Aext       tbp_lv_B    tbp_lv_Bext       tbp_lv_C  \\\n",
       "count  401059.000000  401059.000000  401059.000000  401059.000000   \n",
       "mean       14.919247      28.281706      26.913015      34.786341   \n",
       "std         3.529384       5.278676       4.482994       5.708469   \n",
       "min        -9.080269      -0.730989       9.237066       3.054228   \n",
       "25%        12.469740      24.704372      23.848125      31.003148   \n",
       "50%        14.713930      28.171570      26.701704      34.822580   \n",
       "75%        17.137175      31.637429      29.679913      38.430298   \n",
       "max        37.021680      54.306900      48.372700      58.765170   \n",
       "\n",
       "         tbp_lv_Cext       tbp_lv_H  ...  tbp_lv_radial_color_std_max  \\\n",
       "count  401059.000000  401059.000000  ...                401059.000000   \n",
       "mean       30.921279      54.653689  ...                     1.016459   \n",
       "std         4.829345       5.520849  ...                     0.734631   \n",
       "min        11.846520      -1.574164  ...                     0.000000   \n",
       "25%        27.658285      51.566273  ...                     0.563891   \n",
       "50%        30.804893      55.035632  ...                     0.902281   \n",
       "75%        33.963868      58.298184  ...                     1.334523   \n",
       "max        54.305290     105.875784  ...                    11.491140   \n",
       "\n",
       "         tbp_lv_stdL  tbp_lv_stdLExt  tbp_lv_symm_2axis  \\\n",
       "count  401059.000000   401059.000000      401059.000000   \n",
       "mean        2.715190        2.238605           0.306823   \n",
       "std         1.738165        0.623884           0.125038   \n",
       "min         0.268160        0.636247           0.052034   \n",
       "25%         1.456570        1.834745           0.211429   \n",
       "50%         2.186693        2.149758           0.282297   \n",
       "75%         3.474565        2.531443           0.382022   \n",
       "max        17.563650       25.534791           0.977055   \n",
       "\n",
       "       tbp_lv_symm_2axis_angle       tbp_lv_x       tbp_lv_y       tbp_lv_z  \\\n",
       "count            401059.000000  401059.000000  401059.000000  401059.000000   \n",
       "mean                 86.332073      -3.091862    1039.598221      55.823389   \n",
       "std                  52.559511     197.257995     409.819653      87.968245   \n",
       "min                   0.000000    -624.870728   -1052.134000    -291.890442   \n",
       "25%                  40.000000    -147.022125     746.519673      -8.962647   \n",
       "50%                  90.000000      -5.747253    1172.803000      67.957947   \n",
       "75%                 130.000000     140.474835    1342.131540     126.611567   \n",
       "max                 175.000000     614.471700    1887.766846     319.407000   \n",
       "\n",
       "       mel_thick_mm  tbp_lv_dnn_lesion_confidence  \n",
       "count     63.000000                  4.010590e+05  \n",
       "mean       0.670952                  9.716220e+01  \n",
       "std        0.792798                  8.995782e+00  \n",
       "min        0.200000                  1.261082e-16  \n",
       "25%        0.300000                  9.966882e+01  \n",
       "50%        0.400000                  9.999459e+01  \n",
       "75%        0.600000                  9.999996e+01  \n",
       "max        5.000000                  1.000000e+02  \n",
       "\n",
       "[8 rows x 37 columns]"
      ]
     },
     "execution_count": 4,
     "metadata": {},
     "output_type": "execute_result"
    }
   ],
   "source": [
    "train.describe()"
   ]
  },
  {
   "cell_type": "code",
   "execution_count": 5,
   "id": "1d60d5ca",
   "metadata": {
    "execution": {
     "iopub.execute_input": "2024-08-28T17:28:40.895458Z",
     "iopub.status.busy": "2024-08-28T17:28:40.895045Z",
     "iopub.status.idle": "2024-08-28T17:28:40.915239Z",
     "shell.execute_reply": "2024-08-28T17:28:40.914130Z"
    },
    "papermill": {
     "duration": 0.037127,
     "end_time": "2024-08-28T17:28:40.917539",
     "exception": false,
     "start_time": "2024-08-28T17:28:40.880412",
     "status": "completed"
    },
    "tags": []
   },
   "outputs": [],
   "source": [
    "def feature_engineering(df):\n",
    "    # New features to try...\n",
    "    df[\"lesion_size_ratio\"] = df[\"tbp_lv_minorAxisMM\"] / df[\"clin_size_long_diam_mm\"]\n",
    "    df[\"lesion_shape_index\"] = df[\"tbp_lv_areaMM2\"] / (df[\"tbp_lv_perimeterMM\"] ** 2)\n",
    "    df[\"hue_contrast\"] = (df[\"tbp_lv_H\"] - df[\"tbp_lv_Hext\"]).abs()\n",
    "    df[\"luminance_contrast\"] = (df[\"tbp_lv_L\"] - df[\"tbp_lv_Lext\"]).abs()\n",
    "    df[\"lesion_color_difference\"] = np.sqrt(df[\"tbp_lv_deltaA\"] ** 2 + df[\"tbp_lv_deltaB\"] ** 2 + df[\"tbp_lv_deltaL\"] ** 2)\n",
    "    df[\"border_complexity\"] = df[\"tbp_lv_norm_border\"] + df[\"tbp_lv_symm_2axis\"]\n",
    "    df[\"color_uniformity\"] = df[\"tbp_lv_color_std_mean\"] / df[\"tbp_lv_radial_color_std_max\"]\n",
    "    df[\"3d_position_distance\"] = np.sqrt(df[\"tbp_lv_x\"] ** 2 + df[\"tbp_lv_y\"] ** 2 + df[\"tbp_lv_z\"] ** 2) \n",
    "    df[\"perimeter_to_area_ratio\"] = df[\"tbp_lv_perimeterMM\"] / df[\"tbp_lv_areaMM2\"]\n",
    "    df[\"area_to_perimeter_ratio\"] = df[\"tbp_lv_areaMM2\"] / df[\"tbp_lv_perimeterMM\"]\n",
    "    df[\"lesion_visibility_score\"] = df[\"tbp_lv_deltaLBnorm\"] + df[\"tbp_lv_norm_color\"]\n",
    "    df[\"combined_anatomical_site\"] = df[\"anatom_site_general\"] + \"_\" + df[\"tbp_lv_location\"]\n",
    "    df[\"symmetry_border_consistency\"] = df[\"tbp_lv_symm_2axis\"] * df[\"tbp_lv_norm_border\"]\n",
    "    df[\"symmetry_border_consistency2\"] = df[\"tbp_lv_symm_2axis\"] * df[\"tbp_lv_norm_border\"] / (df[\"tbp_lv_symm_2axis\"] + df[\"tbp_lv_norm_border\"])\n",
    "    df[\"color_consistency\"] = df[\"tbp_lv_stdL\"] / df[\"tbp_lv_Lext\"]\n",
    "    df[\"color_consistency2\"] = df[\"tbp_lv_stdL\"] * df[\"tbp_lv_Lext\"] / (df[\"tbp_lv_stdL\"] + df[\"tbp_lv_Lext\"])\n",
    "    \n",
    "    df[\"size_age_interaction\"] = df[\"clin_size_long_diam_mm\"] * df[\"age_approx\"]\n",
    "    df[\"hue_color_std_interaction\"] = df[\"tbp_lv_H\"] * df[\"tbp_lv_color_std_mean\"]\n",
    "    df[\"lesion_severity_index\"] = (df[\"tbp_lv_norm_border\"] + df[\"tbp_lv_norm_color\"] + df[\"tbp_lv_eccentricity\"]) / 3\n",
    "    df[\"shape_complexity_index\"] = df[\"border_complexity\"] + df[\"lesion_shape_index\"]\n",
    "    df[\"color_contrast_index\"] = df[\"tbp_lv_deltaA\"] + df[\"tbp_lv_deltaB\"] + df[\"tbp_lv_deltaL\"] + df[\"tbp_lv_deltaLBnorm\"]\n",
    "    df[\"log_lesion_area\"] = np.log(df[\"tbp_lv_areaMM2\"] + 1)\n",
    "    df[\"normalized_lesion_size\"] = df[\"clin_size_long_diam_mm\"] / df[\"age_approx\"]\n",
    "    df[\"mean_hue_difference\"] = (df[\"tbp_lv_H\"] + df[\"tbp_lv_Hext\"]) / 2\n",
    "    df[\"std_dev_contrast\"] = np.sqrt((df[\"tbp_lv_deltaA\"] ** 2 + df[\"tbp_lv_deltaB\"] ** 2 + df[\"tbp_lv_deltaL\"] ** 2) / 3)\n",
    "    df[\"color_shape_composite_index\"] = (df[\"tbp_lv_color_std_mean\"] + df[\"tbp_lv_area_perim_ratio\"] + df[\"tbp_lv_symm_2axis\"]) / 3\n",
    "    df[\"3d_lesion_orientation\"] = np.arctan2(df[\"tbp_lv_y\"], df[\"tbp_lv_x\"])\n",
    "    df[\"overall_color_difference\"] = (df[\"tbp_lv_deltaA\"] + df[\"tbp_lv_deltaB\"] + df[\"tbp_lv_deltaL\"]) / 3\n",
    "    df[\"symmetry_perimeter_interaction\"] = df[\"tbp_lv_symm_2axis\"] * df[\"tbp_lv_perimeterMM\"]\n",
    "    df[\"comprehensive_lesion_index\"] = (df[\"tbp_lv_area_perim_ratio\"] + df[\"tbp_lv_eccentricity\"] + df[\"tbp_lv_norm_color\"] + df[\"tbp_lv_symm_2axis\"]) / 4\n",
    "\n",
    "    # Taken from: https://www.kaggle.com/code/dschettler8845/isic-detect-skin-cancer-let-s-learn-together\n",
    "    df[\"color_variance_ratio\"] = df[\"tbp_lv_color_std_mean\"] / df[\"tbp_lv_stdLExt\"]\n",
    "    df[\"border_color_interaction\"] = df[\"tbp_lv_norm_border\"] * df[\"tbp_lv_norm_color\"]\n",
    "    df[\"size_color_contrast_ratio\"] = df[\"clin_size_long_diam_mm\"] / df[\"tbp_lv_deltaLBnorm\"]\n",
    "    df[\"age_normalized_nevi_confidence\"] = df[\"tbp_lv_nevi_confidence\"] / df[\"age_approx\"]\n",
    "    df[\"color_asymmetry_index\"] = df[\"tbp_lv_radial_color_std_max\"] * df[\"tbp_lv_symm_2axis\"]\n",
    "    df[\"3d_volume_approximation\"] = df[\"tbp_lv_areaMM2\"] * np.sqrt(df[\"tbp_lv_x\"]**2 + df[\"tbp_lv_y\"]**2 + df[\"tbp_lv_z\"]**2)\n",
    "    df[\"color_range\"] = (df[\"tbp_lv_L\"] - df[\"tbp_lv_Lext\"]).abs() + (df[\"tbp_lv_A\"] - df[\"tbp_lv_Aext\"]).abs() + (df[\"tbp_lv_B\"] - df[\"tbp_lv_Bext\"]).abs()\n",
    "    df[\"shape_color_consistency\"] = df[\"tbp_lv_eccentricity\"] * df[\"tbp_lv_color_std_mean\"]\n",
    "    df[\"border_length_ratio\"] = df[\"tbp_lv_perimeterMM\"] / (2 * np.pi * np.sqrt(df[\"tbp_lv_areaMM2\"] / np.pi))\n",
    "    df[\"age_size_symmetry_index\"] = df[\"age_approx\"] * df[\"clin_size_long_diam_mm\"] * df[\"tbp_lv_symm_2axis\"]\n",
    "    df[\"age_size_symmetry_index2\"] = df[\"age_approx\"] * df[\"tbp_lv_areaMM2\"] * df[\"tbp_lv_symm_2axis\"]\n",
    "    # Until here.\n",
    "    \n",
    "    new_num_cols = [\n",
    "        \"lesion_size_ratio\", \"lesion_shape_index\", \"hue_contrast\",\n",
    "        \"luminance_contrast\", \"lesion_color_difference\", \"border_complexity\",\n",
    "        \"color_uniformity\", \"3d_position_distance\", \"perimeter_to_area_ratio\",\"area_to_perimeter_ratio\",\n",
    "        \"lesion_visibility_score\", \"symmetry_border_consistency\", \"symmetry_border_consistency2\", \"color_consistency\",\"color_consistency2\",\n",
    "\n",
    "        \"size_age_interaction\", \"hue_color_std_interaction\", \"lesion_severity_index\", \n",
    "        \"shape_complexity_index\", \"color_contrast_index\", \"log_lesion_area\",\n",
    "        \"normalized_lesion_size\", \"mean_hue_difference\", \"std_dev_contrast\",\n",
    "        \"color_shape_composite_index\", \"3d_lesion_orientation\", \"overall_color_difference\",\n",
    "        \"symmetry_perimeter_interaction\", \"comprehensive_lesion_index\",\n",
    "        \n",
    "        \"color_variance_ratio\", \"border_color_interaction\", \"size_color_contrast_ratio\",\n",
    "        \"age_normalized_nevi_confidence\", \"color_asymmetry_index\", \"3d_volume_approximation\",\n",
    "        \"color_range\", \"shape_color_consistency\", \"border_length_ratio\", \"age_size_symmetry_index\",\"age_size_symmetry_index2\",\n",
    "    ]\n",
    "    new_cat_cols = [\"combined_anatomical_site\"]\n",
    "    return df, new_num_cols, new_cat_cols"
   ]
  },
  {
   "cell_type": "code",
   "execution_count": 6,
   "id": "20a7fe38",
   "metadata": {
    "execution": {
     "iopub.execute_input": "2024-08-28T17:28:40.945231Z",
     "iopub.status.busy": "2024-08-28T17:28:40.944883Z",
     "iopub.status.idle": "2024-08-28T17:28:40.955513Z",
     "shell.execute_reply": "2024-08-28T17:28:40.954470Z"
    },
    "papermill": {
     "duration": 0.027501,
     "end_time": "2024-08-28T17:28:40.958027",
     "exception": false,
     "start_time": "2024-08-28T17:28:40.930526",
     "status": "completed"
    },
    "tags": []
   },
   "outputs": [],
   "source": [
    "test=pd.read_csv('/kaggle/input/isic-2024-challenge/test-metadata.csv',low_memory=False)"
   ]
  },
  {
   "cell_type": "code",
   "execution_count": 7,
   "id": "6fb8d129",
   "metadata": {
    "execution": {
     "iopub.execute_input": "2024-08-28T17:28:40.985479Z",
     "iopub.status.busy": "2024-08-28T17:28:40.985082Z",
     "iopub.status.idle": "2024-08-28T17:28:41.008595Z",
     "shell.execute_reply": "2024-08-28T17:28:41.007341Z"
    },
    "papermill": {
     "duration": 0.039915,
     "end_time": "2024-08-28T17:28:41.010710",
     "exception": false,
     "start_time": "2024-08-28T17:28:40.970795",
     "status": "completed"
    },
    "tags": []
   },
   "outputs": [
    {
     "data": {
      "text/html": [
       "<div>\n",
       "<style scoped>\n",
       "    .dataframe tbody tr th:only-of-type {\n",
       "        vertical-align: middle;\n",
       "    }\n",
       "\n",
       "    .dataframe tbody tr th {\n",
       "        vertical-align: top;\n",
       "    }\n",
       "\n",
       "    .dataframe thead th {\n",
       "        text-align: right;\n",
       "    }\n",
       "</style>\n",
       "<table border=\"1\" class=\"dataframe\">\n",
       "  <thead>\n",
       "    <tr style=\"text-align: right;\">\n",
       "      <th></th>\n",
       "      <th>isic_id</th>\n",
       "      <th>patient_id</th>\n",
       "      <th>age_approx</th>\n",
       "      <th>sex</th>\n",
       "      <th>anatom_site_general</th>\n",
       "      <th>clin_size_long_diam_mm</th>\n",
       "      <th>image_type</th>\n",
       "      <th>tbp_tile_type</th>\n",
       "      <th>tbp_lv_A</th>\n",
       "      <th>tbp_lv_Aext</th>\n",
       "      <th>...</th>\n",
       "      <th>tbp_lv_radial_color_std_max</th>\n",
       "      <th>tbp_lv_stdL</th>\n",
       "      <th>tbp_lv_stdLExt</th>\n",
       "      <th>tbp_lv_symm_2axis</th>\n",
       "      <th>tbp_lv_symm_2axis_angle</th>\n",
       "      <th>tbp_lv_x</th>\n",
       "      <th>tbp_lv_y</th>\n",
       "      <th>tbp_lv_z</th>\n",
       "      <th>attribution</th>\n",
       "      <th>copyright_license</th>\n",
       "    </tr>\n",
       "  </thead>\n",
       "  <tbody>\n",
       "    <tr>\n",
       "      <th>0</th>\n",
       "      <td>ISIC_0015657</td>\n",
       "      <td>IP_6074337</td>\n",
       "      <td>45.0</td>\n",
       "      <td>male</td>\n",
       "      <td>posterior torso</td>\n",
       "      <td>2.70</td>\n",
       "      <td>TBP tile: close-up</td>\n",
       "      <td>3D: XP</td>\n",
       "      <td>22.80433</td>\n",
       "      <td>20.007270</td>\n",
       "      <td>...</td>\n",
       "      <td>0.304827</td>\n",
       "      <td>1.281532</td>\n",
       "      <td>2.299935</td>\n",
       "      <td>0.479339</td>\n",
       "      <td>20</td>\n",
       "      <td>-155.06510</td>\n",
       "      <td>1511.222000</td>\n",
       "      <td>113.980100</td>\n",
       "      <td>Memorial Sloan Kettering Cancer Center</td>\n",
       "      <td>CC-BY</td>\n",
       "    </tr>\n",
       "    <tr>\n",
       "      <th>1</th>\n",
       "      <td>ISIC_0015729</td>\n",
       "      <td>IP_1664139</td>\n",
       "      <td>35.0</td>\n",
       "      <td>female</td>\n",
       "      <td>lower extremity</td>\n",
       "      <td>2.52</td>\n",
       "      <td>TBP tile: close-up</td>\n",
       "      <td>3D: XP</td>\n",
       "      <td>16.64867</td>\n",
       "      <td>9.657964</td>\n",
       "      <td>...</td>\n",
       "      <td>0.000000</td>\n",
       "      <td>1.271940</td>\n",
       "      <td>2.011223</td>\n",
       "      <td>0.426230</td>\n",
       "      <td>25</td>\n",
       "      <td>-112.36924</td>\n",
       "      <td>629.535889</td>\n",
       "      <td>-15.019287</td>\n",
       "      <td>Frazer Institute, The University of Queensland...</td>\n",
       "      <td>CC-BY</td>\n",
       "    </tr>\n",
       "    <tr>\n",
       "      <th>2</th>\n",
       "      <td>ISIC_0015740</td>\n",
       "      <td>IP_7142616</td>\n",
       "      <td>65.0</td>\n",
       "      <td>male</td>\n",
       "      <td>posterior torso</td>\n",
       "      <td>3.16</td>\n",
       "      <td>TBP tile: close-up</td>\n",
       "      <td>3D: XP</td>\n",
       "      <td>24.25384</td>\n",
       "      <td>19.937380</td>\n",
       "      <td>...</td>\n",
       "      <td>0.230742</td>\n",
       "      <td>1.080308</td>\n",
       "      <td>2.705857</td>\n",
       "      <td>0.366071</td>\n",
       "      <td>110</td>\n",
       "      <td>-84.29282</td>\n",
       "      <td>1303.978000</td>\n",
       "      <td>-28.576050</td>\n",
       "      <td>FNQH Cairns</td>\n",
       "      <td>CC-BY</td>\n",
       "    </tr>\n",
       "  </tbody>\n",
       "</table>\n",
       "<p>3 rows × 44 columns</p>\n",
       "</div>"
      ],
      "text/plain": [
       "        isic_id  patient_id  age_approx     sex anatom_site_general  \\\n",
       "0  ISIC_0015657  IP_6074337        45.0    male     posterior torso   \n",
       "1  ISIC_0015729  IP_1664139        35.0  female     lower extremity   \n",
       "2  ISIC_0015740  IP_7142616        65.0    male     posterior torso   \n",
       "\n",
       "   clin_size_long_diam_mm          image_type tbp_tile_type  tbp_lv_A  \\\n",
       "0                    2.70  TBP tile: close-up        3D: XP  22.80433   \n",
       "1                    2.52  TBP tile: close-up        3D: XP  16.64867   \n",
       "2                    3.16  TBP tile: close-up        3D: XP  24.25384   \n",
       "\n",
       "   tbp_lv_Aext  ...  tbp_lv_radial_color_std_max  tbp_lv_stdL  tbp_lv_stdLExt  \\\n",
       "0    20.007270  ...                     0.304827     1.281532        2.299935   \n",
       "1     9.657964  ...                     0.000000     1.271940        2.011223   \n",
       "2    19.937380  ...                     0.230742     1.080308        2.705857   \n",
       "\n",
       "   tbp_lv_symm_2axis  tbp_lv_symm_2axis_angle   tbp_lv_x     tbp_lv_y  \\\n",
       "0           0.479339                       20 -155.06510  1511.222000   \n",
       "1           0.426230                       25 -112.36924   629.535889   \n",
       "2           0.366071                      110  -84.29282  1303.978000   \n",
       "\n",
       "     tbp_lv_z                                        attribution  \\\n",
       "0  113.980100             Memorial Sloan Kettering Cancer Center   \n",
       "1  -15.019287  Frazer Institute, The University of Queensland...   \n",
       "2  -28.576050                                        FNQH Cairns   \n",
       "\n",
       "   copyright_license  \n",
       "0              CC-BY  \n",
       "1              CC-BY  \n",
       "2              CC-BY  \n",
       "\n",
       "[3 rows x 44 columns]"
      ]
     },
     "execution_count": 7,
     "metadata": {},
     "output_type": "execute_result"
    }
   ],
   "source": [
    "test.head()"
   ]
  },
  {
   "cell_type": "code",
   "execution_count": 8,
   "id": "86d24be8",
   "metadata": {
    "execution": {
     "iopub.execute_input": "2024-08-28T17:28:41.038749Z",
     "iopub.status.busy": "2024-08-28T17:28:41.038334Z",
     "iopub.status.idle": "2024-08-28T17:28:41.044884Z",
     "shell.execute_reply": "2024-08-28T17:28:41.043945Z"
    },
    "papermill": {
     "duration": 0.023061,
     "end_time": "2024-08-28T17:28:41.047225",
     "exception": false,
     "start_time": "2024-08-28T17:28:41.024164",
     "status": "completed"
    },
    "tags": []
   },
   "outputs": [
    {
     "data": {
      "text/plain": [
       "((401059, 55), (3, 44))"
      ]
     },
     "execution_count": 8,
     "metadata": {},
     "output_type": "execute_result"
    }
   ],
   "source": [
    "train.shape,test.shape"
   ]
  },
  {
   "cell_type": "code",
   "execution_count": 9,
   "id": "e7652545",
   "metadata": {
    "execution": {
     "iopub.execute_input": "2024-08-28T17:28:41.075431Z",
     "iopub.status.busy": "2024-08-28T17:28:41.075052Z",
     "iopub.status.idle": "2024-08-28T17:28:41.153555Z",
     "shell.execute_reply": "2024-08-28T17:28:41.152422Z"
    },
    "papermill": {
     "duration": 0.095141,
     "end_time": "2024-08-28T17:28:41.155663",
     "exception": false,
     "start_time": "2024-08-28T17:28:41.060522",
     "status": "completed"
    },
    "tags": []
   },
   "outputs": [
    {
     "data": {
      "text/html": [
       "<div>\n",
       "<style scoped>\n",
       "    .dataframe tbody tr th:only-of-type {\n",
       "        vertical-align: middle;\n",
       "    }\n",
       "\n",
       "    .dataframe tbody tr th {\n",
       "        vertical-align: top;\n",
       "    }\n",
       "\n",
       "    .dataframe thead th {\n",
       "        text-align: right;\n",
       "    }\n",
       "</style>\n",
       "<table border=\"1\" class=\"dataframe\">\n",
       "  <thead>\n",
       "    <tr style=\"text-align: right;\">\n",
       "      <th></th>\n",
       "      <th>age_approx</th>\n",
       "      <th>clin_size_long_diam_mm</th>\n",
       "      <th>tbp_lv_A</th>\n",
       "      <th>tbp_lv_Aext</th>\n",
       "      <th>tbp_lv_B</th>\n",
       "      <th>tbp_lv_Bext</th>\n",
       "      <th>tbp_lv_C</th>\n",
       "      <th>tbp_lv_Cext</th>\n",
       "      <th>tbp_lv_H</th>\n",
       "      <th>tbp_lv_Hext</th>\n",
       "      <th>...</th>\n",
       "      <th>tbp_lv_norm_color</th>\n",
       "      <th>tbp_lv_perimeterMM</th>\n",
       "      <th>tbp_lv_radial_color_std_max</th>\n",
       "      <th>tbp_lv_stdL</th>\n",
       "      <th>tbp_lv_stdLExt</th>\n",
       "      <th>tbp_lv_symm_2axis</th>\n",
       "      <th>tbp_lv_symm_2axis_angle</th>\n",
       "      <th>tbp_lv_x</th>\n",
       "      <th>tbp_lv_y</th>\n",
       "      <th>tbp_lv_z</th>\n",
       "    </tr>\n",
       "  </thead>\n",
       "  <tbody>\n",
       "    <tr>\n",
       "      <th>count</th>\n",
       "      <td>3.000000</td>\n",
       "      <td>3.000000</td>\n",
       "      <td>3.000000</td>\n",
       "      <td>3.000000</td>\n",
       "      <td>3.000000</td>\n",
       "      <td>3.000000</td>\n",
       "      <td>3.000000</td>\n",
       "      <td>3.000000</td>\n",
       "      <td>3.000000</td>\n",
       "      <td>3.000000</td>\n",
       "      <td>...</td>\n",
       "      <td>3.000000</td>\n",
       "      <td>3.000000</td>\n",
       "      <td>3.000000</td>\n",
       "      <td>3.000000</td>\n",
       "      <td>3.000000</td>\n",
       "      <td>3.000000</td>\n",
       "      <td>3.000000</td>\n",
       "      <td>3.000000</td>\n",
       "      <td>3.000000</td>\n",
       "      <td>3.000000</td>\n",
       "    </tr>\n",
       "    <tr>\n",
       "      <th>mean</th>\n",
       "      <td>48.333333</td>\n",
       "      <td>2.793333</td>\n",
       "      <td>21.235613</td>\n",
       "      <td>16.534205</td>\n",
       "      <td>30.055107</td>\n",
       "      <td>27.650733</td>\n",
       "      <td>36.939135</td>\n",
       "      <td>32.498746</td>\n",
       "      <td>54.900061</td>\n",
       "      <td>59.695153</td>\n",
       "      <td>...</td>\n",
       "      <td>0.621704</td>\n",
       "      <td>7.952809</td>\n",
       "      <td>0.178523</td>\n",
       "      <td>1.211260</td>\n",
       "      <td>2.339005</td>\n",
       "      <td>0.423880</td>\n",
       "      <td>51.666667</td>\n",
       "      <td>-117.242387</td>\n",
       "      <td>1148.245296</td>\n",
       "      <td>23.461588</td>\n",
       "    </tr>\n",
       "    <tr>\n",
       "      <th>std</th>\n",
       "      <td>15.275252</td>\n",
       "      <td>0.330051</td>\n",
       "      <td>4.037983</td>\n",
       "      <td>5.955101</td>\n",
       "      <td>1.508777</td>\n",
       "      <td>0.679182</td>\n",
       "      <td>1.795292</td>\n",
       "      <td>2.930254</td>\n",
       "      <td>6.153928</td>\n",
       "      <td>9.525959</td>\n",
       "      <td>...</td>\n",
       "      <td>0.578214</td>\n",
       "      <td>1.531253</td>\n",
       "      <td>0.158981</td>\n",
       "      <td>0.113509</td>\n",
       "      <td>0.348961</td>\n",
       "      <td>0.056670</td>\n",
       "      <td>50.579970</td>\n",
       "      <td>35.636913</td>\n",
       "      <td>461.012045</td>\n",
       "      <td>78.683844</td>\n",
       "    </tr>\n",
       "    <tr>\n",
       "      <th>min</th>\n",
       "      <td>35.000000</td>\n",
       "      <td>2.520000</td>\n",
       "      <td>16.648670</td>\n",
       "      <td>9.657964</td>\n",
       "      <td>28.384120</td>\n",
       "      <td>27.043640</td>\n",
       "      <td>35.467806</td>\n",
       "      <td>29.169579</td>\n",
       "      <td>51.220960</td>\n",
       "      <td>53.505430</td>\n",
       "      <td>...</td>\n",
       "      <td>0.000000</td>\n",
       "      <td>6.340311</td>\n",
       "      <td>0.000000</td>\n",
       "      <td>1.080308</td>\n",
       "      <td>2.011223</td>\n",
       "      <td>0.366071</td>\n",
       "      <td>20.000000</td>\n",
       "      <td>-155.065100</td>\n",
       "      <td>629.535889</td>\n",
       "      <td>-28.576050</td>\n",
       "    </tr>\n",
       "    <tr>\n",
       "      <th>25%</th>\n",
       "      <td>40.000000</td>\n",
       "      <td>2.610000</td>\n",
       "      <td>19.726500</td>\n",
       "      <td>14.797672</td>\n",
       "      <td>29.423900</td>\n",
       "      <td>27.283979</td>\n",
       "      <td>35.938953</td>\n",
       "      <td>31.404790</td>\n",
       "      <td>51.347845</td>\n",
       "      <td>54.210420</td>\n",
       "      <td>...</td>\n",
       "      <td>0.360870</td>\n",
       "      <td>7.235590</td>\n",
       "      <td>0.115371</td>\n",
       "      <td>1.176124</td>\n",
       "      <td>2.155579</td>\n",
       "      <td>0.396150</td>\n",
       "      <td>22.500000</td>\n",
       "      <td>-133.717170</td>\n",
       "      <td>966.756944</td>\n",
       "      <td>-21.797669</td>\n",
       "    </tr>\n",
       "    <tr>\n",
       "      <th>50%</th>\n",
       "      <td>45.000000</td>\n",
       "      <td>2.700000</td>\n",
       "      <td>22.804330</td>\n",
       "      <td>19.937380</td>\n",
       "      <td>30.463680</td>\n",
       "      <td>27.524318</td>\n",
       "      <td>36.410100</td>\n",
       "      <td>33.640000</td>\n",
       "      <td>51.474730</td>\n",
       "      <td>54.915410</td>\n",
       "      <td>...</td>\n",
       "      <td>0.721739</td>\n",
       "      <td>8.130868</td>\n",
       "      <td>0.230742</td>\n",
       "      <td>1.271940</td>\n",
       "      <td>2.299935</td>\n",
       "      <td>0.426230</td>\n",
       "      <td>25.000000</td>\n",
       "      <td>-112.369240</td>\n",
       "      <td>1303.978000</td>\n",
       "      <td>-15.019287</td>\n",
       "    </tr>\n",
       "    <tr>\n",
       "      <th>75%</th>\n",
       "      <td>55.000000</td>\n",
       "      <td>2.930000</td>\n",
       "      <td>23.529085</td>\n",
       "      <td>19.972325</td>\n",
       "      <td>30.890600</td>\n",
       "      <td>27.954279</td>\n",
       "      <td>37.674800</td>\n",
       "      <td>34.163330</td>\n",
       "      <td>56.739612</td>\n",
       "      <td>62.790014</td>\n",
       "      <td>...</td>\n",
       "      <td>0.932557</td>\n",
       "      <td>8.759058</td>\n",
       "      <td>0.267784</td>\n",
       "      <td>1.276736</td>\n",
       "      <td>2.502896</td>\n",
       "      <td>0.452784</td>\n",
       "      <td>67.500000</td>\n",
       "      <td>-98.331030</td>\n",
       "      <td>1407.600000</td>\n",
       "      <td>49.480406</td>\n",
       "    </tr>\n",
       "    <tr>\n",
       "      <th>max</th>\n",
       "      <td>65.000000</td>\n",
       "      <td>3.160000</td>\n",
       "      <td>24.253840</td>\n",
       "      <td>20.007270</td>\n",
       "      <td>31.317520</td>\n",
       "      <td>28.384240</td>\n",
       "      <td>38.939500</td>\n",
       "      <td>34.686660</td>\n",
       "      <td>62.004494</td>\n",
       "      <td>70.664619</td>\n",
       "      <td>...</td>\n",
       "      <td>1.143374</td>\n",
       "      <td>9.387248</td>\n",
       "      <td>0.304827</td>\n",
       "      <td>1.281532</td>\n",
       "      <td>2.705857</td>\n",
       "      <td>0.479339</td>\n",
       "      <td>110.000000</td>\n",
       "      <td>-84.292820</td>\n",
       "      <td>1511.222000</td>\n",
       "      <td>113.980100</td>\n",
       "    </tr>\n",
       "  </tbody>\n",
       "</table>\n",
       "<p>8 rows × 34 columns</p>\n",
       "</div>"
      ],
      "text/plain": [
       "       age_approx  clin_size_long_diam_mm   tbp_lv_A  tbp_lv_Aext   tbp_lv_B  \\\n",
       "count    3.000000                3.000000   3.000000     3.000000   3.000000   \n",
       "mean    48.333333                2.793333  21.235613    16.534205  30.055107   \n",
       "std     15.275252                0.330051   4.037983     5.955101   1.508777   \n",
       "min     35.000000                2.520000  16.648670     9.657964  28.384120   \n",
       "25%     40.000000                2.610000  19.726500    14.797672  29.423900   \n",
       "50%     45.000000                2.700000  22.804330    19.937380  30.463680   \n",
       "75%     55.000000                2.930000  23.529085    19.972325  30.890600   \n",
       "max     65.000000                3.160000  24.253840    20.007270  31.317520   \n",
       "\n",
       "       tbp_lv_Bext   tbp_lv_C  tbp_lv_Cext   tbp_lv_H  tbp_lv_Hext  ...  \\\n",
       "count     3.000000   3.000000     3.000000   3.000000     3.000000  ...   \n",
       "mean     27.650733  36.939135    32.498746  54.900061    59.695153  ...   \n",
       "std       0.679182   1.795292     2.930254   6.153928     9.525959  ...   \n",
       "min      27.043640  35.467806    29.169579  51.220960    53.505430  ...   \n",
       "25%      27.283979  35.938953    31.404790  51.347845    54.210420  ...   \n",
       "50%      27.524318  36.410100    33.640000  51.474730    54.915410  ...   \n",
       "75%      27.954279  37.674800    34.163330  56.739612    62.790014  ...   \n",
       "max      28.384240  38.939500    34.686660  62.004494    70.664619  ...   \n",
       "\n",
       "       tbp_lv_norm_color  tbp_lv_perimeterMM  tbp_lv_radial_color_std_max  \\\n",
       "count           3.000000            3.000000                     3.000000   \n",
       "mean            0.621704            7.952809                     0.178523   \n",
       "std             0.578214            1.531253                     0.158981   \n",
       "min             0.000000            6.340311                     0.000000   \n",
       "25%             0.360870            7.235590                     0.115371   \n",
       "50%             0.721739            8.130868                     0.230742   \n",
       "75%             0.932557            8.759058                     0.267784   \n",
       "max             1.143374            9.387248                     0.304827   \n",
       "\n",
       "       tbp_lv_stdL  tbp_lv_stdLExt  tbp_lv_symm_2axis  \\\n",
       "count     3.000000        3.000000           3.000000   \n",
       "mean      1.211260        2.339005           0.423880   \n",
       "std       0.113509        0.348961           0.056670   \n",
       "min       1.080308        2.011223           0.366071   \n",
       "25%       1.176124        2.155579           0.396150   \n",
       "50%       1.271940        2.299935           0.426230   \n",
       "75%       1.276736        2.502896           0.452784   \n",
       "max       1.281532        2.705857           0.479339   \n",
       "\n",
       "       tbp_lv_symm_2axis_angle    tbp_lv_x     tbp_lv_y    tbp_lv_z  \n",
       "count                 3.000000    3.000000     3.000000    3.000000  \n",
       "mean                 51.666667 -117.242387  1148.245296   23.461588  \n",
       "std                  50.579970   35.636913   461.012045   78.683844  \n",
       "min                  20.000000 -155.065100   629.535889  -28.576050  \n",
       "25%                  22.500000 -133.717170   966.756944  -21.797669  \n",
       "50%                  25.000000 -112.369240  1303.978000  -15.019287  \n",
       "75%                  67.500000  -98.331030  1407.600000   49.480406  \n",
       "max                 110.000000  -84.292820  1511.222000  113.980100  \n",
       "\n",
       "[8 rows x 34 columns]"
      ]
     },
     "execution_count": 9,
     "metadata": {},
     "output_type": "execute_result"
    }
   ],
   "source": [
    "test.describe()"
   ]
  },
  {
   "cell_type": "code",
   "execution_count": 10,
   "id": "6138d140",
   "metadata": {
    "execution": {
     "iopub.execute_input": "2024-08-28T17:28:41.185154Z",
     "iopub.status.busy": "2024-08-28T17:28:41.184754Z",
     "iopub.status.idle": "2024-08-28T17:28:41.516427Z",
     "shell.execute_reply": "2024-08-28T17:28:41.514423Z"
    },
    "papermill": {
     "duration": 0.350209,
     "end_time": "2024-08-28T17:28:41.519730",
     "exception": false,
     "start_time": "2024-08-28T17:28:41.169521",
     "status": "completed"
    },
    "tags": []
   },
   "outputs": [
    {
     "name": "stdout",
     "output_type": "stream",
     "text": [
      "<class 'pandas.core.frame.DataFrame'>\n",
      "RangeIndex: 401059 entries, 0 to 401058\n",
      "Data columns (total 55 columns):\n",
      " #   Column                        Non-Null Count   Dtype  \n",
      "---  ------                        --------------   -----  \n",
      " 0   isic_id                       401059 non-null  object \n",
      " 1   target                        401059 non-null  int64  \n",
      " 2   patient_id                    401059 non-null  object \n",
      " 3   age_approx                    398261 non-null  float64\n",
      " 4   sex                           389542 non-null  object \n",
      " 5   anatom_site_general           395303 non-null  object \n",
      " 6   clin_size_long_diam_mm        401059 non-null  float64\n",
      " 7   image_type                    401059 non-null  object \n",
      " 8   tbp_tile_type                 401059 non-null  object \n",
      " 9   tbp_lv_A                      401059 non-null  float64\n",
      " 10  tbp_lv_Aext                   401059 non-null  float64\n",
      " 11  tbp_lv_B                      401059 non-null  float64\n",
      " 12  tbp_lv_Bext                   401059 non-null  float64\n",
      " 13  tbp_lv_C                      401059 non-null  float64\n",
      " 14  tbp_lv_Cext                   401059 non-null  float64\n",
      " 15  tbp_lv_H                      401059 non-null  float64\n",
      " 16  tbp_lv_Hext                   401059 non-null  float64\n",
      " 17  tbp_lv_L                      401059 non-null  float64\n",
      " 18  tbp_lv_Lext                   401059 non-null  float64\n",
      " 19  tbp_lv_areaMM2                401059 non-null  float64\n",
      " 20  tbp_lv_area_perim_ratio       401059 non-null  float64\n",
      " 21  tbp_lv_color_std_mean         401059 non-null  float64\n",
      " 22  tbp_lv_deltaA                 401059 non-null  float64\n",
      " 23  tbp_lv_deltaB                 401059 non-null  float64\n",
      " 24  tbp_lv_deltaL                 401059 non-null  float64\n",
      " 25  tbp_lv_deltaLB                401059 non-null  float64\n",
      " 26  tbp_lv_deltaLBnorm            401059 non-null  float64\n",
      " 27  tbp_lv_eccentricity           401059 non-null  float64\n",
      " 28  tbp_lv_location               401059 non-null  object \n",
      " 29  tbp_lv_location_simple        401059 non-null  object \n",
      " 30  tbp_lv_minorAxisMM            401059 non-null  float64\n",
      " 31  tbp_lv_nevi_confidence        401059 non-null  float64\n",
      " 32  tbp_lv_norm_border            401059 non-null  float64\n",
      " 33  tbp_lv_norm_color             401059 non-null  float64\n",
      " 34  tbp_lv_perimeterMM            401059 non-null  float64\n",
      " 35  tbp_lv_radial_color_std_max   401059 non-null  float64\n",
      " 36  tbp_lv_stdL                   401059 non-null  float64\n",
      " 37  tbp_lv_stdLExt                401059 non-null  float64\n",
      " 38  tbp_lv_symm_2axis             401059 non-null  float64\n",
      " 39  tbp_lv_symm_2axis_angle       401059 non-null  int64  \n",
      " 40  tbp_lv_x                      401059 non-null  float64\n",
      " 41  tbp_lv_y                      401059 non-null  float64\n",
      " 42  tbp_lv_z                      401059 non-null  float64\n",
      " 43  attribution                   401059 non-null  object \n",
      " 44  copyright_license             401059 non-null  object \n",
      " 45  lesion_id                     22058 non-null   object \n",
      " 46  iddx_full                     401059 non-null  object \n",
      " 47  iddx_1                        401059 non-null  object \n",
      " 48  iddx_2                        1068 non-null    object \n",
      " 49  iddx_3                        1065 non-null    object \n",
      " 50  iddx_4                        551 non-null     object \n",
      " 51  iddx_5                        1 non-null       object \n",
      " 52  mel_mitotic_index             53 non-null      object \n",
      " 53  mel_thick_mm                  63 non-null      float64\n",
      " 54  tbp_lv_dnn_lesion_confidence  401059 non-null  float64\n",
      "dtypes: float64(35), int64(2), object(18)\n",
      "memory usage: 168.3+ MB\n"
     ]
    }
   ],
   "source": [
    "train.info()"
   ]
  },
  {
   "cell_type": "code",
   "execution_count": 11,
   "id": "e10d279b",
   "metadata": {
    "execution": {
     "iopub.execute_input": "2024-08-28T17:28:41.549350Z",
     "iopub.status.busy": "2024-08-28T17:28:41.548980Z",
     "iopub.status.idle": "2024-08-28T17:28:41.553702Z",
     "shell.execute_reply": "2024-08-28T17:28:41.552637Z"
    },
    "papermill": {
     "duration": 0.022165,
     "end_time": "2024-08-28T17:28:41.556025",
     "exception": false,
     "start_time": "2024-08-28T17:28:41.533860",
     "status": "completed"
    },
    "tags": []
   },
   "outputs": [],
   "source": [
    "targets=train['target']"
   ]
  },
  {
   "cell_type": "code",
   "execution_count": 12,
   "id": "e9e6bcdf",
   "metadata": {
    "execution": {
     "iopub.execute_input": "2024-08-28T17:28:41.585483Z",
     "iopub.status.busy": "2024-08-28T17:28:41.585086Z",
     "iopub.status.idle": "2024-08-28T17:28:41.592479Z",
     "shell.execute_reply": "2024-08-28T17:28:41.591422Z"
    },
    "papermill": {
     "duration": 0.024643,
     "end_time": "2024-08-28T17:28:41.594718",
     "exception": false,
     "start_time": "2024-08-28T17:28:41.570075",
     "status": "completed"
    },
    "tags": []
   },
   "outputs": [
    {
     "data": {
      "text/plain": [
       "((401059, 55), (3, 44))"
      ]
     },
     "execution_count": 12,
     "metadata": {},
     "output_type": "execute_result"
    }
   ],
   "source": [
    "train.shape,test.shape"
   ]
  },
  {
   "cell_type": "code",
   "execution_count": 13,
   "id": "5d71471f",
   "metadata": {
    "execution": {
     "iopub.execute_input": "2024-08-28T17:28:41.624405Z",
     "iopub.status.busy": "2024-08-28T17:28:41.623462Z",
     "iopub.status.idle": "2024-08-28T17:28:41.628483Z",
     "shell.execute_reply": "2024-08-28T17:28:41.627294Z"
    },
    "papermill": {
     "duration": 0.022293,
     "end_time": "2024-08-28T17:28:41.630889",
     "exception": false,
     "start_time": "2024-08-28T17:28:41.608596",
     "status": "completed"
    },
    "tags": []
   },
   "outputs": [],
   "source": [
    "# train, new_num_cols, new_cat_cols = feature_engineering(train.copy())\n",
    "# test, _, _                        = feature_engineering(test.copy())"
   ]
  },
  {
   "cell_type": "code",
   "execution_count": 14,
   "id": "17e6dfb5",
   "metadata": {
    "execution": {
     "iopub.execute_input": "2024-08-28T17:28:41.660225Z",
     "iopub.status.busy": "2024-08-28T17:28:41.659858Z",
     "iopub.status.idle": "2024-08-28T17:28:41.667073Z",
     "shell.execute_reply": "2024-08-28T17:28:41.665944Z"
    },
    "papermill": {
     "duration": 0.024478,
     "end_time": "2024-08-28T17:28:41.669297",
     "exception": false,
     "start_time": "2024-08-28T17:28:41.644819",
     "status": "completed"
    },
    "tags": []
   },
   "outputs": [
    {
     "data": {
      "text/plain": [
       "((401059, 55), (3, 44))"
      ]
     },
     "execution_count": 14,
     "metadata": {},
     "output_type": "execute_result"
    }
   ],
   "source": [
    "train.shape,test.shape"
   ]
  },
  {
   "cell_type": "code",
   "execution_count": 15,
   "id": "1c33e828",
   "metadata": {
    "execution": {
     "iopub.execute_input": "2024-08-28T17:28:41.698584Z",
     "iopub.status.busy": "2024-08-28T17:28:41.698179Z",
     "iopub.status.idle": "2024-08-28T17:28:41.703697Z",
     "shell.execute_reply": "2024-08-28T17:28:41.702467Z"
    },
    "papermill": {
     "duration": 0.02274,
     "end_time": "2024-08-28T17:28:41.705906",
     "exception": false,
     "start_time": "2024-08-28T17:28:41.683166",
     "status": "completed"
    },
    "tags": []
   },
   "outputs": [],
   "source": [
    "cols_unique_train=[col for col in train.columns if col not in test.columns]"
   ]
  },
  {
   "cell_type": "code",
   "execution_count": 16,
   "id": "c45ecc6c",
   "metadata": {
    "execution": {
     "iopub.execute_input": "2024-08-28T17:28:41.737320Z",
     "iopub.status.busy": "2024-08-28T17:28:41.736885Z",
     "iopub.status.idle": "2024-08-28T17:28:41.745279Z",
     "shell.execute_reply": "2024-08-28T17:28:41.743888Z"
    },
    "papermill": {
     "duration": 0.027563,
     "end_time": "2024-08-28T17:28:41.747833",
     "exception": false,
     "start_time": "2024-08-28T17:28:41.720270",
     "status": "completed"
    },
    "tags": []
   },
   "outputs": [
    {
     "data": {
      "text/plain": [
       "['target',\n",
       " 'lesion_id',\n",
       " 'iddx_full',\n",
       " 'iddx_1',\n",
       " 'iddx_2',\n",
       " 'iddx_3',\n",
       " 'iddx_4',\n",
       " 'iddx_5',\n",
       " 'mel_mitotic_index',\n",
       " 'mel_thick_mm',\n",
       " 'tbp_lv_dnn_lesion_confidence']"
      ]
     },
     "execution_count": 16,
     "metadata": {},
     "output_type": "execute_result"
    }
   ],
   "source": [
    "cols_unique_train"
   ]
  },
  {
   "cell_type": "code",
   "execution_count": 17,
   "id": "34b91d17",
   "metadata": {
    "execution": {
     "iopub.execute_input": "2024-08-28T17:28:41.779347Z",
     "iopub.status.busy": "2024-08-28T17:28:41.778984Z",
     "iopub.status.idle": "2024-08-28T17:28:41.839791Z",
     "shell.execute_reply": "2024-08-28T17:28:41.838377Z"
    },
    "papermill": {
     "duration": 0.07927,
     "end_time": "2024-08-28T17:28:41.842568",
     "exception": false,
     "start_time": "2024-08-28T17:28:41.763298",
     "status": "completed"
    },
    "tags": []
   },
   "outputs": [],
   "source": [
    "train_df=train.drop(cols_unique_train,axis=1)"
   ]
  },
  {
   "cell_type": "code",
   "execution_count": 18,
   "id": "7cc966e6",
   "metadata": {
    "execution": {
     "iopub.execute_input": "2024-08-28T17:28:41.872963Z",
     "iopub.status.busy": "2024-08-28T17:28:41.872584Z",
     "iopub.status.idle": "2024-08-28T17:28:42.179851Z",
     "shell.execute_reply": "2024-08-28T17:28:42.178336Z"
    },
    "papermill": {
     "duration": 0.325977,
     "end_time": "2024-08-28T17:28:42.182716",
     "exception": false,
     "start_time": "2024-08-28T17:28:41.856739",
     "status": "completed"
    },
    "tags": []
   },
   "outputs": [
    {
     "name": "stderr",
     "output_type": "stream",
     "text": [
      "/tmp/ipykernel_18/2966992500.py:3: FutureWarning: A value is trying to be set on a copy of a DataFrame or Series through chained assignment using an inplace method.\n",
      "The behavior will change in pandas 3.0. This inplace method will never work because the intermediate object on which we are setting values always behaves as a copy.\n",
      "\n",
      "For example, when doing 'df[col].method(value, inplace=True)', try using 'df.method({col: value}, inplace=True)' or df[col] = df[col].method(value) instead, to perform the operation inplace on the original object.\n",
      "\n",
      "\n",
      "  train_df[col].fillna(value=train_df[col].mean(),inplace=True);\n",
      "/tmp/ipykernel_18/2966992500.py:5: FutureWarning: A value is trying to be set on a copy of a DataFrame or Series through chained assignment using an inplace method.\n",
      "The behavior will change in pandas 3.0. This inplace method will never work because the intermediate object on which we are setting values always behaves as a copy.\n",
      "\n",
      "For example, when doing 'df[col].method(value, inplace=True)', try using 'df.method({col: value}, inplace=True)' or df[col] = df[col].method(value) instead, to perform the operation inplace on the original object.\n",
      "\n",
      "\n",
      "  train_df[col].fillna(value=train_df[col].mode()[0],inplace=True);\n"
     ]
    }
   ],
   "source": [
    "for col in train_df.columns:\n",
    "    if((train_df[col].dtype=='float64' or train_df[col].dtype=='int64') and train_df[col].isna().sum()!=0):\n",
    "        train_df[col].fillna(value=train_df[col].mean(),inplace=True);\n",
    "    if(train_df[col].dtype=='object' and train_df[col].isna().sum()!=0):\n",
    "        train_df[col].fillna(value=train_df[col].mode()[0],inplace=True);"
   ]
  },
  {
   "cell_type": "code",
   "execution_count": 19,
   "id": "075aca51",
   "metadata": {
    "execution": {
     "iopub.execute_input": "2024-08-28T17:28:42.213543Z",
     "iopub.status.busy": "2024-08-28T17:28:42.213150Z",
     "iopub.status.idle": "2024-08-28T17:28:42.431015Z",
     "shell.execute_reply": "2024-08-28T17:28:42.429602Z"
    },
    "papermill": {
     "duration": 0.235745,
     "end_time": "2024-08-28T17:28:42.433359",
     "exception": false,
     "start_time": "2024-08-28T17:28:42.197614",
     "status": "completed"
    },
    "tags": []
   },
   "outputs": [
    {
     "name": "stdout",
     "output_type": "stream",
     "text": [
      "isic_id : 0\n",
      "patient_id : 0\n",
      "age_approx : 0\n",
      "sex : 0\n",
      "anatom_site_general : 0\n",
      "clin_size_long_diam_mm : 0\n",
      "image_type : 0\n",
      "tbp_tile_type : 0\n",
      "tbp_lv_A : 0\n",
      "tbp_lv_Aext : 0\n",
      "tbp_lv_B : 0\n",
      "tbp_lv_Bext : 0\n",
      "tbp_lv_C : 0\n",
      "tbp_lv_Cext : 0\n",
      "tbp_lv_H : 0\n",
      "tbp_lv_Hext : 0\n",
      "tbp_lv_L : 0\n",
      "tbp_lv_Lext : 0\n",
      "tbp_lv_areaMM2 : 0\n",
      "tbp_lv_area_perim_ratio : 0\n",
      "tbp_lv_color_std_mean : 0\n",
      "tbp_lv_deltaA : 0\n",
      "tbp_lv_deltaB : 0\n",
      "tbp_lv_deltaL : 0\n",
      "tbp_lv_deltaLB : 0\n",
      "tbp_lv_deltaLBnorm : 0\n",
      "tbp_lv_eccentricity : 0\n",
      "tbp_lv_location : 0\n",
      "tbp_lv_location_simple : 0\n",
      "tbp_lv_minorAxisMM : 0\n",
      "tbp_lv_nevi_confidence : 0\n",
      "tbp_lv_norm_border : 0\n",
      "tbp_lv_norm_color : 0\n",
      "tbp_lv_perimeterMM : 0\n",
      "tbp_lv_radial_color_std_max : 0\n",
      "tbp_lv_stdL : 0\n",
      "tbp_lv_stdLExt : 0\n",
      "tbp_lv_symm_2axis : 0\n",
      "tbp_lv_symm_2axis_angle : 0\n",
      "tbp_lv_x : 0\n",
      "tbp_lv_y : 0\n",
      "tbp_lv_z : 0\n",
      "attribution : 0\n",
      "copyright_license : 0\n"
     ]
    }
   ],
   "source": [
    "for col in train_df.columns:\n",
    "    print(col,':',train_df[col].isna().sum())"
   ]
  },
  {
   "cell_type": "code",
   "execution_count": 20,
   "id": "709e8b41",
   "metadata": {
    "execution": {
     "iopub.execute_input": "2024-08-28T17:28:42.464647Z",
     "iopub.status.busy": "2024-08-28T17:28:42.463726Z",
     "iopub.status.idle": "2024-08-28T17:28:42.477209Z",
     "shell.execute_reply": "2024-08-28T17:28:42.475904Z"
    },
    "papermill": {
     "duration": 0.031144,
     "end_time": "2024-08-28T17:28:42.479470",
     "exception": false,
     "start_time": "2024-08-28T17:28:42.448326",
     "status": "completed"
    },
    "tags": []
   },
   "outputs": [
    {
     "data": {
      "text/plain": [
       "target\n",
       "0    400666\n",
       "1       393\n",
       "Name: count, dtype: int64"
      ]
     },
     "execution_count": 20,
     "metadata": {},
     "output_type": "execute_result"
    }
   ],
   "source": [
    "targets.value_counts()"
   ]
  },
  {
   "cell_type": "code",
   "execution_count": 21,
   "id": "28d39895",
   "metadata": {
    "execution": {
     "iopub.execute_input": "2024-08-28T17:28:42.510848Z",
     "iopub.status.busy": "2024-08-28T17:28:42.510013Z",
     "iopub.status.idle": "2024-08-28T17:28:42.915984Z",
     "shell.execute_reply": "2024-08-28T17:28:42.915078Z"
    },
    "papermill": {
     "duration": 0.424395,
     "end_time": "2024-08-28T17:28:42.918362",
     "exception": false,
     "start_time": "2024-08-28T17:28:42.493967",
     "status": "completed"
    },
    "tags": []
   },
   "outputs": [
    {
     "data": {
      "text/plain": [
       "<Axes: >"
      ]
     },
     "execution_count": 21,
     "metadata": {},
     "output_type": "execute_result"
    },
    {
     "data": {
      "image/png": "[encoded data removed]",
      "text/plain": [
       "<Figure size 640x480 with 1 Axes>"
      ]
     },
     "metadata": {},
     "output_type": "display_data"
    }
   ],
   "source": [
    "train_df[targets==1]['age_approx'].hist()"
   ]
  },
  {
   "cell_type": "code",
   "execution_count": 22,
   "id": "75f5326b",
   "metadata": {
    "execution": {
     "iopub.execute_input": "2024-08-28T17:28:42.949484Z",
     "iopub.status.busy": "2024-08-28T17:28:42.949091Z",
     "iopub.status.idle": "2024-08-28T17:28:43.166327Z",
     "shell.execute_reply": "2024-08-28T17:28:43.165193Z"
    },
    "papermill": {
     "duration": 0.236137,
     "end_time": "2024-08-28T17:28:43.169220",
     "exception": false,
     "start_time": "2024-08-28T17:28:42.933083",
     "status": "completed"
    },
    "tags": []
   },
   "outputs": [
    {
     "name": "stdout",
     "output_type": "stream",
     "text": [
      "<class 'pandas.core.frame.DataFrame'>\n",
      "RangeIndex: 401059 entries, 0 to 401058\n",
      "Data columns (total 44 columns):\n",
      " #   Column                       Non-Null Count   Dtype  \n",
      "---  ------                       --------------   -----  \n",
      " 0   isic_id                      401059 non-null  object \n",
      " 1   patient_id                   401059 non-null  object \n",
      " 2   age_approx                   401059 non-null  float64\n",
      " 3   sex                          401059 non-null  object \n",
      " 4   anatom_site_general          401059 non-null  object \n",
      " 5   clin_size_long_diam_mm       401059 non-null  float64\n",
      " 6   image_type                   401059 non-null  object \n",
      " 7   tbp_tile_type                401059 non-null  object \n",
      " 8   tbp_lv_A                     401059 non-null  float64\n",
      " 9   tbp_lv_Aext                  401059 non-null  float64\n",
      " 10  tbp_lv_B                     401059 non-null  float64\n",
      " 11  tbp_lv_Bext                  401059 non-null  float64\n",
      " 12  tbp_lv_C                     401059 non-null  float64\n",
      " 13  tbp_lv_Cext                  401059 non-null  float64\n",
      " 14  tbp_lv_H                     401059 non-null  float64\n",
      " 15  tbp_lv_Hext                  401059 non-null  float64\n",
      " 16  tbp_lv_L                     401059 non-null  float64\n",
      " 17  tbp_lv_Lext                  401059 non-null  float64\n",
      " 18  tbp_lv_areaMM2               401059 non-null  float64\n",
      " 19  tbp_lv_area_perim_ratio      401059 non-null  float64\n",
      " 20  tbp_lv_color_std_mean        401059 non-null  float64\n",
      " 21  tbp_lv_deltaA                401059 non-null  float64\n",
      " 22  tbp_lv_deltaB                401059 non-null  float64\n",
      " 23  tbp_lv_deltaL                401059 non-null  float64\n",
      " 24  tbp_lv_deltaLB               401059 non-null  float64\n",
      " 25  tbp_lv_deltaLBnorm           401059 non-null  float64\n",
      " 26  tbp_lv_eccentricity          401059 non-null  float64\n",
      " 27  tbp_lv_location              401059 non-null  object \n",
      " 28  tbp_lv_location_simple       401059 non-null  object \n",
      " 29  tbp_lv_minorAxisMM           401059 non-null  float64\n",
      " 30  tbp_lv_nevi_confidence       401059 non-null  float64\n",
      " 31  tbp_lv_norm_border           401059 non-null  float64\n",
      " 32  tbp_lv_norm_color            401059 non-null  float64\n",
      " 33  tbp_lv_perimeterMM           401059 non-null  float64\n",
      " 34  tbp_lv_radial_color_std_max  401059 non-null  float64\n",
      " 35  tbp_lv_stdL                  401059 non-null  float64\n",
      " 36  tbp_lv_stdLExt               401059 non-null  float64\n",
      " 37  tbp_lv_symm_2axis            401059 non-null  float64\n",
      " 38  tbp_lv_symm_2axis_angle      401059 non-null  int64  \n",
      " 39  tbp_lv_x                     401059 non-null  float64\n",
      " 40  tbp_lv_y                     401059 non-null  float64\n",
      " 41  tbp_lv_z                     401059 non-null  float64\n",
      " 42  attribution                  401059 non-null  object \n",
      " 43  copyright_license            401059 non-null  object \n",
      "dtypes: float64(33), int64(1), object(10)\n",
      "memory usage: 134.6+ MB\n"
     ]
    }
   ],
   "source": [
    "train_df.info()"
   ]
  },
  {
   "cell_type": "code",
   "execution_count": 23,
   "id": "47fc65e4",
   "metadata": {
    "execution": {
     "iopub.execute_input": "2024-08-28T17:28:43.257137Z",
     "iopub.status.busy": "2024-08-28T17:28:43.256737Z",
     "iopub.status.idle": "2024-08-28T17:28:43.262923Z",
     "shell.execute_reply": "2024-08-28T17:28:43.261878Z"
    },
    "papermill": {
     "duration": 0.024951,
     "end_time": "2024-08-28T17:28:43.265529",
     "exception": false,
     "start_time": "2024-08-28T17:28:43.240578",
     "status": "completed"
    },
    "tags": []
   },
   "outputs": [],
   "source": [
    "obj_but_not_cat=['image_type','copyright_license','attribution','image_type']"
   ]
  },
  {
   "cell_type": "code",
   "execution_count": 24,
   "id": "eb861a0d",
   "metadata": {
    "execution": {
     "iopub.execute_input": "2024-08-28T17:28:43.298047Z",
     "iopub.status.busy": "2024-08-28T17:28:43.297261Z",
     "iopub.status.idle": "2024-08-28T17:28:43.327015Z",
     "shell.execute_reply": "2024-08-28T17:28:43.325780Z"
    },
    "papermill": {
     "duration": 0.04852,
     "end_time": "2024-08-28T17:28:43.329276",
     "exception": false,
     "start_time": "2024-08-28T17:28:43.280756",
     "status": "completed"
    },
    "tags": []
   },
   "outputs": [
    {
     "data": {
      "text/plain": [
       "tbp_lv_location_simple\n",
       "Torso Back     121902\n",
       "Torso Front     87770\n",
       "Left Leg        53075\n",
       "Right Leg       49953\n",
       "Left Arm        36348\n",
       "Right Arm       34209\n",
       "Head & Neck     12046\n",
       "Unknown          5756\n",
       "Name: count, dtype: int64"
      ]
     },
     "execution_count": 24,
     "metadata": {},
     "output_type": "execute_result"
    }
   ],
   "source": [
    "train_df['tbp_lv_location_simple'].value_counts()"
   ]
  },
  {
   "cell_type": "code",
   "execution_count": 25,
   "id": "ee5e3130",
   "metadata": {
    "execution": {
     "iopub.execute_input": "2024-08-28T17:28:43.363022Z",
     "iopub.status.busy": "2024-08-28T17:28:43.362648Z",
     "iopub.status.idle": "2024-08-28T17:28:43.368540Z",
     "shell.execute_reply": "2024-08-28T17:28:43.367464Z"
    },
    "papermill": {
     "duration": 0.024567,
     "end_time": "2024-08-28T17:28:43.371028",
     "exception": false,
     "start_time": "2024-08-28T17:28:43.346461",
     "status": "completed"
    },
    "tags": []
   },
   "outputs": [
    {
     "name": "stdout",
     "output_type": "stream",
     "text": [
      "isic_id\n",
      "patient_id\n",
      "sex\n",
      "anatom_site_general\n",
      "image_type\n",
      "tbp_tile_type\n",
      "tbp_lv_location\n",
      "tbp_lv_location_simple\n",
      "attribution\n",
      "copyright_license\n"
     ]
    }
   ],
   "source": [
    "for col in train_df.columns:\n",
    "    if train_df[col].dtype=='object':\n",
    "        print(col)"
   ]
  },
  {
   "cell_type": "code",
   "execution_count": 26,
   "id": "56304050",
   "metadata": {
    "execution": {
     "iopub.execute_input": "2024-08-28T17:28:43.404265Z",
     "iopub.status.busy": "2024-08-28T17:28:43.403003Z",
     "iopub.status.idle": "2024-08-28T17:28:43.408934Z",
     "shell.execute_reply": "2024-08-28T17:28:43.408080Z"
    },
    "papermill": {
     "duration": 0.024912,
     "end_time": "2024-08-28T17:28:43.411108",
     "exception": false,
     "start_time": "2024-08-28T17:28:43.386196",
     "status": "completed"
    },
    "tags": []
   },
   "outputs": [],
   "source": [
    "cat_labels=[col for col in train_df.columns if (train_df[col].dtype=='object' and col not in obj_but_not_cat and col!='isic_id' and col!='patient_id')]"
   ]
  },
  {
   "cell_type": "code",
   "execution_count": 27,
   "id": "2c157a3f",
   "metadata": {
    "execution": {
     "iopub.execute_input": "2024-08-28T17:28:43.443584Z",
     "iopub.status.busy": "2024-08-28T17:28:43.443194Z",
     "iopub.status.idle": "2024-08-28T17:28:43.450137Z",
     "shell.execute_reply": "2024-08-28T17:28:43.449147Z"
    },
    "papermill": {
     "duration": 0.02539,
     "end_time": "2024-08-28T17:28:43.452280",
     "exception": false,
     "start_time": "2024-08-28T17:28:43.426890",
     "status": "completed"
    },
    "tags": []
   },
   "outputs": [
    {
     "data": {
      "text/plain": [
       "['sex',\n",
       " 'anatom_site_general',\n",
       " 'tbp_tile_type',\n",
       " 'tbp_lv_location',\n",
       " 'tbp_lv_location_simple']"
      ]
     },
     "execution_count": 27,
     "metadata": {},
     "output_type": "execute_result"
    }
   ],
   "source": [
    "cat_labels"
   ]
  },
  {
   "cell_type": "code",
   "execution_count": 28,
   "id": "195f310c",
   "metadata": {
    "execution": {
     "iopub.execute_input": "2024-08-28T17:28:43.484629Z",
     "iopub.status.busy": "2024-08-28T17:28:43.483995Z",
     "iopub.status.idle": "2024-08-28T17:28:44.630700Z",
     "shell.execute_reply": "2024-08-28T17:28:44.629668Z"
    },
    "papermill": {
     "duration": 1.165678,
     "end_time": "2024-08-28T17:28:44.633287",
     "exception": false,
     "start_time": "2024-08-28T17:28:43.467609",
     "status": "completed"
    },
    "tags": []
   },
   "outputs": [],
   "source": [
    "encoder = OneHotEncoder(sparse_output=False, drop='first')\n",
    "one_hot_encoded = encoder.fit_transform(train_df[cat_labels])\n",
    "one_hot_df = pd.DataFrame(one_hot_encoded, columns=encoder.get_feature_names_out(cat_labels))\n",
    "train_df_encoded = pd.concat([train_df.drop(columns=cat_labels), one_hot_df], axis=1)"
   ]
  },
  {
   "cell_type": "code",
   "execution_count": 29,
   "id": "b493128b",
   "metadata": {
    "execution": {
     "iopub.execute_input": "2024-08-28T17:28:44.665835Z",
     "iopub.status.busy": "2024-08-28T17:28:44.665373Z",
     "iopub.status.idle": "2024-08-28T17:28:44.675829Z",
     "shell.execute_reply": "2024-08-28T17:28:44.674680Z"
    },
    "papermill": {
     "duration": 0.029357,
     "end_time": "2024-08-28T17:28:44.678091",
     "exception": false,
     "start_time": "2024-08-28T17:28:44.648734",
     "status": "completed"
    },
    "tags": []
   },
   "outputs": [],
   "source": [
    "one_hot_encoded_2 = encoder.transform(test[cat_labels])\n",
    "one_hot_df_2 = pd.DataFrame(one_hot_encoded_2, columns=encoder.get_feature_names_out(cat_labels))\n",
    "test_df_encoded = pd.concat([test.drop(columns=cat_labels), one_hot_df_2], axis=1)"
   ]
  },
  {
   "cell_type": "code",
   "execution_count": 30,
   "id": "fd49100e",
   "metadata": {
    "execution": {
     "iopub.execute_input": "2024-08-28T17:28:44.710948Z",
     "iopub.status.busy": "2024-08-28T17:28:44.710059Z",
     "iopub.status.idle": "2024-08-28T17:28:44.716741Z",
     "shell.execute_reply": "2024-08-28T17:28:44.715743Z"
    },
    "papermill": {
     "duration": 0.025769,
     "end_time": "2024-08-28T17:28:44.719232",
     "exception": false,
     "start_time": "2024-08-28T17:28:44.693463",
     "status": "completed"
    },
    "tags": []
   },
   "outputs": [
    {
     "data": {
      "text/plain": [
       "((3, 72), (401059, 72))"
      ]
     },
     "execution_count": 30,
     "metadata": {},
     "output_type": "execute_result"
    }
   ],
   "source": [
    "test_df_encoded.shape,train_df_encoded.shape"
   ]
  },
  {
   "cell_type": "code",
   "execution_count": 31,
   "id": "93e12c8e",
   "metadata": {
    "execution": {
     "iopub.execute_input": "2024-08-28T17:28:44.752833Z",
     "iopub.status.busy": "2024-08-28T17:28:44.752433Z",
     "iopub.status.idle": "2024-08-28T17:28:44.759337Z",
     "shell.execute_reply": "2024-08-28T17:28:44.758259Z"
    },
    "papermill": {
     "duration": 0.026241,
     "end_time": "2024-08-28T17:28:44.761453",
     "exception": false,
     "start_time": "2024-08-28T17:28:44.735212",
     "status": "completed"
    },
    "tags": []
   },
   "outputs": [
    {
     "data": {
      "text/plain": [
       "['sex',\n",
       " 'anatom_site_general',\n",
       " 'tbp_tile_type',\n",
       " 'tbp_lv_location',\n",
       " 'tbp_lv_location_simple']"
      ]
     },
     "execution_count": 31,
     "metadata": {},
     "output_type": "execute_result"
    }
   ],
   "source": [
    "cat_labels"
   ]
  },
  {
   "cell_type": "code",
   "execution_count": 32,
   "id": "dd963fc4",
   "metadata": {
    "execution": {
     "iopub.execute_input": "2024-08-28T17:28:44.794653Z",
     "iopub.status.busy": "2024-08-28T17:28:44.794134Z",
     "iopub.status.idle": "2024-08-28T17:28:44.888029Z",
     "shell.execute_reply": "2024-08-28T17:28:44.886715Z"
    },
    "papermill": {
     "duration": 0.113647,
     "end_time": "2024-08-28T17:28:44.890665",
     "exception": false,
     "start_time": "2024-08-28T17:28:44.777018",
     "status": "completed"
    },
    "tags": []
   },
   "outputs": [],
   "source": [
    "df1=train_df_encoded.drop(obj_but_not_cat,axis=1)\n",
    "df2=test_df_encoded.drop(obj_but_not_cat,axis=1)"
   ]
  },
  {
   "cell_type": "code",
   "execution_count": 33,
   "id": "3f63969f",
   "metadata": {
    "execution": {
     "iopub.execute_input": "2024-08-28T17:28:44.923714Z",
     "iopub.status.busy": "2024-08-28T17:28:44.923268Z",
     "iopub.status.idle": "2024-08-28T17:28:44.929787Z",
     "shell.execute_reply": "2024-08-28T17:28:44.928507Z"
    },
    "papermill": {
     "duration": 0.025546,
     "end_time": "2024-08-28T17:28:44.932021",
     "exception": false,
     "start_time": "2024-08-28T17:28:44.906475",
     "status": "completed"
    },
    "tags": []
   },
   "outputs": [],
   "source": [
    "df1['targets']=targets"
   ]
  },
  {
   "cell_type": "code",
   "execution_count": 34,
   "id": "04902f39",
   "metadata": {
    "execution": {
     "iopub.execute_input": "2024-08-28T17:28:44.964705Z",
     "iopub.status.busy": "2024-08-28T17:28:44.964268Z",
     "iopub.status.idle": "2024-08-28T17:28:44.971231Z",
     "shell.execute_reply": "2024-08-28T17:28:44.970003Z"
    },
    "papermill": {
     "duration": 0.026125,
     "end_time": "2024-08-28T17:28:44.973719",
     "exception": false,
     "start_time": "2024-08-28T17:28:44.947594",
     "status": "completed"
    },
    "tags": []
   },
   "outputs": [
    {
     "data": {
      "text/plain": [
       "(401059, 70)"
      ]
     },
     "execution_count": 34,
     "metadata": {},
     "output_type": "execute_result"
    }
   ],
   "source": [
    "df1.shape"
   ]
  },
  {
   "cell_type": "code",
   "execution_count": 35,
   "id": "4ad712c7",
   "metadata": {
    "execution": {
     "iopub.execute_input": "2024-08-28T17:28:45.006945Z",
     "iopub.status.busy": "2024-08-28T17:28:45.006569Z",
     "iopub.status.idle": "2024-08-28T17:28:45.131736Z",
     "shell.execute_reply": "2024-08-28T17:28:45.130698Z"
    },
    "papermill": {
     "duration": 0.144833,
     "end_time": "2024-08-28T17:28:45.134397",
     "exception": false,
     "start_time": "2024-08-28T17:28:44.989564",
     "status": "completed"
    },
    "tags": []
   },
   "outputs": [],
   "source": [
    "benign,malignant=df1[df1['targets']==0],df1[df1['targets']==1]"
   ]
  },
  {
   "cell_type": "code",
   "execution_count": 36,
   "id": "f9cab7d2",
   "metadata": {
    "execution": {
     "iopub.execute_input": "2024-08-28T17:28:45.168283Z",
     "iopub.status.busy": "2024-08-28T17:28:45.167934Z",
     "iopub.status.idle": "2024-08-28T17:28:45.174739Z",
     "shell.execute_reply": "2024-08-28T17:28:45.173648Z"
    },
    "papermill": {
     "duration": 0.025932,
     "end_time": "2024-08-28T17:28:45.176917",
     "exception": false,
     "start_time": "2024-08-28T17:28:45.150985",
     "status": "completed"
    },
    "tags": []
   },
   "outputs": [
    {
     "data": {
      "text/plain": [
       "((400666, 70), (393, 70))"
      ]
     },
     "execution_count": 36,
     "metadata": {},
     "output_type": "execute_result"
    }
   ],
   "source": [
    "benign.shape,malignant.shape"
   ]
  },
  {
   "cell_type": "code",
   "execution_count": 37,
   "id": "a82f16d9",
   "metadata": {
    "execution": {
     "iopub.execute_input": "2024-08-28T17:28:45.210709Z",
     "iopub.status.busy": "2024-08-28T17:28:45.210274Z",
     "iopub.status.idle": "2024-08-28T17:28:45.215255Z",
     "shell.execute_reply": "2024-08-28T17:28:45.214219Z"
    },
    "papermill": {
     "duration": 0.024695,
     "end_time": "2024-08-28T17:28:45.217492",
     "exception": false,
     "start_time": "2024-08-28T17:28:45.192797",
     "status": "completed"
    },
    "tags": []
   },
   "outputs": [],
   "source": [
    "X=df1\n",
    "y=targets"
   ]
  },
  {
   "cell_type": "code",
   "execution_count": 38,
   "id": "b770ee2c",
   "metadata": {
    "execution": {
     "iopub.execute_input": "2024-08-28T17:28:45.251685Z",
     "iopub.status.busy": "2024-08-28T17:28:45.251274Z",
     "iopub.status.idle": "2024-08-28T17:28:45.257985Z",
     "shell.execute_reply": "2024-08-28T17:28:45.256927Z"
    },
    "papermill": {
     "duration": 0.026615,
     "end_time": "2024-08-28T17:28:45.260205",
     "exception": false,
     "start_time": "2024-08-28T17:28:45.233590",
     "status": "completed"
    },
    "tags": []
   },
   "outputs": [
    {
     "data": {
      "text/plain": [
       "((401059, 70), (401059,))"
      ]
     },
     "execution_count": 38,
     "metadata": {},
     "output_type": "execute_result"
    }
   ],
   "source": [
    "X.shape,y.shape"
   ]
  },
  {
   "cell_type": "code",
   "execution_count": 39,
   "id": "063e6ef7",
   "metadata": {
    "execution": {
     "iopub.execute_input": "2024-08-28T17:28:45.294480Z",
     "iopub.status.busy": "2024-08-28T17:28:45.293793Z",
     "iopub.status.idle": "2024-08-28T17:28:45.300843Z",
     "shell.execute_reply": "2024-08-28T17:28:45.299492Z"
    },
    "papermill": {
     "duration": 0.026873,
     "end_time": "2024-08-28T17:28:45.303114",
     "exception": false,
     "start_time": "2024-08-28T17:28:45.276241",
     "status": "completed"
    },
    "tags": []
   },
   "outputs": [
    {
     "data": {
      "text/plain": [
       "70"
      ]
     },
     "execution_count": 39,
     "metadata": {},
     "output_type": "execute_result"
    }
   ],
   "source": [
    "len(df1.columns)"
   ]
  },
  {
   "cell_type": "code",
   "execution_count": 40,
   "id": "7081f1c1",
   "metadata": {
    "execution": {
     "iopub.execute_input": "2024-08-28T17:28:45.336947Z",
     "iopub.status.busy": "2024-08-28T17:28:45.336571Z",
     "iopub.status.idle": "2024-08-28T17:29:15.562183Z",
     "shell.execute_reply": "2024-08-28T17:29:15.560785Z"
    },
    "papermill": {
     "duration": 30.245591,
     "end_time": "2024-08-28T17:29:15.564928",
     "exception": false,
     "start_time": "2024-08-28T17:28:45.319337",
     "status": "completed"
    },
    "tags": []
   },
   "outputs": [
    {
     "name": "stdout",
     "output_type": "stream",
     "text": [
      "Collecting faiss-cpu\r\n",
      "  Downloading faiss_cpu-1.8.0.post1-cp310-cp310-manylinux_2_17_x86_64.manylinux2014_x86_64.whl.metadata (3.7 kB)\r\n",
      "Requirement already satisfied: numpy<2.0,>=1.0 in /opt/conda/lib/python3.10/site-packages (from faiss-cpu) (1.26.4)\r\n",
      "Requirement already satisfied: packaging in /opt/conda/lib/python3.10/site-packages (from faiss-cpu) (21.3)\r\n",
      "Requirement already satisfied: pyparsing!=3.0.5,>=2.0.2 in /opt/conda/lib/python3.10/site-packages (from packaging->faiss-cpu) (3.1.1)\r\n",
      "Downloading faiss_cpu-1.8.0.post1-cp310-cp310-manylinux_2_17_x86_64.manylinux2014_x86_64.whl (27.0 MB)\r\n",
      "\u001b[2K   \u001b[90m━━━━━━━━━━━━━━━━━━━━━━━━━━━━━━━━━━━━━━━━\u001b[0m \u001b[32m27.0/27.0 MB\u001b[0m \u001b[31m61.7 MB/s\u001b[0m eta \u001b[36m0:00:00\u001b[0m\r\n",
      "\u001b[?25hInstalling collected packages: faiss-cpu\r\n",
      "Successfully installed faiss-cpu-1.8.0.post1\r\n",
      "Collecting faiss-gpu\r\n",
      "  Downloading faiss_gpu-1.7.2-cp310-cp310-manylinux_2_17_x86_64.manylinux2014_x86_64.whl.metadata (1.4 kB)\r\n",
      "Downloading faiss_gpu-1.7.2-cp310-cp310-manylinux_2_17_x86_64.manylinux2014_x86_64.whl (85.5 MB)\r\n",
      "\u001b[2K   \u001b[90m━━━━━━━━━━━━━━━━━━━━━━━━━━━━━━━━━━━━━━━━\u001b[0m \u001b[32m85.5/85.5 MB\u001b[0m \u001b[31m19.2 MB/s\u001b[0m eta \u001b[36m0:00:00\u001b[0m\r\n",
      "\u001b[?25hInstalling collected packages: faiss-gpu\r\n",
      "Successfully installed faiss-gpu-1.7.2\r\n"
     ]
    }
   ],
   "source": [
    "!pip install faiss-cpu\n",
    "!pip install faiss-gpu"
   ]
  },
  {
   "cell_type": "code",
   "execution_count": 41,
   "id": "622c6a6b",
   "metadata": {
    "execution": {
     "iopub.execute_input": "2024-08-28T17:29:15.605295Z",
     "iopub.status.busy": "2024-08-28T17:29:15.604883Z",
     "iopub.status.idle": "2024-08-28T17:29:15.734928Z",
     "shell.execute_reply": "2024-08-28T17:29:15.733574Z"
    },
    "papermill": {
     "duration": 0.152744,
     "end_time": "2024-08-28T17:29:15.737450",
     "exception": false,
     "start_time": "2024-08-28T17:29:15.584706",
     "status": "completed"
    },
    "tags": []
   },
   "outputs": [
    {
     "name": "stdout",
     "output_type": "stream",
     "text": [
      "<class 'pandas.core.frame.DataFrame'>\n",
      "Index: 393 entries, 387 to 400922\n",
      "Data columns (total 70 columns):\n",
      " #   Column                                   Non-Null Count  Dtype  \n",
      "---  ------                                   --------------  -----  \n",
      " 0   isic_id                                  393 non-null    object \n",
      " 1   patient_id                               393 non-null    object \n",
      " 2   age_approx                               393 non-null    float64\n",
      " 3   clin_size_long_diam_mm                   393 non-null    float64\n",
      " 4   tbp_lv_A                                 393 non-null    float64\n",
      " 5   tbp_lv_Aext                              393 non-null    float64\n",
      " 6   tbp_lv_B                                 393 non-null    float64\n",
      " 7   tbp_lv_Bext                              393 non-null    float64\n",
      " 8   tbp_lv_C                                 393 non-null    float64\n",
      " 9   tbp_lv_Cext                              393 non-null    float64\n",
      " 10  tbp_lv_H                                 393 non-null    float64\n",
      " 11  tbp_lv_Hext                              393 non-null    float64\n",
      " 12  tbp_lv_L                                 393 non-null    float64\n",
      " 13  tbp_lv_Lext                              393 non-null    float64\n",
      " 14  tbp_lv_areaMM2                           393 non-null    float64\n",
      " 15  tbp_lv_area_perim_ratio                  393 non-null    float64\n",
      " 16  tbp_lv_color_std_mean                    393 non-null    float64\n",
      " 17  tbp_lv_deltaA                            393 non-null    float64\n",
      " 18  tbp_lv_deltaB                            393 non-null    float64\n",
      " 19  tbp_lv_deltaL                            393 non-null    float64\n",
      " 20  tbp_lv_deltaLB                           393 non-null    float64\n",
      " 21  tbp_lv_deltaLBnorm                       393 non-null    float64\n",
      " 22  tbp_lv_eccentricity                      393 non-null    float64\n",
      " 23  tbp_lv_minorAxisMM                       393 non-null    float64\n",
      " 24  tbp_lv_nevi_confidence                   393 non-null    float64\n",
      " 25  tbp_lv_norm_border                       393 non-null    float64\n",
      " 26  tbp_lv_norm_color                        393 non-null    float64\n",
      " 27  tbp_lv_perimeterMM                       393 non-null    float64\n",
      " 28  tbp_lv_radial_color_std_max              393 non-null    float64\n",
      " 29  tbp_lv_stdL                              393 non-null    float64\n",
      " 30  tbp_lv_stdLExt                           393 non-null    float64\n",
      " 31  tbp_lv_symm_2axis                        393 non-null    float64\n",
      " 32  tbp_lv_symm_2axis_angle                  393 non-null    int64  \n",
      " 33  tbp_lv_x                                 393 non-null    float64\n",
      " 34  tbp_lv_y                                 393 non-null    float64\n",
      " 35  tbp_lv_z                                 393 non-null    float64\n",
      " 36  sex_male                                 393 non-null    float64\n",
      " 37  anatom_site_general_head/neck            393 non-null    float64\n",
      " 38  anatom_site_general_lower extremity      393 non-null    float64\n",
      " 39  anatom_site_general_posterior torso      393 non-null    float64\n",
      " 40  anatom_site_general_upper extremity      393 non-null    float64\n",
      " 41  tbp_tile_type_3D: white                  393 non-null    float64\n",
      " 42  tbp_lv_location_Left Arm                 393 non-null    float64\n",
      " 43  tbp_lv_location_Left Arm - Lower         393 non-null    float64\n",
      " 44  tbp_lv_location_Left Arm - Upper         393 non-null    float64\n",
      " 45  tbp_lv_location_Left Leg                 393 non-null    float64\n",
      " 46  tbp_lv_location_Left Leg - Lower         393 non-null    float64\n",
      " 47  tbp_lv_location_Left Leg - Upper         393 non-null    float64\n",
      " 48  tbp_lv_location_Right Arm                393 non-null    float64\n",
      " 49  tbp_lv_location_Right Arm - Lower        393 non-null    float64\n",
      " 50  tbp_lv_location_Right Arm - Upper        393 non-null    float64\n",
      " 51  tbp_lv_location_Right Leg                393 non-null    float64\n",
      " 52  tbp_lv_location_Right Leg - Lower        393 non-null    float64\n",
      " 53  tbp_lv_location_Right Leg - Upper        393 non-null    float64\n",
      " 54  tbp_lv_location_Torso Back               393 non-null    float64\n",
      " 55  tbp_lv_location_Torso Back Bottom Third  393 non-null    float64\n",
      " 56  tbp_lv_location_Torso Back Middle Third  393 non-null    float64\n",
      " 57  tbp_lv_location_Torso Back Top Third     393 non-null    float64\n",
      " 58  tbp_lv_location_Torso Front              393 non-null    float64\n",
      " 59  tbp_lv_location_Torso Front Bottom Half  393 non-null    float64\n",
      " 60  tbp_lv_location_Torso Front Top Half     393 non-null    float64\n",
      " 61  tbp_lv_location_Unknown                  393 non-null    float64\n",
      " 62  tbp_lv_location_simple_Left Arm          393 non-null    float64\n",
      " 63  tbp_lv_location_simple_Left Leg          393 non-null    float64\n",
      " 64  tbp_lv_location_simple_Right Arm         393 non-null    float64\n",
      " 65  tbp_lv_location_simple_Right Leg         393 non-null    float64\n",
      " 66  tbp_lv_location_simple_Torso Back        393 non-null    float64\n",
      " 67  tbp_lv_location_simple_Torso Front       393 non-null    float64\n",
      " 68  tbp_lv_location_simple_Unknown           393 non-null    float64\n",
      " 69  targets                                  393 non-null    int64  \n",
      "dtypes: float64(66), int64(2), object(2)\n",
      "memory usage: 218.0+ KB\n",
      "<class 'pandas.core.frame.DataFrame'>\n",
      "Index: 400666 entries, 0 to 401058\n",
      "Data columns (total 70 columns):\n",
      " #   Column                                   Non-Null Count   Dtype  \n",
      "---  ------                                   --------------   -----  \n",
      " 0   isic_id                                  400666 non-null  object \n",
      " 1   patient_id                               400666 non-null  object \n",
      " 2   age_approx                               400666 non-null  float64\n",
      " 3   clin_size_long_diam_mm                   400666 non-null  float64\n",
      " 4   tbp_lv_A                                 400666 non-null  float64\n",
      " 5   tbp_lv_Aext                              400666 non-null  float64\n",
      " 6   tbp_lv_B                                 400666 non-null  float64\n",
      " 7   tbp_lv_Bext                              400666 non-null  float64\n",
      " 8   tbp_lv_C                                 400666 non-null  float64\n",
      " 9   tbp_lv_Cext                              400666 non-null  float64\n",
      " 10  tbp_lv_H                                 400666 non-null  float64\n",
      " 11  tbp_lv_Hext                              400666 non-null  float64\n",
      " 12  tbp_lv_L                                 400666 non-null  float64\n",
      " 13  tbp_lv_Lext                              400666 non-null  float64\n",
      " 14  tbp_lv_areaMM2                           400666 non-null  float64\n",
      " 15  tbp_lv_area_perim_ratio                  400666 non-null  float64\n",
      " 16  tbp_lv_color_std_mean                    400666 non-null  float64\n",
      " 17  tbp_lv_deltaA                            400666 non-null  float64\n",
      " 18  tbp_lv_deltaB                            400666 non-null  float64\n",
      " 19  tbp_lv_deltaL                            400666 non-null  float64\n",
      " 20  tbp_lv_deltaLB                           400666 non-null  float64\n",
      " 21  tbp_lv_deltaLBnorm                       400666 non-null  float64\n",
      " 22  tbp_lv_eccentricity                      400666 non-null  float64\n",
      " 23  tbp_lv_minorAxisMM                       400666 non-null  float64\n",
      " 24  tbp_lv_nevi_confidence                   400666 non-null  float64\n",
      " 25  tbp_lv_norm_border                       400666 non-null  float64\n",
      " 26  tbp_lv_norm_color                        400666 non-null  float64\n",
      " 27  tbp_lv_perimeterMM                       400666 non-null  float64\n",
      " 28  tbp_lv_radial_color_std_max              400666 non-null  float64\n",
      " 29  tbp_lv_stdL                              400666 non-null  float64\n",
      " 30  tbp_lv_stdLExt                           400666 non-null  float64\n",
      " 31  tbp_lv_symm_2axis                        400666 non-null  float64\n",
      " 32  tbp_lv_symm_2axis_angle                  400666 non-null  int64  \n",
      " 33  tbp_lv_x                                 400666 non-null  float64\n",
      " 34  tbp_lv_y                                 400666 non-null  float64\n",
      " 35  tbp_lv_z                                 400666 non-null  float64\n",
      " 36  sex_male                                 400666 non-null  float64\n",
      " 37  anatom_site_general_head/neck            400666 non-null  float64\n",
      " 38  anatom_site_general_lower extremity      400666 non-null  float64\n",
      " 39  anatom_site_general_posterior torso      400666 non-null  float64\n",
      " 40  anatom_site_general_upper extremity      400666 non-null  float64\n",
      " 41  tbp_tile_type_3D: white                  400666 non-null  float64\n",
      " 42  tbp_lv_location_Left Arm                 400666 non-null  float64\n",
      " 43  tbp_lv_location_Left Arm - Lower         400666 non-null  float64\n",
      " 44  tbp_lv_location_Left Arm - Upper         400666 non-null  float64\n",
      " 45  tbp_lv_location_Left Leg                 400666 non-null  float64\n",
      " 46  tbp_lv_location_Left Leg - Lower         400666 non-null  float64\n",
      " 47  tbp_lv_location_Left Leg - Upper         400666 non-null  float64\n",
      " 48  tbp_lv_location_Right Arm                400666 non-null  float64\n",
      " 49  tbp_lv_location_Right Arm - Lower        400666 non-null  float64\n",
      " 50  tbp_lv_location_Right Arm - Upper        400666 non-null  float64\n",
      " 51  tbp_lv_location_Right Leg                400666 non-null  float64\n",
      " 52  tbp_lv_location_Right Leg - Lower        400666 non-null  float64\n",
      " 53  tbp_lv_location_Right Leg - Upper        400666 non-null  float64\n",
      " 54  tbp_lv_location_Torso Back               400666 non-null  float64\n",
      " 55  tbp_lv_location_Torso Back Bottom Third  400666 non-null  float64\n",
      " 56  tbp_lv_location_Torso Back Middle Third  400666 non-null  float64\n",
      " 57  tbp_lv_location_Torso Back Top Third     400666 non-null  float64\n",
      " 58  tbp_lv_location_Torso Front              400666 non-null  float64\n",
      " 59  tbp_lv_location_Torso Front Bottom Half  400666 non-null  float64\n",
      " 60  tbp_lv_location_Torso Front Top Half     400666 non-null  float64\n",
      " 61  tbp_lv_location_Unknown                  400666 non-null  float64\n",
      " 62  tbp_lv_location_simple_Left Arm          400666 non-null  float64\n",
      " 63  tbp_lv_location_simple_Left Leg          400666 non-null  float64\n",
      " 64  tbp_lv_location_simple_Right Arm         400666 non-null  float64\n",
      " 65  tbp_lv_location_simple_Right Leg         400666 non-null  float64\n",
      " 66  tbp_lv_location_simple_Torso Back        400666 non-null  float64\n",
      " 67  tbp_lv_location_simple_Torso Front       400666 non-null  float64\n",
      " 68  tbp_lv_location_simple_Unknown           400666 non-null  float64\n",
      " 69  targets                                  400666 non-null  int64  \n",
      "dtypes: float64(66), int64(2), object(2)\n",
      "memory usage: 217.0+ MB\n"
     ]
    },
    {
     "data": {
      "text/plain": [
       "(None, None)"
      ]
     },
     "execution_count": 41,
     "metadata": {},
     "output_type": "execute_result"
    }
   ],
   "source": [
    "malignant.info(),benign.info()"
   ]
  },
  {
   "cell_type": "code",
   "execution_count": 42,
   "id": "c2e9f5df",
   "metadata": {
    "execution": {
     "iopub.execute_input": "2024-08-28T17:29:15.778455Z",
     "iopub.status.busy": "2024-08-28T17:29:15.778020Z",
     "iopub.status.idle": "2024-08-28T17:38:05.568248Z",
     "shell.execute_reply": "2024-08-28T17:38:05.566844Z"
    },
    "papermill": {
     "duration": 529.813925,
     "end_time": "2024-08-28T17:38:05.571004",
     "exception": false,
     "start_time": "2024-08-28T17:29:15.757079",
     "status": "completed"
    },
    "tags": []
   },
   "outputs": [],
   "source": [
    "import pandas as pd\n",
    "import numpy as np\n",
    "import faiss\n",
    "\n",
    "positive_examples = malignant\n",
    "negative_examples = benign\n",
    "negative_features=benign.drop([\"isic_id\",'patient_id'],axis=1).values.astype('float32')\n",
    "negative_features = np.ascontiguousarray(negative_features)\n",
    "faiss.normalize_L2(negative_features)\n",
    "d = negative_features.shape[1]\n",
    "nlist = 2530\n",
    "index = faiss.IndexFlatIP(d)\n",
    "index.add(negative_features)\n",
    "k = 100\n",
    "D, I = index.search(negative_features, k)\n",
    "selected_indices = []\n",
    "for i in range(len(I)):\n",
    "    if len(selected_indices) >= 393:\n",
    "        break\n",
    "    if i not in selected_indices:\n",
    "        neighbors = I[i]\n",
    "        selected_indices.append(i)\n",
    "        for neighbor in neighbors[1:]:\n",
    "            if len(selected_indices) < 10000 and neighbor not in selected_indices:\n",
    "                selected_indices.append(neighbor)"
   ]
  },
  {
   "cell_type": "code",
   "execution_count": 43,
   "id": "575cd17d",
   "metadata": {
    "execution": {
     "iopub.execute_input": "2024-08-28T17:38:05.610542Z",
     "iopub.status.busy": "2024-08-28T17:38:05.610136Z",
     "iopub.status.idle": "2024-08-28T17:38:05.677213Z",
     "shell.execute_reply": "2024-08-28T17:38:05.675780Z"
    },
    "papermill": {
     "duration": 0.089531,
     "end_time": "2024-08-28T17:38:05.679711",
     "exception": false,
     "start_time": "2024-08-28T17:38:05.590180",
     "status": "completed"
    },
    "tags": []
   },
   "outputs": [
    {
     "name": "stdout",
     "output_type": "stream",
     "text": [
      "New undersampled dataset saved with shape: (793, 70)\n"
     ]
    }
   ],
   "source": [
    "selected_negative_examples = negative_examples.iloc[selected_indices]\n",
    "undersampled_df = pd.concat([positive_examples, selected_negative_examples])\n",
    "undersampled_df = undersampled_df.sample(frac=1, random_state=42).reset_index(drop=True)\n",
    "undersampled_df.to_csv('undersampled_dataset.csv', index=False)\n",
    "print(\"New undersampled dataset saved with shape:\", undersampled_df.shape)"
   ]
  },
  {
   "cell_type": "code",
   "execution_count": 44,
   "id": "0e70680d",
   "metadata": {
    "execution": {
     "iopub.execute_input": "2024-08-28T17:38:05.720076Z",
     "iopub.status.busy": "2024-08-28T17:38:05.719296Z",
     "iopub.status.idle": "2024-08-28T17:38:05.748454Z",
     "shell.execute_reply": "2024-08-28T17:38:05.747342Z"
    },
    "papermill": {
     "duration": 0.051676,
     "end_time": "2024-08-28T17:38:05.750625",
     "exception": false,
     "start_time": "2024-08-28T17:38:05.698949",
     "status": "completed"
    },
    "tags": []
   },
   "outputs": [
    {
     "data": {
      "text/html": [
       "<div>\n",
       "<style scoped>\n",
       "    .dataframe tbody tr th:only-of-type {\n",
       "        vertical-align: middle;\n",
       "    }\n",
       "\n",
       "    .dataframe tbody tr th {\n",
       "        vertical-align: top;\n",
       "    }\n",
       "\n",
       "    .dataframe thead th {\n",
       "        text-align: right;\n",
       "    }\n",
       "</style>\n",
       "<table border=\"1\" class=\"dataframe\">\n",
       "  <thead>\n",
       "    <tr style=\"text-align: right;\">\n",
       "      <th></th>\n",
       "      <th>isic_id</th>\n",
       "      <th>patient_id</th>\n",
       "      <th>age_approx</th>\n",
       "      <th>clin_size_long_diam_mm</th>\n",
       "      <th>tbp_lv_A</th>\n",
       "      <th>tbp_lv_Aext</th>\n",
       "      <th>tbp_lv_B</th>\n",
       "      <th>tbp_lv_Bext</th>\n",
       "      <th>tbp_lv_C</th>\n",
       "      <th>tbp_lv_Cext</th>\n",
       "      <th>...</th>\n",
       "      <th>tbp_lv_location_Torso Front Top Half</th>\n",
       "      <th>tbp_lv_location_Unknown</th>\n",
       "      <th>tbp_lv_location_simple_Left Arm</th>\n",
       "      <th>tbp_lv_location_simple_Left Leg</th>\n",
       "      <th>tbp_lv_location_simple_Right Arm</th>\n",
       "      <th>tbp_lv_location_simple_Right Leg</th>\n",
       "      <th>tbp_lv_location_simple_Torso Back</th>\n",
       "      <th>tbp_lv_location_simple_Torso Front</th>\n",
       "      <th>tbp_lv_location_simple_Unknown</th>\n",
       "      <th>targets</th>\n",
       "    </tr>\n",
       "  </thead>\n",
       "  <tbody>\n",
       "    <tr>\n",
       "      <th>0</th>\n",
       "      <td>ISIC_3744161</td>\n",
       "      <td>IP_6774617</td>\n",
       "      <td>70.0</td>\n",
       "      <td>18.94</td>\n",
       "      <td>23.187170</td>\n",
       "      <td>15.247230</td>\n",
       "      <td>21.312360</td>\n",
       "      <td>19.749130</td>\n",
       "      <td>31.493840</td>\n",
       "      <td>24.950070</td>\n",
       "      <td>...</td>\n",
       "      <td>1.0</td>\n",
       "      <td>0.0</td>\n",
       "      <td>0.0</td>\n",
       "      <td>0.0</td>\n",
       "      <td>0.0</td>\n",
       "      <td>0.0</td>\n",
       "      <td>0.0</td>\n",
       "      <td>1.0</td>\n",
       "      <td>0.0</td>\n",
       "      <td>1</td>\n",
       "    </tr>\n",
       "    <tr>\n",
       "      <th>1</th>\n",
       "      <td>ISIC_5190198</td>\n",
       "      <td>IP_4549819</td>\n",
       "      <td>70.0</td>\n",
       "      <td>1.43</td>\n",
       "      <td>25.816622</td>\n",
       "      <td>21.771157</td>\n",
       "      <td>29.825940</td>\n",
       "      <td>28.432124</td>\n",
       "      <td>39.447239</td>\n",
       "      <td>35.810180</td>\n",
       "      <td>...</td>\n",
       "      <td>1.0</td>\n",
       "      <td>0.0</td>\n",
       "      <td>0.0</td>\n",
       "      <td>0.0</td>\n",
       "      <td>0.0</td>\n",
       "      <td>0.0</td>\n",
       "      <td>0.0</td>\n",
       "      <td>1.0</td>\n",
       "      <td>0.0</td>\n",
       "      <td>1</td>\n",
       "    </tr>\n",
       "    <tr>\n",
       "      <th>2</th>\n",
       "      <td>ISIC_1953444</td>\n",
       "      <td>IP_5961877</td>\n",
       "      <td>75.0</td>\n",
       "      <td>2.72</td>\n",
       "      <td>15.642950</td>\n",
       "      <td>13.231200</td>\n",
       "      <td>22.312940</td>\n",
       "      <td>20.691690</td>\n",
       "      <td>27.250120</td>\n",
       "      <td>24.560340</td>\n",
       "      <td>...</td>\n",
       "      <td>1.0</td>\n",
       "      <td>0.0</td>\n",
       "      <td>0.0</td>\n",
       "      <td>0.0</td>\n",
       "      <td>0.0</td>\n",
       "      <td>0.0</td>\n",
       "      <td>0.0</td>\n",
       "      <td>1.0</td>\n",
       "      <td>0.0</td>\n",
       "      <td>0</td>\n",
       "    </tr>\n",
       "    <tr>\n",
       "      <th>3</th>\n",
       "      <td>ISIC_3625251</td>\n",
       "      <td>IP_0826114</td>\n",
       "      <td>55.0</td>\n",
       "      <td>2.62</td>\n",
       "      <td>18.170007</td>\n",
       "      <td>14.372706</td>\n",
       "      <td>27.978875</td>\n",
       "      <td>26.308505</td>\n",
       "      <td>33.361154</td>\n",
       "      <td>29.978527</td>\n",
       "      <td>...</td>\n",
       "      <td>0.0</td>\n",
       "      <td>0.0</td>\n",
       "      <td>0.0</td>\n",
       "      <td>0.0</td>\n",
       "      <td>0.0</td>\n",
       "      <td>0.0</td>\n",
       "      <td>1.0</td>\n",
       "      <td>0.0</td>\n",
       "      <td>0.0</td>\n",
       "      <td>0</td>\n",
       "    </tr>\n",
       "    <tr>\n",
       "      <th>4</th>\n",
       "      <td>ISIC_2254399</td>\n",
       "      <td>IP_7473498</td>\n",
       "      <td>65.0</td>\n",
       "      <td>2.88</td>\n",
       "      <td>19.617940</td>\n",
       "      <td>15.050950</td>\n",
       "      <td>31.680970</td>\n",
       "      <td>28.982020</td>\n",
       "      <td>37.263210</td>\n",
       "      <td>32.657140</td>\n",
       "      <td>...</td>\n",
       "      <td>0.0</td>\n",
       "      <td>0.0</td>\n",
       "      <td>0.0</td>\n",
       "      <td>0.0</td>\n",
       "      <td>0.0</td>\n",
       "      <td>0.0</td>\n",
       "      <td>1.0</td>\n",
       "      <td>0.0</td>\n",
       "      <td>0.0</td>\n",
       "      <td>0</td>\n",
       "    </tr>\n",
       "  </tbody>\n",
       "</table>\n",
       "<p>5 rows × 70 columns</p>\n",
       "</div>"
      ],
      "text/plain": [
       "        isic_id  patient_id  age_approx  clin_size_long_diam_mm   tbp_lv_A  \\\n",
       "0  ISIC_3744161  IP_6774617        70.0                   18.94  23.187170   \n",
       "1  ISIC_5190198  IP_4549819        70.0                    1.43  25.816622   \n",
       "2  ISIC_1953444  IP_5961877        75.0                    2.72  15.642950   \n",
       "3  ISIC_3625251  IP_0826114        55.0                    2.62  18.170007   \n",
       "4  ISIC_2254399  IP_7473498        65.0                    2.88  19.617940   \n",
       "\n",
       "   tbp_lv_Aext   tbp_lv_B  tbp_lv_Bext   tbp_lv_C  tbp_lv_Cext  ...  \\\n",
       "0    15.247230  21.312360    19.749130  31.493840    24.950070  ...   \n",
       "1    21.771157  29.825940    28.432124  39.447239    35.810180  ...   \n",
       "2    13.231200  22.312940    20.691690  27.250120    24.560340  ...   \n",
       "3    14.372706  27.978875    26.308505  33.361154    29.978527  ...   \n",
       "4    15.050950  31.680970    28.982020  37.263210    32.657140  ...   \n",
       "\n",
       "   tbp_lv_location_Torso Front Top Half  tbp_lv_location_Unknown  \\\n",
       "0                                   1.0                      0.0   \n",
       "1                                   1.0                      0.0   \n",
       "2                                   1.0                      0.0   \n",
       "3                                   0.0                      0.0   \n",
       "4                                   0.0                      0.0   \n",
       "\n",
       "   tbp_lv_location_simple_Left Arm  tbp_lv_location_simple_Left Leg  \\\n",
       "0                              0.0                              0.0   \n",
       "1                              0.0                              0.0   \n",
       "2                              0.0                              0.0   \n",
       "3                              0.0                              0.0   \n",
       "4                              0.0                              0.0   \n",
       "\n",
       "   tbp_lv_location_simple_Right Arm  tbp_lv_location_simple_Right Leg  \\\n",
       "0                               0.0                               0.0   \n",
       "1                               0.0                               0.0   \n",
       "2                               0.0                               0.0   \n",
       "3                               0.0                               0.0   \n",
       "4                               0.0                               0.0   \n",
       "\n",
       "   tbp_lv_location_simple_Torso Back  tbp_lv_location_simple_Torso Front  \\\n",
       "0                                0.0                                 1.0   \n",
       "1                                0.0                                 1.0   \n",
       "2                                0.0                                 1.0   \n",
       "3                                1.0                                 0.0   \n",
       "4                                1.0                                 0.0   \n",
       "\n",
       "   tbp_lv_location_simple_Unknown  targets  \n",
       "0                             0.0        1  \n",
       "1                             0.0        1  \n",
       "2                             0.0        0  \n",
       "3                             0.0        0  \n",
       "4                             0.0        0  \n",
       "\n",
       "[5 rows x 70 columns]"
      ]
     },
     "execution_count": 44,
     "metadata": {},
     "output_type": "execute_result"
    }
   ],
   "source": [
    "undersampled_df.head()"
   ]
  },
  {
   "cell_type": "code",
   "execution_count": 45,
   "id": "dc46672e",
   "metadata": {
    "execution": {
     "iopub.execute_input": "2024-08-28T17:38:05.791509Z",
     "iopub.status.busy": "2024-08-28T17:38:05.791123Z",
     "iopub.status.idle": "2024-08-28T17:38:05.795925Z",
     "shell.execute_reply": "2024-08-28T17:38:05.794938Z"
    },
    "papermill": {
     "duration": 0.027895,
     "end_time": "2024-08-28T17:38:05.798120",
     "exception": false,
     "start_time": "2024-08-28T17:38:05.770225",
     "status": "completed"
    },
    "tags": []
   },
   "outputs": [],
   "source": [
    "# undersampled_benign=undersampled_df"
   ]
  },
  {
   "cell_type": "code",
   "execution_count": 46,
   "id": "4c461c85",
   "metadata": {
    "execution": {
     "iopub.execute_input": "2024-08-28T17:38:05.839122Z",
     "iopub.status.busy": "2024-08-28T17:38:05.838732Z",
     "iopub.status.idle": "2024-08-28T17:38:05.845456Z",
     "shell.execute_reply": "2024-08-28T17:38:05.844453Z"
    },
    "papermill": {
     "duration": 0.030962,
     "end_time": "2024-08-28T17:38:05.848431",
     "exception": false,
     "start_time": "2024-08-28T17:38:05.817469",
     "status": "completed"
    },
    "tags": []
   },
   "outputs": [
    {
     "data": {
      "text/plain": [
       "((793, 70), (393, 70))"
      ]
     },
     "execution_count": 46,
     "metadata": {},
     "output_type": "execute_result"
    }
   ],
   "source": [
    "undersampled_df.shape,malignant.shape"
   ]
  },
  {
   "cell_type": "code",
   "execution_count": 47,
   "id": "9797bc49",
   "metadata": {
    "execution": {
     "iopub.execute_input": "2024-08-28T17:38:05.889209Z",
     "iopub.status.busy": "2024-08-28T17:38:05.888349Z",
     "iopub.status.idle": "2024-08-28T17:38:05.893222Z",
     "shell.execute_reply": "2024-08-28T17:38:05.892164Z"
    },
    "papermill": {
     "duration": 0.027551,
     "end_time": "2024-08-28T17:38:05.895334",
     "exception": false,
     "start_time": "2024-08-28T17:38:05.867783",
     "status": "completed"
    },
    "tags": []
   },
   "outputs": [],
   "source": [
    "# malignant.head()"
   ]
  },
  {
   "cell_type": "code",
   "execution_count": 48,
   "id": "888af768",
   "metadata": {
    "execution": {
     "iopub.execute_input": "2024-08-28T17:38:05.935932Z",
     "iopub.status.busy": "2024-08-28T17:38:05.935517Z",
     "iopub.status.idle": "2024-08-28T17:38:05.940152Z",
     "shell.execute_reply": "2024-08-28T17:38:05.939116Z"
    },
    "papermill": {
     "duration": 0.027542,
     "end_time": "2024-08-28T17:38:05.942366",
     "exception": false,
     "start_time": "2024-08-28T17:38:05.914824",
     "status": "completed"
    },
    "tags": []
   },
   "outputs": [],
   "source": [
    "# benign.head()"
   ]
  },
  {
   "cell_type": "code",
   "execution_count": 49,
   "id": "c078a5a0",
   "metadata": {
    "execution": {
     "iopub.execute_input": "2024-08-28T17:38:05.982771Z",
     "iopub.status.busy": "2024-08-28T17:38:05.982361Z",
     "iopub.status.idle": "2024-08-28T17:38:05.987457Z",
     "shell.execute_reply": "2024-08-28T17:38:05.986335Z"
    },
    "papermill": {
     "duration": 0.027841,
     "end_time": "2024-08-28T17:38:05.989608",
     "exception": false,
     "start_time": "2024-08-28T17:38:05.961767",
     "status": "completed"
    },
    "tags": []
   },
   "outputs": [],
   "source": [
    "# combined_df = pd.concat([malignant, undersampled_benign], axis=0)\n",
    "# data=combined_df.sample(frac=1, random_state=42).reset_index(drop=True)"
   ]
  },
  {
   "cell_type": "code",
   "execution_count": 50,
   "id": "ec806995",
   "metadata": {
    "execution": {
     "iopub.execute_input": "2024-08-28T17:38:06.029819Z",
     "iopub.status.busy": "2024-08-28T17:38:06.029454Z",
     "iopub.status.idle": "2024-08-28T17:38:06.036712Z",
     "shell.execute_reply": "2024-08-28T17:38:06.035679Z"
    },
    "papermill": {
     "duration": 0.029917,
     "end_time": "2024-08-28T17:38:06.038928",
     "exception": false,
     "start_time": "2024-08-28T17:38:06.009011",
     "status": "completed"
    },
    "tags": []
   },
   "outputs": [
    {
     "data": {
      "text/plain": [
       "393"
      ]
     },
     "execution_count": 50,
     "metadata": {},
     "output_type": "execute_result"
    }
   ],
   "source": [
    "undersampled_df['targets'].sum()"
   ]
  },
  {
   "cell_type": "code",
   "execution_count": 51,
   "id": "b9f167ce",
   "metadata": {
    "execution": {
     "iopub.execute_input": "2024-08-28T17:38:06.079213Z",
     "iopub.status.busy": "2024-08-28T17:38:06.078836Z",
     "iopub.status.idle": "2024-08-28T17:38:06.083542Z",
     "shell.execute_reply": "2024-08-28T17:38:06.082473Z"
    },
    "papermill": {
     "duration": 0.027561,
     "end_time": "2024-08-28T17:38:06.085771",
     "exception": false,
     "start_time": "2024-08-28T17:38:06.058210",
     "status": "completed"
    },
    "tags": []
   },
   "outputs": [],
   "source": [
    "data = undersampled_df"
   ]
  },
  {
   "cell_type": "code",
   "execution_count": 52,
   "id": "083e6db7",
   "metadata": {
    "execution": {
     "iopub.execute_input": "2024-08-28T17:38:06.127249Z",
     "iopub.status.busy": "2024-08-28T17:38:06.125964Z",
     "iopub.status.idle": "2024-08-28T17:38:06.132945Z",
     "shell.execute_reply": "2024-08-28T17:38:06.131884Z"
    },
    "papermill": {
     "duration": 0.02991,
     "end_time": "2024-08-28T17:38:06.135139",
     "exception": false,
     "start_time": "2024-08-28T17:38:06.105229",
     "status": "completed"
    },
    "tags": []
   },
   "outputs": [
    {
     "data": {
      "text/plain": [
       "(793, 70)"
      ]
     },
     "execution_count": 52,
     "metadata": {},
     "output_type": "execute_result"
    }
   ],
   "source": [
    "data.shape"
   ]
  },
  {
   "cell_type": "code",
   "execution_count": 53,
   "id": "79b6744b",
   "metadata": {
    "execution": {
     "iopub.execute_input": "2024-08-28T17:38:06.176210Z",
     "iopub.status.busy": "2024-08-28T17:38:06.175811Z",
     "iopub.status.idle": "2024-08-28T17:38:06.182488Z",
     "shell.execute_reply": "2024-08-28T17:38:06.181465Z"
    },
    "papermill": {
     "duration": 0.029876,
     "end_time": "2024-08-28T17:38:06.184663",
     "exception": false,
     "start_time": "2024-08-28T17:38:06.154787",
     "status": "completed"
    },
    "tags": []
   },
   "outputs": [
    {
     "data": {
      "text/plain": [
       "393"
      ]
     },
     "execution_count": 53,
     "metadata": {},
     "output_type": "execute_result"
    }
   ],
   "source": [
    "data['targets'].sum()"
   ]
  },
  {
   "cell_type": "code",
   "execution_count": 54,
   "id": "1e03f740",
   "metadata": {
    "execution": {
     "iopub.execute_input": "2024-08-28T17:38:06.225614Z",
     "iopub.status.busy": "2024-08-28T17:38:06.225216Z",
     "iopub.status.idle": "2024-08-28T17:38:06.281364Z",
     "shell.execute_reply": "2024-08-28T17:38:06.280188Z"
    },
    "papermill": {
     "duration": 0.079765,
     "end_time": "2024-08-28T17:38:06.284129",
     "exception": false,
     "start_time": "2024-08-28T17:38:06.204364",
     "status": "completed"
    },
    "tags": []
   },
   "outputs": [],
   "source": [
    "data.to_csv('modified_dataset_6.csv', index=False)"
   ]
  },
  {
   "cell_type": "code",
   "execution_count": 55,
   "id": "e22cf077",
   "metadata": {
    "execution": {
     "iopub.execute_input": "2024-08-28T17:38:06.326908Z",
     "iopub.status.busy": "2024-08-28T17:38:06.326347Z",
     "iopub.status.idle": "2024-08-28T17:38:06.333186Z",
     "shell.execute_reply": "2024-08-28T17:38:06.332119Z"
    },
    "papermill": {
     "duration": 0.031438,
     "end_time": "2024-08-28T17:38:06.335479",
     "exception": false,
     "start_time": "2024-08-28T17:38:06.304041",
     "status": "completed"
    },
    "tags": []
   },
   "outputs": [
    {
     "data": {
      "text/plain": [
       "(793, 70)"
      ]
     },
     "execution_count": 55,
     "metadata": {},
     "output_type": "execute_result"
    }
   ],
   "source": [
    "data.shape"
   ]
  },
  {
   "cell_type": "code",
   "execution_count": 56,
   "id": "a8fba366",
   "metadata": {
    "execution": {
     "iopub.execute_input": "2024-08-28T17:38:06.377775Z",
     "iopub.status.busy": "2024-08-28T17:38:06.377339Z",
     "iopub.status.idle": "2024-08-28T17:38:06.384877Z",
     "shell.execute_reply": "2024-08-28T17:38:06.383853Z"
    },
    "papermill": {
     "duration": 0.031006,
     "end_time": "2024-08-28T17:38:06.387113",
     "exception": false,
     "start_time": "2024-08-28T17:38:06.356107",
     "status": "completed"
    },
    "tags": []
   },
   "outputs": [
    {
     "data": {
      "text/html": [
       "Path (<tt>/kaggle/working/modified_dataset_5.csv</tt>) doesn't exist. It may still be in the process of being generated, or you may have the incorrect path."
      ],
      "text/plain": [
       "/kaggle/working/modified_dataset_5.csv"
      ]
     },
     "execution_count": 56,
     "metadata": {},
     "output_type": "execute_result"
    }
   ],
   "source": [
    "from IPython.display import FileLink\n",
    "FileLink('/kaggle/working/modified_dataset_5.csv')\n"
   ]
  },
  {
   "cell_type": "code",
   "execution_count": null,
   "id": "b0b1381a",
   "metadata": {
    "papermill": {
     "duration": 0.01978,
     "end_time": "2024-08-28T17:38:06.427300",
     "exception": false,
     "start_time": "2024-08-28T17:38:06.407520",
     "status": "completed"
    },
    "tags": []
   },
   "outputs": [],
   "source": []
  }
 ],
 "metadata": {
  "kaggle": {
   "accelerator": "none",
   "dataSources": [
    {
     "databundleVersionId": 9094797,
     "sourceId": 63056,
     "sourceType": "competition"
    }
   ],
   "dockerImageVersionId": 30746,
   "isGpuEnabled": false,
   "isInternetEnabled": true,
   "language": "python",
   "sourceType": "notebook"
  },
  "kernelspec": {
   "display_name": "Python 3",
   "language": "python",
   "name": "python3"
  },
  "language_info": {
   "codemirror_mode": {
    "name": "ipython",
    "version": 3
   },
   "file_extension": ".py",
   "mimetype": "text/x-python",
   "name": "python",
   "nbconvert_exporter": "python",
   "pygments_lexer": "ipython3",
   "version": "3.10.13"
  },
  "papermill": {
   "default_parameters": {},
   "duration": 584.352268,
   "end_time": "2024-08-28T17:38:07.370700",
   "environment_variables": {},
   "exception": null,
   "input_path": "__notebook__.ipynb",
   "output_path": "__notebook__.ipynb",
   "parameters": {},
   "start_time": "2024-08-28T17:28:23.018432",
   "version": "2.5.0"
  }
 },
 "nbformat": 4,
 "nbformat_minor": 5
}
