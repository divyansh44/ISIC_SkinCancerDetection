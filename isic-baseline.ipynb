{
 "cells": [
  {
   "cell_type": "code",
   "execution_count": 1,
   "id": "2cae2c1a",
   "metadata": {
    "execution": {
     "iopub.execute_input": "2024-08-12T13:31:31.425496Z",
     "iopub.status.busy": "2024-08-12T13:31:31.425186Z",
     "iopub.status.idle": "2024-08-12T13:31:37.240351Z",
     "shell.execute_reply": "2024-08-12T13:31:37.239394Z"
    },
    "papermill": {
     "duration": 5.830666,
     "end_time": "2024-08-12T13:31:37.242708",
     "exception": false,
     "start_time": "2024-08-12T13:31:31.412042",
     "status": "completed"
    },
    "tags": []
   },
   "outputs": [],
   "source": [
    "import re\n",
    "import numpy as np\n",
    "import pandas as pd\n",
    "import pandas.api.types\n",
    "import matplotlib.pyplot as plt\n",
    "\n",
    "from sklearn.preprocessing import OrdinalEncoder, OneHotEncoder\n",
    "from sklearn.metrics import roc_curve, auc, roc_auc_score\n",
    "from sklearn.model_selection import GroupKFold, StratifiedKFold\n",
    "from sklearn.ensemble import VotingClassifier\n",
    "\n",
    "import optuna\n",
    "import catboost as cb\n",
    "import lightgbm as lgb\n",
    "import xgboost as xgb\n",
    "\n",
    "OPTIMIZE_OPTUNA = True\n",
    "SUBSAMPLE = False\n",
    "SUBSAMPLE_RATIO = 0.5 # only effective if SUBSAMPLE=True\n",
    "DISPLAY_FEATURE_IMPORTANCE = False\n",
    "path='/kaggle/input/modified-datav0/modified_dataset.csv'"
   ]
  },
  {
   "cell_type": "code",
   "execution_count": 2,
   "id": "5eb76125",
   "metadata": {
    "execution": {
     "iopub.execute_input": "2024-08-12T13:31:37.267742Z",
     "iopub.status.busy": "2024-08-12T13:31:37.267238Z",
     "iopub.status.idle": "2024-08-12T13:31:37.469426Z",
     "shell.execute_reply": "2024-08-12T13:31:37.468622Z"
    },
    "papermill": {
     "duration": 0.216928,
     "end_time": "2024-08-12T13:31:37.471738",
     "exception": false,
     "start_time": "2024-08-12T13:31:37.254810",
     "status": "completed"
    },
    "tags": []
   },
   "outputs": [],
   "source": [
    "df_train=pd.read_csv(path,low_memory=False)"
   ]
  },
  {
   "cell_type": "code",
   "execution_count": 3,
   "id": "c8b2ac90",
   "metadata": {
    "execution": {
     "iopub.execute_input": "2024-08-12T13:31:37.497413Z",
     "iopub.status.busy": "2024-08-12T13:31:37.497131Z",
     "iopub.status.idle": "2024-08-12T13:31:37.506343Z",
     "shell.execute_reply": "2024-08-12T13:31:37.505633Z"
    },
    "papermill": {
     "duration": 0.024492,
     "end_time": "2024-08-12T13:31:37.508231",
     "exception": false,
     "start_time": "2024-08-12T13:31:37.483739",
     "status": "completed"
    },
    "tags": []
   },
   "outputs": [],
   "source": [
    "df_test = pd.read_csv(\"/kaggle/input/isic-2024-challenge/test-metadata.csv\")"
   ]
  },
  {
   "cell_type": "code",
   "execution_count": 4,
   "id": "fe38ee49",
   "metadata": {
    "execution": {
     "iopub.execute_input": "2024-08-12T13:31:37.533763Z",
     "iopub.status.busy": "2024-08-12T13:31:37.533487Z",
     "iopub.status.idle": "2024-08-12T13:31:37.568665Z",
     "shell.execute_reply": "2024-08-12T13:31:37.567835Z"
    },
    "papermill": {
     "duration": 0.050329,
     "end_time": "2024-08-12T13:31:37.570509",
     "exception": false,
     "start_time": "2024-08-12T13:31:37.520180",
     "status": "completed"
    },
    "tags": []
   },
   "outputs": [
    {
     "data": {
      "text/html": [
       "<div>\n",
       "<style scoped>\n",
       "    .dataframe tbody tr th:only-of-type {\n",
       "        vertical-align: middle;\n",
       "    }\n",
       "\n",
       "    .dataframe tbody tr th {\n",
       "        vertical-align: top;\n",
       "    }\n",
       "\n",
       "    .dataframe thead th {\n",
       "        text-align: right;\n",
       "    }\n",
       "</style>\n",
       "<table border=\"1\" class=\"dataframe\">\n",
       "  <thead>\n",
       "    <tr style=\"text-align: right;\">\n",
       "      <th></th>\n",
       "      <th>isic_id</th>\n",
       "      <th>patient_id</th>\n",
       "      <th>age_approx</th>\n",
       "      <th>sex</th>\n",
       "      <th>anatom_site_general</th>\n",
       "      <th>clin_size_long_diam_mm</th>\n",
       "      <th>image_type</th>\n",
       "      <th>tbp_tile_type</th>\n",
       "      <th>tbp_lv_A</th>\n",
       "      <th>tbp_lv_Aext</th>\n",
       "      <th>...</th>\n",
       "      <th>tbp_lv_radial_color_std_max</th>\n",
       "      <th>tbp_lv_stdL</th>\n",
       "      <th>tbp_lv_stdLExt</th>\n",
       "      <th>tbp_lv_symm_2axis</th>\n",
       "      <th>tbp_lv_symm_2axis_angle</th>\n",
       "      <th>tbp_lv_x</th>\n",
       "      <th>tbp_lv_y</th>\n",
       "      <th>tbp_lv_z</th>\n",
       "      <th>attribution</th>\n",
       "      <th>copyright_license</th>\n",
       "    </tr>\n",
       "  </thead>\n",
       "  <tbody>\n",
       "    <tr>\n",
       "      <th>0</th>\n",
       "      <td>ISIC_0015657</td>\n",
       "      <td>IP_6074337</td>\n",
       "      <td>45.0</td>\n",
       "      <td>male</td>\n",
       "      <td>posterior torso</td>\n",
       "      <td>2.70</td>\n",
       "      <td>TBP tile: close-up</td>\n",
       "      <td>3D: XP</td>\n",
       "      <td>22.80433</td>\n",
       "      <td>20.007270</td>\n",
       "      <td>...</td>\n",
       "      <td>0.304827</td>\n",
       "      <td>1.281532</td>\n",
       "      <td>2.299935</td>\n",
       "      <td>0.479339</td>\n",
       "      <td>20</td>\n",
       "      <td>-155.06510</td>\n",
       "      <td>1511.222000</td>\n",
       "      <td>113.980100</td>\n",
       "      <td>Memorial Sloan Kettering Cancer Center</td>\n",
       "      <td>CC-BY</td>\n",
       "    </tr>\n",
       "    <tr>\n",
       "      <th>1</th>\n",
       "      <td>ISIC_0015729</td>\n",
       "      <td>IP_1664139</td>\n",
       "      <td>35.0</td>\n",
       "      <td>female</td>\n",
       "      <td>lower extremity</td>\n",
       "      <td>2.52</td>\n",
       "      <td>TBP tile: close-up</td>\n",
       "      <td>3D: XP</td>\n",
       "      <td>16.64867</td>\n",
       "      <td>9.657964</td>\n",
       "      <td>...</td>\n",
       "      <td>0.000000</td>\n",
       "      <td>1.271940</td>\n",
       "      <td>2.011223</td>\n",
       "      <td>0.426230</td>\n",
       "      <td>25</td>\n",
       "      <td>-112.36924</td>\n",
       "      <td>629.535889</td>\n",
       "      <td>-15.019287</td>\n",
       "      <td>Frazer Institute, The University of Queensland...</td>\n",
       "      <td>CC-BY</td>\n",
       "    </tr>\n",
       "    <tr>\n",
       "      <th>2</th>\n",
       "      <td>ISIC_0015740</td>\n",
       "      <td>IP_7142616</td>\n",
       "      <td>65.0</td>\n",
       "      <td>male</td>\n",
       "      <td>posterior torso</td>\n",
       "      <td>3.16</td>\n",
       "      <td>TBP tile: close-up</td>\n",
       "      <td>3D: XP</td>\n",
       "      <td>24.25384</td>\n",
       "      <td>19.937380</td>\n",
       "      <td>...</td>\n",
       "      <td>0.230742</td>\n",
       "      <td>1.080308</td>\n",
       "      <td>2.705857</td>\n",
       "      <td>0.366071</td>\n",
       "      <td>110</td>\n",
       "      <td>-84.29282</td>\n",
       "      <td>1303.978000</td>\n",
       "      <td>-28.576050</td>\n",
       "      <td>FNQH Cairns</td>\n",
       "      <td>CC-BY</td>\n",
       "    </tr>\n",
       "  </tbody>\n",
       "</table>\n",
       "<p>3 rows × 44 columns</p>\n",
       "</div>"
      ],
      "text/plain": [
       "        isic_id  patient_id  age_approx     sex anatom_site_general  \\\n",
       "0  ISIC_0015657  IP_6074337        45.0    male     posterior torso   \n",
       "1  ISIC_0015729  IP_1664139        35.0  female     lower extremity   \n",
       "2  ISIC_0015740  IP_7142616        65.0    male     posterior torso   \n",
       "\n",
       "   clin_size_long_diam_mm          image_type tbp_tile_type  tbp_lv_A  \\\n",
       "0                    2.70  TBP tile: close-up        3D: XP  22.80433   \n",
       "1                    2.52  TBP tile: close-up        3D: XP  16.64867   \n",
       "2                    3.16  TBP tile: close-up        3D: XP  24.25384   \n",
       "\n",
       "   tbp_lv_Aext  ...  tbp_lv_radial_color_std_max  tbp_lv_stdL  tbp_lv_stdLExt  \\\n",
       "0    20.007270  ...                     0.304827     1.281532        2.299935   \n",
       "1     9.657964  ...                     0.000000     1.271940        2.011223   \n",
       "2    19.937380  ...                     0.230742     1.080308        2.705857   \n",
       "\n",
       "   tbp_lv_symm_2axis  tbp_lv_symm_2axis_angle   tbp_lv_x     tbp_lv_y  \\\n",
       "0           0.479339                       20 -155.06510  1511.222000   \n",
       "1           0.426230                       25 -112.36924   629.535889   \n",
       "2           0.366071                      110  -84.29282  1303.978000   \n",
       "\n",
       "     tbp_lv_z                                        attribution  \\\n",
       "0  113.980100             Memorial Sloan Kettering Cancer Center   \n",
       "1  -15.019287  Frazer Institute, The University of Queensland...   \n",
       "2  -28.576050                                        FNQH Cairns   \n",
       "\n",
       "   copyright_license  \n",
       "0              CC-BY  \n",
       "1              CC-BY  \n",
       "2              CC-BY  \n",
       "\n",
       "[3 rows x 44 columns]"
      ]
     },
     "execution_count": 4,
     "metadata": {},
     "output_type": "execute_result"
    }
   ],
   "source": [
    "df_test.head()"
   ]
  },
  {
   "cell_type": "code",
   "execution_count": 5,
   "id": "f1257b51",
   "metadata": {
    "execution": {
     "iopub.execute_input": "2024-08-12T13:31:37.596842Z",
     "iopub.status.busy": "2024-08-12T13:31:37.596075Z",
     "iopub.status.idle": "2024-08-12T13:31:37.609204Z",
     "shell.execute_reply": "2024-08-12T13:31:37.608489Z"
    },
    "papermill": {
     "duration": 0.028589,
     "end_time": "2024-08-12T13:31:37.611024",
     "exception": false,
     "start_time": "2024-08-12T13:31:37.582435",
     "status": "completed"
    },
    "tags": []
   },
   "outputs": [],
   "source": [
    "for col in df_test.columns:\n",
    "    if((df_test[col].dtype=='float64' or df_test[col].dtype=='int64') and df_test[col].isna().sum()!=0):\n",
    "        df_test[col].fillna(value=df_test[col].mean(),inplace=True);\n",
    "    if(df_test[col].dtype=='object' and df_test[col].isna().sum()!=0):\n",
    "        df_test[col].fillna(value=df_test[col].mode()[0],inplace=True);"
   ]
  },
  {
   "cell_type": "code",
   "execution_count": 6,
   "id": "c0cf9657",
   "metadata": {
    "execution": {
     "iopub.execute_input": "2024-08-12T13:31:37.635593Z",
     "iopub.status.busy": "2024-08-12T13:31:37.635305Z",
     "iopub.status.idle": "2024-08-12T13:31:37.639175Z",
     "shell.execute_reply": "2024-08-12T13:31:37.638366Z"
    },
    "papermill": {
     "duration": 0.018286,
     "end_time": "2024-08-12T13:31:37.641119",
     "exception": false,
     "start_time": "2024-08-12T13:31:37.622833",
     "status": "completed"
    },
    "tags": []
   },
   "outputs": [],
   "source": [
    "obj_but_not_cat=['image_type','copyright_license','patient_id','attribution','image_type']"
   ]
  },
  {
   "cell_type": "code",
   "execution_count": 7,
   "id": "6c9d7ecd",
   "metadata": {
    "execution": {
     "iopub.execute_input": "2024-08-12T13:31:37.665880Z",
     "iopub.status.busy": "2024-08-12T13:31:37.665588Z",
     "iopub.status.idle": "2024-08-12T13:31:47.481707Z",
     "shell.execute_reply": "2024-08-12T13:31:47.480847Z"
    },
    "papermill": {
     "duration": 9.830736,
     "end_time": "2024-08-12T13:31:47.483968",
     "exception": false,
     "start_time": "2024-08-12T13:31:37.653232",
     "status": "completed"
    },
    "tags": []
   },
   "outputs": [
    {
     "name": "stderr",
     "output_type": "stream",
     "text": [
      "/tmp/ipykernel_24/409828987.py:4: FutureWarning: A value is trying to be set on a copy of a DataFrame or Series through chained assignment using an inplace method.\n",
      "The behavior will change in pandas 3.0. This inplace method will never work because the intermediate object on which we are setting values always behaves as a copy.\n",
      "\n",
      "For example, when doing 'df[col].method(value, inplace=True)', try using 'df.method({col: value}, inplace=True)' or df[col] = df[col].method(value) instead, to perform the operation inplace on the original object.\n",
      "\n",
      "\n",
      "  train[col].fillna(value=train[col].mean(),inplace=True);\n",
      "/tmp/ipykernel_24/409828987.py:6: FutureWarning: A value is trying to be set on a copy of a DataFrame or Series through chained assignment using an inplace method.\n",
      "The behavior will change in pandas 3.0. This inplace method will never work because the intermediate object on which we are setting values always behaves as a copy.\n",
      "\n",
      "For example, when doing 'df[col].method(value, inplace=True)', try using 'df.method({col: value}, inplace=True)' or df[col] = df[col].method(value) instead, to perform the operation inplace on the original object.\n",
      "\n",
      "\n",
      "  train[col].fillna(value=train[col].mode()[0],inplace=True);\n"
     ]
    }
   ],
   "source": [
    "train=pd.read_csv('/kaggle/input/isic-2024-challenge/train-metadata.csv',low_memory=False)\n",
    "for col in train.columns:\n",
    "    if((train[col].dtype=='float64' or train[col].dtype=='int64') and train[col].isna().sum()!=0):\n",
    "        train[col].fillna(value=train[col].mean(),inplace=True);\n",
    "    if(train[col].dtype=='object' and train[col].isna().sum()!=0):\n",
    "        train[col].fillna(value=train[col].mode()[0],inplace=True);"
   ]
  },
  {
   "cell_type": "code",
   "execution_count": 8,
   "id": "6d7f1b2c",
   "metadata": {
    "execution": {
     "iopub.execute_input": "2024-08-12T13:31:47.509439Z",
     "iopub.status.busy": "2024-08-12T13:31:47.508944Z",
     "iopub.status.idle": "2024-08-12T13:31:47.514027Z",
     "shell.execute_reply": "2024-08-12T13:31:47.513150Z"
    },
    "papermill": {
     "duration": 0.01959,
     "end_time": "2024-08-12T13:31:47.515813",
     "exception": false,
     "start_time": "2024-08-12T13:31:47.496223",
     "status": "completed"
    },
    "tags": []
   },
   "outputs": [],
   "source": [
    "cat_labels=[col for col in df_test.columns if (df_test[col].dtype=='object' and col not in obj_but_not_cat and col!='isic_id')]"
   ]
  },
  {
   "cell_type": "code",
   "execution_count": 9,
   "id": "c0dae338",
   "metadata": {
    "execution": {
     "iopub.execute_input": "2024-08-12T13:31:47.540628Z",
     "iopub.status.busy": "2024-08-12T13:31:47.540182Z",
     "iopub.status.idle": "2024-08-12T13:31:47.545651Z",
     "shell.execute_reply": "2024-08-12T13:31:47.544842Z"
    },
    "papermill": {
     "duration": 0.019826,
     "end_time": "2024-08-12T13:31:47.547472",
     "exception": false,
     "start_time": "2024-08-12T13:31:47.527646",
     "status": "completed"
    },
    "tags": []
   },
   "outputs": [
    {
     "data": {
      "text/plain": [
       "['sex',\n",
       " 'anatom_site_general',\n",
       " 'tbp_tile_type',\n",
       " 'tbp_lv_location',\n",
       " 'tbp_lv_location_simple']"
      ]
     },
     "execution_count": 9,
     "metadata": {},
     "output_type": "execute_result"
    }
   ],
   "source": [
    "cat_labels"
   ]
  },
  {
   "cell_type": "code",
   "execution_count": 10,
   "id": "64c75717",
   "metadata": {
    "execution": {
     "iopub.execute_input": "2024-08-12T13:31:47.572600Z",
     "iopub.status.busy": "2024-08-12T13:31:47.572100Z",
     "iopub.status.idle": "2024-08-12T13:31:48.987579Z",
     "shell.execute_reply": "2024-08-12T13:31:48.986619Z"
    },
    "papermill": {
     "duration": 1.430277,
     "end_time": "2024-08-12T13:31:48.989662",
     "exception": false,
     "start_time": "2024-08-12T13:31:47.559385",
     "status": "completed"
    },
    "tags": []
   },
   "outputs": [
    {
     "data": {
      "text/plain": [
       "(401059, 69)"
      ]
     },
     "execution_count": 10,
     "metadata": {},
     "output_type": "execute_result"
    }
   ],
   "source": [
    "cols_unique_train=[col for col in train.columns if col not in df_test.columns]\n",
    "train_df=train.drop(cols_unique_train,axis=1)\n",
    "encoder = OneHotEncoder(sparse_output=False, drop='first')\n",
    "one_hot_encoded = encoder.fit_transform(train_df[cat_labels])\n",
    "one_hot_df = pd.DataFrame(one_hot_encoded, columns=encoder.get_feature_names_out(cat_labels))\n",
    "train_df_encoded = pd.concat([train_df.drop(columns=cat_labels), one_hot_df], axis=1)\n",
    "target=train['target']\n",
    "train_df_original=train_df_encoded.drop(obj_but_not_cat,axis=1)\n",
    "train_df_original['targets']=target\n",
    "train_df_original.shape"
   ]
  },
  {
   "cell_type": "code",
   "execution_count": 11,
   "id": "0298878a",
   "metadata": {
    "execution": {
     "iopub.execute_input": "2024-08-12T13:31:49.015644Z",
     "iopub.status.busy": "2024-08-12T13:31:49.015344Z",
     "iopub.status.idle": "2024-08-12T13:31:49.030091Z",
     "shell.execute_reply": "2024-08-12T13:31:49.029255Z"
    },
    "papermill": {
     "duration": 0.029753,
     "end_time": "2024-08-12T13:31:49.031973",
     "exception": false,
     "start_time": "2024-08-12T13:31:49.002220",
     "status": "completed"
    },
    "tags": []
   },
   "outputs": [],
   "source": [
    "one_hot_encoded = encoder.transform(df_test[cat_labels])\n",
    "one_hot_df = pd.DataFrame(one_hot_encoded, columns=encoder.get_feature_names_out(cat_labels))\n",
    "test_df_encoded = pd.concat([df_test.drop(columns=cat_labels), one_hot_df], axis=1)"
   ]
  },
  {
   "cell_type": "code",
   "execution_count": 12,
   "id": "61b9a066",
   "metadata": {
    "execution": {
     "iopub.execute_input": "2024-08-12T13:31:49.057523Z",
     "iopub.status.busy": "2024-08-12T13:31:49.057201Z",
     "iopub.status.idle": "2024-08-12T13:31:49.061014Z",
     "shell.execute_reply": "2024-08-12T13:31:49.060206Z"
    },
    "papermill": {
     "duration": 0.0188,
     "end_time": "2024-08-12T13:31:49.062949",
     "exception": false,
     "start_time": "2024-08-12T13:31:49.044149",
     "status": "completed"
    },
    "tags": []
   },
   "outputs": [],
   "source": [
    "cat_cols=encoder.get_feature_names_out()"
   ]
  },
  {
   "cell_type": "code",
   "execution_count": 13,
   "id": "bd59132d",
   "metadata": {
    "execution": {
     "iopub.execute_input": "2024-08-12T13:31:49.088356Z",
     "iopub.status.busy": "2024-08-12T13:31:49.088124Z",
     "iopub.status.idle": "2024-08-12T13:31:49.093477Z",
     "shell.execute_reply": "2024-08-12T13:31:49.092679Z"
    },
    "papermill": {
     "duration": 0.020276,
     "end_time": "2024-08-12T13:31:49.095472",
     "exception": false,
     "start_time": "2024-08-12T13:31:49.075196",
     "status": "completed"
    },
    "tags": []
   },
   "outputs": [
    {
     "data": {
      "text/plain": [
       "array(['sex_male', 'anatom_site_general_head/neck',\n",
       "       'anatom_site_general_lower extremity',\n",
       "       'anatom_site_general_posterior torso',\n",
       "       'anatom_site_general_upper extremity', 'tbp_tile_type_3D: white',\n",
       "       'tbp_lv_location_Left Arm', 'tbp_lv_location_Left Arm - Lower',\n",
       "       'tbp_lv_location_Left Arm - Upper', 'tbp_lv_location_Left Leg',\n",
       "       'tbp_lv_location_Left Leg - Lower',\n",
       "       'tbp_lv_location_Left Leg - Upper', 'tbp_lv_location_Right Arm',\n",
       "       'tbp_lv_location_Right Arm - Lower',\n",
       "       'tbp_lv_location_Right Arm - Upper', 'tbp_lv_location_Right Leg',\n",
       "       'tbp_lv_location_Right Leg - Lower',\n",
       "       'tbp_lv_location_Right Leg - Upper', 'tbp_lv_location_Torso Back',\n",
       "       'tbp_lv_location_Torso Back Bottom Third',\n",
       "       'tbp_lv_location_Torso Back Middle Third',\n",
       "       'tbp_lv_location_Torso Back Top Third',\n",
       "       'tbp_lv_location_Torso Front',\n",
       "       'tbp_lv_location_Torso Front Bottom Half',\n",
       "       'tbp_lv_location_Torso Front Top Half', 'tbp_lv_location_Unknown',\n",
       "       'tbp_lv_location_simple_Left Arm',\n",
       "       'tbp_lv_location_simple_Left Leg',\n",
       "       'tbp_lv_location_simple_Right Arm',\n",
       "       'tbp_lv_location_simple_Right Leg',\n",
       "       'tbp_lv_location_simple_Torso Back',\n",
       "       'tbp_lv_location_simple_Torso Front',\n",
       "       'tbp_lv_location_simple_Unknown'], dtype=object)"
      ]
     },
     "execution_count": 13,
     "metadata": {},
     "output_type": "execute_result"
    }
   ],
   "source": [
    "cat_cols"
   ]
  },
  {
   "cell_type": "code",
   "execution_count": 14,
   "id": "88329758",
   "metadata": {
    "execution": {
     "iopub.execute_input": "2024-08-12T13:31:49.121182Z",
     "iopub.status.busy": "2024-08-12T13:31:49.120926Z",
     "iopub.status.idle": "2024-08-12T13:31:49.127355Z",
     "shell.execute_reply": "2024-08-12T13:31:49.126538Z"
    },
    "papermill": {
     "duration": 0.02142,
     "end_time": "2024-08-12T13:31:49.129339",
     "exception": false,
     "start_time": "2024-08-12T13:31:49.107919",
     "status": "completed"
    },
    "tags": []
   },
   "outputs": [
    {
     "data": {
      "text/plain": [
       "((3, 44), (3, 68))"
      ]
     },
     "execution_count": 14,
     "metadata": {},
     "output_type": "execute_result"
    }
   ],
   "source": [
    "test_df_encoded.shape\n",
    "test_df=test_df_encoded.drop(obj_but_not_cat,axis=1)\n",
    "df_test.shape,test_df.shape"
   ]
  },
  {
   "cell_type": "code",
   "execution_count": 15,
   "id": "31fddfc6",
   "metadata": {
    "execution": {
     "iopub.execute_input": "2024-08-12T13:31:49.155938Z",
     "iopub.status.busy": "2024-08-12T13:31:49.155595Z",
     "iopub.status.idle": "2024-08-12T13:31:49.161137Z",
     "shell.execute_reply": "2024-08-12T13:31:49.160397Z"
    },
    "papermill": {
     "duration": 0.021317,
     "end_time": "2024-08-12T13:31:49.162997",
     "exception": false,
     "start_time": "2024-08-12T13:31:49.141680",
     "status": "completed"
    },
    "tags": []
   },
   "outputs": [
    {
     "data": {
      "text/plain": [
       "((3, 68), (10786, 69))"
      ]
     },
     "execution_count": 15,
     "metadata": {},
     "output_type": "execute_result"
    }
   ],
   "source": [
    "test_df.shape,df_train.shape"
   ]
  },
  {
   "cell_type": "code",
   "execution_count": 16,
   "id": "f8fea435",
   "metadata": {
    "execution": {
     "iopub.execute_input": "2024-08-12T13:31:49.190186Z",
     "iopub.status.busy": "2024-08-12T13:31:49.189903Z",
     "iopub.status.idle": "2024-08-12T13:31:49.195919Z",
     "shell.execute_reply": "2024-08-12T13:31:49.194973Z"
    },
    "papermill": {
     "duration": 0.021846,
     "end_time": "2024-08-12T13:31:49.197948",
     "exception": false,
     "start_time": "2024-08-12T13:31:49.176102",
     "status": "completed"
    },
    "tags": []
   },
   "outputs": [
    {
     "data": {
      "text/plain": [
       "['targets']"
      ]
     },
     "execution_count": 16,
     "metadata": {},
     "output_type": "execute_result"
    }
   ],
   "source": [
    "[col for col in df_train.columns if col not in test_df.columns]"
   ]
  },
  {
   "cell_type": "code",
   "execution_count": 17,
   "id": "d83b0390",
   "metadata": {
    "execution": {
     "iopub.execute_input": "2024-08-12T13:31:49.225046Z",
     "iopub.status.busy": "2024-08-12T13:31:49.224755Z",
     "iopub.status.idle": "2024-08-12T13:31:49.231371Z",
     "shell.execute_reply": "2024-08-12T13:31:49.230548Z"
    },
    "papermill": {
     "duration": 0.021951,
     "end_time": "2024-08-12T13:31:49.233229",
     "exception": false,
     "start_time": "2024-08-12T13:31:49.211278",
     "status": "completed"
    },
    "tags": []
   },
   "outputs": [
    {
     "data": {
      "text/plain": [
       "['anatom_site_general_head_neck',\n",
       " 'tbp_tile_type_3D_ white',\n",
       " 'tbp_lv_location_Left Arm _ Lower',\n",
       " 'tbp_lv_location_Left Arm _ Upper',\n",
       " 'tbp_lv_location_Left Leg _ Lower',\n",
       " 'tbp_lv_location_Left Leg _ Upper',\n",
       " 'tbp_lv_location_Right Arm _ Lower',\n",
       " 'tbp_lv_location_Right Arm _ Upper',\n",
       " 'tbp_lv_location_Right Leg _ Lower',\n",
       " 'tbp_lv_location_Right Leg _ Upper',\n",
       " 'fold']"
      ]
     },
     "execution_count": 17,
     "metadata": {},
     "output_type": "execute_result"
    }
   ],
   "source": [
    "[col for col in ['anatom_site_general_head_neck',\n",
    " 'tbp_tile_type_3D_ white',\n",
    " 'tbp_lv_location_Left Arm _ Lower',\n",
    " 'tbp_lv_location_Left Arm _ Upper',\n",
    " 'tbp_lv_location_Left Leg _ Lower',\n",
    " 'tbp_lv_location_Left Leg _ Upper',\n",
    " 'tbp_lv_location_Right Arm _ Lower',\n",
    " 'tbp_lv_location_Right Arm _ Upper',\n",
    " 'tbp_lv_location_Right Leg _ Lower',\n",
    " 'tbp_lv_location_Right Leg _ Upper',\n",
    " 'targets',\n",
    " 'fold'] if col not in df_train.columns]"
   ]
  },
  {
   "cell_type": "code",
   "execution_count": 18,
   "id": "bb1872e9",
   "metadata": {
    "execution": {
     "iopub.execute_input": "2024-08-12T13:31:49.260131Z",
     "iopub.status.busy": "2024-08-12T13:31:49.259875Z",
     "iopub.status.idle": "2024-08-12T13:31:49.285670Z",
     "shell.execute_reply": "2024-08-12T13:31:49.284830Z"
    },
    "papermill": {
     "duration": 0.041278,
     "end_time": "2024-08-12T13:31:49.287674",
     "exception": false,
     "start_time": "2024-08-12T13:31:49.246396",
     "status": "completed"
    },
    "tags": []
   },
   "outputs": [
    {
     "data": {
      "text/html": [
       "<div>\n",
       "<style scoped>\n",
       "    .dataframe tbody tr th:only-of-type {\n",
       "        vertical-align: middle;\n",
       "    }\n",
       "\n",
       "    .dataframe tbody tr th {\n",
       "        vertical-align: top;\n",
       "    }\n",
       "\n",
       "    .dataframe thead th {\n",
       "        text-align: right;\n",
       "    }\n",
       "</style>\n",
       "<table border=\"1\" class=\"dataframe\">\n",
       "  <thead>\n",
       "    <tr style=\"text-align: right;\">\n",
       "      <th></th>\n",
       "      <th>isic_id</th>\n",
       "      <th>age_approx</th>\n",
       "      <th>clin_size_long_diam_mm</th>\n",
       "      <th>tbp_lv_A</th>\n",
       "      <th>tbp_lv_Aext</th>\n",
       "      <th>tbp_lv_B</th>\n",
       "      <th>tbp_lv_Bext</th>\n",
       "      <th>tbp_lv_C</th>\n",
       "      <th>tbp_lv_Cext</th>\n",
       "      <th>tbp_lv_H</th>\n",
       "      <th>...</th>\n",
       "      <th>tbp_lv_location_Torso Front Top Half</th>\n",
       "      <th>tbp_lv_location_Unknown</th>\n",
       "      <th>tbp_lv_location_simple_Left Arm</th>\n",
       "      <th>tbp_lv_location_simple_Left Leg</th>\n",
       "      <th>tbp_lv_location_simple_Right Arm</th>\n",
       "      <th>tbp_lv_location_simple_Right Leg</th>\n",
       "      <th>tbp_lv_location_simple_Torso Back</th>\n",
       "      <th>tbp_lv_location_simple_Torso Front</th>\n",
       "      <th>tbp_lv_location_simple_Unknown</th>\n",
       "      <th>targets</th>\n",
       "    </tr>\n",
       "  </thead>\n",
       "  <tbody>\n",
       "    <tr>\n",
       "      <th>0</th>\n",
       "      <td>ISIC_4798323</td>\n",
       "      <td>75.0</td>\n",
       "      <td>4.64</td>\n",
       "      <td>21.600040</td>\n",
       "      <td>12.264320</td>\n",
       "      <td>24.054970</td>\n",
       "      <td>23.693720</td>\n",
       "      <td>32.329600</td>\n",
       "      <td>26.679690</td>\n",
       "      <td>48.077900</td>\n",
       "      <td>...</td>\n",
       "      <td>1.0</td>\n",
       "      <td>0.0</td>\n",
       "      <td>0.0</td>\n",
       "      <td>0.0</td>\n",
       "      <td>0.0</td>\n",
       "      <td>0.0</td>\n",
       "      <td>0.0</td>\n",
       "      <td>1.0</td>\n",
       "      <td>0.0</td>\n",
       "      <td>0</td>\n",
       "    </tr>\n",
       "    <tr>\n",
       "      <th>1</th>\n",
       "      <td>ISIC_2133518</td>\n",
       "      <td>55.0</td>\n",
       "      <td>2.80</td>\n",
       "      <td>24.714470</td>\n",
       "      <td>16.412830</td>\n",
       "      <td>37.208030</td>\n",
       "      <td>34.840040</td>\n",
       "      <td>44.668140</td>\n",
       "      <td>38.512460</td>\n",
       "      <td>56.406930</td>\n",
       "      <td>...</td>\n",
       "      <td>1.0</td>\n",
       "      <td>0.0</td>\n",
       "      <td>0.0</td>\n",
       "      <td>0.0</td>\n",
       "      <td>0.0</td>\n",
       "      <td>0.0</td>\n",
       "      <td>0.0</td>\n",
       "      <td>1.0</td>\n",
       "      <td>0.0</td>\n",
       "      <td>0</td>\n",
       "    </tr>\n",
       "    <tr>\n",
       "      <th>2</th>\n",
       "      <td>ISIC_4495069</td>\n",
       "      <td>85.0</td>\n",
       "      <td>8.54</td>\n",
       "      <td>16.806420</td>\n",
       "      <td>17.874940</td>\n",
       "      <td>17.127930</td>\n",
       "      <td>23.332970</td>\n",
       "      <td>23.996290</td>\n",
       "      <td>29.392870</td>\n",
       "      <td>45.542840</td>\n",
       "      <td>...</td>\n",
       "      <td>0.0</td>\n",
       "      <td>0.0</td>\n",
       "      <td>0.0</td>\n",
       "      <td>0.0</td>\n",
       "      <td>0.0</td>\n",
       "      <td>0.0</td>\n",
       "      <td>1.0</td>\n",
       "      <td>0.0</td>\n",
       "      <td>0.0</td>\n",
       "      <td>1</td>\n",
       "    </tr>\n",
       "    <tr>\n",
       "      <th>3</th>\n",
       "      <td>ISIC_6355136</td>\n",
       "      <td>35.0</td>\n",
       "      <td>3.84</td>\n",
       "      <td>17.366963</td>\n",
       "      <td>14.068074</td>\n",
       "      <td>26.068361</td>\n",
       "      <td>27.089353</td>\n",
       "      <td>31.323647</td>\n",
       "      <td>30.524478</td>\n",
       "      <td>56.328111</td>\n",
       "      <td>...</td>\n",
       "      <td>1.0</td>\n",
       "      <td>0.0</td>\n",
       "      <td>0.0</td>\n",
       "      <td>0.0</td>\n",
       "      <td>0.0</td>\n",
       "      <td>0.0</td>\n",
       "      <td>0.0</td>\n",
       "      <td>1.0</td>\n",
       "      <td>0.0</td>\n",
       "      <td>0</td>\n",
       "    </tr>\n",
       "    <tr>\n",
       "      <th>4</th>\n",
       "      <td>ISIC_3413459</td>\n",
       "      <td>45.0</td>\n",
       "      <td>2.82</td>\n",
       "      <td>25.223707</td>\n",
       "      <td>19.673211</td>\n",
       "      <td>33.591657</td>\n",
       "      <td>30.663451</td>\n",
       "      <td>42.007557</td>\n",
       "      <td>36.431888</td>\n",
       "      <td>53.097407</td>\n",
       "      <td>...</td>\n",
       "      <td>1.0</td>\n",
       "      <td>0.0</td>\n",
       "      <td>0.0</td>\n",
       "      <td>0.0</td>\n",
       "      <td>0.0</td>\n",
       "      <td>0.0</td>\n",
       "      <td>0.0</td>\n",
       "      <td>1.0</td>\n",
       "      <td>0.0</td>\n",
       "      <td>0</td>\n",
       "    </tr>\n",
       "  </tbody>\n",
       "</table>\n",
       "<p>5 rows × 69 columns</p>\n",
       "</div>"
      ],
      "text/plain": [
       "        isic_id  age_approx  clin_size_long_diam_mm   tbp_lv_A  tbp_lv_Aext  \\\n",
       "0  ISIC_4798323        75.0                    4.64  21.600040    12.264320   \n",
       "1  ISIC_2133518        55.0                    2.80  24.714470    16.412830   \n",
       "2  ISIC_4495069        85.0                    8.54  16.806420    17.874940   \n",
       "3  ISIC_6355136        35.0                    3.84  17.366963    14.068074   \n",
       "4  ISIC_3413459        45.0                    2.82  25.223707    19.673211   \n",
       "\n",
       "    tbp_lv_B  tbp_lv_Bext   tbp_lv_C  tbp_lv_Cext   tbp_lv_H  ...  \\\n",
       "0  24.054970    23.693720  32.329600    26.679690  48.077900  ...   \n",
       "1  37.208030    34.840040  44.668140    38.512460  56.406930  ...   \n",
       "2  17.127930    23.332970  23.996290    29.392870  45.542840  ...   \n",
       "3  26.068361    27.089353  31.323647    30.524478  56.328111  ...   \n",
       "4  33.591657    30.663451  42.007557    36.431888  53.097407  ...   \n",
       "\n",
       "   tbp_lv_location_Torso Front Top Half  tbp_lv_location_Unknown  \\\n",
       "0                                   1.0                      0.0   \n",
       "1                                   1.0                      0.0   \n",
       "2                                   0.0                      0.0   \n",
       "3                                   1.0                      0.0   \n",
       "4                                   1.0                      0.0   \n",
       "\n",
       "   tbp_lv_location_simple_Left Arm  tbp_lv_location_simple_Left Leg  \\\n",
       "0                              0.0                              0.0   \n",
       "1                              0.0                              0.0   \n",
       "2                              0.0                              0.0   \n",
       "3                              0.0                              0.0   \n",
       "4                              0.0                              0.0   \n",
       "\n",
       "   tbp_lv_location_simple_Right Arm  tbp_lv_location_simple_Right Leg  \\\n",
       "0                               0.0                               0.0   \n",
       "1                               0.0                               0.0   \n",
       "2                               0.0                               0.0   \n",
       "3                               0.0                               0.0   \n",
       "4                               0.0                               0.0   \n",
       "\n",
       "   tbp_lv_location_simple_Torso Back  tbp_lv_location_simple_Torso Front  \\\n",
       "0                                0.0                                 1.0   \n",
       "1                                0.0                                 1.0   \n",
       "2                                1.0                                 0.0   \n",
       "3                                0.0                                 1.0   \n",
       "4                                0.0                                 1.0   \n",
       "\n",
       "   tbp_lv_location_simple_Unknown  targets  \n",
       "0                             0.0        0  \n",
       "1                             0.0        0  \n",
       "2                             0.0        1  \n",
       "3                             0.0        0  \n",
       "4                             0.0        0  \n",
       "\n",
       "[5 rows x 69 columns]"
      ]
     },
     "execution_count": 18,
     "metadata": {},
     "output_type": "execute_result"
    }
   ],
   "source": [
    "df_train.head()"
   ]
  },
  {
   "cell_type": "code",
   "execution_count": 19,
   "id": "2b4e1725",
   "metadata": {
    "execution": {
     "iopub.execute_input": "2024-08-12T13:31:49.315146Z",
     "iopub.status.busy": "2024-08-12T13:31:49.314888Z",
     "iopub.status.idle": "2024-08-12T13:31:49.320443Z",
     "shell.execute_reply": "2024-08-12T13:31:49.319689Z"
    },
    "papermill": {
     "duration": 0.02149,
     "end_time": "2024-08-12T13:31:49.322309",
     "exception": false,
     "start_time": "2024-08-12T13:31:49.300819",
     "status": "completed"
    },
    "tags": []
   },
   "outputs": [],
   "source": [
    "df_train.columns = df_train.columns.str.replace(r'[^\\w\\s]', '_', regex=True)\n",
    "test_df.columns=test_df.columns.str.replace(r'[^\\w\\s]', '_', regex=True)\n",
    "cat_cols = [re.sub(r'[^\\w\\s]', '_', col) for col in cat_cols]"
   ]
  },
  {
   "cell_type": "code",
   "execution_count": 20,
   "id": "a30ffc6b",
   "metadata": {
    "execution": {
     "iopub.execute_input": "2024-08-12T13:31:49.351558Z",
     "iopub.status.busy": "2024-08-12T13:31:49.351319Z",
     "iopub.status.idle": "2024-08-12T13:31:49.369354Z",
     "shell.execute_reply": "2024-08-12T13:31:49.368674Z"
    },
    "papermill": {
     "duration": 0.034689,
     "end_time": "2024-08-12T13:31:49.371272",
     "exception": false,
     "start_time": "2024-08-12T13:31:49.336583",
     "status": "completed"
    },
    "tags": []
   },
   "outputs": [],
   "source": [
    "test_df[cat_cols]=test_df[cat_cols].astype(int)\n",
    "df_train[cat_cols]=df_train[cat_cols].astype(int)"
   ]
  },
  {
   "cell_type": "code",
   "execution_count": 21,
   "id": "b8dfc504",
   "metadata": {
    "execution": {
     "iopub.execute_input": "2024-08-12T13:31:49.399848Z",
     "iopub.status.busy": "2024-08-12T13:31:49.399261Z",
     "iopub.status.idle": "2024-08-12T13:31:49.404552Z",
     "shell.execute_reply": "2024-08-12T13:31:49.403645Z"
    },
    "papermill": {
     "duration": 0.021027,
     "end_time": "2024-08-12T13:31:49.406404",
     "exception": false,
     "start_time": "2024-08-12T13:31:49.385377",
     "status": "completed"
    },
    "tags": []
   },
   "outputs": [
    {
     "data": {
      "text/plain": [
       "(10786, 69)"
      ]
     },
     "execution_count": 21,
     "metadata": {},
     "output_type": "execute_result"
    }
   ],
   "source": [
    "df_train.shape"
   ]
  },
  {
   "cell_type": "code",
   "execution_count": 22,
   "id": "bccf300b",
   "metadata": {
    "execution": {
     "iopub.execute_input": "2024-08-12T13:31:49.434356Z",
     "iopub.status.busy": "2024-08-12T13:31:49.433678Z",
     "iopub.status.idle": "2024-08-12T13:31:49.449264Z",
     "shell.execute_reply": "2024-08-12T13:31:49.448537Z"
    },
    "papermill": {
     "duration": 0.031367,
     "end_time": "2024-08-12T13:31:49.451112",
     "exception": false,
     "start_time": "2024-08-12T13:31:49.419745",
     "status": "completed"
    },
    "tags": []
   },
   "outputs": [],
   "source": [
    "N_SPLITS = 5\n",
    "\n",
    "gkf = StratifiedKFold(n_splits=N_SPLITS,shuffle=True,random_state=42)\n",
    "\n",
    "if SUBSAMPLE:\n",
    "    df_pos = df_train[df_train[\"targets\"] == 1]\n",
    "    df_neg = df_train[df_train[\"targets\"] == 0]\n",
    "    df_neg = df_neg.sample(frac=SUBSAMPLE_RATIO, random_state=42)\n",
    "    df_train = pd.concat([df_pos, df_neg]).sample(frac=1.0, random_state=42).reset_index(drop=True)    \n",
    "\n",
    "df_train[\"fold\"] = -1\n",
    "\n",
    "for idx, (train_idx, val_idx) in enumerate(gkf.split(df_train, df_train[\"targets\"])):\n",
    "    df_train.loc[val_idx, \"fold\"] = idx"
   ]
  },
  {
   "cell_type": "code",
   "execution_count": 23,
   "id": "e1ef0fb5",
   "metadata": {
    "execution": {
     "iopub.execute_input": "2024-08-12T13:31:49.478599Z",
     "iopub.status.busy": "2024-08-12T13:31:49.478338Z",
     "iopub.status.idle": "2024-08-12T13:31:49.484913Z",
     "shell.execute_reply": "2024-08-12T13:31:49.484181Z"
    },
    "papermill": {
     "duration": 0.022419,
     "end_time": "2024-08-12T13:31:49.486855",
     "exception": false,
     "start_time": "2024-08-12T13:31:49.464436",
     "status": "completed"
    },
    "tags": []
   },
   "outputs": [],
   "source": [
    "train_cols=df_train.drop(['targets','isic_id','fold'],axis=1).columns"
   ]
  },
  {
   "cell_type": "code",
   "execution_count": 24,
   "id": "dd6eb05e",
   "metadata": {
    "execution": {
     "iopub.execute_input": "2024-08-12T13:31:49.515105Z",
     "iopub.status.busy": "2024-08-12T13:31:49.514358Z",
     "iopub.status.idle": "2024-08-12T13:31:49.519621Z",
     "shell.execute_reply": "2024-08-12T13:31:49.518857Z"
    },
    "papermill": {
     "duration": 0.021465,
     "end_time": "2024-08-12T13:31:49.521506",
     "exception": false,
     "start_time": "2024-08-12T13:31:49.500041",
     "status": "completed"
    },
    "tags": []
   },
   "outputs": [
    {
     "data": {
      "text/plain": [
       "67"
      ]
     },
     "execution_count": 24,
     "metadata": {},
     "output_type": "execute_result"
    }
   ],
   "source": [
    "len(train_cols)"
   ]
  },
  {
   "cell_type": "code",
   "execution_count": 25,
   "id": "36f18e08",
   "metadata": {
    "execution": {
     "iopub.execute_input": "2024-08-12T13:31:49.588474Z",
     "iopub.status.busy": "2024-08-12T13:31:49.587649Z",
     "iopub.status.idle": "2024-08-12T13:31:49.593781Z",
     "shell.execute_reply": "2024-08-12T13:31:49.592981Z"
    },
    "papermill": {
     "duration": 0.022398,
     "end_time": "2024-08-12T13:31:49.595628",
     "exception": false,
     "start_time": "2024-08-12T13:31:49.573230",
     "status": "completed"
    },
    "tags": []
   },
   "outputs": [
    {
     "data": {
      "text/plain": [
       "['targets', 'fold']"
      ]
     },
     "execution_count": 25,
     "metadata": {},
     "output_type": "execute_result"
    }
   ],
   "source": [
    "[col for col in df_train.columns if col not in test_df.columns]"
   ]
  },
  {
   "cell_type": "code",
   "execution_count": 26,
   "id": "95ae968b",
   "metadata": {
    "execution": {
     "iopub.execute_input": "2024-08-12T13:31:49.625499Z",
     "iopub.status.busy": "2024-08-12T13:31:49.624776Z",
     "iopub.status.idle": "2024-08-12T13:31:49.633836Z",
     "shell.execute_reply": "2024-08-12T13:31:49.633073Z"
    },
    "papermill": {
     "duration": 0.026308,
     "end_time": "2024-08-12T13:31:49.635793",
     "exception": false,
     "start_time": "2024-08-12T13:31:49.609485",
     "status": "completed"
    },
    "tags": []
   },
   "outputs": [],
   "source": [
    "def comp_score(solution: pd.DataFrame, submission: pd.DataFrame, row_id_column_name: str, min_tpr: float=0.80):\n",
    "    v_gt = abs(np.asarray(solution.values)-1)\n",
    "    v_pred = np.array([1.0 - x for x in submission.values])\n",
    "    max_fpr = abs(1-min_tpr)\n",
    "    partial_auc_scaled = roc_auc_score(v_gt, v_pred, max_fpr=max_fpr)\n",
    "    # change scale from [0.5, 1.0] to [0.5 * max_fpr**2, max_fpr]\n",
    "    # https://math.stackexchange.com/questions/914823/shift-numbers-into-a-different-range\n",
    "    partial_auc = 0.5 * max_fpr**2 + (max_fpr - 0.5 * max_fpr**2) / (1.0 - 0.5) * (partial_auc_scaled - 0.5)\n",
    "    return partial_auc\n",
    "\n",
    "def custom_lgbm_metric(y_true, y_hat):\n",
    "    # TODO: Refactor with the above.\n",
    "    min_tpr = 0.80\n",
    "    v_gt = abs(y_true-1)\n",
    "    v_pred = np.array([1.0 - x for x in y_hat])\n",
    "    max_fpr = abs(1-min_tpr)\n",
    "    partial_auc_scaled = roc_auc_score(v_gt, v_pred, max_fpr=max_fpr)\n",
    "    # change scale from [0.5, 1.0] to [0.5 * max_fpr**2, max_fpr]\n",
    "    # https://math.stackexchange.com/questions/914823/shift-numbers-into-a-different-range\n",
    "    partial_auc = 0.5 * max_fpr**2 + (max_fpr - 0.5 * max_fpr**2) / (1.0 - 0.5) * (partial_auc_scaled - 0.5)\n",
    "    return \"pauc80\", partial_auc, True"
   ]
  },
  {
   "cell_type": "code",
   "execution_count": 27,
   "id": "9bce5e43",
   "metadata": {
    "execution": {
     "iopub.execute_input": "2024-08-12T13:31:49.664070Z",
     "iopub.status.busy": "2024-08-12T13:31:49.663777Z",
     "iopub.status.idle": "2024-08-12T13:31:49.673669Z",
     "shell.execute_reply": "2024-08-12T13:31:49.672415Z"
    },
    "papermill": {
     "duration": 0.02634,
     "end_time": "2024-08-12T13:31:49.675720",
     "exception": false,
     "start_time": "2024-08-12T13:31:49.649380",
     "status": "completed"
    },
    "tags": []
   },
   "outputs": [],
   "source": [
    "def objective(trial):\n",
    "    param = {\n",
    "        \"objective\":         \"binary\",\n",
    "        # \"metric\":           \"custom\",\n",
    "        \"verbosity\":         -1,\n",
    "        \"boosting_type\":     \"gbdt\",\n",
    "        \"lambda_l1\":         trial.suggest_float(\"lambda_l1\", 1e-8, 10.0, log=True),\n",
    "        \"lambda_l2\":         trial.suggest_float(\"lambda_l2\", 1e-8, 10.0, log=True),\n",
    "        \"num_leaves\":        trial.suggest_int(\"num_leaves\", 2, 256),\n",
    "        \"feature_fraction\":  trial.suggest_float(\"feature_fraction\", 0.4, 1.0),\n",
    "        \"bagging_fraction\":  trial.suggest_float(\"bagging_fraction\", 0.4, 1.0),\n",
    "        \"bagging_freq\":      trial.suggest_int(\"bagging_freq\", 1, 7),\n",
    "        \"min_child_samples\": trial.suggest_int(\"min_child_samples\", 5, 100),\n",
    "        \"device\":            \"gpu\"\n",
    "    }\n",
    "    \n",
    "    scores = []\n",
    "    \n",
    "    for fold in range(N_SPLITS):\n",
    "        _df_train = df_train[df_train[\"fold\"] != fold].reset_index(drop=True)\n",
    "        _df_valid = df_train[df_train[\"fold\"] == fold].reset_index(drop=True)\n",
    "        dtrain = lgb.Dataset(_df_train[train_cols], label=_df_train[\"targets\"])\n",
    "        gbm = lgb.train(param, dtrain)\n",
    "        preds = gbm.predict(_df_valid[train_cols])\n",
    "        score = comp_score(_df_valid[[\"targets\"]], pd.DataFrame(preds, columns=[\"prediction\"]), \"\")\n",
    "        scores.append(score)\n",
    "        \n",
    "    return np.mean(scores)"
   ]
  },
  {
   "cell_type": "code",
   "execution_count": 28,
   "id": "651f4e1b",
   "metadata": {
    "execution": {
     "iopub.execute_input": "2024-08-12T13:31:49.705300Z",
     "iopub.status.busy": "2024-08-12T13:31:49.705042Z",
     "iopub.status.idle": "2024-08-12T13:33:50.924634Z",
     "shell.execute_reply": "2024-08-12T13:33:50.923359Z"
    },
    "papermill": {
     "duration": 121.236408,
     "end_time": "2024-08-12T13:33:50.926880",
     "exception": false,
     "start_time": "2024-08-12T13:31:49.690472",
     "status": "completed"
    },
    "tags": []
   },
   "outputs": [
    {
     "name": "stderr",
     "output_type": "stream",
     "text": [
      "[I 2024-08-12 13:31:49,708] A new study created in memory with name: no-name-9d2bedab-3153-40bc-95ab-411adfd9d8e7\n",
      "1 warning generated.\n",
      "1 warning generated.\n",
      "1 warning generated.\n",
      "1 warning generated.\n",
      "1 warning generated.\n",
      "1 warning generated.\n",
      "1 warning generated.\n",
      "1 warning generated.\n",
      "1 warning generated.\n",
      "1 warning generated.\n",
      "1 warning generated.\n",
      "1 warning generated.\n",
      "1 warning generated.\n",
      "1 warning generated.\n",
      "1 warning generated.\n",
      "1 warning generated.\n",
      "1 warning generated.\n",
      "1 warning generated.\n",
      "1 warning generated.\n",
      "1 warning generated.\n",
      "1 warning generated.\n",
      "1 warning generated.\n",
      "1 warning generated.\n",
      "1 warning generated.\n",
      "1 warning generated.\n",
      "1 warning generated.\n",
      "1 warning generated.\n",
      "1 warning generated.\n",
      "1 warning generated.\n",
      "1 warning generated.\n",
      "1 warning generated.\n",
      "1 warning generated.\n",
      "1 warning generated.\n",
      "[I 2024-08-12 13:31:58,377] Trial 0 finished with value: 0.187833751511731 and parameters: {'lambda_l1': 3.4705418676925754, 'lambda_l2': 3.569686689772692e-08, 'num_leaves': 225, 'feature_fraction': 0.7589582192977397, 'bagging_fraction': 0.5028147443018077, 'bagging_freq': 2, 'min_child_samples': 74}. Best is trial 0 with value: 0.187833751511731.\n",
      "[I 2024-08-12 13:32:01,478] Trial 1 finished with value: 0.1917363210513585 and parameters: {'lambda_l1': 6.582596796625422e-05, 'lambda_l2': 0.038990677300184684, 'num_leaves': 24, 'feature_fraction': 0.8140921467686277, 'bagging_fraction': 0.5770870690658569, 'bagging_freq': 7, 'min_child_samples': 96}. Best is trial 1 with value: 0.1917363210513585.\n",
      "[I 2024-08-12 13:32:07,306] Trial 2 finished with value: 0.19345886882205915 and parameters: {'lambda_l1': 0.00015099145265295538, 'lambda_l2': 0.00024452735224089213, 'num_leaves': 98, 'feature_fraction': 0.452754293775669, 'bagging_fraction': 0.7552241080692481, 'bagging_freq': 2, 'min_child_samples': 73}. Best is trial 2 with value: 0.19345886882205915.\n",
      "[I 2024-08-12 13:32:16,158] Trial 3 finished with value: 0.1938581343223413 and parameters: {'lambda_l1': 0.008588913269652188, 'lambda_l2': 0.0004357275810043686, 'num_leaves': 107, 'feature_fraction': 0.7764501321633688, 'bagging_fraction': 0.9858190410409584, 'bagging_freq': 5, 'min_child_samples': 24}. Best is trial 3 with value: 0.1938581343223413.\n",
      "[I 2024-08-12 13:32:21,482] Trial 4 finished with value: 0.19262501733451579 and parameters: {'lambda_l1': 4.3968558568042063e-07, 'lambda_l2': 1.2149900993858828e-06, 'num_leaves': 183, 'feature_fraction': 0.5827074246398156, 'bagging_fraction': 0.6811091413828108, 'bagging_freq': 3, 'min_child_samples': 93}. Best is trial 3 with value: 0.1938581343223413.\n",
      "[I 2024-08-12 13:32:26,124] Trial 5 finished with value: 0.19337167781988224 and parameters: {'lambda_l1': 0.3474591720633176, 'lambda_l2': 3.2782124470889255e-06, 'num_leaves': 145, 'feature_fraction': 0.7578163261607671, 'bagging_fraction': 0.8939033264521032, 'bagging_freq': 5, 'min_child_samples': 71}. Best is trial 3 with value: 0.1938581343223413.\n",
      "[I 2024-08-12 13:32:30,416] Trial 6 finished with value: 0.19226109005885667 and parameters: {'lambda_l1': 1.2627393178828146e-06, 'lambda_l2': 1.5068365122567572e-05, 'num_leaves': 183, 'feature_fraction': 0.4313322502679681, 'bagging_fraction': 0.4799368769971615, 'bagging_freq': 3, 'min_child_samples': 83}. Best is trial 3 with value: 0.1938581343223413.\n",
      "[I 2024-08-12 13:32:36,817] Trial 7 finished with value: 0.19435193259695233 and parameters: {'lambda_l1': 0.014070211412687408, 'lambda_l2': 0.001782397068061876, 'num_leaves': 163, 'feature_fraction': 0.8537416122698143, 'bagging_fraction': 0.5901122028199145, 'bagging_freq': 3, 'min_child_samples': 33}. Best is trial 7 with value: 0.19435193259695233.\n",
      "[I 2024-08-12 13:32:41,419] Trial 8 finished with value: 0.1929939692009997 and parameters: {'lambda_l1': 1.7999363396844991e-07, 'lambda_l2': 0.28122296974994077, 'num_leaves': 190, 'feature_fraction': 0.6402839363324144, 'bagging_fraction': 0.45318309462397355, 'bagging_freq': 3, 'min_child_samples': 38}. Best is trial 7 with value: 0.19435193259695233.\n",
      "[I 2024-08-12 13:32:46,217] Trial 9 finished with value: 0.1905344876239619 and parameters: {'lambda_l1': 1.9444135712697967, 'lambda_l2': 0.0009944133323845266, 'num_leaves': 208, 'feature_fraction': 0.658949282583492, 'bagging_fraction': 0.4632745229777901, 'bagging_freq': 3, 'min_child_samples': 37}. Best is trial 7 with value: 0.19435193259695233.\n",
      "[I 2024-08-12 13:32:52,131] Trial 10 finished with value: 0.1940662718697089 and parameters: {'lambda_l1': 0.013362085667021259, 'lambda_l2': 0.01236359695127002, 'num_leaves': 56, 'feature_fraction': 0.9777705443358347, 'bagging_fraction': 0.6669952030569261, 'bagging_freq': 1, 'min_child_samples': 5}. Best is trial 7 with value: 0.19435193259695233.\n",
      "[I 2024-08-12 13:32:56,644] Trial 11 finished with value: 0.19373172861404492 and parameters: {'lambda_l1': 0.012837038356659934, 'lambda_l2': 3.469477162688589, 'num_leaves': 44, 'feature_fraction': 0.971708518054377, 'bagging_fraction': 0.6624061618826956, 'bagging_freq': 1, 'min_child_samples': 10}. Best is trial 7 with value: 0.19435193259695233.\n",
      "[I 2024-08-12 13:33:02,702] Trial 12 finished with value: 0.19322148512456658 and parameters: {'lambda_l1': 0.011702484777424658, 'lambda_l2': 0.023110815503912776, 'num_leaves': 58, 'feature_fraction': 0.9497593177436107, 'bagging_fraction': 0.7877969874748251, 'bagging_freq': 1, 'min_child_samples': 5}. Best is trial 7 with value: 0.19435193259695233.\n",
      "[I 2024-08-12 13:33:08,072] Trial 13 finished with value: 0.1921001322260743 and parameters: {'lambda_l1': 0.0015149080110753083, 'lambda_l2': 0.004395207871930852, 'num_leaves': 254, 'feature_fraction': 0.884520216280711, 'bagging_fraction': 0.6000985746250713, 'bagging_freq': 5, 'min_child_samples': 52}. Best is trial 7 with value: 0.19435193259695233.\n",
      "[I 2024-08-12 13:33:12,414] Trial 14 finished with value: 0.19165330323308874 and parameters: {'lambda_l1': 0.15077847626947447, 'lambda_l2': 7.9157986497355575, 'num_leaves': 139, 'feature_fraction': 0.8821077966875787, 'bagging_fraction': 0.5975505669336141, 'bagging_freq': 1, 'min_child_samples': 22}. Best is trial 7 with value: 0.19435193259695233.\n",
      "[I 2024-08-12 13:33:21,030] Trial 15 finished with value: 0.1938630476497621 and parameters: {'lambda_l1': 8.624209658987626e-06, 'lambda_l2': 4.4661048887881114e-05, 'num_leaves': 77, 'feature_fraction': 0.873615333474527, 'bagging_fraction': 0.786912929964593, 'bagging_freq': 4, 'min_child_samples': 22}. Best is trial 7 with value: 0.19435193259695233.\n",
      "[I 2024-08-12 13:33:23,691] Trial 16 finished with value: 0.19153370555510757 and parameters: {'lambda_l1': 0.10043083722194739, 'lambda_l2': 0.19234557316982087, 'num_leaves': 15, 'feature_fraction': 0.9935580143360732, 'bagging_fraction': 0.5516501197543834, 'bagging_freq': 7, 'min_child_samples': 51}. Best is trial 7 with value: 0.19435193259695233.\n",
      "[I 2024-08-12 13:33:31,175] Trial 17 finished with value: 0.19357481738289123 and parameters: {'lambda_l1': 1.949037636348899e-08, 'lambda_l2': 0.01045401867813466, 'num_leaves': 155, 'feature_fraction': 0.9190117197427351, 'bagging_fraction': 0.7176619466914256, 'bagging_freq': 2, 'min_child_samples': 37}. Best is trial 7 with value: 0.19435193259695233.\n",
      "[I 2024-08-12 13:33:37,858] Trial 18 finished with value: 0.19317447875513985 and parameters: {'lambda_l1': 0.0008182896392707892, 'lambda_l2': 0.7892164926857426, 'num_leaves': 112, 'feature_fraction': 0.8291539794021733, 'bagging_fraction': 0.6539146716708331, 'bagging_freq': 4, 'min_child_samples': 17}. Best is trial 7 with value: 0.19435193259695233.\n",
      "[I 2024-08-12 13:33:43,749] Trial 19 finished with value: 0.1932899830686124 and parameters: {'lambda_l1': 3.8223715452950285e-05, 'lambda_l2': 1.102906036929729e-07, 'num_leaves': 77, 'feature_fraction': 0.7043243708735553, 'bagging_fraction': 0.8525833599502712, 'bagging_freq': 6, 'min_child_samples': 62}. Best is trial 7 with value: 0.19435193259695233.\n",
      "[I 2024-08-12 13:33:50,914] Trial 20 finished with value: 0.19352557123276623 and parameters: {'lambda_l1': 0.005682367926565204, 'lambda_l2': 0.002151407728847595, 'num_leaves': 158, 'feature_fraction': 0.9999499511278122, 'bagging_fraction': 0.4080825629052167, 'bagging_freq': 2, 'min_child_samples': 31}. Best is trial 7 with value: 0.19435193259695233.\n"
     ]
    },
    {
     "name": "stdout",
     "output_type": "stream",
     "text": [
      "Number of finished trials: 21\n",
      "Best trial:\n",
      "  Value: 0.19435193259695233\n",
      "  Params: \n",
      "    lambda_l1: 0.014070211412687408\n",
      "    lambda_l2: 0.001782397068061876\n",
      "    num_leaves: 163\n",
      "    feature_fraction: 0.8537416122698143\n",
      "    bagging_fraction: 0.5901122028199145\n",
      "    bagging_freq: 3\n",
      "    min_child_samples: 33\n"
     ]
    }
   ],
   "source": [
    "if OPTIMIZE_OPTUNA:\n",
    "    study = optuna.create_study(direction=\"maximize\")\n",
    "    study.optimize(objective, n_trials=21)\n",
    "\n",
    "    print(\"Number of finished trials: {}\".format(len(study.trials)))\n",
    "\n",
    "    print(\"Best trial:\")\n",
    "    trial = study.best_trial\n",
    "\n",
    "    print(\"  Value: {}\".format(trial.value))\n",
    "\n",
    "    print(\"  Params: \")\n",
    "    for key, value in trial.params.items():\n",
    "        print(\"    {}: {}\".format(key, value))\n"
   ]
  },
  {
   "cell_type": "code",
   "execution_count": 29,
   "id": "231ec18b",
   "metadata": {
    "execution": {
     "iopub.execute_input": "2024-08-12T13:33:50.962572Z",
     "iopub.status.busy": "2024-08-12T13:33:50.962273Z",
     "iopub.status.idle": "2024-08-12T13:33:50.967682Z",
     "shell.execute_reply": "2024-08-12T13:33:50.966719Z"
    },
    "papermill": {
     "duration": 0.025492,
     "end_time": "2024-08-12T13:33:50.969650",
     "exception": false,
     "start_time": "2024-08-12T13:33:50.944158",
     "status": "completed"
    },
    "tags": []
   },
   "outputs": [],
   "source": [
    "new_params = {\n",
    "    \"objective\": \"binary\",\n",
    "    \"verbosity\": -1,\n",
    "    \"boosting_type\": \"gbdt\",\n",
    "    \"n_estimators\": 200,\n",
    "    'learning_rate': 0.05,    \n",
    "    'lambda_l1': 0.00013629833487533019,\n",
    "    'lambda_l2': 6.521166069777159e-08,\n",
    "    'num_leaves': 61,\n",
    "    'feature_fraction': 0.6984612122416661,\n",
    "    'bagging_fraction': 0.9064787175972882,\n",
    "    'bagging_freq': 3,\n",
    "    'min_child_samples': 16,\n",
    "    \"device\": \"gpu\"\n",
    "}"
   ]
  },
  {
   "cell_type": "code",
   "execution_count": 30,
   "id": "6c962596",
   "metadata": {
    "execution": {
     "iopub.execute_input": "2024-08-12T13:33:51.004295Z",
     "iopub.status.busy": "2024-08-12T13:33:51.004017Z",
     "iopub.status.idle": "2024-08-12T13:35:07.741095Z",
     "shell.execute_reply": "2024-08-12T13:35:07.739961Z"
    },
    "papermill": {
     "duration": 76.756883,
     "end_time": "2024-08-12T13:35:07.743352",
     "exception": false,
     "start_time": "2024-08-12T13:33:50.986469",
     "status": "completed"
    },
    "tags": []
   },
   "outputs": [
    {
     "name": "stdout",
     "output_type": "stream",
     "text": [
      "fold: 0 - Partial AUC Score: 0.19844\n",
      "fold: 1 - Partial AUC Score: 0.19715\n",
      "fold: 2 - Partial AUC Score: 0.19739\n",
      "fold: 3 - Partial AUC Score: 0.19005\n",
      "fold: 4 - Partial AUC Score: 0.19011\n"
     ]
    }
   ],
   "source": [
    "new_params_original = {\n",
    "    \"objective\": \"binary\",\n",
    "    \"verbosity\": -1,\n",
    "    \"boosting_type\": \"gbdt\",\n",
    "    \"n_estimators\": 200,\n",
    "    'learning_rate': 0.05,    \n",
    "    'lambda_l1': 0.0004681884533249742, \n",
    "    'lambda_l2': 8.765240856362274, \n",
    "    'num_leaves': 136, \n",
    "    'feature_fraction': 0.5392005444882538, \n",
    "    'bagging_fraction': 0.9577412548866563, \n",
    "    'bagging_freq': 6,\n",
    "    'min_child_samples': 60,\n",
    "    \"device\": \"gpu\"\n",
    "}\n",
    "lgb_scores = []\n",
    "lgb_models = []\n",
    "oof_df = pd.DataFrame()\n",
    "for fold in range(N_SPLITS):\n",
    "    _df_train = df_train[df_train[\"fold\"] != fold].reset_index(drop=True)\n",
    "    _df_valid = df_train[df_train[\"fold\"] == fold].reset_index(drop=True)\n",
    "    # model = lgb.LGBMClassifier(**new_params)\n",
    "    model = VotingClassifier([(f\"lgb_{i}\", lgb.LGBMClassifier(random_state=i, **new_params)) for i in range(7)], voting=\"soft\")\n",
    "    model.fit(_df_train[train_cols], _df_train[\"targets\"])\n",
    "    preds = model.predict_proba(_df_valid[train_cols])[:, 1]\n",
    "    score = comp_score(_df_valid[[\"targets\"]], pd.DataFrame(preds, columns=[\"prediction\"]), \"\")\n",
    "    print(f\"fold: {fold} - Partial AUC Score: {score:.5f}\")\n",
    "    lgb_models.append(model)\n",
    "    oof_single = _df_valid[[\"isic_id\", \"targets\"]].copy()\n",
    "    oof_single[\"pred\"] = preds\n",
    "    oof_df = pd.concat([oof_df, oof_single])"
   ]
  },
  {
   "cell_type": "code",
   "execution_count": 31,
   "id": "0622d9d8",
   "metadata": {
    "execution": {
     "iopub.execute_input": "2024-08-12T13:35:07.781534Z",
     "iopub.status.busy": "2024-08-12T13:35:07.781196Z",
     "iopub.status.idle": "2024-08-12T13:35:07.794212Z",
     "shell.execute_reply": "2024-08-12T13:35:07.793200Z"
    },
    "papermill": {
     "duration": 0.033927,
     "end_time": "2024-08-12T13:35:07.796184",
     "exception": false,
     "start_time": "2024-08-12T13:35:07.762257",
     "status": "completed"
    },
    "tags": []
   },
   "outputs": [
    {
     "name": "stdout",
     "output_type": "stream",
     "text": [
      "LGBM Score: 0.19450\n"
     ]
    }
   ],
   "source": [
    "lgbm_score = comp_score(oof_df[\"targets\"], oof_df[\"pred\"], \"\")\n",
    "print(f\"LGBM Score: {lgbm_score:.5f}\")"
   ]
  },
  {
   "cell_type": "code",
   "execution_count": 32,
   "id": "1e856db1",
   "metadata": {
    "execution": {
     "iopub.execute_input": "2024-08-12T13:35:07.831497Z",
     "iopub.status.busy": "2024-08-12T13:35:07.831180Z",
     "iopub.status.idle": "2024-08-12T13:35:07.837009Z",
     "shell.execute_reply": "2024-08-12T13:35:07.836131Z"
    },
    "papermill": {
     "duration": 0.025612,
     "end_time": "2024-08-12T13:35:07.838909",
     "exception": false,
     "start_time": "2024-08-12T13:35:07.813297",
     "status": "completed"
    },
    "tags": []
   },
   "outputs": [],
   "source": [
    "if DISPLAY_FEATURE_IMPORTANCE:\n",
    "    # Make sure that this is a single model, not voting classifier. Will handle that later on.\n",
    "    importances = np.mean([model.feature_importances_ for model in lgb_models], 0)\n",
    "    df_imp = pd.DataFrame({\"feature\": model.feature_name_, \"importance\": importances}).sort_values(\"importance\").reset_index(drop=True)\n",
    "\n",
    "    plt.figure(figsize=(16, 12))\n",
    "    plt.barh(df_imp[\"feature\"], df_imp[\"importance\"])\n",
    "    plt.show()"
   ]
  },
  {
   "cell_type": "code",
   "execution_count": 33,
   "id": "7ace400e",
   "metadata": {
    "execution": {
     "iopub.execute_input": "2024-08-12T13:35:07.874089Z",
     "iopub.status.busy": "2024-08-12T13:35:07.873830Z",
     "iopub.status.idle": "2024-08-12T13:35:07.883681Z",
     "shell.execute_reply": "2024-08-12T13:35:07.882843Z"
    },
    "papermill": {
     "duration": 0.029626,
     "end_time": "2024-08-12T13:35:07.885482",
     "exception": false,
     "start_time": "2024-08-12T13:35:07.855856",
     "status": "completed"
    },
    "tags": []
   },
   "outputs": [],
   "source": [
    "def objective(trial):\n",
    "    param = {\n",
    "        \"objective\":         trial.suggest_categorical(\"objective\", [\"Logloss\", \"CrossEntropy\"]),\n",
    "        \"colsample_bylevel\": trial.suggest_float(\"colsample_bylevel\", 0.01, 0.1),\n",
    "        \"depth\":             trial.suggest_int(\"depth\", 1, 12),\n",
    "        \"boosting_type\":     trial.suggest_categorical(\"boosting_type\", [\"Ordered\", \"Plain\"]),\n",
    "        \"bootstrap_type\":    trial.suggest_categorical(\"bootstrap_type\", [\"Bayesian\", \"Bernoulli\", \"MVS\"]),\n",
    "        # \"task_type\":       \"GPU\",\n",
    "        # \"used_ram_limit\":  \"3gb\",\n",
    "    }\n",
    "    \n",
    "    if param[\"bootstrap_type\"] == \"Bayesian\":\n",
    "        param[\"bagging_temperature\"] = trial.suggest_float(\"bagging_temperature\", 0, 10)\n",
    "    elif param[\"bootstrap_type\"] == \"Bernoulli\":\n",
    "        param[\"subsample\"] = trial.suggest_float(\"subsample\", 0.1, 1)\n",
    "\n",
    "    scores = []\n",
    "    \n",
    "    for fold in range(N_SPLITS):\n",
    "        _df_train = df_train[df_train[\"fold\"] != fold].reset_index(drop=True)\n",
    "        _df_valid = df_train[df_train[\"fold\"] == fold].reset_index(drop=True)\n",
    "        gbm = cb.CatBoostClassifier(**param)\n",
    "        gbm.fit(_df_train[train_cols], _df_train[\"targets\"], eval_set=[(_df_valid[train_cols], _df_valid[\"targets\"])], verbose=0, early_stopping_rounds=100)\n",
    "        preds = gbm.predict(_df_valid[train_cols])\n",
    "        score = comp_score(_df_valid[[\"targets\"]], pd.DataFrame(preds, columns=[\"prediction\"]), \"\")\n",
    "        scores.append(score)\n",
    "        \n",
    "    return np.mean(scores)"
   ]
  },
  {
   "cell_type": "code",
   "execution_count": 34,
   "id": "dd0a8c4b",
   "metadata": {
    "execution": {
     "iopub.execute_input": "2024-08-12T13:35:07.920988Z",
     "iopub.status.busy": "2024-08-12T13:35:07.920718Z",
     "iopub.status.idle": "2024-08-12T13:43:50.442695Z",
     "shell.execute_reply": "2024-08-12T13:43:50.441835Z"
    },
    "papermill": {
     "duration": 522.561849,
     "end_time": "2024-08-12T13:43:50.464218",
     "exception": false,
     "start_time": "2024-08-12T13:35:07.902369",
     "status": "completed"
    },
    "tags": []
   },
   "outputs": [
    {
     "name": "stderr",
     "output_type": "stream",
     "text": [
      "[I 2024-08-12 13:35:07,923] A new study created in memory with name: no-name-d3454f38-d8f9-42bc-a63a-35f2431f3826\n",
      "[I 2024-08-12 13:35:20,330] Trial 0 finished with value: 0.04778276139544104 and parameters: {'objective': 'CrossEntropy', 'colsample_bylevel': 0.03649281578904136, 'depth': 2, 'boosting_type': 'Plain', 'bootstrap_type': 'MVS'}. Best is trial 0 with value: 0.04778276139544104.\n",
      "[I 2024-08-12 13:35:33,327] Trial 1 finished with value: 0.06860134816555252 and parameters: {'objective': 'Logloss', 'colsample_bylevel': 0.021297472875530164, 'depth': 5, 'boosting_type': 'Plain', 'bootstrap_type': 'MVS'}. Best is trial 1 with value: 0.06860134816555252.\n",
      "[I 2024-08-12 13:36:26,599] Trial 2 finished with value: 0.1549215152911431 and parameters: {'objective': 'CrossEntropy', 'colsample_bylevel': 0.09894586912893882, 'depth': 9, 'boosting_type': 'Plain', 'bootstrap_type': 'Bernoulli', 'subsample': 0.8835930550238581}. Best is trial 2 with value: 0.1549215152911431.\n",
      "[I 2024-08-12 13:36:53,302] Trial 3 finished with value: 0.14995325334434062 and parameters: {'objective': 'CrossEntropy', 'colsample_bylevel': 0.03719945822871455, 'depth': 11, 'boosting_type': 'Plain', 'bootstrap_type': 'Bayesian', 'bagging_temperature': 2.1955487104620275}. Best is trial 2 with value: 0.1549215152911431.\n",
      "[I 2024-08-12 13:37:47,376] Trial 4 finished with value: 0.11264453137877128 and parameters: {'objective': 'Logloss', 'colsample_bylevel': 0.04108038646794653, 'depth': 8, 'boosting_type': 'Ordered', 'bootstrap_type': 'Bayesian', 'bagging_temperature': 7.993902143505847}. Best is trial 2 with value: 0.1549215152911431.\n",
      "[I 2024-08-12 13:37:58,060] Trial 5 finished with value: 0.05525649330758292 and parameters: {'objective': 'Logloss', 'colsample_bylevel': 0.01544524246112281, 'depth': 9, 'boosting_type': 'Plain', 'bootstrap_type': 'Bernoulli', 'subsample': 0.23510772913393407}. Best is trial 2 with value: 0.1549215152911431.\n",
      "[I 2024-08-12 13:38:07,814] Trial 6 finished with value: 0.04040401213106474 and parameters: {'objective': 'Logloss', 'colsample_bylevel': 0.018177719939630223, 'depth': 2, 'boosting_type': 'Plain', 'bootstrap_type': 'Bayesian', 'bagging_temperature': 6.527583404218374}. Best is trial 2 with value: 0.1549215152911431.\n",
      "[I 2024-08-12 13:38:35,573] Trial 7 finished with value: 0.03741707431159804 and parameters: {'objective': 'CrossEntropy', 'colsample_bylevel': 0.02407258930755203, 'depth': 1, 'boosting_type': 'Ordered', 'bootstrap_type': 'Bayesian', 'bagging_temperature': 0.29466519801010893}. Best is trial 2 with value: 0.1549215152911431.\n",
      "[I 2024-08-12 13:39:42,653] Trial 8 finished with value: 0.14998415999614445 and parameters: {'objective': 'CrossEntropy', 'colsample_bylevel': 0.05198801769990548, 'depth': 12, 'boosting_type': 'Plain', 'bootstrap_type': 'Bayesian', 'bagging_temperature': 8.582604635170556}. Best is trial 2 with value: 0.1549215152911431.\n",
      "[I 2024-08-12 13:42:56,974] Trial 9 finished with value: 0.13269777046201123 and parameters: {'objective': 'CrossEntropy', 'colsample_bylevel': 0.049457096125323056, 'depth': 11, 'boosting_type': 'Ordered', 'bootstrap_type': 'MVS'}. Best is trial 2 with value: 0.1549215152911431.\n",
      "[I 2024-08-12 13:43:50,436] Trial 10 finished with value: 0.08906293728995328 and parameters: {'objective': 'CrossEntropy', 'colsample_bylevel': 0.09253195556524496, 'depth': 5, 'boosting_type': 'Ordered', 'bootstrap_type': 'Bernoulli', 'subsample': 0.9758600751194488}. Best is trial 2 with value: 0.1549215152911431.\n"
     ]
    },
    {
     "name": "stdout",
     "output_type": "stream",
     "text": [
      "Number of finished trials: 11\n",
      "Best trial:\n",
      "  Value: 0.1549215152911431\n",
      "  Params: \n",
      "    objective: CrossEntropy\n",
      "    colsample_bylevel: 0.09894586912893882\n",
      "    depth: 9\n",
      "    boosting_type: Plain\n",
      "    bootstrap_type: Bernoulli\n",
      "    subsample: 0.8835930550238581\n"
     ]
    }
   ],
   "source": [
    "if OPTIMIZE_OPTUNA:\n",
    "    study = optuna.create_study(direction=\"maximize\")\n",
    "    study.optimize(objective, n_trials=21, timeout=500)\n",
    "    print(\"Number of finished trials: {}\".format(len(study.trials)))\n",
    "    print(\"Best trial:\")\n",
    "    trial = study.best_trial\n",
    "    print(\"  Value: {}\".format(trial.value))\n",
    "    print(\"  Params: \")\n",
    "    for key, value in trial.params.items():\n",
    "        print(\"    {}: {}\".format(key, value))"
   ]
  },
  {
   "cell_type": "code",
   "execution_count": 35,
   "id": "00f8b4d3",
   "metadata": {
    "execution": {
     "iopub.execute_input": "2024-08-12T13:43:50.501948Z",
     "iopub.status.busy": "2024-08-12T13:43:50.501639Z",
     "iopub.status.idle": "2024-08-12T13:45:15.596946Z",
     "shell.execute_reply": "2024-08-12T13:45:15.595663Z"
    },
    "papermill": {
     "duration": 85.116408,
     "end_time": "2024-08-12T13:45:15.599127",
     "exception": false,
     "start_time": "2024-08-12T13:43:50.482719",
     "status": "completed"
    },
    "tags": []
   },
   "outputs": [
    {
     "name": "stdout",
     "output_type": "stream",
     "text": [
      "fold: 0 - Partial AUC Score: 0.19744\n",
      "fold: 1 - Partial AUC Score: 0.19672\n",
      "fold: 2 - Partial AUC Score: 0.19651\n",
      "fold: 3 - Partial AUC Score: 0.19193\n",
      "fold: 4 - Partial AUC Score: 0.19059\n"
     ]
    }
   ],
   "source": [
    "cb_params = {\n",
    "    'objective': 'Logloss',\n",
    "    \"iterations\": 400,\n",
    "    \"learning_rate\": 0.05,\n",
    "    \"cat_features\": cat_cols,\n",
    "    \"max_depth\": 8,\n",
    "    \"l2_leaf_reg\": 5,\n",
    "    \"task_type\": \"GPU\",\n",
    "    # \"scale_pos_weight\": 2,\n",
    "    \"verbose\": 0,\n",
    "}\n",
    "cb_scores = []\n",
    "cb_models = []\n",
    "for fold in range(N_SPLITS):\n",
    "    _df_train = df_train[df_train[\"fold\"] != fold].reset_index(drop=True)\n",
    "    _df_valid = df_train[df_train[\"fold\"] == fold].reset_index(drop=True)\n",
    "    # model = cb.CatBoostClassifier(**cb_params)\n",
    "    model = VotingClassifier([(f\"cb_{i}\", cb.CatBoostClassifier(random_state=i, **cb_params)) for i in range(3)], voting=\"soft\")\n",
    "    # eval_set=(_df_valid[train_cols], _df_valid[\"target\"]), early_stopping_rounds=50\n",
    "    model.fit(_df_train[train_cols], _df_train[\"targets\"])\n",
    "    preds = model.predict_proba(_df_valid[train_cols])[:, 1]\n",
    "    score = comp_score(_df_valid[[\"targets\"]], pd.DataFrame(preds, columns=[\"prediction\"]), \"\")\n",
    "    print(f\"fold: {fold} - Partial AUC Score: {score:.5f}\")\n",
    "    cb_scores.append(score)\n",
    "    cb_models.append(model)"
   ]
  },
  {
   "cell_type": "code",
   "execution_count": 36,
   "id": "86151fc7",
   "metadata": {
    "execution": {
     "iopub.execute_input": "2024-08-12T13:45:15.639470Z",
     "iopub.status.busy": "2024-08-12T13:45:15.639127Z",
     "iopub.status.idle": "2024-08-12T13:45:15.644055Z",
     "shell.execute_reply": "2024-08-12T13:45:15.643116Z"
    },
    "papermill": {
     "duration": 0.026639,
     "end_time": "2024-08-12T13:45:15.646206",
     "exception": false,
     "start_time": "2024-08-12T13:45:15.619567",
     "status": "completed"
    },
    "tags": []
   },
   "outputs": [
    {
     "name": "stdout",
     "output_type": "stream",
     "text": [
      "CatBoost Score: 0.19464\n"
     ]
    }
   ],
   "source": [
    "cb_score = np.mean(cb_scores)\n",
    "print(f\"CatBoost Score: {cb_score:.5f}\")"
   ]
  },
  {
   "cell_type": "code",
   "execution_count": 37,
   "id": "a5b3c104",
   "metadata": {
    "execution": {
     "iopub.execute_input": "2024-08-12T13:45:15.694338Z",
     "iopub.status.busy": "2024-08-12T13:45:15.693410Z",
     "iopub.status.idle": "2024-08-12T13:45:15.702160Z",
     "shell.execute_reply": "2024-08-12T13:45:15.701095Z"
    },
    "papermill": {
     "duration": 0.040447,
     "end_time": "2024-08-12T13:45:15.705142",
     "exception": false,
     "start_time": "2024-08-12T13:45:15.664695",
     "status": "completed"
    },
    "tags": []
   },
   "outputs": [
    {
     "data": {
      "text/plain": [
       "(3, 68)"
      ]
     },
     "execution_count": 37,
     "metadata": {},
     "output_type": "execute_result"
    }
   ],
   "source": [
    "test_df.shape"
   ]
  },
  {
   "cell_type": "code",
   "execution_count": 38,
   "id": "73c3b8e9",
   "metadata": {
    "execution": {
     "iopub.execute_input": "2024-08-12T13:45:15.760420Z",
     "iopub.status.busy": "2024-08-12T13:45:15.760133Z",
     "iopub.status.idle": "2024-08-12T13:45:15.898884Z",
     "shell.execute_reply": "2024-08-12T13:45:15.898055Z"
    },
    "papermill": {
     "duration": 0.166666,
     "end_time": "2024-08-12T13:45:15.901086",
     "exception": false,
     "start_time": "2024-08-12T13:45:15.734420",
     "status": "completed"
    },
    "tags": []
   },
   "outputs": [],
   "source": [
    "lgb_preds = np.mean([model.predict_proba(test_df[train_cols])[:, 1] for model in lgb_models], 0)\n",
    "cb_preds  = np.mean([model.predict_proba(test_df[train_cols])[:, 1] for model in cb_models],  0)\n",
    "preds = lgb_preds * 0.5 + cb_preds * 0.5"
   ]
  },
  {
   "cell_type": "code",
   "execution_count": 39,
   "id": "0bab0740",
   "metadata": {
    "execution": {
     "iopub.execute_input": "2024-08-12T13:45:15.940822Z",
     "iopub.status.busy": "2024-08-12T13:45:15.940078Z",
     "iopub.status.idle": "2024-08-12T13:45:15.972607Z",
     "shell.execute_reply": "2024-08-12T13:45:15.971740Z"
    },
    "papermill": {
     "duration": 0.054007,
     "end_time": "2024-08-12T13:45:15.974548",
     "exception": false,
     "start_time": "2024-08-12T13:45:15.920541",
     "status": "completed"
    },
    "tags": []
   },
   "outputs": [
    {
     "data": {
      "text/html": [
       "<div>\n",
       "<style scoped>\n",
       "    .dataframe tbody tr th:only-of-type {\n",
       "        vertical-align: middle;\n",
       "    }\n",
       "\n",
       "    .dataframe tbody tr th {\n",
       "        vertical-align: top;\n",
       "    }\n",
       "\n",
       "    .dataframe thead th {\n",
       "        text-align: right;\n",
       "    }\n",
       "</style>\n",
       "<table border=\"1\" class=\"dataframe\">\n",
       "  <thead>\n",
       "    <tr style=\"text-align: right;\">\n",
       "      <th></th>\n",
       "      <th>count</th>\n",
       "      <th>mean</th>\n",
       "      <th>std</th>\n",
       "      <th>min</th>\n",
       "      <th>25%</th>\n",
       "      <th>50%</th>\n",
       "      <th>75%</th>\n",
       "      <th>max</th>\n",
       "    </tr>\n",
       "  </thead>\n",
       "  <tbody>\n",
       "    <tr>\n",
       "      <th>target</th>\n",
       "      <td>3.0</td>\n",
       "      <td>0.001238</td>\n",
       "      <td>0.000939</td>\n",
       "      <td>0.000396</td>\n",
       "      <td>0.000732</td>\n",
       "      <td>0.001067</td>\n",
       "      <td>0.001658</td>\n",
       "      <td>0.00225</td>\n",
       "    </tr>\n",
       "  </tbody>\n",
       "</table>\n",
       "</div>"
      ],
      "text/plain": [
       "        count      mean       std       min       25%       50%       75%  \\\n",
       "target    3.0  0.001238  0.000939  0.000396  0.000732  0.001067  0.001658   \n",
       "\n",
       "            max  \n",
       "target  0.00225  "
      ]
     },
     "execution_count": 39,
     "metadata": {},
     "output_type": "execute_result"
    }
   ],
   "source": [
    "df_sub = pd.read_csv(\"/kaggle/input/isic-2024-challenge/sample_submission.csv\")\n",
    "df_sub[\"target\"] = preds\n",
    "df_sub.describe().T"
   ]
  },
  {
   "cell_type": "code",
   "execution_count": 40,
   "id": "cacccc1b",
   "metadata": {
    "execution": {
     "iopub.execute_input": "2024-08-12T13:45:16.013916Z",
     "iopub.status.busy": "2024-08-12T13:45:16.013619Z",
     "iopub.status.idle": "2024-08-12T13:45:16.021329Z",
     "shell.execute_reply": "2024-08-12T13:45:16.020488Z"
    },
    "papermill": {
     "duration": 0.029064,
     "end_time": "2024-08-12T13:45:16.023249",
     "exception": false,
     "start_time": "2024-08-12T13:45:15.994185",
     "status": "completed"
    },
    "tags": []
   },
   "outputs": [
    {
     "data": {
      "text/html": [
       "<div>\n",
       "<style scoped>\n",
       "    .dataframe tbody tr th:only-of-type {\n",
       "        vertical-align: middle;\n",
       "    }\n",
       "\n",
       "    .dataframe tbody tr th {\n",
       "        vertical-align: top;\n",
       "    }\n",
       "\n",
       "    .dataframe thead th {\n",
       "        text-align: right;\n",
       "    }\n",
       "</style>\n",
       "<table border=\"1\" class=\"dataframe\">\n",
       "  <thead>\n",
       "    <tr style=\"text-align: right;\">\n",
       "      <th></th>\n",
       "      <th>isic_id</th>\n",
       "      <th>target</th>\n",
       "    </tr>\n",
       "  </thead>\n",
       "  <tbody>\n",
       "    <tr>\n",
       "      <th>0</th>\n",
       "      <td>ISIC_0015657</td>\n",
       "      <td>0.001067</td>\n",
       "    </tr>\n",
       "    <tr>\n",
       "      <th>1</th>\n",
       "      <td>ISIC_0015729</td>\n",
       "      <td>0.000396</td>\n",
       "    </tr>\n",
       "    <tr>\n",
       "      <th>2</th>\n",
       "      <td>ISIC_0015740</td>\n",
       "      <td>0.002250</td>\n",
       "    </tr>\n",
       "  </tbody>\n",
       "</table>\n",
       "</div>"
      ],
      "text/plain": [
       "        isic_id    target\n",
       "0  ISIC_0015657  0.001067\n",
       "1  ISIC_0015729  0.000396\n",
       "2  ISIC_0015740  0.002250"
      ]
     },
     "execution_count": 40,
     "metadata": {},
     "output_type": "execute_result"
    }
   ],
   "source": [
    "df_sub"
   ]
  },
  {
   "cell_type": "code",
   "execution_count": 41,
   "id": "f206ff25",
   "metadata": {
    "execution": {
     "iopub.execute_input": "2024-08-12T13:45:16.063517Z",
     "iopub.status.busy": "2024-08-12T13:45:16.063245Z",
     "iopub.status.idle": "2024-08-12T13:45:16.069962Z",
     "shell.execute_reply": "2024-08-12T13:45:16.069141Z"
    },
    "papermill": {
     "duration": 0.029582,
     "end_time": "2024-08-12T13:45:16.072000",
     "exception": false,
     "start_time": "2024-08-12T13:45:16.042418",
     "status": "completed"
    },
    "tags": []
   },
   "outputs": [],
   "source": [
    "df_sub.to_csv(\"submission.csv\", index=False)"
   ]
  },
  {
   "cell_type": "code",
   "execution_count": null,
   "id": "467f3ca8",
   "metadata": {
    "papermill": {
     "duration": 0.020185,
     "end_time": "2024-08-12T13:45:16.112119",
     "exception": false,
     "start_time": "2024-08-12T13:45:16.091934",
     "status": "completed"
    },
    "tags": []
   },
   "outputs": [],
   "source": []
  },
  {
   "cell_type": "code",
   "execution_count": null,
   "id": "7c4c7e17",
   "metadata": {
    "papermill": {
     "duration": 0.018739,
     "end_time": "2024-08-12T13:45:16.150602",
     "exception": false,
     "start_time": "2024-08-12T13:45:16.131863",
     "status": "completed"
    },
    "tags": []
   },
   "outputs": [],
   "source": []
  }
 ],
 "metadata": {
  "kaggle": {
   "accelerator": "gpu",
   "dataSources": [
    {
     "databundleVersionId": 9094797,
     "sourceId": 63056,
     "sourceType": "competition"
    },
    {
     "datasetId": 5406640,
     "sourceId": 8982084,
     "sourceType": "datasetVersion"
    },
    {
     "datasetId": 5415918,
     "sourceId": 8991790,
     "sourceType": "datasetVersion"
    },
    {
     "datasetId": 5521148,
     "sourceId": 9141476,
     "sourceType": "datasetVersion"
    },
    {
     "datasetId": 5521956,
     "sourceId": 9142607,
     "sourceType": "datasetVersion"
    },
    {
     "datasetId": 5525846,
     "sourceId": 9148171,
     "sourceType": "datasetVersion"
    },
    {
     "sourceId": 186147615,
     "sourceType": "kernelVersion"
    },
    {
     "sourceId": 187730674,
     "sourceType": "kernelVersion"
    },
    {
     "sourceId": 188543089,
     "sourceType": "kernelVersion"
    },
    {
     "sourceId": 188543756,
     "sourceType": "kernelVersion"
    },
    {
     "sourceId": 188602899,
     "sourceType": "kernelVersion"
    },
    {
     "sourceId": 188603204,
     "sourceType": "kernelVersion"
    },
    {
     "sourceId": 190801726,
     "sourceType": "kernelVersion"
    },
    {
     "sourceId": 190815443,
     "sourceType": "kernelVersion"
    },
    {
     "sourceId": 190817588,
     "sourceType": "kernelVersion"
    }
   ],
   "dockerImageVersionId": 30733,
   "isGpuEnabled": true,
   "isInternetEnabled": false,
   "language": "python",
   "sourceType": "notebook"
  },
  "kernelspec": {
   "display_name": "Python 3",
   "language": "python",
   "name": "python3"
  },
  "language_info": {
   "codemirror_mode": {
    "name": "ipython",
    "version": 3
   },
   "file_extension": ".py",
   "mimetype": "text/x-python",
   "name": "python",
   "nbconvert_exporter": "python",
   "pygments_lexer": "ipython3",
   "version": "3.10.13"
  },
  "papermill": {
   "default_parameters": {},
   "duration": 828.345651,
   "end_time": "2024-08-12T13:45:16.991351",
   "environment_variables": {},
   "exception": null,
   "input_path": "__notebook__.ipynb",
   "output_path": "__notebook__.ipynb",
   "parameters": {},
   "start_time": "2024-08-12T13:31:28.645700",
   "version": "2.5.0"
  }
 },
 "nbformat": 4,
 "nbformat_minor": 5
}
