{
 "cells": [
  {
   "cell_type": "code",
   "execution_count": 1,
   "id": "8f5752ff",
   "metadata": {
    "_cell_guid": "b1076dfc-b9ad-4769-8c92-a6c4dae69d19",
    "_uuid": "8f2839f25d086af736a60e9eeb907d3b93b6e0e5",
    "execution": {
     "iopub.execute_input": "2024-08-29T17:52:51.498442Z",
     "iopub.status.busy": "2024-08-29T17:52:51.497960Z",
     "iopub.status.idle": "2024-08-29T17:52:57.484560Z",
     "shell.execute_reply": "2024-08-29T17:52:57.483627Z"
    },
    "papermill": {
     "duration": 6.013112,
     "end_time": "2024-08-29T17:52:57.487100",
     "exception": false,
     "start_time": "2024-08-29T17:52:51.473988",
     "status": "completed"
    },
    "tags": []
   },
   "outputs": [],
   "source": [
    "import pandas as pd\n",
    "import numpy as np\n",
    "from io import BytesIO\n",
    "from torch.utils.data import Dataset,DataLoader\n",
    "import torchvision.transforms as transforms\n",
    "from PIL import Image\n",
    "import torch"
   ]
  },
  {
   "cell_type": "code",
   "execution_count": 2,
   "id": "8cd10263",
   "metadata": {
    "execution": {
     "iopub.execute_input": "2024-08-29T17:52:57.535290Z",
     "iopub.status.busy": "2024-08-29T17:52:57.534240Z",
     "iopub.status.idle": "2024-08-29T17:53:00.086299Z",
     "shell.execute_reply": "2024-08-29T17:53:00.085489Z"
    },
    "papermill": {
     "duration": 2.577509,
     "end_time": "2024-08-29T17:53:00.088668",
     "exception": false,
     "start_time": "2024-08-29T17:52:57.511159",
     "status": "completed"
    },
    "tags": []
   },
   "outputs": [],
   "source": [
    "import os\n",
    "import gc\n",
    "import cv2\n",
    "import math\n",
    "import copy\n",
    "import time\n",
    "import random\n",
    "import glob\n",
    "from matplotlib import pyplot as plt\n",
    "\n",
    "# For data manipulation\n",
    "import numpy as np\n",
    "import pandas as pd\n",
    "\n",
    "# Pytorch Imports\n",
    "import torch\n",
    "import torch.nn as nn\n",
    "import torch.optim as optim\n",
    "import torch.nn.functional as F\n",
    "from torch.optim import lr_scheduler\n",
    "from torch.utils.data import Dataset, DataLoader\n",
    "from torch.cuda import amp\n",
    "import torchvision\n",
    "\n",
    "# Utils\n",
    "import joblib\n",
    "from tqdm import tqdm\n",
    "from collections import defaultdict\n",
    "\n",
    "# Sklearn Imports\n",
    "from sklearn.preprocessing import LabelEncoder, OneHotEncoder\n",
    "from sklearn.model_selection import StratifiedKFold, StratifiedGroupKFold \n",
    "\n",
    "# For Image Models\n",
    "import timm\n",
    "\n",
    "# Albumentations for augmentations\n",
    "import albumentations as A\n",
    "from albumentations.pytorch import ToTensorV2\n",
    "\n",
    "# For colored terminal text\n",
    "from colorama import Fore, Back, Style\n",
    "b_ = Fore.BLUE\n",
    "sr_ = Style.RESET_ALL\n",
    "\n",
    "import warnings\n",
    "warnings.filterwarnings(\"ignore\")\n",
    "\n",
    "# For descriptive error messages\n",
    "os.environ['CUDA_LAUNCH_BLOCKING'] = \"1\""
   ]
  },
  {
   "cell_type": "code",
   "execution_count": 3,
   "id": "771d9bc1",
   "metadata": {
    "execution": {
     "iopub.execute_input": "2024-08-29T17:53:00.135658Z",
     "iopub.status.busy": "2024-08-29T17:53:00.134666Z",
     "iopub.status.idle": "2024-08-29T17:53:00.198709Z",
     "shell.execute_reply": "2024-08-29T17:53:00.197772Z"
    },
    "papermill": {
     "duration": 0.088971,
     "end_time": "2024-08-29T17:53:00.200553",
     "exception": false,
     "start_time": "2024-08-29T17:53:00.111582",
     "status": "completed"
    },
    "tags": []
   },
   "outputs": [],
   "source": [
    "CONFIG = {\n",
    "    \"seed\": 42,\n",
    "    \"neg_sample_ratio\" : 0.02,\n",
    "    \"epochs\": 50,\n",
    "    \"img_size\": 384,\n",
    "    \"model_name\": \"efficientnet_b3\",\n",
    "    #\"checkpoint_path\" : \"/kaggle/input/tf-efficientnet/pytorch/tf-efficientnet-b0/1/tf_efficientnet_b0_aa-827b6e33.pth\",\n",
    "    \"train_batch_size\": 32,\n",
    "    \"valid_batch_size\": 64,\n",
    "    \"learning_rate\": 1e-4,\n",
    "    \"scheduler\": 'CosineAnnealingLR',\n",
    "    \"min_lr\": 1e-6,\n",
    "    \"T_max\": 500,\n",
    "    \"weight_decay\": 1e-6,\n",
    "    \"fold\" : 0,\n",
    "    \"n_fold\": 5,\n",
    "    \"n_accumulate\": 1,\n",
    "    \"device\": torch.device(\"cuda:0\" if torch.cuda.is_available() else \"cpu\"),\n",
    "}"
   ]
  },
  {
   "cell_type": "code",
   "execution_count": 4,
   "id": "5fa4e377",
   "metadata": {
    "execution": {
     "iopub.execute_input": "2024-08-29T17:53:00.245811Z",
     "iopub.status.busy": "2024-08-29T17:53:00.245498Z",
     "iopub.status.idle": "2024-08-29T17:53:00.393861Z",
     "shell.execute_reply": "2024-08-29T17:53:00.393093Z"
    },
    "papermill": {
     "duration": 0.173338,
     "end_time": "2024-08-29T17:53:00.396049",
     "exception": false,
     "start_time": "2024-08-29T17:53:00.222711",
     "status": "completed"
    },
    "tags": []
   },
   "outputs": [],
   "source": [
    "import h5py"
   ]
  },
  {
   "cell_type": "code",
   "execution_count": 5,
   "id": "7043bd71",
   "metadata": {
    "execution": {
     "iopub.execute_input": "2024-08-29T17:53:00.441438Z",
     "iopub.status.busy": "2024-08-29T17:53:00.441156Z",
     "iopub.status.idle": "2024-08-29T17:53:00.445051Z",
     "shell.execute_reply": "2024-08-29T17:53:00.444265Z"
    },
    "papermill": {
     "duration": 0.028628,
     "end_time": "2024-08-29T17:53:00.446859",
     "exception": false,
     "start_time": "2024-08-29T17:53:00.418231",
     "status": "completed"
    },
    "tags": []
   },
   "outputs": [],
   "source": [
    "import pickle"
   ]
  },
  {
   "cell_type": "code",
   "execution_count": 6,
   "id": "3beba6b4",
   "metadata": {
    "execution": {
     "iopub.execute_input": "2024-08-29T17:53:00.491695Z",
     "iopub.status.busy": "2024-08-29T17:53:00.491415Z",
     "iopub.status.idle": "2024-08-29T17:53:00.501589Z",
     "shell.execute_reply": "2024-08-29T17:53:00.500760Z"
    },
    "papermill": {
     "duration": 0.034723,
     "end_time": "2024-08-29T17:53:00.503485",
     "exception": false,
     "start_time": "2024-08-29T17:53:00.468762",
     "status": "completed"
    },
    "tags": []
   },
   "outputs": [],
   "source": [
    "import matplotlib.colors as mcolors\n",
    "\n",
    "class GradCAM:\n",
    "    def __init__(self, model, target_layer):\n",
    "        self.model = model\n",
    "        self.target_layer = target_layer\n",
    "        self.gradients = None\n",
    "        self.activations = None\n",
    "        \n",
    "        self.target_layer.register_forward_hook(self.save_activation)\n",
    "        self.target_layer.register_backward_hook(self.save_gradient)\n",
    "    \n",
    "    def save_activation(self, module, input, output):\n",
    "        self.activations = output.detach()\n",
    "    \n",
    "    def save_gradient(self, module, grad_input, grad_output):\n",
    "        self.gradients = grad_output[0].detach()\n",
    "    \n",
    "    def __call__(self, x):\n",
    "        self.model.eval()\n",
    "        logit = self.model(x)\n",
    "        \n",
    "        score = logit.squeeze()\n",
    "        \n",
    "        self.model.zero_grad()\n",
    "        score.backward(retain_graph=True)\n",
    "        \n",
    "        gradients = self.gradients\n",
    "        activations = self.activations\n",
    "        b, k, u, v = gradients.size()\n",
    "        \n",
    "        alpha = gradients.view(b, k, -1).mean(2)\n",
    "        weights = alpha.view(b, k, 1, 1)\n",
    "        \n",
    "        saliency_map = (weights*activations).sum(1, keepdim=True)\n",
    "        saliency_map = F.relu(saliency_map)\n",
    "        saliency_map = F.interpolate(saliency_map, size=(x.size(2), x.size(3)), mode='bilinear', align_corners=False)\n",
    "        saliency_map_min, saliency_map_max = saliency_map.min(), saliency_map.max()\n",
    "        saliency_map = (saliency_map - saliency_map_min).div(saliency_map_max - saliency_map_min).data\n",
    "        \n",
    "        return saliency_map"
   ]
  },
  {
   "cell_type": "code",
   "execution_count": 7,
   "id": "26d9ba8d",
   "metadata": {
    "execution": {
     "iopub.execute_input": "2024-08-29T17:53:00.547846Z",
     "iopub.status.busy": "2024-08-29T17:53:00.547564Z",
     "iopub.status.idle": "2024-08-29T17:53:00.554690Z",
     "shell.execute_reply": "2024-08-29T17:53:00.553907Z"
    },
    "papermill": {
     "duration": 0.031302,
     "end_time": "2024-08-29T17:53:00.556452",
     "exception": false,
     "start_time": "2024-08-29T17:53:00.525150",
     "status": "completed"
    },
    "tags": []
   },
   "outputs": [],
   "source": [
    "class GeM(nn.Module):\n",
    "    def __init__(self, p=3, eps=1e-6):\n",
    "        super(GeM, self).__init__()\n",
    "        self.p = nn.Parameter(torch.ones(1)*p)\n",
    "        self.eps = eps\n",
    "\n",
    "    def forward(self, x):\n",
    "        return self.gem(x, p=self.p, eps=self.eps)\n",
    "        \n",
    "    def gem(self, x, p=3, eps=1e-6):\n",
    "        return F.avg_pool2d(x.clamp(min=eps).pow(p), (x.size(-2), x.size(-1))).pow(1./p)\n",
    "        \n",
    "    def __repr__(self):\n",
    "        return self.__class__.__name__ + \\\n",
    "                '(' + 'p=' + '{:.4f}'.format(self.p.data.tolist()[0]) + \\\n",
    "                ', ' + 'eps=' + str(self.eps) + ')'"
   ]
  },
  {
   "cell_type": "code",
   "execution_count": 8,
   "id": "ab06d8e8",
   "metadata": {
    "execution": {
     "iopub.execute_input": "2024-08-29T17:53:00.601211Z",
     "iopub.status.busy": "2024-08-29T17:53:00.600920Z",
     "iopub.status.idle": "2024-08-29T17:53:01.102994Z",
     "shell.execute_reply": "2024-08-29T17:53:01.102208Z"
    },
    "papermill": {
     "duration": 0.527146,
     "end_time": "2024-08-29T17:53:01.105227",
     "exception": false,
     "start_time": "2024-08-29T17:53:00.578081",
     "status": "completed"
    },
    "tags": []
   },
   "outputs": [],
   "source": [
    "class ISICModel(nn.Module):\n",
    "    def __init__(self, model_name, num_classes=1, pretrained=False, checkpoint_path=None):\n",
    "        super(ISICModel, self).__init__()\n",
    "        self.model = timm.create_model(model_name, pretrained=pretrained, checkpoint_path=checkpoint_path)\n",
    "\n",
    "        in_features = self.model.classifier.in_features\n",
    "        self.model.classifier = nn.Identity()\n",
    "        self.model.global_pool = nn.Identity()\n",
    "        self.pooling = GeM()\n",
    "        self.linear = nn.Linear(in_features, num_classes)\n",
    "\n",
    "    def forward(self, images):\n",
    "        features = self.model(images)\n",
    "        pooled_features = self.pooling(features).flatten(1)\n",
    "        output = self.linear(pooled_features)\n",
    "        return output\n",
    "\n",
    "    \n",
    "model = ISICModel(CONFIG['model_name'])\n",
    "model.to(CONFIG['device']);"
   ]
  },
  {
   "cell_type": "code",
   "execution_count": 9,
   "id": "cec86a6c",
   "metadata": {
    "execution": {
     "iopub.execute_input": "2024-08-29T17:53:01.150900Z",
     "iopub.status.busy": "2024-08-29T17:53:01.150326Z",
     "iopub.status.idle": "2024-08-29T17:53:01.157282Z",
     "shell.execute_reply": "2024-08-29T17:53:01.156471Z"
    },
    "papermill": {
     "duration": 0.032334,
     "end_time": "2024-08-29T17:53:01.159843",
     "exception": false,
     "start_time": "2024-08-29T17:53:01.127509",
     "status": "completed"
    },
    "tags": []
   },
   "outputs": [],
   "source": [
    "class MetaModel(nn.Module):\n",
    "    def __init__(self,in_features):\n",
    "        super().__init__()\n",
    "        self.model=nn.Sequential(\n",
    "                    nn.BatchNorm1d(in_features),\n",
    "                    nn.Linear(in_features,512),\n",
    "                    nn.BatchNorm1d(512),\n",
    "                    nn.ReLU(),\n",
    "                    nn.Dropout(p=0.5),\n",
    "                    nn.Linear(512,256),\n",
    "                    nn.BatchNorm1d(256),\n",
    "                    nn.ReLU(),\n",
    "                    nn.Dropout(p=0.5),\n",
    "                    nn.Linear(256,128),\n",
    "                    nn.BatchNorm1d(128),\n",
    "                    nn.ReLU(),\n",
    "                    nn.Dropout(p=0.4),\n",
    "                    nn.Linear(128,1))\n",
    "    def forward(self,x):\n",
    "        return self.model(x)"
   ]
  },
  {
   "cell_type": "code",
   "execution_count": 10,
   "id": "763b850d",
   "metadata": {
    "execution": {
     "iopub.execute_input": "2024-08-29T17:53:01.205648Z",
     "iopub.status.busy": "2024-08-29T17:53:01.204930Z",
     "iopub.status.idle": "2024-08-29T17:53:01.208831Z",
     "shell.execute_reply": "2024-08-29T17:53:01.207993Z"
    },
    "papermill": {
     "duration": 0.028507,
     "end_time": "2024-08-29T17:53:01.210695",
     "exception": false,
     "start_time": "2024-08-29T17:53:01.182188",
     "status": "completed"
    },
    "tags": []
   },
   "outputs": [],
   "source": [
    "test_path='/kaggle/input/isic-2024-challenge/test-image.hdf5'"
   ]
  },
  {
   "cell_type": "code",
   "execution_count": 11,
   "id": "547aad1e",
   "metadata": {
    "execution": {
     "iopub.execute_input": "2024-08-29T17:53:01.299904Z",
     "iopub.status.busy": "2024-08-29T17:53:01.299293Z",
     "iopub.status.idle": "2024-08-29T17:53:01.315790Z",
     "shell.execute_reply": "2024-08-29T17:53:01.314838Z"
    },
    "papermill": {
     "duration": 0.042266,
     "end_time": "2024-08-29T17:53:01.317847",
     "exception": false,
     "start_time": "2024-08-29T17:53:01.275581",
     "status": "completed"
    },
    "tags": []
   },
   "outputs": [],
   "source": [
    "test_meta_data=pd.read_csv('/kaggle/input/isic-2024-challenge/test-metadata.csv')"
   ]
  },
  {
   "cell_type": "code",
   "execution_count": 12,
   "id": "521416b8",
   "metadata": {
    "execution": {
     "iopub.execute_input": "2024-08-29T17:53:01.364124Z",
     "iopub.status.busy": "2024-08-29T17:53:01.363815Z",
     "iopub.status.idle": "2024-08-29T17:53:01.375124Z",
     "shell.execute_reply": "2024-08-29T17:53:01.374275Z"
    },
    "papermill": {
     "duration": 0.036833,
     "end_time": "2024-08-29T17:53:01.377069",
     "exception": false,
     "start_time": "2024-08-29T17:53:01.340236",
     "status": "completed"
    },
    "tags": []
   },
   "outputs": [],
   "source": [
    "def preprocess(df,df_test,cat_labels):\n",
    "    for col in df.columns:\n",
    "        if((df[col].dtype=='float64' or df[col].dtype=='int64') and df[col].isna().sum()!=0):\n",
    "            df[col].fillna(value=df[col].mean(),inplace=True);\n",
    "        if(df[col].dtype=='object' and df[col].isna().sum()!=0):\n",
    "            df[col].fillna(value=df[col].mode()[0],inplace=True);\n",
    "    for col in df_test.columns:\n",
    "        if((df_test[col].dtype=='float64' or df_test[col].dtype=='int64') and df_test[col].isna().sum()!=0):\n",
    "            df_test[col].fillna(value=df_test[col].mean(),inplace=True);\n",
    "        if(df_test[col].dtype=='object' and df_test[col].isna().sum()!=0):\n",
    "            df_test[col].fillna(value=df_test[col].mode()[0],inplace=True);\n",
    "    encoder = OneHotEncoder(sparse_output=False, drop='first')\n",
    "    encoder.fit(df[cat_labels])\n",
    "    new_cat_cols=encoder.get_feature_names_out(cat_labels)\n",
    "    one_hot_encoded=encoder.transform(df_test[cat_labels])\n",
    "    one_hot_df = pd.DataFrame(one_hot_encoded, columns=encoder.get_feature_names_out(cat_labels))\n",
    "    df_encoded = pd.concat([df_test.drop(columns=cat_labels), one_hot_df], axis=1)\n",
    "    df_f=df_encoded.drop(obj_but_not_cat,axis=1)\n",
    "    return df_f, new_cat_cols"
   ]
  },
  {
   "cell_type": "code",
   "execution_count": 13,
   "id": "b086fd29",
   "metadata": {
    "execution": {
     "iopub.execute_input": "2024-08-29T17:53:01.424079Z",
     "iopub.status.busy": "2024-08-29T17:53:01.423762Z",
     "iopub.status.idle": "2024-08-29T17:53:08.252270Z",
     "shell.execute_reply": "2024-08-29T17:53:08.251253Z"
    },
    "papermill": {
     "duration": 6.855396,
     "end_time": "2024-08-29T17:53:08.254736",
     "exception": false,
     "start_time": "2024-08-29T17:53:01.399340",
     "status": "completed"
    },
    "tags": []
   },
   "outputs": [],
   "source": [
    "train=pd.read_csv('/kaggle/input/isic-2024-challenge/train-metadata.csv')"
   ]
  },
  {
   "cell_type": "code",
   "execution_count": 14,
   "id": "e824d04b",
   "metadata": {
    "execution": {
     "iopub.execute_input": "2024-08-29T17:53:08.300467Z",
     "iopub.status.busy": "2024-08-29T17:53:08.299788Z",
     "iopub.status.idle": "2024-08-29T17:53:08.406656Z",
     "shell.execute_reply": "2024-08-29T17:53:08.405851Z"
    },
    "papermill": {
     "duration": 0.131758,
     "end_time": "2024-08-29T17:53:08.408960",
     "exception": false,
     "start_time": "2024-08-29T17:53:08.277202",
     "status": "completed"
    },
    "tags": []
   },
   "outputs": [],
   "source": [
    "cols_unique_train=['lesion_id', 'iddx_full', 'iddx_1', 'iddx_2', 'iddx_3', 'iddx_4', 'iddx_5', 'mel_mitotic_index', 'mel_thick_mm', 'tbp_lv_dnn_lesion_confidence']\n",
    "train=train.drop(cols_unique_train,axis=1)\n",
    "cat_cols=['sex','anatom_site_general','tbp_tile_type','tbp_lv_location','tbp_lv_location_simple']\n",
    "obj_but_not_cat=['image_type','copyright_license','attribution','patient_id','isic_id']"
   ]
  },
  {
   "cell_type": "code",
   "execution_count": 15,
   "id": "8fb8d135",
   "metadata": {
    "execution": {
     "iopub.execute_input": "2024-08-29T17:53:08.454691Z",
     "iopub.status.busy": "2024-08-29T17:53:08.454390Z",
     "iopub.status.idle": "2024-08-29T17:53:09.166169Z",
     "shell.execute_reply": "2024-08-29T17:53:09.164943Z"
    },
    "papermill": {
     "duration": 0.737323,
     "end_time": "2024-08-29T17:53:09.168538",
     "exception": false,
     "start_time": "2024-08-29T17:53:08.431215",
     "status": "completed"
    },
    "tags": []
   },
   "outputs": [],
   "source": [
    "df_test,new_cat_cols=preprocess(train,test_meta_data,cat_cols)"
   ]
  },
  {
   "cell_type": "code",
   "execution_count": 16,
   "id": "e55287c4",
   "metadata": {
    "execution": {
     "iopub.execute_input": "2024-08-29T17:53:09.214374Z",
     "iopub.status.busy": "2024-08-29T17:53:09.213858Z",
     "iopub.status.idle": "2024-08-29T17:53:09.220456Z",
     "shell.execute_reply": "2024-08-29T17:53:09.219625Z"
    },
    "papermill": {
     "duration": 0.031537,
     "end_time": "2024-08-29T17:53:09.222395",
     "exception": false,
     "start_time": "2024-08-29T17:53:09.190858",
     "status": "completed"
    },
    "tags": []
   },
   "outputs": [
    {
     "data": {
      "text/plain": [
       "(3, 67)"
      ]
     },
     "execution_count": 16,
     "metadata": {},
     "output_type": "execute_result"
    }
   ],
   "source": [
    "df_test.shape"
   ]
  },
  {
   "cell_type": "code",
   "execution_count": 17,
   "id": "54b12426",
   "metadata": {
    "execution": {
     "iopub.execute_input": "2024-08-29T17:53:09.267869Z",
     "iopub.status.busy": "2024-08-29T17:53:09.267550Z",
     "iopub.status.idle": "2024-08-29T17:53:09.273375Z",
     "shell.execute_reply": "2024-08-29T17:53:09.272554Z"
    },
    "papermill": {
     "duration": 0.031001,
     "end_time": "2024-08-29T17:53:09.275382",
     "exception": false,
     "start_time": "2024-08-29T17:53:09.244381",
     "status": "completed"
    },
    "tags": []
   },
   "outputs": [
    {
     "data": {
      "text/plain": [
       "Index(['age_approx', 'clin_size_long_diam_mm', 'tbp_lv_A', 'tbp_lv_Aext',\n",
       "       'tbp_lv_B', 'tbp_lv_Bext', 'tbp_lv_C', 'tbp_lv_Cext', 'tbp_lv_H',\n",
       "       'tbp_lv_Hext', 'tbp_lv_L', 'tbp_lv_Lext', 'tbp_lv_areaMM2',\n",
       "       'tbp_lv_area_perim_ratio', 'tbp_lv_color_std_mean', 'tbp_lv_deltaA',\n",
       "       'tbp_lv_deltaB', 'tbp_lv_deltaL', 'tbp_lv_deltaLB',\n",
       "       'tbp_lv_deltaLBnorm', 'tbp_lv_eccentricity', 'tbp_lv_minorAxisMM',\n",
       "       'tbp_lv_nevi_confidence', 'tbp_lv_norm_border', 'tbp_lv_norm_color',\n",
       "       'tbp_lv_perimeterMM', 'tbp_lv_radial_color_std_max', 'tbp_lv_stdL',\n",
       "       'tbp_lv_stdLExt', 'tbp_lv_symm_2axis', 'tbp_lv_symm_2axis_angle',\n",
       "       'tbp_lv_x', 'tbp_lv_y', 'tbp_lv_z', 'sex_male',\n",
       "       'anatom_site_general_head/neck', 'anatom_site_general_lower extremity',\n",
       "       'anatom_site_general_posterior torso',\n",
       "       'anatom_site_general_upper extremity', 'tbp_tile_type_3D: white',\n",
       "       'tbp_lv_location_Left Arm', 'tbp_lv_location_Left Arm - Lower',\n",
       "       'tbp_lv_location_Left Arm - Upper', 'tbp_lv_location_Left Leg',\n",
       "       'tbp_lv_location_Left Leg - Lower', 'tbp_lv_location_Left Leg - Upper',\n",
       "       'tbp_lv_location_Right Arm', 'tbp_lv_location_Right Arm - Lower',\n",
       "       'tbp_lv_location_Right Arm - Upper', 'tbp_lv_location_Right Leg',\n",
       "       'tbp_lv_location_Right Leg - Lower',\n",
       "       'tbp_lv_location_Right Leg - Upper', 'tbp_lv_location_Torso Back',\n",
       "       'tbp_lv_location_Torso Back Bottom Third',\n",
       "       'tbp_lv_location_Torso Back Middle Third',\n",
       "       'tbp_lv_location_Torso Back Top Third', 'tbp_lv_location_Torso Front',\n",
       "       'tbp_lv_location_Torso Front Bottom Half',\n",
       "       'tbp_lv_location_Torso Front Top Half', 'tbp_lv_location_Unknown',\n",
       "       'tbp_lv_location_simple_Left Arm', 'tbp_lv_location_simple_Left Leg',\n",
       "       'tbp_lv_location_simple_Right Arm', 'tbp_lv_location_simple_Right Leg',\n",
       "       'tbp_lv_location_simple_Torso Back',\n",
       "       'tbp_lv_location_simple_Torso Front', 'tbp_lv_location_simple_Unknown'],\n",
       "      dtype='object')"
      ]
     },
     "execution_count": 17,
     "metadata": {},
     "output_type": "execute_result"
    }
   ],
   "source": [
    "df_test.columns"
   ]
  },
  {
   "cell_type": "code",
   "execution_count": 18,
   "id": "43a48568",
   "metadata": {
    "execution": {
     "iopub.execute_input": "2024-08-29T17:53:09.320736Z",
     "iopub.status.busy": "2024-08-29T17:53:09.320434Z",
     "iopub.status.idle": "2024-08-29T17:53:09.327302Z",
     "shell.execute_reply": "2024-08-29T17:53:09.326448Z"
    },
    "papermill": {
     "duration": 0.031484,
     "end_time": "2024-08-29T17:53:09.329140",
     "exception": false,
     "start_time": "2024-08-29T17:53:09.297656",
     "status": "completed"
    },
    "tags": []
   },
   "outputs": [],
   "source": [
    "class MetaModel(nn.Module):\n",
    "    def __init__(self,in_features):\n",
    "        super().__init__()\n",
    "        self.model=nn.Sequential(\n",
    "                    nn.BatchNorm1d(in_features),\n",
    "                    nn.Linear(in_features,128),\n",
    "                    nn.BatchNorm1d(128),\n",
    "                    nn.ReLU(),\n",
    "                    nn.Dropout(p=0.6),\n",
    "                    nn.Linear(128,128),\n",
    "                    nn.BatchNorm1d(128),\n",
    "                    nn.ReLU(),\n",
    "                    nn.Dropout(p=0.6),\n",
    "                    nn.Linear(128,128),\n",
    "                    nn.BatchNorm1d(128),\n",
    "                    nn.ReLU(),\n",
    "                    nn.Dropout(p=0.6),\n",
    "                    nn.Linear(128,1))\n",
    "    def forward(self,x):\n",
    "        return self.model(x)"
   ]
  },
  {
   "cell_type": "code",
   "execution_count": 19,
   "id": "9148b0a4",
   "metadata": {
    "execution": {
     "iopub.execute_input": "2024-08-29T17:53:09.374660Z",
     "iopub.status.busy": "2024-08-29T17:53:09.373919Z",
     "iopub.status.idle": "2024-08-29T17:53:09.390097Z",
     "shell.execute_reply": "2024-08-29T17:53:09.389267Z"
    },
    "papermill": {
     "duration": 0.040994,
     "end_time": "2024-08-29T17:53:09.392052",
     "exception": false,
     "start_time": "2024-08-29T17:53:09.351058",
     "status": "completed"
    },
    "tags": []
   },
   "outputs": [],
   "source": [
    "meta_model = pickle.load(open(\"/kaggle/input/metamodel14/pytorch/default/1/meta_model_8_model (6).pkl\",'rb'))\n",
    "# sd1 = torch.load('/kaggle/input/metamodel13/pytorch/default/1/AUROC0.5400_Loss35.1872_epoch1.bin')"
   ]
  },
  {
   "cell_type": "code",
   "execution_count": 20,
   "id": "7cf4b36d",
   "metadata": {
    "execution": {
     "iopub.execute_input": "2024-08-29T17:53:09.437435Z",
     "iopub.status.busy": "2024-08-29T17:53:09.437172Z",
     "iopub.status.idle": "2024-08-29T17:53:09.910684Z",
     "shell.execute_reply": "2024-08-29T17:53:09.909912Z"
    },
    "papermill": {
     "duration": 0.498631,
     "end_time": "2024-08-29T17:53:09.912898",
     "exception": false,
     "start_time": "2024-08-29T17:53:09.414267",
     "status": "completed"
    },
    "tags": []
   },
   "outputs": [],
   "source": [
    "model=pickle.load(open('/kaggle/input/eff_net_03/pytorch/default/1/eff_net_2_model (1).pkl','rb'))\n",
    "# sd2 = torch.load('/kaggle/input/effnet0-2/pytorch/default/1/AUROC0.5434_Loss35.1402_epoch6.bin')"
   ]
  },
  {
   "cell_type": "code",
   "execution_count": 21,
   "id": "e224a335",
   "metadata": {
    "execution": {
     "iopub.execute_input": "2024-08-29T17:53:09.958894Z",
     "iopub.status.busy": "2024-08-29T17:53:09.958582Z",
     "iopub.status.idle": "2024-08-29T17:53:10.434593Z",
     "shell.execute_reply": "2024-08-29T17:53:10.433800Z"
    },
    "papermill": {
     "duration": 0.50128,
     "end_time": "2024-08-29T17:53:10.437007",
     "exception": false,
     "start_time": "2024-08-29T17:53:09.935727",
     "status": "completed"
    },
    "tags": []
   },
   "outputs": [],
   "source": [
    "sd=torch.load('/kaggle/input/effnet_5/pytorch/default/1/AUROC0.8463_Loss4.8312_epoch1.bin')"
   ]
  },
  {
   "cell_type": "code",
   "execution_count": 22,
   "id": "18a815f5",
   "metadata": {
    "execution": {
     "iopub.execute_input": "2024-08-29T17:53:10.483377Z",
     "iopub.status.busy": "2024-08-29T17:53:10.483078Z",
     "iopub.status.idle": "2024-08-29T17:53:10.515647Z",
     "shell.execute_reply": "2024-08-29T17:53:10.514870Z"
    },
    "papermill": {
     "duration": 0.057586,
     "end_time": "2024-08-29T17:53:10.517644",
     "exception": false,
     "start_time": "2024-08-29T17:53:10.460058",
     "status": "completed"
    },
    "tags": []
   },
   "outputs": [
    {
     "data": {
      "text/plain": [
       "<All keys matched successfully>"
      ]
     },
     "execution_count": 22,
     "metadata": {},
     "output_type": "execute_result"
    }
   ],
   "source": [
    "model.load_state_dict(sd)"
   ]
  },
  {
   "cell_type": "code",
   "execution_count": 23,
   "id": "2a49b307",
   "metadata": {
    "execution": {
     "iopub.execute_input": "2024-08-29T17:53:10.563914Z",
     "iopub.status.busy": "2024-08-29T17:53:10.563636Z",
     "iopub.status.idle": "2024-08-29T17:53:10.722350Z",
     "shell.execute_reply": "2024-08-29T17:53:10.721568Z"
    },
    "papermill": {
     "duration": 0.184797,
     "end_time": "2024-08-29T17:53:10.724623",
     "exception": false,
     "start_time": "2024-08-29T17:53:10.539826",
     "status": "completed"
    },
    "tags": []
   },
   "outputs": [],
   "source": [
    "model2 = pickle.load(open('/kaggle/input/eff_net_03/pytorch/default/1/eff_net_2_model (1).pkl','rb'))"
   ]
  },
  {
   "cell_type": "code",
   "execution_count": 24,
   "id": "a7c2bf09",
   "metadata": {
    "execution": {
     "iopub.execute_input": "2024-08-29T17:53:10.771152Z",
     "iopub.status.busy": "2024-08-29T17:53:10.770437Z",
     "iopub.status.idle": "2024-08-29T17:53:10.775975Z",
     "shell.execute_reply": "2024-08-29T17:53:10.775180Z"
    },
    "papermill": {
     "duration": 0.030679,
     "end_time": "2024-08-29T17:53:10.777944",
     "exception": false,
     "start_time": "2024-08-29T17:53:10.747265",
     "status": "completed"
    },
    "tags": []
   },
   "outputs": [
    {
     "data": {
      "text/plain": [
       "(3, 67)"
      ]
     },
     "execution_count": 24,
     "metadata": {},
     "output_type": "execute_result"
    }
   ],
   "source": [
    "df_test.shape"
   ]
  },
  {
   "cell_type": "code",
   "execution_count": 25,
   "id": "ae9edab1",
   "metadata": {
    "execution": {
     "iopub.execute_input": "2024-08-29T17:53:10.823289Z",
     "iopub.status.busy": "2024-08-29T17:53:10.823041Z",
     "iopub.status.idle": "2024-08-29T17:53:14.711244Z",
     "shell.execute_reply": "2024-08-29T17:53:14.710338Z"
    },
    "papermill": {
     "duration": 3.913506,
     "end_time": "2024-08-29T17:53:14.713622",
     "exception": false,
     "start_time": "2024-08-29T17:53:10.800116",
     "status": "completed"
    },
    "tags": []
   },
   "outputs": [],
   "source": [
    "lgb_models=pickle.load(open('/kaggle/input/lgbm13/pytorch/default/1/lgbm_11 (2).pkl','rb'))"
   ]
  },
  {
   "cell_type": "code",
   "execution_count": 26,
   "id": "78723580",
   "metadata": {
    "execution": {
     "iopub.execute_input": "2024-08-29T17:53:14.760705Z",
     "iopub.status.busy": "2024-08-29T17:53:14.760033Z",
     "iopub.status.idle": "2024-08-29T17:53:14.770774Z",
     "shell.execute_reply": "2024-08-29T17:53:14.770027Z"
    },
    "papermill": {
     "duration": 0.035829,
     "end_time": "2024-08-29T17:53:14.772582",
     "exception": false,
     "start_time": "2024-08-29T17:53:14.736753",
     "status": "completed"
    },
    "tags": []
   },
   "outputs": [],
   "source": [
    "f1 = h5py.File('/kaggle/input/isic-2024-challenge/train-image.hdf5', 'r')"
   ]
  },
  {
   "cell_type": "code",
   "execution_count": 27,
   "id": "d3ce2308",
   "metadata": {
    "execution": {
     "iopub.execute_input": "2024-08-29T17:53:14.818481Z",
     "iopub.status.busy": "2024-08-29T17:53:14.818205Z",
     "iopub.status.idle": "2024-08-29T17:54:17.962649Z",
     "shell.execute_reply": "2024-08-29T17:54:17.961814Z"
    },
    "papermill": {
     "duration": 63.170048,
     "end_time": "2024-08-29T17:54:17.965126",
     "exception": false,
     "start_time": "2024-08-29T17:53:14.795078",
     "status": "completed"
    },
    "tags": []
   },
   "outputs": [],
   "source": [
    "train_keys = list(f1.keys())"
   ]
  },
  {
   "cell_type": "code",
   "execution_count": 28,
   "id": "2fd2a7f5",
   "metadata": {
    "execution": {
     "iopub.execute_input": "2024-08-29T17:54:18.012253Z",
     "iopub.status.busy": "2024-08-29T17:54:18.011931Z",
     "iopub.status.idle": "2024-08-29T17:54:18.020598Z",
     "shell.execute_reply": "2024-08-29T17:54:18.019745Z"
    },
    "papermill": {
     "duration": 0.034576,
     "end_time": "2024-08-29T17:54:18.022724",
     "exception": false,
     "start_time": "2024-08-29T17:54:17.988148",
     "status": "completed"
    },
    "tags": []
   },
   "outputs": [],
   "source": [
    "f2=h5py.File(test_path,'r')"
   ]
  },
  {
   "cell_type": "code",
   "execution_count": 29,
   "id": "0f00a170",
   "metadata": {
    "execution": {
     "iopub.execute_input": "2024-08-29T17:54:18.068868Z",
     "iopub.status.busy": "2024-08-29T17:54:18.068365Z",
     "iopub.status.idle": "2024-08-29T17:54:18.072371Z",
     "shell.execute_reply": "2024-08-29T17:54:18.071567Z"
    },
    "papermill": {
     "duration": 0.029022,
     "end_time": "2024-08-29T17:54:18.074278",
     "exception": false,
     "start_time": "2024-08-29T17:54:18.045256",
     "status": "completed"
    },
    "tags": []
   },
   "outputs": [],
   "source": [
    "keys=list(f2.keys())"
   ]
  },
  {
   "cell_type": "code",
   "execution_count": 30,
   "id": "01cb1f65",
   "metadata": {
    "execution": {
     "iopub.execute_input": "2024-08-29T17:54:18.120725Z",
     "iopub.status.busy": "2024-08-29T17:54:18.120393Z",
     "iopub.status.idle": "2024-08-29T17:54:18.124301Z",
     "shell.execute_reply": "2024-08-29T17:54:18.123409Z"
    },
    "papermill": {
     "duration": 0.02954,
     "end_time": "2024-08-29T17:54:18.126339",
     "exception": false,
     "start_time": "2024-08-29T17:54:18.096799",
     "status": "completed"
    },
    "tags": []
   },
   "outputs": [],
   "source": [
    "# img=BytesIO(f2[keys[0]][()])"
   ]
  },
  {
   "cell_type": "code",
   "execution_count": 31,
   "id": "97483109",
   "metadata": {
    "execution": {
     "iopub.execute_input": "2024-08-29T17:54:18.175933Z",
     "iopub.status.busy": "2024-08-29T17:54:18.175324Z",
     "iopub.status.idle": "2024-08-29T17:54:18.179190Z",
     "shell.execute_reply": "2024-08-29T17:54:18.178346Z"
    },
    "papermill": {
     "duration": 0.031834,
     "end_time": "2024-08-29T17:54:18.181079",
     "exception": false,
     "start_time": "2024-08-29T17:54:18.149245",
     "status": "completed"
    },
    "tags": []
   },
   "outputs": [],
   "source": [
    "# test_transform(Image.open(img))"
   ]
  },
  {
   "cell_type": "code",
   "execution_count": 32,
   "id": "17fc68cf",
   "metadata": {
    "execution": {
     "iopub.execute_input": "2024-08-29T17:54:18.230042Z",
     "iopub.status.busy": "2024-08-29T17:54:18.228919Z",
     "iopub.status.idle": "2024-08-29T17:54:18.233194Z",
     "shell.execute_reply": "2024-08-29T17:54:18.232459Z"
    },
    "papermill": {
     "duration": 0.030875,
     "end_time": "2024-08-29T17:54:18.235105",
     "exception": false,
     "start_time": "2024-08-29T17:54:18.204230",
     "status": "completed"
    },
    "tags": []
   },
   "outputs": [],
   "source": [
    "# img=np.array(Image.open(img))"
   ]
  },
  {
   "cell_type": "code",
   "execution_count": 33,
   "id": "a3b65497",
   "metadata": {
    "execution": {
     "iopub.execute_input": "2024-08-29T17:54:18.282019Z",
     "iopub.status.busy": "2024-08-29T17:54:18.281673Z",
     "iopub.status.idle": "2024-08-29T17:54:18.285511Z",
     "shell.execute_reply": "2024-08-29T17:54:18.284652Z"
    },
    "papermill": {
     "duration": 0.029562,
     "end_time": "2024-08-29T17:54:18.287435",
     "exception": false,
     "start_time": "2024-08-29T17:54:18.257873",
     "status": "completed"
    },
    "tags": []
   },
   "outputs": [],
   "source": [
    "# img=torch.tensor(img)"
   ]
  },
  {
   "cell_type": "code",
   "execution_count": 34,
   "id": "0075d964",
   "metadata": {
    "execution": {
     "iopub.execute_input": "2024-08-29T17:54:18.334762Z",
     "iopub.status.busy": "2024-08-29T17:54:18.334447Z",
     "iopub.status.idle": "2024-08-29T17:54:18.337991Z",
     "shell.execute_reply": "2024-08-29T17:54:18.337171Z"
    },
    "papermill": {
     "duration": 0.03001,
     "end_time": "2024-08-29T17:54:18.340004",
     "exception": false,
     "start_time": "2024-08-29T17:54:18.309994",
     "status": "completed"
    },
    "tags": []
   },
   "outputs": [],
   "source": [
    "# img_2=img.to(torch.float32)"
   ]
  },
  {
   "cell_type": "code",
   "execution_count": 35,
   "id": "c3bbae6b",
   "metadata": {
    "execution": {
     "iopub.execute_input": "2024-08-29T17:54:18.387001Z",
     "iopub.status.busy": "2024-08-29T17:54:18.386473Z",
     "iopub.status.idle": "2024-08-29T17:54:18.390098Z",
     "shell.execute_reply": "2024-08-29T17:54:18.389323Z"
    },
    "papermill": {
     "duration": 0.028703,
     "end_time": "2024-08-29T17:54:18.391997",
     "exception": false,
     "start_time": "2024-08-29T17:54:18.363294",
     "status": "completed"
    },
    "tags": []
   },
   "outputs": [],
   "source": [
    "# img_2"
   ]
  },
  {
   "cell_type": "code",
   "execution_count": 36,
   "id": "7d761ddf",
   "metadata": {
    "execution": {
     "iopub.execute_input": "2024-08-29T17:54:18.437566Z",
     "iopub.status.busy": "2024-08-29T17:54:18.437286Z",
     "iopub.status.idle": "2024-08-29T17:54:18.440823Z",
     "shell.execute_reply": "2024-08-29T17:54:18.439987Z"
    },
    "papermill": {
     "duration": 0.028443,
     "end_time": "2024-08-29T17:54:18.442734",
     "exception": false,
     "start_time": "2024-08-29T17:54:18.414291",
     "status": "completed"
    },
    "tags": []
   },
   "outputs": [],
   "source": [
    "# type(img)"
   ]
  },
  {
   "cell_type": "code",
   "execution_count": 37,
   "id": "147e24e6",
   "metadata": {
    "execution": {
     "iopub.execute_input": "2024-08-29T17:54:18.489218Z",
     "iopub.status.busy": "2024-08-29T17:54:18.488509Z",
     "iopub.status.idle": "2024-08-29T17:54:18.494313Z",
     "shell.execute_reply": "2024-08-29T17:54:18.493472Z"
    },
    "papermill": {
     "duration": 0.030873,
     "end_time": "2024-08-29T17:54:18.496161",
     "exception": false,
     "start_time": "2024-08-29T17:54:18.465288",
     "status": "completed"
    },
    "tags": []
   },
   "outputs": [],
   "source": [
    "class ISICDataset(Dataset):\n",
    "    def __init__(self,transform=None):\n",
    "        self.transform=transform\n",
    "    def __len__(self):\n",
    "        return len(keys)\n",
    "    def __getitem__(self,idx):\n",
    "        img=np.array(Image.open(BytesIO(f2[keys[idx]][()])))\n",
    "        img=self.transform(image=img)['image']\n",
    "        return img"
   ]
  },
  {
   "cell_type": "code",
   "execution_count": 38,
   "id": "cec19d34",
   "metadata": {
    "execution": {
     "iopub.execute_input": "2024-08-29T17:54:18.542354Z",
     "iopub.status.busy": "2024-08-29T17:54:18.541795Z",
     "iopub.status.idle": "2024-08-29T17:54:18.547430Z",
     "shell.execute_reply": "2024-08-29T17:54:18.546589Z"
    },
    "papermill": {
     "duration": 0.030917,
     "end_time": "2024-08-29T17:54:18.549432",
     "exception": false,
     "start_time": "2024-08-29T17:54:18.518515",
     "status": "completed"
    },
    "tags": []
   },
   "outputs": [],
   "source": [
    "class dISICDataset(Dataset):\n",
    "    def __init__(self,transform=None):\n",
    "        self.transform=transform\n",
    "    def __len__(self):\n",
    "        return len(train_keys)\n",
    "    def __getitem__(self,idx):\n",
    "        img=np.array(Image.open(BytesIO(f1[train_keys[idx]][()])))\n",
    "        img=self.transform(image=img)['image']\n",
    "        return img"
   ]
  },
  {
   "cell_type": "code",
   "execution_count": 39,
   "id": "1a9ae596",
   "metadata": {
    "execution": {
     "iopub.execute_input": "2024-08-29T17:54:18.595579Z",
     "iopub.status.busy": "2024-08-29T17:54:18.595082Z",
     "iopub.status.idle": "2024-08-29T17:54:18.600461Z",
     "shell.execute_reply": "2024-08-29T17:54:18.599651Z"
    },
    "papermill": {
     "duration": 0.030627,
     "end_time": "2024-08-29T17:54:18.602306",
     "exception": false,
     "start_time": "2024-08-29T17:54:18.571679",
     "status": "completed"
    },
    "tags": []
   },
   "outputs": [],
   "source": [
    "data_transforms =A.Compose([\n",
    "        A.Resize(CONFIG['img_size'], CONFIG['img_size']),\n",
    "        A.Normalize(\n",
    "                mean=[0.485, 0.456, 0.406], \n",
    "                std=[0.229, 0.224, 0.225], \n",
    "                max_pixel_value=255.0, \n",
    "                p=1.0\n",
    "            ),\n",
    "        ToTensorV2()], p=1.)"
   ]
  },
  {
   "cell_type": "code",
   "execution_count": 40,
   "id": "c7cd3abe",
   "metadata": {
    "execution": {
     "iopub.execute_input": "2024-08-29T17:54:18.648544Z",
     "iopub.status.busy": "2024-08-29T17:54:18.648232Z",
     "iopub.status.idle": "2024-08-29T17:54:18.652156Z",
     "shell.execute_reply": "2024-08-29T17:54:18.651336Z"
    },
    "papermill": {
     "duration": 0.029354,
     "end_time": "2024-08-29T17:54:18.654146",
     "exception": false,
     "start_time": "2024-08-29T17:54:18.624792",
     "status": "completed"
    },
    "tags": []
   },
   "outputs": [],
   "source": [
    "test_dataset = ISICDataset(data_transforms)"
   ]
  },
  {
   "cell_type": "code",
   "execution_count": 41,
   "id": "86d682d1",
   "metadata": {
    "execution": {
     "iopub.execute_input": "2024-08-29T17:54:18.700165Z",
     "iopub.status.busy": "2024-08-29T17:54:18.699573Z",
     "iopub.status.idle": "2024-08-29T17:54:18.712479Z",
     "shell.execute_reply": "2024-08-29T17:54:18.711629Z"
    },
    "papermill": {
     "duration": 0.038,
     "end_time": "2024-08-29T17:54:18.714345",
     "exception": false,
     "start_time": "2024-08-29T17:54:18.676345",
     "status": "completed"
    },
    "tags": []
   },
   "outputs": [],
   "source": [
    "class TabularDataset_test(Dataset):\n",
    "    def __init__(self,data,transform=None):\n",
    "        self.data = data\n",
    "        self.transform = transform\n",
    "\n",
    "    def __len__(self):\n",
    "        return len(self.data)\n",
    "\n",
    "    def __getitem__(self, idx):\n",
    "        X = self.data.iloc[idx].values.astype(float)\n",
    "        \n",
    "        if self.transform:\n",
    "            X = self.transform(X)\n",
    "        \n",
    "        return torch.tensor(X, dtype=torch.float32)"
   ]
  },
  {
   "cell_type": "code",
   "execution_count": 42,
   "id": "215e6c08",
   "metadata": {
    "execution": {
     "iopub.execute_input": "2024-08-29T17:54:18.760426Z",
     "iopub.status.busy": "2024-08-29T17:54:18.760132Z",
     "iopub.status.idle": "2024-08-29T17:54:18.764289Z",
     "shell.execute_reply": "2024-08-29T17:54:18.763472Z"
    },
    "papermill": {
     "duration": 0.029306,
     "end_time": "2024-08-29T17:54:18.766237",
     "exception": false,
     "start_time": "2024-08-29T17:54:18.736931",
     "status": "completed"
    },
    "tags": []
   },
   "outputs": [],
   "source": [
    "test_dataloader=DataLoader(test_dataset,batch_size=32)"
   ]
  },
  {
   "cell_type": "code",
   "execution_count": 43,
   "id": "22c2267a",
   "metadata": {
    "execution": {
     "iopub.execute_input": "2024-08-29T17:54:18.812280Z",
     "iopub.status.busy": "2024-08-29T17:54:18.811571Z",
     "iopub.status.idle": "2024-08-29T17:54:18.815700Z",
     "shell.execute_reply": "2024-08-29T17:54:18.814842Z"
    },
    "papermill": {
     "duration": 0.029126,
     "end_time": "2024-08-29T17:54:18.817625",
     "exception": false,
     "start_time": "2024-08-29T17:54:18.788499",
     "status": "completed"
    },
    "tags": []
   },
   "outputs": [],
   "source": [
    "device='cuda' if torch.cuda.is_available else 'cpu'"
   ]
  },
  {
   "cell_type": "code",
   "execution_count": 44,
   "id": "a02f337e",
   "metadata": {
    "execution": {
     "iopub.execute_input": "2024-08-29T17:54:18.863655Z",
     "iopub.status.busy": "2024-08-29T17:54:18.863066Z",
     "iopub.status.idle": "2024-08-29T17:54:18.867263Z",
     "shell.execute_reply": "2024-08-29T17:54:18.866430Z"
    },
    "papermill": {
     "duration": 0.029341,
     "end_time": "2024-08-29T17:54:18.869066",
     "exception": false,
     "start_time": "2024-08-29T17:54:18.839725",
     "status": "completed"
    },
    "tags": []
   },
   "outputs": [],
   "source": [
    "from tqdm.auto import tqdm"
   ]
  },
  {
   "cell_type": "code",
   "execution_count": 45,
   "id": "bbdc2d13",
   "metadata": {
    "execution": {
     "iopub.execute_input": "2024-08-29T17:54:18.916076Z",
     "iopub.status.busy": "2024-08-29T17:54:18.915359Z",
     "iopub.status.idle": "2024-08-29T17:54:19.140140Z",
     "shell.execute_reply": "2024-08-29T17:54:19.139263Z"
    },
    "papermill": {
     "duration": 0.250802,
     "end_time": "2024-08-29T17:54:19.142197",
     "exception": false,
     "start_time": "2024-08-29T17:54:18.891395",
     "status": "completed"
    },
    "tags": []
   },
   "outputs": [
    {
     "data": {
      "text/plain": [
       "60"
      ]
     },
     "execution_count": 45,
     "metadata": {},
     "output_type": "execute_result"
    }
   ],
   "source": [
    "import gc\n",
    "gc.collect()"
   ]
  },
  {
   "cell_type": "code",
   "execution_count": 46,
   "id": "b981a1d7",
   "metadata": {
    "execution": {
     "iopub.execute_input": "2024-08-29T17:54:19.191039Z",
     "iopub.status.busy": "2024-08-29T17:54:19.190299Z",
     "iopub.status.idle": "2024-08-29T17:54:19.248764Z",
     "shell.execute_reply": "2024-08-29T17:54:19.247905Z"
    },
    "papermill": {
     "duration": 0.086275,
     "end_time": "2024-08-29T17:54:19.251458",
     "exception": false,
     "start_time": "2024-08-29T17:54:19.165183",
     "status": "completed"
    },
    "tags": []
   },
   "outputs": [],
   "source": [
    "i = next(iter(test_dataloader))"
   ]
  },
  {
   "cell_type": "code",
   "execution_count": 47,
   "id": "65524f3c",
   "metadata": {
    "execution": {
     "iopub.execute_input": "2024-08-29T17:54:19.299568Z",
     "iopub.status.busy": "2024-08-29T17:54:19.299206Z",
     "iopub.status.idle": "2024-08-29T17:54:20.305109Z",
     "shell.execute_reply": "2024-08-29T17:54:20.304135Z"
    },
    "papermill": {
     "duration": 1.032193,
     "end_time": "2024-08-29T17:54:20.307208",
     "exception": false,
     "start_time": "2024-08-29T17:54:19.275015",
     "status": "completed"
    },
    "tags": []
   },
   "outputs": [
    {
     "data": {
      "text/plain": [
       "tensor([[-1.3276],\n",
       "        [-7.9674],\n",
       "        [-2.9345]], device='cuda:0', grad_fn=<AddmmBackward0>)"
      ]
     },
     "execution_count": 47,
     "metadata": {},
     "output_type": "execute_result"
    }
   ],
   "source": [
    "model(i.to(device))"
   ]
  },
  {
   "cell_type": "code",
   "execution_count": 48,
   "id": "c55141ed",
   "metadata": {
    "execution": {
     "iopub.execute_input": "2024-08-29T17:54:20.356676Z",
     "iopub.status.busy": "2024-08-29T17:54:20.356324Z",
     "iopub.status.idle": "2024-08-29T17:54:20.426360Z",
     "shell.execute_reply": "2024-08-29T17:54:20.425480Z"
    },
    "papermill": {
     "duration": 0.097266,
     "end_time": "2024-08-29T17:54:20.428437",
     "exception": false,
     "start_time": "2024-08-29T17:54:20.331171",
     "status": "completed"
    },
    "tags": []
   },
   "outputs": [
    {
     "data": {
      "text/plain": [
       "torch.Size([3, 1])"
      ]
     },
     "execution_count": 48,
     "metadata": {},
     "output_type": "execute_result"
    }
   ],
   "source": [
    "model(i.to(device)).shape"
   ]
  },
  {
   "cell_type": "code",
   "execution_count": 49,
   "id": "e6f0825b",
   "metadata": {
    "execution": {
     "iopub.execute_input": "2024-08-29T17:54:20.477274Z",
     "iopub.status.busy": "2024-08-29T17:54:20.476944Z",
     "iopub.status.idle": "2024-08-29T17:54:20.846105Z",
     "shell.execute_reply": "2024-08-29T17:54:20.845149Z"
    },
    "papermill": {
     "duration": 0.396157,
     "end_time": "2024-08-29T17:54:20.848010",
     "exception": false,
     "start_time": "2024-08-29T17:54:20.451853",
     "status": "completed"
    },
    "tags": []
   },
   "outputs": [
    {
     "data": {
      "application/vnd.jupyter.widget-view+json": {
       "model_id": "0f35d5e8ecfc4ce8ac0f4db34f888866",
       "version_major": 2,
       "version_minor": 0
      },
      "text/plain": [
       "  0%|          | 0/1 [00:00<?, ?it/s]"
      ]
     },
     "metadata": {},
     "output_type": "display_data"
    }
   ],
   "source": [
    "model.eval()\n",
    "y=np.array([])\n",
    "model.to(device)\n",
    "for i,X in enumerate(tqdm(test_dataloader)):\n",
    "    X=X.to(device)\n",
    "    with torch.inference_mode():\n",
    "        y=np.concatenate((y,np.array(torch.nn.functional.sigmoid(model(X)).detach().cpu()).ravel()))\n",
    "    del X\n",
    "    torch.cuda.empty_cache()\n",
    "    gc.collect()"
   ]
  },
  {
   "cell_type": "code",
   "execution_count": 50,
   "id": "da13922a",
   "metadata": {
    "execution": {
     "iopub.execute_input": "2024-08-29T17:54:20.895961Z",
     "iopub.status.busy": "2024-08-29T17:54:20.895582Z",
     "iopub.status.idle": "2024-08-29T17:54:20.900666Z",
     "shell.execute_reply": "2024-08-29T17:54:20.899861Z"
    },
    "papermill": {
     "duration": 0.031032,
     "end_time": "2024-08-29T17:54:20.902491",
     "exception": false,
     "start_time": "2024-08-29T17:54:20.871459",
     "status": "completed"
    },
    "tags": []
   },
   "outputs": [],
   "source": [
    "df_test['connect_y']=y"
   ]
  },
  {
   "cell_type": "code",
   "execution_count": 51,
   "id": "ff36c5b4",
   "metadata": {
    "execution": {
     "iopub.execute_input": "2024-08-29T17:54:20.950099Z",
     "iopub.status.busy": "2024-08-29T17:54:20.949788Z",
     "iopub.status.idle": "2024-08-29T17:54:20.953886Z",
     "shell.execute_reply": "2024-08-29T17:54:20.952993Z"
    },
    "papermill": {
     "duration": 0.03004,
     "end_time": "2024-08-29T17:54:20.955871",
     "exception": false,
     "start_time": "2024-08-29T17:54:20.925831",
     "status": "completed"
    },
    "tags": []
   },
   "outputs": [],
   "source": [
    "test_metaset=TabularDataset_test(df_test)"
   ]
  },
  {
   "cell_type": "code",
   "execution_count": 52,
   "id": "fb68b459",
   "metadata": {
    "execution": {
     "iopub.execute_input": "2024-08-29T17:54:21.005649Z",
     "iopub.status.busy": "2024-08-29T17:54:21.004964Z",
     "iopub.status.idle": "2024-08-29T17:54:21.009495Z",
     "shell.execute_reply": "2024-08-29T17:54:21.008507Z"
    },
    "papermill": {
     "duration": 0.031765,
     "end_time": "2024-08-29T17:54:21.011586",
     "exception": false,
     "start_time": "2024-08-29T17:54:20.979821",
     "status": "completed"
    },
    "tags": []
   },
   "outputs": [],
   "source": [
    "test_metaloader=DataLoader(test_metaset,batch_size=32)"
   ]
  },
  {
   "cell_type": "code",
   "execution_count": 53,
   "id": "06427ee9",
   "metadata": {
    "execution": {
     "iopub.execute_input": "2024-08-29T17:54:21.059879Z",
     "iopub.status.busy": "2024-08-29T17:54:21.059282Z",
     "iopub.status.idle": "2024-08-29T17:54:21.065504Z",
     "shell.execute_reply": "2024-08-29T17:54:21.064827Z"
    },
    "papermill": {
     "duration": 0.032346,
     "end_time": "2024-08-29T17:54:21.067425",
     "exception": false,
     "start_time": "2024-08-29T17:54:21.035079",
     "status": "completed"
    },
    "tags": []
   },
   "outputs": [],
   "source": [
    "X=next(iter(test_metaloader))"
   ]
  },
  {
   "cell_type": "code",
   "execution_count": 54,
   "id": "8038ba7c",
   "metadata": {
    "execution": {
     "iopub.execute_input": "2024-08-29T17:54:21.117423Z",
     "iopub.status.busy": "2024-08-29T17:54:21.117094Z",
     "iopub.status.idle": "2024-08-29T17:54:21.122678Z",
     "shell.execute_reply": "2024-08-29T17:54:21.121816Z"
    },
    "papermill": {
     "duration": 0.033828,
     "end_time": "2024-08-29T17:54:21.124571",
     "exception": false,
     "start_time": "2024-08-29T17:54:21.090743",
     "status": "completed"
    },
    "tags": []
   },
   "outputs": [
    {
     "data": {
      "text/plain": [
       "torch.Size([3, 68])"
      ]
     },
     "execution_count": 54,
     "metadata": {},
     "output_type": "execute_result"
    }
   ],
   "source": [
    "X.shape"
   ]
  },
  {
   "cell_type": "code",
   "execution_count": 55,
   "id": "9009eff2",
   "metadata": {
    "execution": {
     "iopub.execute_input": "2024-08-29T17:54:21.173029Z",
     "iopub.status.busy": "2024-08-29T17:54:21.172734Z",
     "iopub.status.idle": "2024-08-29T17:54:21.178102Z",
     "shell.execute_reply": "2024-08-29T17:54:21.177299Z"
    },
    "papermill": {
     "duration": 0.032136,
     "end_time": "2024-08-29T17:54:21.180191",
     "exception": false,
     "start_time": "2024-08-29T17:54:21.148055",
     "status": "completed"
    },
    "tags": []
   },
   "outputs": [
    {
     "data": {
      "text/plain": [
       "MetaModel(\n",
       "  (model): Sequential(\n",
       "    (0): BatchNorm1d(68, eps=1e-05, momentum=0.1, affine=True, track_running_stats=True)\n",
       "    (1): Linear(in_features=68, out_features=128, bias=True)\n",
       "    (2): BatchNorm1d(128, eps=1e-05, momentum=0.1, affine=True, track_running_stats=True)\n",
       "    (3): ReLU()\n",
       "    (4): Dropout(p=0.6, inplace=False)\n",
       "    (5): Linear(in_features=128, out_features=128, bias=True)\n",
       "    (6): BatchNorm1d(128, eps=1e-05, momentum=0.1, affine=True, track_running_stats=True)\n",
       "    (7): ReLU()\n",
       "    (8): Dropout(p=0.6, inplace=False)\n",
       "    (9): Linear(in_features=128, out_features=128, bias=True)\n",
       "    (10): BatchNorm1d(128, eps=1e-05, momentum=0.1, affine=True, track_running_stats=True)\n",
       "    (11): ReLU()\n",
       "    (12): Dropout(p=0.6, inplace=False)\n",
       "    (13): Linear(in_features=128, out_features=1, bias=True)\n",
       "  )\n",
       ")"
      ]
     },
     "execution_count": 55,
     "metadata": {},
     "output_type": "execute_result"
    }
   ],
   "source": [
    "meta_model"
   ]
  },
  {
   "cell_type": "code",
   "execution_count": 56,
   "id": "daf1eab0",
   "metadata": {
    "execution": {
     "iopub.execute_input": "2024-08-29T17:54:21.228972Z",
     "iopub.status.busy": "2024-08-29T17:54:21.228656Z",
     "iopub.status.idle": "2024-08-29T17:54:21.481875Z",
     "shell.execute_reply": "2024-08-29T17:54:21.481005Z"
    },
    "papermill": {
     "duration": 0.28021,
     "end_time": "2024-08-29T17:54:21.484351",
     "exception": false,
     "start_time": "2024-08-29T17:54:21.204141",
     "status": "completed"
    },
    "tags": []
   },
   "outputs": [
    {
     "data": {
      "application/vnd.jupyter.widget-view+json": {
       "model_id": "b8460b8d41324f37a309c307072b5f8d",
       "version_major": 2,
       "version_minor": 0
      },
      "text/plain": [
       "  0%|          | 0/1 [00:00<?, ?it/s]"
      ]
     },
     "metadata": {},
     "output_type": "display_data"
    }
   ],
   "source": [
    "meta_model.eval()\n",
    "y_meta=np.array([])\n",
    "meta_model.to(device)\n",
    "for i,X in enumerate(tqdm(test_metaloader)):\n",
    "    X=X.to(device)\n",
    "    with torch.inference_mode():\n",
    "        y_meta=np.concatenate((y_meta,np.array(torch.nn.functional.sigmoid(meta_model(X)).detach().cpu()).ravel()))\n",
    "    del X\n",
    "    torch.cuda.empty_cache()\n",
    "    gc.collect()"
   ]
  },
  {
   "cell_type": "code",
   "execution_count": 57,
   "id": "2f5823ba",
   "metadata": {
    "execution": {
     "iopub.execute_input": "2024-08-29T17:54:21.532955Z",
     "iopub.status.busy": "2024-08-29T17:54:21.532639Z",
     "iopub.status.idle": "2024-08-29T17:54:21.598262Z",
     "shell.execute_reply": "2024-08-29T17:54:21.597485Z"
    },
    "papermill": {
     "duration": 0.092272,
     "end_time": "2024-08-29T17:54:21.600441",
     "exception": false,
     "start_time": "2024-08-29T17:54:21.508169",
     "status": "completed"
    },
    "tags": []
   },
   "outputs": [],
   "source": [
    "y_lgb = np.mean([model.predict_proba(df_test)[:, 1] for model in lgb_models], 0)"
   ]
  },
  {
   "cell_type": "code",
   "execution_count": 58,
   "id": "e4e49c41",
   "metadata": {
    "execution": {
     "iopub.execute_input": "2024-08-29T17:54:21.649697Z",
     "iopub.status.busy": "2024-08-29T17:54:21.649364Z",
     "iopub.status.idle": "2024-08-29T17:54:21.655329Z",
     "shell.execute_reply": "2024-08-29T17:54:21.654360Z"
    },
    "papermill": {
     "duration": 0.032311,
     "end_time": "2024-08-29T17:54:21.657245",
     "exception": false,
     "start_time": "2024-08-29T17:54:21.624934",
     "status": "completed"
    },
    "tags": []
   },
   "outputs": [
    {
     "data": {
      "text/plain": [
       "array([0.20955557, 0.00034646, 0.05047354])"
      ]
     },
     "execution_count": 58,
     "metadata": {},
     "output_type": "execute_result"
    }
   ],
   "source": [
    "y"
   ]
  },
  {
   "cell_type": "code",
   "execution_count": 59,
   "id": "9a0d3697",
   "metadata": {
    "execution": {
     "iopub.execute_input": "2024-08-29T17:54:21.705240Z",
     "iopub.status.busy": "2024-08-29T17:54:21.704962Z",
     "iopub.status.idle": "2024-08-29T17:54:21.710409Z",
     "shell.execute_reply": "2024-08-29T17:54:21.709534Z"
    },
    "papermill": {
     "duration": 0.031334,
     "end_time": "2024-08-29T17:54:21.712238",
     "exception": false,
     "start_time": "2024-08-29T17:54:21.680904",
     "status": "completed"
    },
    "tags": []
   },
   "outputs": [
    {
     "data": {
      "text/plain": [
       "array([0.08166983, 0.00794605, 0.24012446])"
      ]
     },
     "execution_count": 59,
     "metadata": {},
     "output_type": "execute_result"
    }
   ],
   "source": [
    "y_meta"
   ]
  },
  {
   "cell_type": "code",
   "execution_count": 60,
   "id": "ab672c9d",
   "metadata": {
    "execution": {
     "iopub.execute_input": "2024-08-29T17:54:21.760946Z",
     "iopub.status.busy": "2024-08-29T17:54:21.760696Z",
     "iopub.status.idle": "2024-08-29T17:54:21.766086Z",
     "shell.execute_reply": "2024-08-29T17:54:21.765250Z"
    },
    "papermill": {
     "duration": 0.032065,
     "end_time": "2024-08-29T17:54:21.768035",
     "exception": false,
     "start_time": "2024-08-29T17:54:21.735970",
     "status": "completed"
    },
    "tags": []
   },
   "outputs": [
    {
     "data": {
      "text/plain": [
       "array([0.00550863, 0.00852895, 0.01824066])"
      ]
     },
     "execution_count": 60,
     "metadata": {},
     "output_type": "execute_result"
    }
   ],
   "source": [
    "y_lgb"
   ]
  },
  {
   "cell_type": "code",
   "execution_count": 61,
   "id": "bf41aede",
   "metadata": {
    "execution": {
     "iopub.execute_input": "2024-08-29T17:54:21.816828Z",
     "iopub.status.busy": "2024-08-29T17:54:21.816525Z",
     "iopub.status.idle": "2024-08-29T17:54:21.820263Z",
     "shell.execute_reply": "2024-08-29T17:54:21.819463Z"
    },
    "papermill": {
     "duration": 0.03003,
     "end_time": "2024-08-29T17:54:21.822116",
     "exception": false,
     "start_time": "2024-08-29T17:54:21.792086",
     "status": "completed"
    },
    "tags": []
   },
   "outputs": [],
   "source": [
    "a = 0.33\n",
    "b = 0.33\n",
    "c = 0.33"
   ]
  },
  {
   "cell_type": "code",
   "execution_count": 62,
   "id": "b3b423e1",
   "metadata": {
    "execution": {
     "iopub.execute_input": "2024-08-29T17:54:21.870512Z",
     "iopub.status.busy": "2024-08-29T17:54:21.870230Z",
     "iopub.status.idle": "2024-08-29T17:54:21.874215Z",
     "shell.execute_reply": "2024-08-29T17:54:21.873359Z"
    },
    "papermill": {
     "duration": 0.030419,
     "end_time": "2024-08-29T17:54:21.876132",
     "exception": false,
     "start_time": "2024-08-29T17:54:21.845713",
     "status": "completed"
    },
    "tags": []
   },
   "outputs": [],
   "source": [
    "yy=a*y+b*y_meta+c*y_lgb"
   ]
  },
  {
   "cell_type": "code",
   "execution_count": 63,
   "id": "aaf564ee",
   "metadata": {
    "execution": {
     "iopub.execute_input": "2024-08-29T17:54:21.924272Z",
     "iopub.status.busy": "2024-08-29T17:54:21.924004Z",
     "iopub.status.idle": "2024-08-29T17:54:21.927641Z",
     "shell.execute_reply": "2024-08-29T17:54:21.926791Z"
    },
    "papermill": {
     "duration": 0.029928,
     "end_time": "2024-08-29T17:54:21.929520",
     "exception": false,
     "start_time": "2024-08-29T17:54:21.899592",
     "status": "completed"
    },
    "tags": []
   },
   "outputs": [],
   "source": [
    "# y = torch.cat(y, dim = 0).reshape(-1)"
   ]
  },
  {
   "cell_type": "code",
   "execution_count": 64,
   "id": "5497ba20",
   "metadata": {
    "execution": {
     "iopub.execute_input": "2024-08-29T17:54:21.977549Z",
     "iopub.status.busy": "2024-08-29T17:54:21.977265Z",
     "iopub.status.idle": "2024-08-29T17:54:21.980799Z",
     "shell.execute_reply": "2024-08-29T17:54:21.979950Z"
    },
    "papermill": {
     "duration": 0.029649,
     "end_time": "2024-08-29T17:54:21.982702",
     "exception": false,
     "start_time": "2024-08-29T17:54:21.953053",
     "status": "completed"
    },
    "tags": []
   },
   "outputs": [],
   "source": [
    "# y=y.squeeze().detach().cpu()"
   ]
  },
  {
   "cell_type": "code",
   "execution_count": 65,
   "id": "121343a9",
   "metadata": {
    "execution": {
     "iopub.execute_input": "2024-08-29T17:54:22.030590Z",
     "iopub.status.busy": "2024-08-29T17:54:22.030317Z",
     "iopub.status.idle": "2024-08-29T17:54:22.033850Z",
     "shell.execute_reply": "2024-08-29T17:54:22.033019Z"
    },
    "papermill": {
     "duration": 0.029716,
     "end_time": "2024-08-29T17:54:22.035769",
     "exception": false,
     "start_time": "2024-08-29T17:54:22.006053",
     "status": "completed"
    },
    "tags": []
   },
   "outputs": [],
   "source": [
    "# y = y.detach().cpu().numpy()"
   ]
  },
  {
   "cell_type": "code",
   "execution_count": 66,
   "id": "ec43acd0",
   "metadata": {
    "execution": {
     "iopub.execute_input": "2024-08-29T17:54:22.083528Z",
     "iopub.status.busy": "2024-08-29T17:54:22.083256Z",
     "iopub.status.idle": "2024-08-29T17:54:22.087144Z",
     "shell.execute_reply": "2024-08-29T17:54:22.086305Z"
    },
    "papermill": {
     "duration": 0.029823,
     "end_time": "2024-08-29T17:54:22.088997",
     "exception": false,
     "start_time": "2024-08-29T17:54:22.059174",
     "status": "completed"
    },
    "tags": []
   },
   "outputs": [],
   "source": [
    "data = {'isic_id': keys,\n",
    "        'target': yy}"
   ]
  },
  {
   "cell_type": "code",
   "execution_count": 67,
   "id": "29158598",
   "metadata": {
    "execution": {
     "iopub.execute_input": "2024-08-29T17:54:22.136921Z",
     "iopub.status.busy": "2024-08-29T17:54:22.136651Z",
     "iopub.status.idle": "2024-08-29T17:54:22.140832Z",
     "shell.execute_reply": "2024-08-29T17:54:22.140027Z"
    },
    "papermill": {
     "duration": 0.030375,
     "end_time": "2024-08-29T17:54:22.142768",
     "exception": false,
     "start_time": "2024-08-29T17:54:22.112393",
     "status": "completed"
    },
    "tags": []
   },
   "outputs": [],
   "source": [
    "df = pd.DataFrame(data)"
   ]
  },
  {
   "cell_type": "code",
   "execution_count": 68,
   "id": "af0a272e",
   "metadata": {
    "execution": {
     "iopub.execute_input": "2024-08-29T17:54:22.191689Z",
     "iopub.status.busy": "2024-08-29T17:54:22.191403Z",
     "iopub.status.idle": "2024-08-29T17:54:22.203455Z",
     "shell.execute_reply": "2024-08-29T17:54:22.202640Z"
    },
    "papermill": {
     "duration": 0.039084,
     "end_time": "2024-08-29T17:54:22.205407",
     "exception": false,
     "start_time": "2024-08-29T17:54:22.166323",
     "status": "completed"
    },
    "tags": []
   },
   "outputs": [
    {
     "data": {
      "text/html": [
       "<div>\n",
       "<style scoped>\n",
       "    .dataframe tbody tr th:only-of-type {\n",
       "        vertical-align: middle;\n",
       "    }\n",
       "\n",
       "    .dataframe tbody tr th {\n",
       "        vertical-align: top;\n",
       "    }\n",
       "\n",
       "    .dataframe thead th {\n",
       "        text-align: right;\n",
       "    }\n",
       "</style>\n",
       "<table border=\"1\" class=\"dataframe\">\n",
       "  <thead>\n",
       "    <tr style=\"text-align: right;\">\n",
       "      <th></th>\n",
       "      <th>isic_id</th>\n",
       "      <th>target</th>\n",
       "    </tr>\n",
       "  </thead>\n",
       "  <tbody>\n",
       "    <tr>\n",
       "      <th>0</th>\n",
       "      <td>ISIC_0015657</td>\n",
       "      <td>0.097922</td>\n",
       "    </tr>\n",
       "    <tr>\n",
       "      <th>1</th>\n",
       "      <td>ISIC_0015729</td>\n",
       "      <td>0.005551</td>\n",
       "    </tr>\n",
       "    <tr>\n",
       "      <th>2</th>\n",
       "      <td>ISIC_0015740</td>\n",
       "      <td>0.101917</td>\n",
       "    </tr>\n",
       "  </tbody>\n",
       "</table>\n",
       "</div>"
      ],
      "text/plain": [
       "        isic_id    target\n",
       "0  ISIC_0015657  0.097922\n",
       "1  ISIC_0015729  0.005551\n",
       "2  ISIC_0015740  0.101917"
      ]
     },
     "execution_count": 68,
     "metadata": {},
     "output_type": "execute_result"
    }
   ],
   "source": [
    "df.head()"
   ]
  },
  {
   "cell_type": "code",
   "execution_count": 69,
   "id": "fe3411cb",
   "metadata": {
    "execution": {
     "iopub.execute_input": "2024-08-29T17:54:22.253835Z",
     "iopub.status.busy": "2024-08-29T17:54:22.253546Z",
     "iopub.status.idle": "2024-08-29T17:54:22.259787Z",
     "shell.execute_reply": "2024-08-29T17:54:22.259091Z"
    },
    "papermill": {
     "duration": 0.032676,
     "end_time": "2024-08-29T17:54:22.261676",
     "exception": false,
     "start_time": "2024-08-29T17:54:22.229000",
     "status": "completed"
    },
    "tags": []
   },
   "outputs": [],
   "source": [
    "df.to_csv(\"submission.csv\", index=False)"
   ]
  },
  {
   "cell_type": "code",
   "execution_count": 70,
   "id": "a94956bf",
   "metadata": {
    "execution": {
     "iopub.execute_input": "2024-08-29T17:54:22.310369Z",
     "iopub.status.busy": "2024-08-29T17:54:22.309812Z",
     "iopub.status.idle": "2024-08-29T17:54:22.317897Z",
     "shell.execute_reply": "2024-08-29T17:54:22.317082Z"
    },
    "papermill": {
     "duration": 0.034383,
     "end_time": "2024-08-29T17:54:22.319798",
     "exception": false,
     "start_time": "2024-08-29T17:54:22.285415",
     "status": "completed"
    },
    "tags": []
   },
   "outputs": [
    {
     "data": {
      "text/html": [
       "<div>\n",
       "<style scoped>\n",
       "    .dataframe tbody tr th:only-of-type {\n",
       "        vertical-align: middle;\n",
       "    }\n",
       "\n",
       "    .dataframe tbody tr th {\n",
       "        vertical-align: top;\n",
       "    }\n",
       "\n",
       "    .dataframe thead th {\n",
       "        text-align: right;\n",
       "    }\n",
       "</style>\n",
       "<table border=\"1\" class=\"dataframe\">\n",
       "  <thead>\n",
       "    <tr style=\"text-align: right;\">\n",
       "      <th></th>\n",
       "      <th>isic_id</th>\n",
       "      <th>target</th>\n",
       "    </tr>\n",
       "  </thead>\n",
       "  <tbody>\n",
       "    <tr>\n",
       "      <th>0</th>\n",
       "      <td>ISIC_0015657</td>\n",
       "      <td>0.097922</td>\n",
       "    </tr>\n",
       "    <tr>\n",
       "      <th>1</th>\n",
       "      <td>ISIC_0015729</td>\n",
       "      <td>0.005551</td>\n",
       "    </tr>\n",
       "    <tr>\n",
       "      <th>2</th>\n",
       "      <td>ISIC_0015740</td>\n",
       "      <td>0.101917</td>\n",
       "    </tr>\n",
       "  </tbody>\n",
       "</table>\n",
       "</div>"
      ],
      "text/plain": [
       "        isic_id    target\n",
       "0  ISIC_0015657  0.097922\n",
       "1  ISIC_0015729  0.005551\n",
       "2  ISIC_0015740  0.101917"
      ]
     },
     "execution_count": 70,
     "metadata": {},
     "output_type": "execute_result"
    }
   ],
   "source": [
    "df"
   ]
  },
  {
   "cell_type": "code",
   "execution_count": 71,
   "id": "c8d10d46",
   "metadata": {
    "execution": {
     "iopub.execute_input": "2024-08-29T17:54:22.369688Z",
     "iopub.status.busy": "2024-08-29T17:54:22.369374Z",
     "iopub.status.idle": "2024-08-29T17:54:22.373233Z",
     "shell.execute_reply": "2024-08-29T17:54:22.372405Z"
    },
    "papermill": {
     "duration": 0.031628,
     "end_time": "2024-08-29T17:54:22.375184",
     "exception": false,
     "start_time": "2024-08-29T17:54:22.343556",
     "status": "completed"
    },
    "tags": []
   },
   "outputs": [],
   "source": [
    "#train_d=pd.read_csv('/kaggle/input/isic-2024-challenge/train-metadata.csv')\n",
    "#cols_unique_train=['lesion_id', 'iddx_full', 'iddx_1', 'iddx_2', 'iddx_3', 'iddx_4', 'iddx_5', 'mel_mitotic_index', 'mel_thick_mm', 'tbp_lv_dnn_lesion_confidence']\n",
    "#train_d=train_d.drop(cols_unique_train,axis=1)\n",
    "#cat_cols=['sex','anatom_site_general','tbp_tile_type','tbp_lv_location','tbp_lv_location_simple']\n",
    "#obj_but_not_cat=['image_type','copyright_license','attribution','patient_id','isic_id']"
   ]
  },
  {
   "cell_type": "code",
   "execution_count": 72,
   "id": "8e34f5b1",
   "metadata": {
    "execution": {
     "iopub.execute_input": "2024-08-29T17:54:22.423961Z",
     "iopub.status.busy": "2024-08-29T17:54:22.423712Z",
     "iopub.status.idle": "2024-08-29T17:54:22.427365Z",
     "shell.execute_reply": "2024-08-29T17:54:22.426519Z"
    },
    "papermill": {
     "duration": 0.030272,
     "end_time": "2024-08-29T17:54:22.429168",
     "exception": false,
     "start_time": "2024-08-29T17:54:22.398896",
     "status": "completed"
    },
    "tags": []
   },
   "outputs": [],
   "source": [
    "#train_d=train_d.drop('target',axis=1)"
   ]
  },
  {
   "cell_type": "code",
   "execution_count": 73,
   "id": "791cf55d",
   "metadata": {
    "execution": {
     "iopub.execute_input": "2024-08-29T17:54:22.478055Z",
     "iopub.status.busy": "2024-08-29T17:54:22.477786Z",
     "iopub.status.idle": "2024-08-29T17:54:22.481298Z",
     "shell.execute_reply": "2024-08-29T17:54:22.480502Z"
    },
    "papermill": {
     "duration": 0.030046,
     "end_time": "2024-08-29T17:54:22.483070",
     "exception": false,
     "start_time": "2024-08-29T17:54:22.453024",
     "status": "completed"
    },
    "tags": []
   },
   "outputs": [],
   "source": [
    "#train_d, new_cat=preprocess(train,train_d,cat_cols)"
   ]
  },
  {
   "cell_type": "code",
   "execution_count": 74,
   "id": "e5adc168",
   "metadata": {
    "execution": {
     "iopub.execute_input": "2024-08-29T17:54:22.532417Z",
     "iopub.status.busy": "2024-08-29T17:54:22.532145Z",
     "iopub.status.idle": "2024-08-29T17:54:22.535690Z",
     "shell.execute_reply": "2024-08-29T17:54:22.534865Z"
    },
    "papermill": {
     "duration": 0.03017,
     "end_time": "2024-08-29T17:54:22.537461",
     "exception": false,
     "start_time": "2024-08-29T17:54:22.507291",
     "status": "completed"
    },
    "tags": []
   },
   "outputs": [],
   "source": [
    "#train_d.shape"
   ]
  },
  {
   "cell_type": "code",
   "execution_count": 75,
   "id": "792a3a90",
   "metadata": {
    "execution": {
     "iopub.execute_input": "2024-08-29T17:54:22.586067Z",
     "iopub.status.busy": "2024-08-29T17:54:22.585800Z",
     "iopub.status.idle": "2024-08-29T17:54:22.589370Z",
     "shell.execute_reply": "2024-08-29T17:54:22.588540Z"
    },
    "papermill": {
     "duration": 0.030125,
     "end_time": "2024-08-29T17:54:22.591247",
     "exception": false,
     "start_time": "2024-08-29T17:54:22.561122",
     "status": "completed"
    },
    "tags": []
   },
   "outputs": [],
   "source": [
    "#dtest_metaset=TabularDataset_test(train_d)"
   ]
  },
  {
   "cell_type": "code",
   "execution_count": 76,
   "id": "8727ebca",
   "metadata": {
    "execution": {
     "iopub.execute_input": "2024-08-29T17:54:22.640199Z",
     "iopub.status.busy": "2024-08-29T17:54:22.639932Z",
     "iopub.status.idle": "2024-08-29T17:54:22.643338Z",
     "shell.execute_reply": "2024-08-29T17:54:22.642621Z"
    },
    "papermill": {
     "duration": 0.03004,
     "end_time": "2024-08-29T17:54:22.645199",
     "exception": false,
     "start_time": "2024-08-29T17:54:22.615159",
     "status": "completed"
    },
    "tags": []
   },
   "outputs": [],
   "source": [
    "#dtest_dataset = dISICDataset(data_transforms)"
   ]
  },
  {
   "cell_type": "code",
   "execution_count": 77,
   "id": "04c00425",
   "metadata": {
    "execution": {
     "iopub.execute_input": "2024-08-29T17:54:22.695317Z",
     "iopub.status.busy": "2024-08-29T17:54:22.694808Z",
     "iopub.status.idle": "2024-08-29T17:54:22.698534Z",
     "shell.execute_reply": "2024-08-29T17:54:22.697592Z"
    },
    "papermill": {
     "duration": 0.031505,
     "end_time": "2024-08-29T17:54:22.700404",
     "exception": false,
     "start_time": "2024-08-29T17:54:22.668899",
     "status": "completed"
    },
    "tags": []
   },
   "outputs": [],
   "source": [
    "#dtest_dataloader=DataLoader(dtest_dataset,batch_size=32)"
   ]
  },
  {
   "cell_type": "code",
   "execution_count": 78,
   "id": "f0d54461",
   "metadata": {
    "execution": {
     "iopub.execute_input": "2024-08-29T17:54:22.749215Z",
     "iopub.status.busy": "2024-08-29T17:54:22.748969Z",
     "iopub.status.idle": "2024-08-29T17:54:22.752399Z",
     "shell.execute_reply": "2024-08-29T17:54:22.751614Z"
    },
    "papermill": {
     "duration": 0.029971,
     "end_time": "2024-08-29T17:54:22.754267",
     "exception": false,
     "start_time": "2024-08-29T17:54:22.724296",
     "status": "completed"
    },
    "tags": []
   },
   "outputs": [],
   "source": [
    "#dtest_metaloader=DataLoader(dtest_metaset,batch_size=32)"
   ]
  },
  {
   "cell_type": "code",
   "execution_count": 79,
   "id": "b95a53af",
   "metadata": {
    "execution": {
     "iopub.execute_input": "2024-08-29T17:54:22.804172Z",
     "iopub.status.busy": "2024-08-29T17:54:22.803923Z",
     "iopub.status.idle": "2024-08-29T17:54:22.807463Z",
     "shell.execute_reply": "2024-08-29T17:54:22.806668Z"
    },
    "papermill": {
     "duration": 0.031211,
     "end_time": "2024-08-29T17:54:22.809386",
     "exception": false,
     "start_time": "2024-08-29T17:54:22.778175",
     "status": "completed"
    },
    "tags": []
   },
   "outputs": [],
   "source": [
    "# train_dataset = dISICDataset(data_transforms)\n",
    "# train_dataloader = DataLoader(train_dataset, batch_size = 32)"
   ]
  },
  {
   "cell_type": "code",
   "execution_count": 80,
   "id": "69290a9e",
   "metadata": {
    "execution": {
     "iopub.execute_input": "2024-08-29T17:54:22.857817Z",
     "iopub.status.busy": "2024-08-29T17:54:22.857526Z",
     "iopub.status.idle": "2024-08-29T17:54:22.861992Z",
     "shell.execute_reply": "2024-08-29T17:54:22.861311Z"
    },
    "papermill": {
     "duration": 0.030858,
     "end_time": "2024-08-29T17:54:22.863799",
     "exception": false,
     "start_time": "2024-08-29T17:54:22.832941",
     "status": "completed"
    },
    "tags": []
   },
   "outputs": [],
   "source": [
    "# for td in tqdm(train_dataloader):\n",
    "#     with torch.inference_mode():\n",
    "#         model(td.to(CONFIG['device']))\n",
    "#     del td\n",
    "#     torch.cuda.empty_cache()"
   ]
  },
  {
   "cell_type": "code",
   "execution_count": null,
   "id": "a21a5755",
   "metadata": {
    "papermill": {
     "duration": 0.023552,
     "end_time": "2024-08-29T17:54:22.911185",
     "exception": false,
     "start_time": "2024-08-29T17:54:22.887633",
     "status": "completed"
    },
    "tags": []
   },
   "outputs": [],
   "source": []
  },
  {
   "cell_type": "code",
   "execution_count": null,
   "id": "869976d4",
   "metadata": {
    "papermill": {
     "duration": 0.02364,
     "end_time": "2024-08-29T17:54:22.959006",
     "exception": false,
     "start_time": "2024-08-29T17:54:22.935366",
     "status": "completed"
    },
    "tags": []
   },
   "outputs": [],
   "source": []
  },
  {
   "cell_type": "code",
   "execution_count": null,
   "id": "a0bb8635",
   "metadata": {
    "papermill": {
     "duration": 0.023892,
     "end_time": "2024-08-29T17:54:23.006751",
     "exception": false,
     "start_time": "2024-08-29T17:54:22.982859",
     "status": "completed"
    },
    "tags": []
   },
   "outputs": [],
   "source": []
  }
 ],
 "metadata": {
  "kaggle": {
   "accelerator": "gpu",
   "dataSources": [
    {
     "databundleVersionId": 9094797,
     "sourceId": 63056,
     "sourceType": "competition"
    },
    {
     "datasetId": 5508204,
     "sourceId": 9124157,
     "sourceType": "datasetVersion"
    },
    {
     "sourceId": 188311887,
     "sourceType": "kernelVersion"
    },
    {
     "modelId": 99103,
     "modelInstanceId": 74334,
     "sourceId": 88563,
     "sourceType": "modelInstanceVersion"
    },
    {
     "isSourceIdPinned": true,
     "modelId": 100727,
     "modelInstanceId": 76023,
     "sourceId": 90684,
     "sourceType": "modelInstanceVersion"
    },
    {
     "isSourceIdPinned": true,
     "modelId": 103843,
     "modelInstanceId": 79364,
     "sourceId": 94655,
     "sourceType": "modelInstanceVersion"
    },
    {
     "isSourceIdPinned": true,
     "modelId": 103920,
     "modelInstanceId": 79445,
     "sourceId": 94744,
     "sourceType": "modelInstanceVersion"
    },
    {
     "isSourceIdPinned": true,
     "modelId": 104346,
     "modelInstanceId": 79869,
     "sourceId": 95243,
     "sourceType": "modelInstanceVersion"
    },
    {
     "isSourceIdPinned": true,
     "modelId": 104964,
     "modelInstanceId": 80542,
     "sourceId": 96017,
     "sourceType": "modelInstanceVersion"
    },
    {
     "isSourceIdPinned": true,
     "modelId": 105252,
     "modelInstanceId": 80856,
     "sourceId": 96395,
     "sourceType": "modelInstanceVersion"
    },
    {
     "isSourceIdPinned": true,
     "modelId": 105255,
     "modelInstanceId": 80859,
     "sourceId": 96398,
     "sourceType": "modelInstanceVersion"
    },
    {
     "isSourceIdPinned": true,
     "modelId": 105561,
     "modelInstanceId": 81209,
     "sourceId": 96822,
     "sourceType": "modelInstanceVersion"
    },
    {
     "isSourceIdPinned": true,
     "modelId": 105564,
     "modelInstanceId": 81212,
     "sourceId": 96825,
     "sourceType": "modelInstanceVersion"
    },
    {
     "isSourceIdPinned": true,
     "modelId": 106198,
     "modelInstanceId": 81876,
     "sourceId": 97601,
     "sourceType": "modelInstanceVersion"
    },
    {
     "isSourceIdPinned": true,
     "modelId": 106199,
     "modelInstanceId": 81877,
     "sourceId": 97602,
     "sourceType": "modelInstanceVersion"
    },
    {
     "isSourceIdPinned": true,
     "modelId": 107181,
     "modelInstanceId": 82882,
     "sourceId": 98787,
     "sourceType": "modelInstanceVersion"
    },
    {
     "isSourceIdPinned": true,
     "modelId": 107182,
     "modelInstanceId": 82883,
     "sourceId": 98788,
     "sourceType": "modelInstanceVersion"
    },
    {
     "isSourceIdPinned": true,
     "modelId": 107183,
     "modelInstanceId": 82884,
     "sourceId": 98789,
     "sourceType": "modelInstanceVersion"
    },
    {
     "modelId": 107497,
     "modelInstanceId": 83211,
     "sourceId": 99177,
     "sourceType": "modelInstanceVersion"
    },
    {
     "modelId": 107499,
     "modelInstanceId": 83213,
     "sourceId": 99179,
     "sourceType": "modelInstanceVersion"
    },
    {
     "modelId": 107500,
     "modelInstanceId": 83214,
     "sourceId": 99180,
     "sourceType": "modelInstanceVersion"
    },
    {
     "modelId": 108195,
     "modelInstanceId": 83952,
     "sourceId": 100063,
     "sourceType": "modelInstanceVersion"
    },
    {
     "modelId": 108196,
     "modelInstanceId": 83953,
     "sourceId": 100064,
     "sourceType": "modelInstanceVersion"
    },
    {
     "modelId": 108197,
     "modelInstanceId": 83954,
     "sourceId": 100066,
     "sourceType": "modelInstanceVersion"
    },
    {
     "isSourceIdPinned": true,
     "modelId": 108223,
     "modelInstanceId": 83977,
     "sourceId": 100093,
     "sourceType": "modelInstanceVersion"
    },
    {
     "isSourceIdPinned": true,
     "modelId": 108225,
     "modelInstanceId": 83979,
     "sourceId": 100096,
     "sourceType": "modelInstanceVersion"
    },
    {
     "isSourceIdPinned": true,
     "modelId": 108451,
     "modelInstanceId": 84202,
     "sourceId": 100387,
     "sourceType": "modelInstanceVersion"
    },
    {
     "isSourceIdPinned": true,
     "modelId": 108452,
     "modelInstanceId": 84203,
     "sourceId": 100388,
     "sourceType": "modelInstanceVersion"
    },
    {
     "isSourceIdPinned": true,
     "modelId": 108453,
     "modelInstanceId": 84204,
     "sourceId": 100389,
     "sourceType": "modelInstanceVersion"
    },
    {
     "isSourceIdPinned": true,
     "modelId": 110230,
     "modelInstanceId": 85991,
     "sourceId": 102562,
     "sourceType": "modelInstanceVersion"
    },
    {
     "isSourceIdPinned": true,
     "modelId": 110232,
     "modelInstanceId": 85993,
     "sourceId": 102564,
     "sourceType": "modelInstanceVersion"
    },
    {
     "isSourceIdPinned": true,
     "modelId": 110235,
     "modelInstanceId": 85998,
     "sourceId": 102569,
     "sourceType": "modelInstanceVersion"
    },
    {
     "isSourceIdPinned": true,
     "modelId": 110236,
     "modelInstanceId": 85999,
     "sourceId": 102570,
     "sourceType": "modelInstanceVersion"
    },
    {
     "isSourceIdPinned": true,
     "modelId": 110267,
     "modelInstanceId": 86029,
     "sourceId": 102611,
     "sourceType": "modelInstanceVersion"
    },
    {
     "isSourceIdPinned": true,
     "modelId": 110716,
     "modelInstanceId": 86488,
     "sourceId": 103171,
     "sourceType": "modelInstanceVersion"
    },
    {
     "isSourceIdPinned": true,
     "modelId": 110717,
     "modelInstanceId": 86489,
     "sourceId": 103172,
     "sourceType": "modelInstanceVersion"
    },
    {
     "isSourceIdPinned": true,
     "modelId": 110719,
     "modelInstanceId": 86491,
     "sourceId": 103174,
     "sourceType": "modelInstanceVersion"
    },
    {
     "isSourceIdPinned": true,
     "modelId": 110867,
     "modelInstanceId": 86624,
     "sourceId": 103345,
     "sourceType": "modelInstanceVersion"
    },
    {
     "isSourceIdPinned": true,
     "modelId": 110869,
     "modelInstanceId": 86626,
     "sourceId": 103347,
     "sourceType": "modelInstanceVersion"
    },
    {
     "isSourceIdPinned": true,
     "modelId": 111301,
     "modelInstanceId": 87062,
     "sourceId": 103861,
     "sourceType": "modelInstanceVersion"
    },
    {
     "isSourceIdPinned": true,
     "modelId": 111403,
     "modelInstanceId": 87168,
     "sourceId": 103984,
     "sourceType": "modelInstanceVersion"
    },
    {
     "isSourceIdPinned": true,
     "modelId": 111404,
     "modelInstanceId": 87169,
     "sourceId": 103985,
     "sourceType": "modelInstanceVersion"
    },
    {
     "isSourceIdPinned": true,
     "modelId": 111406,
     "modelInstanceId": 87171,
     "sourceId": 103988,
     "sourceType": "modelInstanceVersion"
    },
    {
     "isSourceIdPinned": true,
     "modelId": 111407,
     "modelInstanceId": 87172,
     "sourceId": 103989,
     "sourceType": "modelInstanceVersion"
    },
    {
     "isSourceIdPinned": true,
     "modelId": 111411,
     "modelInstanceId": 87175,
     "sourceId": 103992,
     "sourceType": "modelInstanceVersion"
    }
   ],
   "dockerImageVersionId": 30747,
   "isGpuEnabled": true,
   "isInternetEnabled": false,
   "language": "python",
   "sourceType": "notebook"
  },
  "kernelspec": {
   "display_name": "Python 3",
   "language": "python",
   "name": "python3"
  },
  "language_info": {
   "codemirror_mode": {
    "name": "ipython",
    "version": 3
   },
   "file_extension": ".py",
   "mimetype": "text/x-python",
   "name": "python",
   "nbconvert_exporter": "python",
   "pygments_lexer": "ipython3",
   "version": "3.10.13"
  },
  "papermill": {
   "default_parameters": {},
   "duration": 97.270857,
   "end_time": "2024-08-29T17:54:25.936759",
   "environment_variables": {},
   "exception": null,
   "input_path": "__notebook__.ipynb",
   "output_path": "__notebook__.ipynb",
   "parameters": {},
   "start_time": "2024-08-29T17:52:48.665902",
   "version": "2.5.0"
  },
  "widgets": {
   "application/vnd.jupyter.widget-state+json": {
    "state": {
     "0f35d5e8ecfc4ce8ac0f4db34f888866": {
      "model_module": "@jupyter-widgets/controls",
      "model_module_version": "1.5.0",
      "model_name": "HBoxModel",
      "state": {
       "_dom_classes": [],
       "_model_module": "@jupyter-widgets/controls",
       "_model_module_version": "1.5.0",
       "_model_name": "HBoxModel",
       "_view_count": null,
       "_view_module": "@jupyter-widgets/controls",
       "_view_module_version": "1.5.0",
       "_view_name": "HBoxView",
       "box_style": "",
       "children": [
        "IPY_MODEL_e292047f19294626af8a212381668250",
        "IPY_MODEL_2de5c525fc6e4bbe8658d3a6c3e87a81",
        "IPY_MODEL_d59a1ee7cfe54200925a7d68cc40f7b8"
       ],
       "layout": "IPY_MODEL_218c3e11393643c79354423d5b5e4478"
      }
     },
     "0ffd8b256cce48c5b088cca5091682a7": {
      "model_module": "@jupyter-widgets/base",
      "model_module_version": "1.2.0",
      "model_name": "LayoutModel",
      "state": {
       "_model_module": "@jupyter-widgets/base",
       "_model_module_version": "1.2.0",
       "_model_name": "LayoutModel",
       "_view_count": null,
       "_view_module": "@jupyter-widgets/base",
       "_view_module_version": "1.2.0",
       "_view_name": "LayoutView",
       "align_content": null,
       "align_items": null,
       "align_self": null,
       "border": null,
       "bottom": null,
       "display": null,
       "flex": null,
       "flex_flow": null,
       "grid_area": null,
       "grid_auto_columns": null,
       "grid_auto_flow": null,
       "grid_auto_rows": null,
       "grid_column": null,
       "grid_gap": null,
       "grid_row": null,
       "grid_template_areas": null,
       "grid_template_columns": null,
       "grid_template_rows": null,
       "height": null,
       "justify_content": null,
       "justify_items": null,
       "left": null,
       "margin": null,
       "max_height": null,
       "max_width": null,
       "min_height": null,
       "min_width": null,
       "object_fit": null,
       "object_position": null,
       "order": null,
       "overflow": null,
       "overflow_x": null,
       "overflow_y": null,
       "padding": null,
       "right": null,
       "top": null,
       "visibility": null,
       "width": null
      }
     },
     "208e5e39ce02466a8cd5e23588a06cd0": {
      "model_module": "@jupyter-widgets/controls",
      "model_module_version": "1.5.0",
      "model_name": "ProgressStyleModel",
      "state": {
       "_model_module": "@jupyter-widgets/controls",
       "_model_module_version": "1.5.0",
       "_model_name": "ProgressStyleModel",
       "_view_count": null,
       "_view_module": "@jupyter-widgets/base",
       "_view_module_version": "1.2.0",
       "_view_name": "StyleView",
       "bar_color": null,
       "description_width": ""
      }
     },
     "218c3e11393643c79354423d5b5e4478": {
      "model_module": "@jupyter-widgets/base",
      "model_module_version": "1.2.0",
      "model_name": "LayoutModel",
      "state": {
       "_model_module": "@jupyter-widgets/base",
       "_model_module_version": "1.2.0",
       "_model_name": "LayoutModel",
       "_view_count": null,
       "_view_module": "@jupyter-widgets/base",
       "_view_module_version": "1.2.0",
       "_view_name": "LayoutView",
       "align_content": null,
       "align_items": null,
       "align_self": null,
       "border": null,
       "bottom": null,
       "display": null,
       "flex": null,
       "flex_flow": null,
       "grid_area": null,
       "grid_auto_columns": null,
       "grid_auto_flow": null,
       "grid_auto_rows": null,
       "grid_column": null,
       "grid_gap": null,
       "grid_row": null,
       "grid_template_areas": null,
       "grid_template_columns": null,
       "grid_template_rows": null,
       "height": null,
       "justify_content": null,
       "justify_items": null,
       "left": null,
       "margin": null,
       "max_height": null,
       "max_width": null,
       "min_height": null,
       "min_width": null,
       "object_fit": null,
       "object_position": null,
       "order": null,
       "overflow": null,
       "overflow_x": null,
       "overflow_y": null,
       "padding": null,
       "right": null,
       "top": null,
       "visibility": null,
       "width": null
      }
     },
     "2574bede02864b12b03dfff7ee12c322": {
      "model_module": "@jupyter-widgets/controls",
      "model_module_version": "1.5.0",
      "model_name": "DescriptionStyleModel",
      "state": {
       "_model_module": "@jupyter-widgets/controls",
       "_model_module_version": "1.5.0",
       "_model_name": "DescriptionStyleModel",
       "_view_count": null,
       "_view_module": "@jupyter-widgets/base",
       "_view_module_version": "1.2.0",
       "_view_name": "StyleView",
       "description_width": ""
      }
     },
     "2de5c525fc6e4bbe8658d3a6c3e87a81": {
      "model_module": "@jupyter-widgets/controls",
      "model_module_version": "1.5.0",
      "model_name": "FloatProgressModel",
      "state": {
       "_dom_classes": [],
       "_model_module": "@jupyter-widgets/controls",
       "_model_module_version": "1.5.0",
       "_model_name": "FloatProgressModel",
       "_view_count": null,
       "_view_module": "@jupyter-widgets/controls",
       "_view_module_version": "1.5.0",
       "_view_name": "ProgressView",
       "bar_style": "success",
       "description": "",
       "description_tooltip": null,
       "layout": "IPY_MODEL_84dde394a41a4757a03277990919d37e",
       "max": 1.0,
       "min": 0.0,
       "orientation": "horizontal",
       "style": "IPY_MODEL_f070fd2edde4467583339f3641a9e927",
       "value": 1.0
      }
     },
     "2f2ab0729e3d46cdbb03df5c6da93306": {
      "model_module": "@jupyter-widgets/controls",
      "model_module_version": "1.5.0",
      "model_name": "DescriptionStyleModel",
      "state": {
       "_model_module": "@jupyter-widgets/controls",
       "_model_module_version": "1.5.0",
       "_model_name": "DescriptionStyleModel",
       "_view_count": null,
       "_view_module": "@jupyter-widgets/base",
       "_view_module_version": "1.2.0",
       "_view_name": "StyleView",
       "description_width": ""
      }
     },
     "42b57e3643064d3e83c240cb28f5f458": {
      "model_module": "@jupyter-widgets/controls",
      "model_module_version": "1.5.0",
      "model_name": "DescriptionStyleModel",
      "state": {
       "_model_module": "@jupyter-widgets/controls",
       "_model_module_version": "1.5.0",
       "_model_name": "DescriptionStyleModel",
       "_view_count": null,
       "_view_module": "@jupyter-widgets/base",
       "_view_module_version": "1.2.0",
       "_view_name": "StyleView",
       "description_width": ""
      }
     },
     "473cb22c855840c3a7160afe770f0d60": {
      "model_module": "@jupyter-widgets/base",
      "model_module_version": "1.2.0",
      "model_name": "LayoutModel",
      "state": {
       "_model_module": "@jupyter-widgets/base",
       "_model_module_version": "1.2.0",
       "_model_name": "LayoutModel",
       "_view_count": null,
       "_view_module": "@jupyter-widgets/base",
       "_view_module_version": "1.2.0",
       "_view_name": "LayoutView",
       "align_content": null,
       "align_items": null,
       "align_self": null,
       "border": null,
       "bottom": null,
       "display": null,
       "flex": null,
       "flex_flow": null,
       "grid_area": null,
       "grid_auto_columns": null,
       "grid_auto_flow": null,
       "grid_auto_rows": null,
       "grid_column": null,
       "grid_gap": null,
       "grid_row": null,
       "grid_template_areas": null,
       "grid_template_columns": null,
       "grid_template_rows": null,
       "height": null,
       "justify_content": null,
       "justify_items": null,
       "left": null,
       "margin": null,
       "max_height": null,
       "max_width": null,
       "min_height": null,
       "min_width": null,
       "object_fit": null,
       "object_position": null,
       "order": null,
       "overflow": null,
       "overflow_x": null,
       "overflow_y": null,
       "padding": null,
       "right": null,
       "top": null,
       "visibility": null,
       "width": null
      }
     },
     "6016fd78d1374a099f17eef4f62f89b9": {
      "model_module": "@jupyter-widgets/controls",
      "model_module_version": "1.5.0",
      "model_name": "HTMLModel",
      "state": {
       "_dom_classes": [],
       "_model_module": "@jupyter-widgets/controls",
       "_model_module_version": "1.5.0",
       "_model_name": "HTMLModel",
       "_view_count": null,
       "_view_module": "@jupyter-widgets/controls",
       "_view_module_version": "1.5.0",
       "_view_name": "HTMLView",
       "description": "",
       "description_tooltip": null,
       "layout": "IPY_MODEL_d924711398914c5690f34c86021e3fa7",
       "placeholder": "​",
       "style": "IPY_MODEL_42b57e3643064d3e83c240cb28f5f458",
       "value": "100%"
      }
     },
     "728af652602842579a2244e85c4e47a9": {
      "model_module": "@jupyter-widgets/base",
      "model_module_version": "1.2.0",
      "model_name": "LayoutModel",
      "state": {
       "_model_module": "@jupyter-widgets/base",
       "_model_module_version": "1.2.0",
       "_model_name": "LayoutModel",
       "_view_count": null,
       "_view_module": "@jupyter-widgets/base",
       "_view_module_version": "1.2.0",
       "_view_name": "LayoutView",
       "align_content": null,
       "align_items": null,
       "align_self": null,
       "border": null,
       "bottom": null,
       "display": null,
       "flex": null,
       "flex_flow": null,
       "grid_area": null,
       "grid_auto_columns": null,
       "grid_auto_flow": null,
       "grid_auto_rows": null,
       "grid_column": null,
       "grid_gap": null,
       "grid_row": null,
       "grid_template_areas": null,
       "grid_template_columns": null,
       "grid_template_rows": null,
       "height": null,
       "justify_content": null,
       "justify_items": null,
       "left": null,
       "margin": null,
       "max_height": null,
       "max_width": null,
       "min_height": null,
       "min_width": null,
       "object_fit": null,
       "object_position": null,
       "order": null,
       "overflow": null,
       "overflow_x": null,
       "overflow_y": null,
       "padding": null,
       "right": null,
       "top": null,
       "visibility": null,
       "width": null
      }
     },
     "72e85cc5cfbb46d2bbde1e6758ed84ac": {
      "model_module": "@jupyter-widgets/controls",
      "model_module_version": "1.5.0",
      "model_name": "FloatProgressModel",
      "state": {
       "_dom_classes": [],
       "_model_module": "@jupyter-widgets/controls",
       "_model_module_version": "1.5.0",
       "_model_name": "FloatProgressModel",
       "_view_count": null,
       "_view_module": "@jupyter-widgets/controls",
       "_view_module_version": "1.5.0",
       "_view_name": "ProgressView",
       "bar_style": "success",
       "description": "",
       "description_tooltip": null,
       "layout": "IPY_MODEL_473cb22c855840c3a7160afe770f0d60",
       "max": 1.0,
       "min": 0.0,
       "orientation": "horizontal",
       "style": "IPY_MODEL_208e5e39ce02466a8cd5e23588a06cd0",
       "value": 1.0
      }
     },
     "780be40b982949ef907523c3571b8eb7": {
      "model_module": "@jupyter-widgets/base",
      "model_module_version": "1.2.0",
      "model_name": "LayoutModel",
      "state": {
       "_model_module": "@jupyter-widgets/base",
       "_model_module_version": "1.2.0",
       "_model_name": "LayoutModel",
       "_view_count": null,
       "_view_module": "@jupyter-widgets/base",
       "_view_module_version": "1.2.0",
       "_view_name": "LayoutView",
       "align_content": null,
       "align_items": null,
       "align_self": null,
       "border": null,
       "bottom": null,
       "display": null,
       "flex": null,
       "flex_flow": null,
       "grid_area": null,
       "grid_auto_columns": null,
       "grid_auto_flow": null,
       "grid_auto_rows": null,
       "grid_column": null,
       "grid_gap": null,
       "grid_row": null,
       "grid_template_areas": null,
       "grid_template_columns": null,
       "grid_template_rows": null,
       "height": null,
       "justify_content": null,
       "justify_items": null,
       "left": null,
       "margin": null,
       "max_height": null,
       "max_width": null,
       "min_height": null,
       "min_width": null,
       "object_fit": null,
       "object_position": null,
       "order": null,
       "overflow": null,
       "overflow_x": null,
       "overflow_y": null,
       "padding": null,
       "right": null,
       "top": null,
       "visibility": null,
       "width": null
      }
     },
     "84dde394a41a4757a03277990919d37e": {
      "model_module": "@jupyter-widgets/base",
      "model_module_version": "1.2.0",
      "model_name": "LayoutModel",
      "state": {
       "_model_module": "@jupyter-widgets/base",
       "_model_module_version": "1.2.0",
       "_model_name": "LayoutModel",
       "_view_count": null,
       "_view_module": "@jupyter-widgets/base",
       "_view_module_version": "1.2.0",
       "_view_name": "LayoutView",
       "align_content": null,
       "align_items": null,
       "align_self": null,
       "border": null,
       "bottom": null,
       "display": null,
       "flex": null,
       "flex_flow": null,
       "grid_area": null,
       "grid_auto_columns": null,
       "grid_auto_flow": null,
       "grid_auto_rows": null,
       "grid_column": null,
       "grid_gap": null,
       "grid_row": null,
       "grid_template_areas": null,
       "grid_template_columns": null,
       "grid_template_rows": null,
       "height": null,
       "justify_content": null,
       "justify_items": null,
       "left": null,
       "margin": null,
       "max_height": null,
       "max_width": null,
       "min_height": null,
       "min_width": null,
       "object_fit": null,
       "object_position": null,
       "order": null,
       "overflow": null,
       "overflow_x": null,
       "overflow_y": null,
       "padding": null,
       "right": null,
       "top": null,
       "visibility": null,
       "width": null
      }
     },
     "a1f3eea415864bdc8bae9f8c8a2631e1": {
      "model_module": "@jupyter-widgets/base",
      "model_module_version": "1.2.0",
      "model_name": "LayoutModel",
      "state": {
       "_model_module": "@jupyter-widgets/base",
       "_model_module_version": "1.2.0",
       "_model_name": "LayoutModel",
       "_view_count": null,
       "_view_module": "@jupyter-widgets/base",
       "_view_module_version": "1.2.0",
       "_view_name": "LayoutView",
       "align_content": null,
       "align_items": null,
       "align_self": null,
       "border": null,
       "bottom": null,
       "display": null,
       "flex": null,
       "flex_flow": null,
       "grid_area": null,
       "grid_auto_columns": null,
       "grid_auto_flow": null,
       "grid_auto_rows": null,
       "grid_column": null,
       "grid_gap": null,
       "grid_row": null,
       "grid_template_areas": null,
       "grid_template_columns": null,
       "grid_template_rows": null,
       "height": null,
       "justify_content": null,
       "justify_items": null,
       "left": null,
       "margin": null,
       "max_height": null,
       "max_width": null,
       "min_height": null,
       "min_width": null,
       "object_fit": null,
       "object_position": null,
       "order": null,
       "overflow": null,
       "overflow_x": null,
       "overflow_y": null,
       "padding": null,
       "right": null,
       "top": null,
       "visibility": null,
       "width": null
      }
     },
     "b8460b8d41324f37a309c307072b5f8d": {
      "model_module": "@jupyter-widgets/controls",
      "model_module_version": "1.5.0",
      "model_name": "HBoxModel",
      "state": {
       "_dom_classes": [],
       "_model_module": "@jupyter-widgets/controls",
       "_model_module_version": "1.5.0",
       "_model_name": "HBoxModel",
       "_view_count": null,
       "_view_module": "@jupyter-widgets/controls",
       "_view_module_version": "1.5.0",
       "_view_name": "HBoxView",
       "box_style": "",
       "children": [
        "IPY_MODEL_6016fd78d1374a099f17eef4f62f89b9",
        "IPY_MODEL_72e85cc5cfbb46d2bbde1e6758ed84ac",
        "IPY_MODEL_d5ef2ecde4754287a7d442c63fba2124"
       ],
       "layout": "IPY_MODEL_780be40b982949ef907523c3571b8eb7"
      }
     },
     "d59a1ee7cfe54200925a7d68cc40f7b8": {
      "model_module": "@jupyter-widgets/controls",
      "model_module_version": "1.5.0",
      "model_name": "HTMLModel",
      "state": {
       "_dom_classes": [],
       "_model_module": "@jupyter-widgets/controls",
       "_model_module_version": "1.5.0",
       "_model_name": "HTMLModel",
       "_view_count": null,
       "_view_module": "@jupyter-widgets/controls",
       "_view_module_version": "1.5.0",
       "_view_name": "HTMLView",
       "description": "",
       "description_tooltip": null,
       "layout": "IPY_MODEL_a1f3eea415864bdc8bae9f8c8a2631e1",
       "placeholder": "​",
       "style": "IPY_MODEL_f3f03925be72448a89970bb9083d602f",
       "value": " 1/1 [00:00&lt;00:00,  2.86it/s]"
      }
     },
     "d5ef2ecde4754287a7d442c63fba2124": {
      "model_module": "@jupyter-widgets/controls",
      "model_module_version": "1.5.0",
      "model_name": "HTMLModel",
      "state": {
       "_dom_classes": [],
       "_model_module": "@jupyter-widgets/controls",
       "_model_module_version": "1.5.0",
       "_model_name": "HTMLModel",
       "_view_count": null,
       "_view_module": "@jupyter-widgets/controls",
       "_view_module_version": "1.5.0",
       "_view_name": "HTMLView",
       "description": "",
       "description_tooltip": null,
       "layout": "IPY_MODEL_0ffd8b256cce48c5b088cca5091682a7",
       "placeholder": "​",
       "style": "IPY_MODEL_2574bede02864b12b03dfff7ee12c322",
       "value": " 1/1 [00:00&lt;00:00,  4.10it/s]"
      }
     },
     "d924711398914c5690f34c86021e3fa7": {
      "model_module": "@jupyter-widgets/base",
      "model_module_version": "1.2.0",
      "model_name": "LayoutModel",
      "state": {
       "_model_module": "@jupyter-widgets/base",
       "_model_module_version": "1.2.0",
       "_model_name": "LayoutModel",
       "_view_count": null,
       "_view_module": "@jupyter-widgets/base",
       "_view_module_version": "1.2.0",
       "_view_name": "LayoutView",
       "align_content": null,
       "align_items": null,
       "align_self": null,
       "border": null,
       "bottom": null,
       "display": null,
       "flex": null,
       "flex_flow": null,
       "grid_area": null,
       "grid_auto_columns": null,
       "grid_auto_flow": null,
       "grid_auto_rows": null,
       "grid_column": null,
       "grid_gap": null,
       "grid_row": null,
       "grid_template_areas": null,
       "grid_template_columns": null,
       "grid_template_rows": null,
       "height": null,
       "justify_content": null,
       "justify_items": null,
       "left": null,
       "margin": null,
       "max_height": null,
       "max_width": null,
       "min_height": null,
       "min_width": null,
       "object_fit": null,
       "object_position": null,
       "order": null,
       "overflow": null,
       "overflow_x": null,
       "overflow_y": null,
       "padding": null,
       "right": null,
       "top": null,
       "visibility": null,
       "width": null
      }
     },
     "e292047f19294626af8a212381668250": {
      "model_module": "@jupyter-widgets/controls",
      "model_module_version": "1.5.0",
      "model_name": "HTMLModel",
      "state": {
       "_dom_classes": [],
       "_model_module": "@jupyter-widgets/controls",
       "_model_module_version": "1.5.0",
       "_model_name": "HTMLModel",
       "_view_count": null,
       "_view_module": "@jupyter-widgets/controls",
       "_view_module_version": "1.5.0",
       "_view_name": "HTMLView",
       "description": "",
       "description_tooltip": null,
       "layout": "IPY_MODEL_728af652602842579a2244e85c4e47a9",
       "placeholder": "​",
       "style": "IPY_MODEL_2f2ab0729e3d46cdbb03df5c6da93306",
       "value": "100%"
      }
     },
     "f070fd2edde4467583339f3641a9e927": {
      "model_module": "@jupyter-widgets/controls",
      "model_module_version": "1.5.0",
      "model_name": "ProgressStyleModel",
      "state": {
       "_model_module": "@jupyter-widgets/controls",
       "_model_module_version": "1.5.0",
       "_model_name": "ProgressStyleModel",
       "_view_count": null,
       "_view_module": "@jupyter-widgets/base",
       "_view_module_version": "1.2.0",
       "_view_name": "StyleView",
       "bar_color": null,
       "description_width": ""
      }
     },
     "f3f03925be72448a89970bb9083d602f": {
      "model_module": "@jupyter-widgets/controls",
      "model_module_version": "1.5.0",
      "model_name": "DescriptionStyleModel",
      "state": {
       "_model_module": "@jupyter-widgets/controls",
       "_model_module_version": "1.5.0",
       "_model_name": "DescriptionStyleModel",
       "_view_count": null,
       "_view_module": "@jupyter-widgets/base",
       "_view_module_version": "1.2.0",
       "_view_name": "StyleView",
       "description_width": ""
      }
     }
    },
    "version_major": 2,
    "version_minor": 0
   }
  }
 },
 "nbformat": 4,
 "nbformat_minor": 5
}
